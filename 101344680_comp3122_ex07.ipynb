{
  "nbformat": 4,
  "nbformat_minor": 0,
  "metadata": {
    "colab": {
      "provenance": [],
      "authorship_tag": "ABX9TyO/4vZvxqajKDdga0L/jYkS",
      "include_colab_link": true
    },
    "kernelspec": {
      "name": "python3",
      "display_name": "Python 3"
    },
    "language_info": {
      "name": "python"
    }
  },
  "cells": [
    {
      "cell_type": "markdown",
      "metadata": {
        "id": "view-in-github",
        "colab_type": "text"
      },
      "source": [
        "<a href=\"https://colab.research.google.com/github/Ravkeerat02/comp3122_labs/blob/master/101344680_comp3122_ex07.ipynb\" target=\"_parent\"><img src=\"https://colab.research.google.com/assets/colab-badge.svg\" alt=\"Open In Colab\"/></a>"
      ]
    },
    {
      "cell_type": "code",
      "execution_count": 2,
      "metadata": {
        "id": "0XKqLNWKnue_"
      },
      "outputs": [],
      "source": [
        "import numpy as np \n",
        "rand = np.random.RandomState(42)"
      ]
    },
    {
      "cell_type": "code",
      "source": [
        "mean = [0, 0]\n",
        "cov = [[1, 2], #CoVariat\n",
        " [2, 5]]\n",
        "X = rand.multivariate_normal(mean, cov, 100)\n",
        "X.shape\n"
      ],
      "metadata": {
        "colab": {
          "base_uri": "https://localhost:8080/"
        },
        "id": "uQfi7fYtoCFG",
        "outputId": "a58d8710-e8cd-4f78-a9f0-91f963424658"
      },
      "execution_count": 5,
      "outputs": [
        {
          "output_type": "execute_result",
          "data": {
            "text/plain": [
              "(100, 2)"
            ]
          },
          "metadata": {},
          "execution_count": 5
        }
      ]
    },
    {
      "cell_type": "code",
      "source": [
        "X"
      ],
      "metadata": {
        "colab": {
          "base_uri": "https://localhost:8080/"
        },
        "id": "50vsKUINoCsg",
        "outputId": "66f3e609-e3c5-451d-a4ba-cde637f7785b"
      },
      "execution_count": 7,
      "outputs": [
        {
          "output_type": "execute_result",
          "data": {
            "text/plain": [
              "array([[-4.05992582e-01, -1.12980900e+00],\n",
              "       [-1.18122448e+00, -1.20321251e+00],\n",
              "       [ 3.05929845e-01,  4.85151964e-01],\n",
              "       [-1.75268695e+00, -3.40069525e+00],\n",
              "       [ 2.26109036e-01,  1.13313826e+00],\n",
              "       [ 6.06369182e-01,  9.59802450e-01],\n",
              "       [ 5.08636661e-01, -8.42962089e-01],\n",
              "       [ 1.80879440e+00,  3.75820034e+00],\n",
              "       [ 8.15476694e-01,  2.30887376e+00],\n",
              "       [ 1.37937009e+00,  1.80142746e+00],\n",
              "       [-1.26768205e+00, -3.30483370e+00],\n",
              "       [ 4.82839600e-01, -3.76458413e-01],\n",
              "       [ 4.60495820e-01,  1.23179700e+00],\n",
              "       [ 9.19606001e-01,  2.62677788e+00],\n",
              "       [ 6.66544157e-01,  1.29345291e+00],\n",
              "       [-1.52931750e-01,  1.63568156e+00],\n",
              "       [ 4.17238258e-01, -1.37555797e-01],\n",
              "       [-2.92735771e-01, -2.02815831e+00],\n",
              "       [ 5.56968489e-01, -7.76490778e-01],\n",
              "       [ 1.15174837e+00,  2.99364761e+00],\n",
              "       [-7.47833961e-01, -1.61994320e+00],\n",
              "       [ 2.22072477e-01,  2.10218094e-01],\n",
              "       [ 1.64144866e+00,  3.18365385e+00],\n",
              "       [ 2.10315704e-02,  1.19499555e+00],\n",
              "       [ 3.57224353e-01, -1.04588503e+00],\n",
              "       [-1.52049937e-01, -7.83891078e-01],\n",
              "       [ 3.91315999e-01,  1.60679404e+00],\n",
              "       [-1.30890483e+00, -2.15196545e+00],\n",
              "       [ 8.93666346e-01,  1.82281235e+00],\n",
              "       [-6.79372462e-01, -5.84227775e-01],\n",
              "       [ 5.13747885e-01,  1.03934128e+00],\n",
              "       [ 1.47988870e+00,  2.27800264e+00],\n",
              "       [-1.26968657e+00, -1.59731090e+00],\n",
              "       [-3.17506736e-01,  3.19687112e-01],\n",
              "       [-8.72314798e-02, -9.08868012e-01],\n",
              "       [-9.22467115e-01, -5.62273838e-01],\n",
              "       [-5.65664260e-01,  3.27923760e-01],\n",
              "       [ 2.10580041e+00,  5.97347277e+00],\n",
              "       [ 3.40041545e-02, -2.41549933e-01],\n",
              "       [ 6.75833791e-01, -5.19721987e-01],\n",
              "       [ 6.62892964e-02,  5.46572381e-01],\n",
              "       [-1.16706263e+00, -3.37851008e+00],\n",
              "       [ 9.38964800e-01,  1.72376364e+00],\n",
              "       [-9.71528884e-01, -1.98964057e+00],\n",
              "       [ 2.93015666e-01,  1.26295906e+00],\n",
              "       [-4.60372351e-01, -6.29833900e-02],\n",
              "       [ 7.74003359e-01,  1.51395046e+00],\n",
              "       [ 9.22323621e-01,  6.42589030e-01],\n",
              "       [-3.73480991e-01, -6.19098683e-01],\n",
              "       [ 8.50483915e-02, -4.85903033e-02],\n",
              "       [ 1.46860606e+00,  3.09022544e+00],\n",
              "       [ 6.23645146e-01,  6.37233912e-01],\n",
              "       [-5.61500084e-03,  4.23785685e-01],\n",
              "       [-1.80941659e+00, -4.17935640e+00],\n",
              "       [-2.09456316e-01, -5.86251957e-01],\n",
              "       [ 1.78285987e+00,  4.27550608e+00],\n",
              "       [-9.98287405e-01,  2.56115059e-01],\n",
              "       [ 6.23211862e-02,  4.76849144e-01],\n",
              "       [ 4.79303216e-01, -1.07827667e-01],\n",
              "       [-1.34358292e+00, -2.42980966e+00],\n",
              "       [-3.82810713e-01, -1.90850070e+00],\n",
              "       [-7.59547776e-01, -3.35106320e+00],\n",
              "       [-1.38043633e+00, -9.61736037e-01],\n",
              "       [ 1.13184900e+00,  2.11956895e+00],\n",
              "       [ 1.00605935e-01, -3.02073909e-01],\n",
              "       [ 1.40638829e+00,  3.46953372e+00],\n",
              "       [ 8.00204682e-01,  2.44447775e+00],\n",
              "       [ 2.56303014e-01,  2.29640712e+00],\n",
              "       [ 8.46879292e-01,  1.69595060e+00],\n",
              "       [-2.80560525e-01, -2.00961096e+00],\n",
              "       [-7.10367454e-01, -3.00137619e-01],\n",
              "       [ 1.41446454e+00,  3.61466573e+00],\n",
              "       [-5.39291055e-01, -4.55724799e-01],\n",
              "       [ 1.64811031e+00,  2.54963833e+00],\n",
              "       [-5.95862244e-01, -1.11708482e+00],\n",
              "       [-3.64005207e-01, -5.03793469e-01],\n",
              "       [ 5.39381280e-01,  1.55357119e+00],\n",
              "       [ 2.60679294e-03, -7.66915048e-01],\n",
              "       [-1.90507889e+00, -4.08639424e+00],\n",
              "       [ 8.49368730e-01,  2.76120601e+00],\n",
              "       [ 5.99284208e-01,  2.29873430e+00],\n",
              "       [-7.56341215e-01, -2.71426936e+00],\n",
              "       [-1.04800791e+00, -2.08332405e+00],\n",
              "       [-1.48535581e+00, -1.53289220e+00],\n",
              "       [ 5.15151400e-01,  4.27847352e-01],\n",
              "       [ 1.13400126e+00,  1.85469452e+00],\n",
              "       [-5.93205174e-02,  2.26047839e-01],\n",
              "       [-5.72178291e-01, -4.86023894e-01],\n",
              "       [-5.68255591e-01,  2.01403592e-01],\n",
              "       [-7.96452642e-01,  1.02148312e+00],\n",
              "       [-2.50021261e-01, -1.53138537e+00],\n",
              "       [ 8.04741461e-01,  2.46504213e+00],\n",
              "       [-6.67834661e-02,  6.11599016e-01],\n",
              "       [-4.09344137e-01, -1.06707361e+00],\n",
              "       [ 1.36204232e+00,  1.64860222e+00],\n",
              "       [ 8.47963951e-02,  1.13167598e+00],\n",
              "       [ 2.78926763e-01, -6.74989163e-01],\n",
              "       [-3.07452890e-01, -3.25192411e-01],\n",
              "       [ 7.57749744e-01,  1.99576056e+00],\n",
              "       [ 3.83617953e-01, -3.11006470e-01]])"
            ]
          },
          "metadata": {},
          "execution_count": 7
        }
      ]
    },
    {
      "cell_type": "code",
      "source": [
        "%matplotlib inline\n",
        "import matplotlib.pyplot as plt\n",
        "import seaborn; seaborn.set() # for plot styling\n",
        "plt.scatter([0,1,2,3,4], [0,2,4,6,8]);"
      ],
      "metadata": {
        "colab": {
          "base_uri": "https://localhost:8080/",
          "height": 268
        },
        "id": "x5DW5JkHoBvf",
        "outputId": "292fcab3-f822-41b1-eab1-7d0f0d44a288"
      },
      "execution_count": 10,
      "outputs": [
        {
          "output_type": "display_data",
          "data": {
            "text/plain": [
              "<Figure size 432x288 with 1 Axes>"
            ],
            "image/png": "[encoded data removed]"
          },
          "metadata": {}
        }
      ]
    },
    {
      "cell_type": "code",
      "source": [
        "plt.scatter(X[:, 0], X[:, 1]); \n",
        "#1ST COLUMN - X AXIS \n",
        "# 2ND COLUMN - Y AXIS "
      ],
      "metadata": {
        "colab": {
          "base_uri": "https://localhost:8080/",
          "height": 268
        },
        "id": "uL1cS8eEn9M_",
        "outputId": "f4fdd618-1196-41cd-de6f-a039234ede9d"
      },
      "execution_count": 11,
      "outputs": [
        {
          "output_type": "display_data",
          "data": {
            "text/plain": [
              "<Figure size 432x288 with 1 Axes>"
            ],
            "image/png": "[encoded data removed]"
          },
          "metadata": {}
        }
      ]
    },
    {
      "cell_type": "code",
      "source": [
        "indices = np.random.choice(X.shape[0], 20, replace=False)\n",
        "indices\n",
        "#REPLACE - doesnt get repeated"
      ],
      "metadata": {
        "colab": {
          "base_uri": "https://localhost:8080/"
        },
        "id": "6mRnP8uvpZzG",
        "outputId": "d749610d-099d-4b70-f5cb-7f71fb9931ed"
      },
      "execution_count": 12,
      "outputs": [
        {
          "output_type": "execute_result",
          "data": {
            "text/plain": [
              "array([ 6, 20,  3, 63, 86, 56, 87, 23, 98, 82, 88, 70, 50, 74, 43, 10, 49,\n",
              "       85, 90, 14])"
            ]
          },
          "metadata": {},
          "execution_count": 12
        }
      ]
    },
    {
      "cell_type": "code",
      "source": [],
      "metadata": {
        "id": "y6wQ1xP_qMtG"
      },
      "execution_count": null,
      "outputs": []
    }
  ]
}