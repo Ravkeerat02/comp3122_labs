{
  "nbformat": 4,
  "nbformat_minor": 0,
  "metadata": {
    "colab": {
      "provenance": [],
      "include_colab_link": true
    },
    "kernelspec": {
      "name": "python3",
      "display_name": "Python 3"
    },
    "language_info": {
      "name": "python"
    }
  },
  "cells": [
    {
      "cell_type": "markdown",
      "metadata": {
        "id": "view-in-github",
        "colab_type": "text"
      },
      "source": [
        "<a href=\"https://colab.research.google.com/github/Ravkeerat02/comp3122_labs/blob/master/pandas_Total_Final.ipynb\" target=\"_parent\"><img src=\"https://colab.research.google.com/assets/colab-badge.svg\" alt=\"Open In Colab\"/></a>"
      ]
    },
    {
      "cell_type": "code",
      "metadata": {
        "id": "cKM4tQxgohMw"
      },
      "source": [
        "# 01-pandas-pandas 101.pptx"
      ],
      "execution_count": 1,
      "outputs": []
    },
    {
      "cell_type": "code",
      "metadata": {
        "id": "GRyFl0bro2Gu"
      },
      "source": [
        "# 02-pandas-How do I read a tabular data file.pptx"
      ],
      "execution_count": 2,
      "outputs": []
    },
    {
      "cell_type": "code",
      "metadata": {
        "id": "Cdb22XLDYc4C"
      },
      "source": [
        "import pandas as pd"
      ],
      "execution_count": 3,
      "outputs": []
    },
    {
      "cell_type": "code",
      "metadata": {
        "colab": {
          "base_uri": "https://localhost:8080/",
          "height": 323
        },
        "id": "XLiG-710gQUE",
        "outputId": "4a2d2138-e4cd-4f83-fc81-4fa712e309ea"
      },
      "source": [
        "pd.read_table(\"chipotle.tsv\")"
      ],
      "execution_count": 4,
      "outputs": [
        {
          "output_type": "error",
          "ename": "FileNotFoundError",
          "evalue": "ignored",
          "traceback": [
            "\u001b[0;31m---------------------------------------------------------------------------\u001b[0m",
            "\u001b[0;31mFileNotFoundError\u001b[0m                         Traceback (most recent call last)",
            "\u001b[0;32m<ipython-input-4-e8e7760b9e25>\u001b[0m in \u001b[0;36m<module>\u001b[0;34m\u001b[0m\n\u001b[0;32m----> 1\u001b[0;31m \u001b[0mpd\u001b[0m\u001b[0;34m.\u001b[0m\u001b[0mread_table\u001b[0m\u001b[0;34m(\u001b[0m\u001b[0;34m\"chipotle.tsv\"\u001b[0m\u001b[0;34m)\u001b[0m\u001b[0;34m\u001b[0m\u001b[0;34m\u001b[0m\u001b[0m\n\u001b[0m",
            "\u001b[0;32m/usr/local/lib/python3.7/dist-packages/pandas/util/_decorators.py\u001b[0m in \u001b[0;36mwrapper\u001b[0;34m(*args, **kwargs)\u001b[0m\n\u001b[1;32m    309\u001b[0m                     \u001b[0mstacklevel\u001b[0m\u001b[0;34m=\u001b[0m\u001b[0mstacklevel\u001b[0m\u001b[0;34m,\u001b[0m\u001b[0;34m\u001b[0m\u001b[0;34m\u001b[0m\u001b[0m\n\u001b[1;32m    310\u001b[0m                 )\n\u001b[0;32m--> 311\u001b[0;31m             \u001b[0;32mreturn\u001b[0m \u001b[0mfunc\u001b[0m\u001b[0;34m(\u001b[0m\u001b[0;34m*\u001b[0m\u001b[0margs\u001b[0m\u001b[0;34m,\u001b[0m \u001b[0;34m**\u001b[0m\u001b[0mkwargs\u001b[0m\u001b[0;34m)\u001b[0m\u001b[0;34m\u001b[0m\u001b[0;34m\u001b[0m\u001b[0m\n\u001b[0m\u001b[1;32m    312\u001b[0m \u001b[0;34m\u001b[0m\u001b[0m\n\u001b[1;32m    313\u001b[0m         \u001b[0;32mreturn\u001b[0m \u001b[0mwrapper\u001b[0m\u001b[0;34m\u001b[0m\u001b[0;34m\u001b[0m\u001b[0m\n",
            "\u001b[0;32m/usr/local/lib/python3.7/dist-packages/pandas/io/parsers/readers.py\u001b[0m in \u001b[0;36mread_table\u001b[0;34m(filepath_or_buffer, sep, delimiter, header, names, index_col, usecols, squeeze, prefix, mangle_dupe_cols, dtype, engine, converters, true_values, false_values, skipinitialspace, skiprows, skipfooter, nrows, na_values, keep_default_na, na_filter, verbose, skip_blank_lines, parse_dates, infer_datetime_format, keep_date_col, date_parser, dayfirst, cache_dates, iterator, chunksize, compression, thousands, decimal, lineterminator, quotechar, quoting, doublequote, escapechar, comment, encoding, dialect, error_bad_lines, warn_bad_lines, on_bad_lines, encoding_errors, delim_whitespace, low_memory, memory_map, float_precision)\u001b[0m\n\u001b[1;32m    681\u001b[0m     \u001b[0mkwds\u001b[0m\u001b[0;34m.\u001b[0m\u001b[0mupdate\u001b[0m\u001b[0;34m(\u001b[0m\u001b[0mkwds_defaults\u001b[0m\u001b[0;34m)\u001b[0m\u001b[0;34m\u001b[0m\u001b[0;34m\u001b[0m\u001b[0m\n\u001b[1;32m    682\u001b[0m \u001b[0;34m\u001b[0m\u001b[0m\n\u001b[0;32m--> 683\u001b[0;31m     \u001b[0;32mreturn\u001b[0m \u001b[0m_read\u001b[0m\u001b[0;34m(\u001b[0m\u001b[0mfilepath_or_buffer\u001b[0m\u001b[0;34m,\u001b[0m \u001b[0mkwds\u001b[0m\u001b[0;34m)\u001b[0m\u001b[0;34m\u001b[0m\u001b[0;34m\u001b[0m\u001b[0m\n\u001b[0m\u001b[1;32m    684\u001b[0m \u001b[0;34m\u001b[0m\u001b[0m\n\u001b[1;32m    685\u001b[0m \u001b[0;34m\u001b[0m\u001b[0m\n",
            "\u001b[0;32m/usr/local/lib/python3.7/dist-packages/pandas/io/parsers/readers.py\u001b[0m in \u001b[0;36m_read\u001b[0;34m(filepath_or_buffer, kwds)\u001b[0m\n\u001b[1;32m    480\u001b[0m \u001b[0;34m\u001b[0m\u001b[0m\n\u001b[1;32m    481\u001b[0m     \u001b[0;31m# Create the parser.\u001b[0m\u001b[0;34m\u001b[0m\u001b[0;34m\u001b[0m\u001b[0;34m\u001b[0m\u001b[0m\n\u001b[0;32m--> 482\u001b[0;31m     \u001b[0mparser\u001b[0m \u001b[0;34m=\u001b[0m \u001b[0mTextFileReader\u001b[0m\u001b[0;34m(\u001b[0m\u001b[0mfilepath_or_buffer\u001b[0m\u001b[0;34m,\u001b[0m \u001b[0;34m**\u001b[0m\u001b[0mkwds\u001b[0m\u001b[0;34m)\u001b[0m\u001b[0;34m\u001b[0m\u001b[0;34m\u001b[0m\u001b[0m\n\u001b[0m\u001b[1;32m    483\u001b[0m \u001b[0;34m\u001b[0m\u001b[0m\n\u001b[1;32m    484\u001b[0m     \u001b[0;32mif\u001b[0m \u001b[0mchunksize\u001b[0m \u001b[0;32mor\u001b[0m \u001b[0miterator\u001b[0m\u001b[0;34m:\u001b[0m\u001b[0;34m\u001b[0m\u001b[0;34m\u001b[0m\u001b[0m\n",
            "\u001b[0;32m/usr/local/lib/python3.7/dist-packages/pandas/io/parsers/readers.py\u001b[0m in \u001b[0;36m__init__\u001b[0;34m(self, f, engine, **kwds)\u001b[0m\n\u001b[1;32m    809\u001b[0m             \u001b[0mself\u001b[0m\u001b[0;34m.\u001b[0m\u001b[0moptions\u001b[0m\u001b[0;34m[\u001b[0m\u001b[0;34m\"has_index_names\"\u001b[0m\u001b[0;34m]\u001b[0m \u001b[0;34m=\u001b[0m \u001b[0mkwds\u001b[0m\u001b[0;34m[\u001b[0m\u001b[0;34m\"has_index_names\"\u001b[0m\u001b[0;34m]\u001b[0m\u001b[0;34m\u001b[0m\u001b[0;34m\u001b[0m\u001b[0m\n\u001b[1;32m    810\u001b[0m \u001b[0;34m\u001b[0m\u001b[0m\n\u001b[0;32m--> 811\u001b[0;31m         \u001b[0mself\u001b[0m\u001b[0;34m.\u001b[0m\u001b[0m_engine\u001b[0m \u001b[0;34m=\u001b[0m \u001b[0mself\u001b[0m\u001b[0;34m.\u001b[0m\u001b[0m_make_engine\u001b[0m\u001b[0;34m(\u001b[0m\u001b[0mself\u001b[0m\u001b[0;34m.\u001b[0m\u001b[0mengine\u001b[0m\u001b[0;34m)\u001b[0m\u001b[0;34m\u001b[0m\u001b[0;34m\u001b[0m\u001b[0m\n\u001b[0m\u001b[1;32m    812\u001b[0m \u001b[0;34m\u001b[0m\u001b[0m\n\u001b[1;32m    813\u001b[0m     \u001b[0;32mdef\u001b[0m \u001b[0mclose\u001b[0m\u001b[0;34m(\u001b[0m\u001b[0mself\u001b[0m\u001b[0;34m)\u001b[0m\u001b[0;34m:\u001b[0m\u001b[0;34m\u001b[0m\u001b[0;34m\u001b[0m\u001b[0m\n",
            "\u001b[0;32m/usr/local/lib/python3.7/dist-packages/pandas/io/parsers/readers.py\u001b[0m in \u001b[0;36m_make_engine\u001b[0;34m(self, engine)\u001b[0m\n\u001b[1;32m   1038\u001b[0m             )\n\u001b[1;32m   1039\u001b[0m         \u001b[0;31m# error: Too many arguments for \"ParserBase\"\u001b[0m\u001b[0;34m\u001b[0m\u001b[0;34m\u001b[0m\u001b[0;34m\u001b[0m\u001b[0m\n\u001b[0;32m-> 1040\u001b[0;31m         \u001b[0;32mreturn\u001b[0m \u001b[0mmapping\u001b[0m\u001b[0;34m[\u001b[0m\u001b[0mengine\u001b[0m\u001b[0;34m]\u001b[0m\u001b[0;34m(\u001b[0m\u001b[0mself\u001b[0m\u001b[0;34m.\u001b[0m\u001b[0mf\u001b[0m\u001b[0;34m,\u001b[0m \u001b[0;34m**\u001b[0m\u001b[0mself\u001b[0m\u001b[0;34m.\u001b[0m\u001b[0moptions\u001b[0m\u001b[0;34m)\u001b[0m  \u001b[0;31m# type: ignore[call-arg]\u001b[0m\u001b[0;34m\u001b[0m\u001b[0;34m\u001b[0m\u001b[0m\n\u001b[0m\u001b[1;32m   1041\u001b[0m \u001b[0;34m\u001b[0m\u001b[0m\n\u001b[1;32m   1042\u001b[0m     \u001b[0;32mdef\u001b[0m \u001b[0m_failover_to_python\u001b[0m\u001b[0;34m(\u001b[0m\u001b[0mself\u001b[0m\u001b[0;34m)\u001b[0m\u001b[0;34m:\u001b[0m\u001b[0;34m\u001b[0m\u001b[0;34m\u001b[0m\u001b[0m\n",
            "\u001b[0;32m/usr/local/lib/python3.7/dist-packages/pandas/io/parsers/c_parser_wrapper.py\u001b[0m in \u001b[0;36m__init__\u001b[0;34m(self, src, **kwds)\u001b[0m\n\u001b[1;32m     49\u001b[0m \u001b[0;34m\u001b[0m\u001b[0m\n\u001b[1;32m     50\u001b[0m         \u001b[0;31m# open handles\u001b[0m\u001b[0;34m\u001b[0m\u001b[0;34m\u001b[0m\u001b[0;34m\u001b[0m\u001b[0m\n\u001b[0;32m---> 51\u001b[0;31m         \u001b[0mself\u001b[0m\u001b[0;34m.\u001b[0m\u001b[0m_open_handles\u001b[0m\u001b[0;34m(\u001b[0m\u001b[0msrc\u001b[0m\u001b[0;34m,\u001b[0m \u001b[0mkwds\u001b[0m\u001b[0;34m)\u001b[0m\u001b[0;34m\u001b[0m\u001b[0;34m\u001b[0m\u001b[0m\n\u001b[0m\u001b[1;32m     52\u001b[0m         \u001b[0;32massert\u001b[0m \u001b[0mself\u001b[0m\u001b[0;34m.\u001b[0m\u001b[0mhandles\u001b[0m \u001b[0;32mis\u001b[0m \u001b[0;32mnot\u001b[0m \u001b[0;32mNone\u001b[0m\u001b[0;34m\u001b[0m\u001b[0;34m\u001b[0m\u001b[0m\n\u001b[1;32m     53\u001b[0m \u001b[0;34m\u001b[0m\u001b[0m\n",
            "\u001b[0;32m/usr/local/lib/python3.7/dist-packages/pandas/io/parsers/base_parser.py\u001b[0m in \u001b[0;36m_open_handles\u001b[0;34m(self, src, kwds)\u001b[0m\n\u001b[1;32m    227\u001b[0m             \u001b[0mmemory_map\u001b[0m\u001b[0;34m=\u001b[0m\u001b[0mkwds\u001b[0m\u001b[0;34m.\u001b[0m\u001b[0mget\u001b[0m\u001b[0;34m(\u001b[0m\u001b[0;34m\"memory_map\"\u001b[0m\u001b[0;34m,\u001b[0m \u001b[0;32mFalse\u001b[0m\u001b[0;34m)\u001b[0m\u001b[0;34m,\u001b[0m\u001b[0;34m\u001b[0m\u001b[0;34m\u001b[0m\u001b[0m\n\u001b[1;32m    228\u001b[0m             \u001b[0mstorage_options\u001b[0m\u001b[0;34m=\u001b[0m\u001b[0mkwds\u001b[0m\u001b[0;34m.\u001b[0m\u001b[0mget\u001b[0m\u001b[0;34m(\u001b[0m\u001b[0;34m\"storage_options\"\u001b[0m\u001b[0;34m,\u001b[0m \u001b[0;32mNone\u001b[0m\u001b[0;34m)\u001b[0m\u001b[0;34m,\u001b[0m\u001b[0;34m\u001b[0m\u001b[0;34m\u001b[0m\u001b[0m\n\u001b[0;32m--> 229\u001b[0;31m             \u001b[0merrors\u001b[0m\u001b[0;34m=\u001b[0m\u001b[0mkwds\u001b[0m\u001b[0;34m.\u001b[0m\u001b[0mget\u001b[0m\u001b[0;34m(\u001b[0m\u001b[0;34m\"encoding_errors\"\u001b[0m\u001b[0;34m,\u001b[0m \u001b[0;34m\"strict\"\u001b[0m\u001b[0;34m)\u001b[0m\u001b[0;34m,\u001b[0m\u001b[0;34m\u001b[0m\u001b[0;34m\u001b[0m\u001b[0m\n\u001b[0m\u001b[1;32m    230\u001b[0m         )\n\u001b[1;32m    231\u001b[0m \u001b[0;34m\u001b[0m\u001b[0m\n",
            "\u001b[0;32m/usr/local/lib/python3.7/dist-packages/pandas/io/common.py\u001b[0m in \u001b[0;36mget_handle\u001b[0;34m(path_or_buf, mode, encoding, compression, memory_map, is_text, errors, storage_options)\u001b[0m\n\u001b[1;32m    705\u001b[0m                 \u001b[0mencoding\u001b[0m\u001b[0;34m=\u001b[0m\u001b[0mioargs\u001b[0m\u001b[0;34m.\u001b[0m\u001b[0mencoding\u001b[0m\u001b[0;34m,\u001b[0m\u001b[0;34m\u001b[0m\u001b[0;34m\u001b[0m\u001b[0m\n\u001b[1;32m    706\u001b[0m                 \u001b[0merrors\u001b[0m\u001b[0;34m=\u001b[0m\u001b[0merrors\u001b[0m\u001b[0;34m,\u001b[0m\u001b[0;34m\u001b[0m\u001b[0;34m\u001b[0m\u001b[0m\n\u001b[0;32m--> 707\u001b[0;31m                 \u001b[0mnewline\u001b[0m\u001b[0;34m=\u001b[0m\u001b[0;34m\"\"\u001b[0m\u001b[0;34m,\u001b[0m\u001b[0;34m\u001b[0m\u001b[0;34m\u001b[0m\u001b[0m\n\u001b[0m\u001b[1;32m    708\u001b[0m             )\n\u001b[1;32m    709\u001b[0m         \u001b[0;32melse\u001b[0m\u001b[0;34m:\u001b[0m\u001b[0;34m\u001b[0m\u001b[0;34m\u001b[0m\u001b[0m\n",
            "\u001b[0;31mFileNotFoundError\u001b[0m: [Errno 2] No such file or directory: 'chipotle.tsv'"
          ]
        }
      ]
    },
    {
      "cell_type": "code",
      "metadata": {
        "id": "OQ6rxiqLhBJi"
      },
      "source": [
        "#http://bit.ly/chiporders\n",
        "#https://raw.githubusercontent.com/justmarkham/pandas-videos/master/data/chipotle.tsv"
      ],
      "execution_count": null,
      "outputs": []
    },
    {
      "cell_type": "code",
      "metadata": {
        "id": "Lg2TwxGBgejx"
      },
      "source": [
        "pd.read_table(\"http://bit.ly/chiporders\")"
      ],
      "execution_count": null,
      "outputs": []
    },
    {
      "cell_type": "code",
      "metadata": {
        "id": "RTddSH7-g4I5",
        "colab": {
          "base_uri": "https://localhost:8080/",
          "height": 395
        },
        "outputId": "1314d740-d2d0-4c1a-c18e-cf6e7ec8e84d"
      },
      "source": [
        "#All in one\n",
        "pd.read_table('chipotle.tsv')\n",
        "pd.read_table('http://bit.ly/chiporders')\n",
        "pd.read_table('chipotle.tsv', sep='\\t')\n",
        "pd.read_table('http://bit.ly/chiporders', sep='\\t')\n",
        "pd.read_csv('chipotle.tsv', sep='\\t', lineterminator='\\n')"
      ],
      "execution_count": 5,
      "outputs": [
        {
          "output_type": "error",
          "ename": "FileNotFoundError",
          "evalue": "ignored",
          "traceback": [
            "\u001b[0;31m---------------------------------------------------------------------------\u001b[0m",
            "\u001b[0;31mFileNotFoundError\u001b[0m                         Traceback (most recent call last)",
            "\u001b[0;32m<ipython-input-5-c1fe0789d8d5>\u001b[0m in \u001b[0;36m<module>\u001b[0;34m\u001b[0m\n\u001b[1;32m      1\u001b[0m \u001b[0;31m#All in one\u001b[0m\u001b[0;34m\u001b[0m\u001b[0;34m\u001b[0m\u001b[0;34m\u001b[0m\u001b[0m\n\u001b[0;32m----> 2\u001b[0;31m \u001b[0mpd\u001b[0m\u001b[0;34m.\u001b[0m\u001b[0mread_table\u001b[0m\u001b[0;34m(\u001b[0m\u001b[0;34m'chipotle.tsv'\u001b[0m\u001b[0;34m)\u001b[0m\u001b[0;34m\u001b[0m\u001b[0;34m\u001b[0m\u001b[0m\n\u001b[0m\u001b[1;32m      3\u001b[0m \u001b[0mpd\u001b[0m\u001b[0;34m.\u001b[0m\u001b[0mread_table\u001b[0m\u001b[0;34m(\u001b[0m\u001b[0;34m'http://bit.ly/chiporders'\u001b[0m\u001b[0;34m)\u001b[0m\u001b[0;34m\u001b[0m\u001b[0;34m\u001b[0m\u001b[0m\n\u001b[1;32m      4\u001b[0m \u001b[0mpd\u001b[0m\u001b[0;34m.\u001b[0m\u001b[0mread_table\u001b[0m\u001b[0;34m(\u001b[0m\u001b[0;34m'chipotle.tsv'\u001b[0m\u001b[0;34m,\u001b[0m \u001b[0msep\u001b[0m\u001b[0;34m=\u001b[0m\u001b[0;34m'\\t'\u001b[0m\u001b[0;34m)\u001b[0m\u001b[0;34m\u001b[0m\u001b[0;34m\u001b[0m\u001b[0m\n\u001b[1;32m      5\u001b[0m \u001b[0mpd\u001b[0m\u001b[0;34m.\u001b[0m\u001b[0mread_table\u001b[0m\u001b[0;34m(\u001b[0m\u001b[0;34m'http://bit.ly/chiporders'\u001b[0m\u001b[0;34m,\u001b[0m \u001b[0msep\u001b[0m\u001b[0;34m=\u001b[0m\u001b[0;34m'\\t'\u001b[0m\u001b[0;34m)\u001b[0m\u001b[0;34m\u001b[0m\u001b[0;34m\u001b[0m\u001b[0m\n",
            "\u001b[0;32m/usr/local/lib/python3.7/dist-packages/pandas/util/_decorators.py\u001b[0m in \u001b[0;36mwrapper\u001b[0;34m(*args, **kwargs)\u001b[0m\n\u001b[1;32m    309\u001b[0m                     \u001b[0mstacklevel\u001b[0m\u001b[0;34m=\u001b[0m\u001b[0mstacklevel\u001b[0m\u001b[0;34m,\u001b[0m\u001b[0;34m\u001b[0m\u001b[0;34m\u001b[0m\u001b[0m\n\u001b[1;32m    310\u001b[0m                 )\n\u001b[0;32m--> 311\u001b[0;31m             \u001b[0;32mreturn\u001b[0m \u001b[0mfunc\u001b[0m\u001b[0;34m(\u001b[0m\u001b[0;34m*\u001b[0m\u001b[0margs\u001b[0m\u001b[0;34m,\u001b[0m \u001b[0;34m**\u001b[0m\u001b[0mkwargs\u001b[0m\u001b[0;34m)\u001b[0m\u001b[0;34m\u001b[0m\u001b[0;34m\u001b[0m\u001b[0m\n\u001b[0m\u001b[1;32m    312\u001b[0m \u001b[0;34m\u001b[0m\u001b[0m\n\u001b[1;32m    313\u001b[0m         \u001b[0;32mreturn\u001b[0m \u001b[0mwrapper\u001b[0m\u001b[0;34m\u001b[0m\u001b[0;34m\u001b[0m\u001b[0m\n",
            "\u001b[0;32m/usr/local/lib/python3.7/dist-packages/pandas/io/parsers/readers.py\u001b[0m in \u001b[0;36mread_table\u001b[0;34m(filepath_or_buffer, sep, delimiter, header, names, index_col, usecols, squeeze, prefix, mangle_dupe_cols, dtype, engine, converters, true_values, false_values, skipinitialspace, skiprows, skipfooter, nrows, na_values, keep_default_na, na_filter, verbose, skip_blank_lines, parse_dates, infer_datetime_format, keep_date_col, date_parser, dayfirst, cache_dates, iterator, chunksize, compression, thousands, decimal, lineterminator, quotechar, quoting, doublequote, escapechar, comment, encoding, dialect, error_bad_lines, warn_bad_lines, on_bad_lines, encoding_errors, delim_whitespace, low_memory, memory_map, float_precision)\u001b[0m\n\u001b[1;32m    681\u001b[0m     \u001b[0mkwds\u001b[0m\u001b[0;34m.\u001b[0m\u001b[0mupdate\u001b[0m\u001b[0;34m(\u001b[0m\u001b[0mkwds_defaults\u001b[0m\u001b[0;34m)\u001b[0m\u001b[0;34m\u001b[0m\u001b[0;34m\u001b[0m\u001b[0m\n\u001b[1;32m    682\u001b[0m \u001b[0;34m\u001b[0m\u001b[0m\n\u001b[0;32m--> 683\u001b[0;31m     \u001b[0;32mreturn\u001b[0m \u001b[0m_read\u001b[0m\u001b[0;34m(\u001b[0m\u001b[0mfilepath_or_buffer\u001b[0m\u001b[0;34m,\u001b[0m \u001b[0mkwds\u001b[0m\u001b[0;34m)\u001b[0m\u001b[0;34m\u001b[0m\u001b[0;34m\u001b[0m\u001b[0m\n\u001b[0m\u001b[1;32m    684\u001b[0m \u001b[0;34m\u001b[0m\u001b[0m\n\u001b[1;32m    685\u001b[0m \u001b[0;34m\u001b[0m\u001b[0m\n",
            "\u001b[0;32m/usr/local/lib/python3.7/dist-packages/pandas/io/parsers/readers.py\u001b[0m in \u001b[0;36m_read\u001b[0;34m(filepath_or_buffer, kwds)\u001b[0m\n\u001b[1;32m    480\u001b[0m \u001b[0;34m\u001b[0m\u001b[0m\n\u001b[1;32m    481\u001b[0m     \u001b[0;31m# Create the parser.\u001b[0m\u001b[0;34m\u001b[0m\u001b[0;34m\u001b[0m\u001b[0;34m\u001b[0m\u001b[0m\n\u001b[0;32m--> 482\u001b[0;31m     \u001b[0mparser\u001b[0m \u001b[0;34m=\u001b[0m \u001b[0mTextFileReader\u001b[0m\u001b[0;34m(\u001b[0m\u001b[0mfilepath_or_buffer\u001b[0m\u001b[0;34m,\u001b[0m \u001b[0;34m**\u001b[0m\u001b[0mkwds\u001b[0m\u001b[0;34m)\u001b[0m\u001b[0;34m\u001b[0m\u001b[0;34m\u001b[0m\u001b[0m\n\u001b[0m\u001b[1;32m    483\u001b[0m \u001b[0;34m\u001b[0m\u001b[0m\n\u001b[1;32m    484\u001b[0m     \u001b[0;32mif\u001b[0m \u001b[0mchunksize\u001b[0m \u001b[0;32mor\u001b[0m \u001b[0miterator\u001b[0m\u001b[0;34m:\u001b[0m\u001b[0;34m\u001b[0m\u001b[0;34m\u001b[0m\u001b[0m\n",
            "\u001b[0;32m/usr/local/lib/python3.7/dist-packages/pandas/io/parsers/readers.py\u001b[0m in \u001b[0;36m__init__\u001b[0;34m(self, f, engine, **kwds)\u001b[0m\n\u001b[1;32m    809\u001b[0m             \u001b[0mself\u001b[0m\u001b[0;34m.\u001b[0m\u001b[0moptions\u001b[0m\u001b[0;34m[\u001b[0m\u001b[0;34m\"has_index_names\"\u001b[0m\u001b[0;34m]\u001b[0m \u001b[0;34m=\u001b[0m \u001b[0mkwds\u001b[0m\u001b[0;34m[\u001b[0m\u001b[0;34m\"has_index_names\"\u001b[0m\u001b[0;34m]\u001b[0m\u001b[0;34m\u001b[0m\u001b[0;34m\u001b[0m\u001b[0m\n\u001b[1;32m    810\u001b[0m \u001b[0;34m\u001b[0m\u001b[0m\n\u001b[0;32m--> 811\u001b[0;31m         \u001b[0mself\u001b[0m\u001b[0;34m.\u001b[0m\u001b[0m_engine\u001b[0m \u001b[0;34m=\u001b[0m \u001b[0mself\u001b[0m\u001b[0;34m.\u001b[0m\u001b[0m_make_engine\u001b[0m\u001b[0;34m(\u001b[0m\u001b[0mself\u001b[0m\u001b[0;34m.\u001b[0m\u001b[0mengine\u001b[0m\u001b[0;34m)\u001b[0m\u001b[0;34m\u001b[0m\u001b[0;34m\u001b[0m\u001b[0m\n\u001b[0m\u001b[1;32m    812\u001b[0m \u001b[0;34m\u001b[0m\u001b[0m\n\u001b[1;32m    813\u001b[0m     \u001b[0;32mdef\u001b[0m \u001b[0mclose\u001b[0m\u001b[0;34m(\u001b[0m\u001b[0mself\u001b[0m\u001b[0;34m)\u001b[0m\u001b[0;34m:\u001b[0m\u001b[0;34m\u001b[0m\u001b[0;34m\u001b[0m\u001b[0m\n",
            "\u001b[0;32m/usr/local/lib/python3.7/dist-packages/pandas/io/parsers/readers.py\u001b[0m in \u001b[0;36m_make_engine\u001b[0;34m(self, engine)\u001b[0m\n\u001b[1;32m   1038\u001b[0m             )\n\u001b[1;32m   1039\u001b[0m         \u001b[0;31m# error: Too many arguments for \"ParserBase\"\u001b[0m\u001b[0;34m\u001b[0m\u001b[0;34m\u001b[0m\u001b[0;34m\u001b[0m\u001b[0m\n\u001b[0;32m-> 1040\u001b[0;31m         \u001b[0;32mreturn\u001b[0m \u001b[0mmapping\u001b[0m\u001b[0;34m[\u001b[0m\u001b[0mengine\u001b[0m\u001b[0;34m]\u001b[0m\u001b[0;34m(\u001b[0m\u001b[0mself\u001b[0m\u001b[0;34m.\u001b[0m\u001b[0mf\u001b[0m\u001b[0;34m,\u001b[0m \u001b[0;34m**\u001b[0m\u001b[0mself\u001b[0m\u001b[0;34m.\u001b[0m\u001b[0moptions\u001b[0m\u001b[0;34m)\u001b[0m  \u001b[0;31m# type: ignore[call-arg]\u001b[0m\u001b[0;34m\u001b[0m\u001b[0;34m\u001b[0m\u001b[0m\n\u001b[0m\u001b[1;32m   1041\u001b[0m \u001b[0;34m\u001b[0m\u001b[0m\n\u001b[1;32m   1042\u001b[0m     \u001b[0;32mdef\u001b[0m \u001b[0m_failover_to_python\u001b[0m\u001b[0;34m(\u001b[0m\u001b[0mself\u001b[0m\u001b[0;34m)\u001b[0m\u001b[0;34m:\u001b[0m\u001b[0;34m\u001b[0m\u001b[0;34m\u001b[0m\u001b[0m\n",
            "\u001b[0;32m/usr/local/lib/python3.7/dist-packages/pandas/io/parsers/c_parser_wrapper.py\u001b[0m in \u001b[0;36m__init__\u001b[0;34m(self, src, **kwds)\u001b[0m\n\u001b[1;32m     49\u001b[0m \u001b[0;34m\u001b[0m\u001b[0m\n\u001b[1;32m     50\u001b[0m         \u001b[0;31m# open handles\u001b[0m\u001b[0;34m\u001b[0m\u001b[0;34m\u001b[0m\u001b[0;34m\u001b[0m\u001b[0m\n\u001b[0;32m---> 51\u001b[0;31m         \u001b[0mself\u001b[0m\u001b[0;34m.\u001b[0m\u001b[0m_open_handles\u001b[0m\u001b[0;34m(\u001b[0m\u001b[0msrc\u001b[0m\u001b[0;34m,\u001b[0m \u001b[0mkwds\u001b[0m\u001b[0;34m)\u001b[0m\u001b[0;34m\u001b[0m\u001b[0;34m\u001b[0m\u001b[0m\n\u001b[0m\u001b[1;32m     52\u001b[0m         \u001b[0;32massert\u001b[0m \u001b[0mself\u001b[0m\u001b[0;34m.\u001b[0m\u001b[0mhandles\u001b[0m \u001b[0;32mis\u001b[0m \u001b[0;32mnot\u001b[0m \u001b[0;32mNone\u001b[0m\u001b[0;34m\u001b[0m\u001b[0;34m\u001b[0m\u001b[0m\n\u001b[1;32m     53\u001b[0m \u001b[0;34m\u001b[0m\u001b[0m\n",
            "\u001b[0;32m/usr/local/lib/python3.7/dist-packages/pandas/io/parsers/base_parser.py\u001b[0m in \u001b[0;36m_open_handles\u001b[0;34m(self, src, kwds)\u001b[0m\n\u001b[1;32m    227\u001b[0m             \u001b[0mmemory_map\u001b[0m\u001b[0;34m=\u001b[0m\u001b[0mkwds\u001b[0m\u001b[0;34m.\u001b[0m\u001b[0mget\u001b[0m\u001b[0;34m(\u001b[0m\u001b[0;34m\"memory_map\"\u001b[0m\u001b[0;34m,\u001b[0m \u001b[0;32mFalse\u001b[0m\u001b[0;34m)\u001b[0m\u001b[0;34m,\u001b[0m\u001b[0;34m\u001b[0m\u001b[0;34m\u001b[0m\u001b[0m\n\u001b[1;32m    228\u001b[0m             \u001b[0mstorage_options\u001b[0m\u001b[0;34m=\u001b[0m\u001b[0mkwds\u001b[0m\u001b[0;34m.\u001b[0m\u001b[0mget\u001b[0m\u001b[0;34m(\u001b[0m\u001b[0;34m\"storage_options\"\u001b[0m\u001b[0;34m,\u001b[0m \u001b[0;32mNone\u001b[0m\u001b[0;34m)\u001b[0m\u001b[0;34m,\u001b[0m\u001b[0;34m\u001b[0m\u001b[0;34m\u001b[0m\u001b[0m\n\u001b[0;32m--> 229\u001b[0;31m             \u001b[0merrors\u001b[0m\u001b[0;34m=\u001b[0m\u001b[0mkwds\u001b[0m\u001b[0;34m.\u001b[0m\u001b[0mget\u001b[0m\u001b[0;34m(\u001b[0m\u001b[0;34m\"encoding_errors\"\u001b[0m\u001b[0;34m,\u001b[0m \u001b[0;34m\"strict\"\u001b[0m\u001b[0;34m)\u001b[0m\u001b[0;34m,\u001b[0m\u001b[0;34m\u001b[0m\u001b[0;34m\u001b[0m\u001b[0m\n\u001b[0m\u001b[1;32m    230\u001b[0m         )\n\u001b[1;32m    231\u001b[0m \u001b[0;34m\u001b[0m\u001b[0m\n",
            "\u001b[0;32m/usr/local/lib/python3.7/dist-packages/pandas/io/common.py\u001b[0m in \u001b[0;36mget_handle\u001b[0;34m(path_or_buf, mode, encoding, compression, memory_map, is_text, errors, storage_options)\u001b[0m\n\u001b[1;32m    705\u001b[0m                 \u001b[0mencoding\u001b[0m\u001b[0;34m=\u001b[0m\u001b[0mioargs\u001b[0m\u001b[0;34m.\u001b[0m\u001b[0mencoding\u001b[0m\u001b[0;34m,\u001b[0m\u001b[0;34m\u001b[0m\u001b[0;34m\u001b[0m\u001b[0m\n\u001b[1;32m    706\u001b[0m                 \u001b[0merrors\u001b[0m\u001b[0;34m=\u001b[0m\u001b[0merrors\u001b[0m\u001b[0;34m,\u001b[0m\u001b[0;34m\u001b[0m\u001b[0;34m\u001b[0m\u001b[0m\n\u001b[0;32m--> 707\u001b[0;31m                 \u001b[0mnewline\u001b[0m\u001b[0;34m=\u001b[0m\u001b[0;34m\"\"\u001b[0m\u001b[0;34m,\u001b[0m\u001b[0;34m\u001b[0m\u001b[0;34m\u001b[0m\u001b[0m\n\u001b[0m\u001b[1;32m    708\u001b[0m             )\n\u001b[1;32m    709\u001b[0m         \u001b[0;32melse\u001b[0m\u001b[0;34m:\u001b[0m\u001b[0;34m\u001b[0m\u001b[0;34m\u001b[0m\u001b[0m\n",
            "\u001b[0;31mFileNotFoundError\u001b[0m: [Errno 2] No such file or directory: 'chipotle.tsv'"
          ]
        }
      ]
    },
    {
      "cell_type": "code",
      "metadata": {
        "id": "_qC_M7FyjDXB"
      },
      "source": [
        "orders = pd.read_table('http://bit.ly/chiporders')"
      ],
      "execution_count": null,
      "outputs": []
    },
    {
      "cell_type": "code",
      "metadata": {
        "id": "CCz-21iNjYW_"
      },
      "source": [
        "orders.head()"
      ],
      "execution_count": null,
      "outputs": []
    },
    {
      "cell_type": "code",
      "metadata": {
        "id": "x9gWD9cQjg6H"
      },
      "source": [
        "pd.read_table('http://bit.ly/movieusers')"
      ],
      "execution_count": null,
      "outputs": []
    },
    {
      "cell_type": "code",
      "metadata": {
        "id": "E0PezSO7jran"
      },
      "source": [
        "pd.read_table('http://bit.ly/movieusers', sep=\"|\")"
      ],
      "execution_count": null,
      "outputs": []
    },
    {
      "cell_type": "code",
      "metadata": {
        "id": "ly7-sb5YkOjX"
      },
      "source": [
        "pd.read_table('http://bit.ly/movieusers', sep=\"|\", header=None)"
      ],
      "execution_count": null,
      "outputs": []
    },
    {
      "cell_type": "code",
      "metadata": {
        "id": "vMNcgCkykfuv"
      },
      "source": [
        "user_cols = ['user_id', 'age', 'gender', 'occupation', 'zip_code']"
      ],
      "execution_count": null,
      "outputs": []
    },
    {
      "cell_type": "code",
      "metadata": {
        "id": "20U4c5ObkqXn"
      },
      "source": [
        "pd.read_table('http://bit.ly/movieusers', sep = '|', header = None, names = user_cols)"
      ],
      "execution_count": null,
      "outputs": []
    },
    {
      "cell_type": "code",
      "metadata": {
        "id": "OZ-7fTl2k1vA"
      },
      "source": [
        "#pd.read_table('http://bit.ly/movieusers', sep = '|', header = None, names =['user_id', 'age', 'gender', 'occupation', 'zip_code'])"
      ],
      "execution_count": null,
      "outputs": []
    },
    {
      "cell_type": "code",
      "metadata": {
        "id": "j6TpACFXkrBo"
      },
      "source": [
        "users = pd.read_table('http://bit.ly/movieusers', sep = '|', header = None, names = user_cols)"
      ],
      "execution_count": null,
      "outputs": []
    },
    {
      "cell_type": "code",
      "metadata": {
        "id": "IBkPVucnoDDW"
      },
      "source": [
        "users.head()"
      ],
      "execution_count": null,
      "outputs": []
    },
    {
      "cell_type": "code",
      "metadata": {
        "id": "sT9Ji6v_oEg9"
      },
      "source": [
        "#03-pandas-How do I select a pandas Series from a DataFrame.pptx"
      ],
      "execution_count": null,
      "outputs": []
    },
    {
      "cell_type": "code",
      "metadata": {
        "id": "oYT4yko1pf-O"
      },
      "source": [
        "import pandas as pd\n",
        "ufo = pd.read_table('http://bit.ly/uforeports', sep = ',')"
      ],
      "execution_count": null,
      "outputs": []
    },
    {
      "cell_type": "markdown",
      "metadata": {
        "id": "E8ERLszGqQbZ"
      },
      "source": [
        "##A better Solution"
      ]
    },
    {
      "cell_type": "code",
      "metadata": {
        "id": "ubQnd8FGqH63"
      },
      "source": [
        "import pandas as pd\n",
        "ufo = pd.read_csv('http://bit.ly/uforeports')"
      ],
      "execution_count": 6,
      "outputs": []
    },
    {
      "cell_type": "code",
      "metadata": {
        "colab": {
          "base_uri": "https://localhost:8080/"
        },
        "id": "asB2hPOFqZAO",
        "outputId": "bcad6a64-7236-4ca8-9f2d-618d8d7fc75c"
      },
      "source": [
        "type(ufo)"
      ],
      "execution_count": 7,
      "outputs": [
        {
          "output_type": "execute_result",
          "data": {
            "text/plain": [
              "pandas.core.frame.DataFrame"
            ]
          },
          "metadata": {},
          "execution_count": 7
        }
      ]
    },
    {
      "cell_type": "code",
      "metadata": {
        "colab": {
          "base_uri": "https://localhost:8080/",
          "height": 206
        },
        "id": "A_Gbfzz-sG88",
        "outputId": "77d4fdbb-41b6-4524-de3e-dfe6093ed358"
      },
      "source": [
        "ufo.head()"
      ],
      "execution_count": 8,
      "outputs": [
        {
          "output_type": "execute_result",
          "data": {
            "text/plain": [
              "                   City Colors Reported Shape Reported State             Time\n",
              "0                Ithaca             NaN       TRIANGLE    NY   6/1/1930 22:00\n",
              "1           Willingboro             NaN          OTHER    NJ  6/30/1930 20:00\n",
              "2               Holyoke             NaN           OVAL    CO  2/15/1931 14:00\n",
              "3               Abilene             NaN           DISK    KS   6/1/1931 13:00\n",
              "4  New York Worlds Fair             NaN          LIGHT    NY  4/18/1933 19:00"
            ],
            "text/html": [
              "\n",
              "  <div id=\"df-32844bc0-6291-4280-be6c-afab31bc9087\">\n",
              "    <div class=\"colab-df-container\">\n",
              "      <div>\n",
              "<style scoped>\n",
              "    .dataframe tbody tr th:only-of-type {\n",
              "        vertical-align: middle;\n",
              "    }\n",
              "\n",
              "    .dataframe tbody tr th {\n",
              "        vertical-align: top;\n",
              "    }\n",
              "\n",
              "    .dataframe thead th {\n",
              "        text-align: right;\n",
              "    }\n",
              "</style>\n",
              "<table border=\"1\" class=\"dataframe\">\n",
              "  <thead>\n",
              "    <tr style=\"text-align: right;\">\n",
              "      <th></th>\n",
              "      <th>City</th>\n",
              "      <th>Colors Reported</th>\n",
              "      <th>Shape Reported</th>\n",
              "      <th>State</th>\n",
              "      <th>Time</th>\n",
              "    </tr>\n",
              "  </thead>\n",
              "  <tbody>\n",
              "    <tr>\n",
              "      <th>0</th>\n",
              "      <td>Ithaca</td>\n",
              "      <td>NaN</td>\n",
              "      <td>TRIANGLE</td>\n",
              "      <td>NY</td>\n",
              "      <td>6/1/1930 22:00</td>\n",
              "    </tr>\n",
              "    <tr>\n",
              "      <th>1</th>\n",
              "      <td>Willingboro</td>\n",
              "      <td>NaN</td>\n",
              "      <td>OTHER</td>\n",
              "      <td>NJ</td>\n",
              "      <td>6/30/1930 20:00</td>\n",
              "    </tr>\n",
              "    <tr>\n",
              "      <th>2</th>\n",
              "      <td>Holyoke</td>\n",
              "      <td>NaN</td>\n",
              "      <td>OVAL</td>\n",
              "      <td>CO</td>\n",
              "      <td>2/15/1931 14:00</td>\n",
              "    </tr>\n",
              "    <tr>\n",
              "      <th>3</th>\n",
              "      <td>Abilene</td>\n",
              "      <td>NaN</td>\n",
              "      <td>DISK</td>\n",
              "      <td>KS</td>\n",
              "      <td>6/1/1931 13:00</td>\n",
              "    </tr>\n",
              "    <tr>\n",
              "      <th>4</th>\n",
              "      <td>New York Worlds Fair</td>\n",
              "      <td>NaN</td>\n",
              "      <td>LIGHT</td>\n",
              "      <td>NY</td>\n",
              "      <td>4/18/1933 19:00</td>\n",
              "    </tr>\n",
              "  </tbody>\n",
              "</table>\n",
              "</div>\n",
              "      <button class=\"colab-df-convert\" onclick=\"convertToInteractive('df-32844bc0-6291-4280-be6c-afab31bc9087')\"\n",
              "              title=\"Convert this dataframe to an interactive table.\"\n",
              "              style=\"display:none;\">\n",
              "        \n",
              "  <svg xmlns=\"http://www.w3.org/2000/svg\" height=\"24px\"viewBox=\"0 0 24 24\"\n",
              "       width=\"24px\">\n",
              "    <path d=\"M0 0h24v24H0V0z\" fill=\"none\"/>\n",
              "    <path d=\"M18.56 5.44l.94 2.06.94-2.06 2.06-.94-2.06-.94-.94-2.06-.94 2.06-2.06.94zm-11 1L8.5 8.5l.94-2.06 2.06-.94-2.06-.94L8.5 2.5l-.94 2.06-2.06.94zm10 10l.94 2.06.94-2.06 2.06-.94-2.06-.94-.94-2.06-.94 2.06-2.06.94z\"/><path d=\"M17.41 7.96l-1.37-1.37c-.4-.4-.92-.59-1.43-.59-.52 0-1.04.2-1.43.59L10.3 9.45l-7.72 7.72c-.78.78-.78 2.05 0 2.83L4 21.41c.39.39.9.59 1.41.59.51 0 1.02-.2 1.41-.59l7.78-7.78 2.81-2.81c.8-.78.8-2.07 0-2.86zM5.41 20L4 18.59l7.72-7.72 1.47 1.35L5.41 20z\"/>\n",
              "  </svg>\n",
              "      </button>\n",
              "      \n",
              "  <style>\n",
              "    .colab-df-container {\n",
              "      display:flex;\n",
              "      flex-wrap:wrap;\n",
              "      gap: 12px;\n",
              "    }\n",
              "\n",
              "    .colab-df-convert {\n",
              "      background-color: #E8F0FE;\n",
              "      border: none;\n",
              "      border-radius: 50%;\n",
              "      cursor: pointer;\n",
              "      display: none;\n",
              "      fill: #1967D2;\n",
              "      height: 32px;\n",
              "      padding: 0 0 0 0;\n",
              "      width: 32px;\n",
              "    }\n",
              "\n",
              "    .colab-df-convert:hover {\n",
              "      background-color: #E2EBFA;\n",
              "      box-shadow: 0px 1px 2px rgba(60, 64, 67, 0.3), 0px 1px 3px 1px rgba(60, 64, 67, 0.15);\n",
              "      fill: #174EA6;\n",
              "    }\n",
              "\n",
              "    [theme=dark] .colab-df-convert {\n",
              "      background-color: #3B4455;\n",
              "      fill: #D2E3FC;\n",
              "    }\n",
              "\n",
              "    [theme=dark] .colab-df-convert:hover {\n",
              "      background-color: #434B5C;\n",
              "      box-shadow: 0px 1px 3px 1px rgba(0, 0, 0, 0.15);\n",
              "      filter: drop-shadow(0px 1px 2px rgba(0, 0, 0, 0.3));\n",
              "      fill: #FFFFFF;\n",
              "    }\n",
              "  </style>\n",
              "\n",
              "      <script>\n",
              "        const buttonEl =\n",
              "          document.querySelector('#df-32844bc0-6291-4280-be6c-afab31bc9087 button.colab-df-convert');\n",
              "        buttonEl.style.display =\n",
              "          google.colab.kernel.accessAllowed ? 'block' : 'none';\n",
              "\n",
              "        async function convertToInteractive(key) {\n",
              "          const element = document.querySelector('#df-32844bc0-6291-4280-be6c-afab31bc9087');\n",
              "          const dataTable =\n",
              "            await google.colab.kernel.invokeFunction('convertToInteractive',\n",
              "                                                     [key], {});\n",
              "          if (!dataTable) return;\n",
              "\n",
              "          const docLinkHtml = 'Like what you see? Visit the ' +\n",
              "            '<a target=\"_blank\" href=https://colab.research.google.com/notebooks/data_table.ipynb>data table notebook</a>'\n",
              "            + ' to learn more about interactive tables.';\n",
              "          element.innerHTML = '';\n",
              "          dataTable['output_type'] = 'display_data';\n",
              "          await google.colab.output.renderOutput(dataTable, element);\n",
              "          const docLink = document.createElement('div');\n",
              "          docLink.innerHTML = docLinkHtml;\n",
              "          element.appendChild(docLink);\n",
              "        }\n",
              "      </script>\n",
              "    </div>\n",
              "  </div>\n",
              "  "
            ]
          },
          "metadata": {},
          "execution_count": 8
        }
      ]
    },
    {
      "cell_type": "code",
      "metadata": {
        "colab": {
          "base_uri": "https://localhost:8080/"
        },
        "id": "XWUvdayLsNKu",
        "outputId": "712f7747-25e3-4a21-acbf-64f3dd3a0ba5"
      },
      "source": [
        "ufo['City']"
      ],
      "execution_count": 9,
      "outputs": [
        {
          "output_type": "execute_result",
          "data": {
            "text/plain": [
              "0                      Ithaca\n",
              "1                 Willingboro\n",
              "2                     Holyoke\n",
              "3                     Abilene\n",
              "4        New York Worlds Fair\n",
              "                 ...         \n",
              "18236              Grant Park\n",
              "18237             Spirit Lake\n",
              "18238             Eagle River\n",
              "18239             Eagle River\n",
              "18240                    Ybor\n",
              "Name: City, Length: 18241, dtype: object"
            ]
          },
          "metadata": {},
          "execution_count": 9
        }
      ]
    },
    {
      "cell_type": "code",
      "metadata": {
        "id": "fJo1JawrsUS7"
      },
      "source": [
        "#ufo['city']"
      ],
      "execution_count": null,
      "outputs": []
    },
    {
      "cell_type": "code",
      "metadata": {
        "colab": {
          "base_uri": "https://localhost:8080/"
        },
        "id": "8SuhI6KIsbkc",
        "outputId": "1b3f82e0-7429-47fb-8c6a-dbc0cd3a2e17"
      },
      "source": [
        "type(ufo['City'])"
      ],
      "execution_count": 12,
      "outputs": [
        {
          "output_type": "execute_result",
          "data": {
            "text/plain": [
              "pandas.core.series.Series"
            ]
          },
          "metadata": {},
          "execution_count": 12
        }
      ]
    },
    {
      "cell_type": "code",
      "metadata": {
        "colab": {
          "base_uri": "https://localhost:8080/",
          "height": 206
        },
        "id": "3Cya0M3iss6c",
        "outputId": "4484b0d9-1f4b-48c0-9b11-d56e87e4862f"
      },
      "source": [
        "ufo.head()"
      ],
      "execution_count": 11,
      "outputs": [
        {
          "output_type": "execute_result",
          "data": {
            "text/plain": [
              "                   City Colors Reported Shape Reported State             Time\n",
              "0                Ithaca             NaN       TRIANGLE    NY   6/1/1930 22:00\n",
              "1           Willingboro             NaN          OTHER    NJ  6/30/1930 20:00\n",
              "2               Holyoke             NaN           OVAL    CO  2/15/1931 14:00\n",
              "3               Abilene             NaN           DISK    KS   6/1/1931 13:00\n",
              "4  New York Worlds Fair             NaN          LIGHT    NY  4/18/1933 19:00"
            ],
            "text/html": [
              "\n",
              "  <div id=\"df-3dd8d919-9afc-4676-8631-ade9458784e1\">\n",
              "    <div class=\"colab-df-container\">\n",
              "      <div>\n",
              "<style scoped>\n",
              "    .dataframe tbody tr th:only-of-type {\n",
              "        vertical-align: middle;\n",
              "    }\n",
              "\n",
              "    .dataframe tbody tr th {\n",
              "        vertical-align: top;\n",
              "    }\n",
              "\n",
              "    .dataframe thead th {\n",
              "        text-align: right;\n",
              "    }\n",
              "</style>\n",
              "<table border=\"1\" class=\"dataframe\">\n",
              "  <thead>\n",
              "    <tr style=\"text-align: right;\">\n",
              "      <th></th>\n",
              "      <th>City</th>\n",
              "      <th>Colors Reported</th>\n",
              "      <th>Shape Reported</th>\n",
              "      <th>State</th>\n",
              "      <th>Time</th>\n",
              "    </tr>\n",
              "  </thead>\n",
              "  <tbody>\n",
              "    <tr>\n",
              "      <th>0</th>\n",
              "      <td>Ithaca</td>\n",
              "      <td>NaN</td>\n",
              "      <td>TRIANGLE</td>\n",
              "      <td>NY</td>\n",
              "      <td>6/1/1930 22:00</td>\n",
              "    </tr>\n",
              "    <tr>\n",
              "      <th>1</th>\n",
              "      <td>Willingboro</td>\n",
              "      <td>NaN</td>\n",
              "      <td>OTHER</td>\n",
              "      <td>NJ</td>\n",
              "      <td>6/30/1930 20:00</td>\n",
              "    </tr>\n",
              "    <tr>\n",
              "      <th>2</th>\n",
              "      <td>Holyoke</td>\n",
              "      <td>NaN</td>\n",
              "      <td>OVAL</td>\n",
              "      <td>CO</td>\n",
              "      <td>2/15/1931 14:00</td>\n",
              "    </tr>\n",
              "    <tr>\n",
              "      <th>3</th>\n",
              "      <td>Abilene</td>\n",
              "      <td>NaN</td>\n",
              "      <td>DISK</td>\n",
              "      <td>KS</td>\n",
              "      <td>6/1/1931 13:00</td>\n",
              "    </tr>\n",
              "    <tr>\n",
              "      <th>4</th>\n",
              "      <td>New York Worlds Fair</td>\n",
              "      <td>NaN</td>\n",
              "      <td>LIGHT</td>\n",
              "      <td>NY</td>\n",
              "      <td>4/18/1933 19:00</td>\n",
              "    </tr>\n",
              "  </tbody>\n",
              "</table>\n",
              "</div>\n",
              "      <button class=\"colab-df-convert\" onclick=\"convertToInteractive('df-3dd8d919-9afc-4676-8631-ade9458784e1')\"\n",
              "              title=\"Convert this dataframe to an interactive table.\"\n",
              "              style=\"display:none;\">\n",
              "        \n",
              "  <svg xmlns=\"http://www.w3.org/2000/svg\" height=\"24px\"viewBox=\"0 0 24 24\"\n",
              "       width=\"24px\">\n",
              "    <path d=\"M0 0h24v24H0V0z\" fill=\"none\"/>\n",
              "    <path d=\"M18.56 5.44l.94 2.06.94-2.06 2.06-.94-2.06-.94-.94-2.06-.94 2.06-2.06.94zm-11 1L8.5 8.5l.94-2.06 2.06-.94-2.06-.94L8.5 2.5l-.94 2.06-2.06.94zm10 10l.94 2.06.94-2.06 2.06-.94-2.06-.94-.94-2.06-.94 2.06-2.06.94z\"/><path d=\"M17.41 7.96l-1.37-1.37c-.4-.4-.92-.59-1.43-.59-.52 0-1.04.2-1.43.59L10.3 9.45l-7.72 7.72c-.78.78-.78 2.05 0 2.83L4 21.41c.39.39.9.59 1.41.59.51 0 1.02-.2 1.41-.59l7.78-7.78 2.81-2.81c.8-.78.8-2.07 0-2.86zM5.41 20L4 18.59l7.72-7.72 1.47 1.35L5.41 20z\"/>\n",
              "  </svg>\n",
              "      </button>\n",
              "      \n",
              "  <style>\n",
              "    .colab-df-container {\n",
              "      display:flex;\n",
              "      flex-wrap:wrap;\n",
              "      gap: 12px;\n",
              "    }\n",
              "\n",
              "    .colab-df-convert {\n",
              "      background-color: #E8F0FE;\n",
              "      border: none;\n",
              "      border-radius: 50%;\n",
              "      cursor: pointer;\n",
              "      display: none;\n",
              "      fill: #1967D2;\n",
              "      height: 32px;\n",
              "      padding: 0 0 0 0;\n",
              "      width: 32px;\n",
              "    }\n",
              "\n",
              "    .colab-df-convert:hover {\n",
              "      background-color: #E2EBFA;\n",
              "      box-shadow: 0px 1px 2px rgba(60, 64, 67, 0.3), 0px 1px 3px 1px rgba(60, 64, 67, 0.15);\n",
              "      fill: #174EA6;\n",
              "    }\n",
              "\n",
              "    [theme=dark] .colab-df-convert {\n",
              "      background-color: #3B4455;\n",
              "      fill: #D2E3FC;\n",
              "    }\n",
              "\n",
              "    [theme=dark] .colab-df-convert:hover {\n",
              "      background-color: #434B5C;\n",
              "      box-shadow: 0px 1px 3px 1px rgba(0, 0, 0, 0.15);\n",
              "      filter: drop-shadow(0px 1px 2px rgba(0, 0, 0, 0.3));\n",
              "      fill: #FFFFFF;\n",
              "    }\n",
              "  </style>\n",
              "\n",
              "      <script>\n",
              "        const buttonEl =\n",
              "          document.querySelector('#df-3dd8d919-9afc-4676-8631-ade9458784e1 button.colab-df-convert');\n",
              "        buttonEl.style.display =\n",
              "          google.colab.kernel.accessAllowed ? 'block' : 'none';\n",
              "\n",
              "        async function convertToInteractive(key) {\n",
              "          const element = document.querySelector('#df-3dd8d919-9afc-4676-8631-ade9458784e1');\n",
              "          const dataTable =\n",
              "            await google.colab.kernel.invokeFunction('convertToInteractive',\n",
              "                                                     [key], {});\n",
              "          if (!dataTable) return;\n",
              "\n",
              "          const docLinkHtml = 'Like what you see? Visit the ' +\n",
              "            '<a target=\"_blank\" href=https://colab.research.google.com/notebooks/data_table.ipynb>data table notebook</a>'\n",
              "            + ' to learn more about interactive tables.';\n",
              "          element.innerHTML = '';\n",
              "          dataTable['output_type'] = 'display_data';\n",
              "          await google.colab.output.renderOutput(dataTable, element);\n",
              "          const docLink = document.createElement('div');\n",
              "          docLink.innerHTML = docLinkHtml;\n",
              "          element.appendChild(docLink);\n",
              "        }\n",
              "      </script>\n",
              "    </div>\n",
              "  </div>\n",
              "  "
            ]
          },
          "metadata": {},
          "execution_count": 11
        }
      ]
    },
    {
      "cell_type": "code",
      "metadata": {
        "colab": {
          "base_uri": "https://localhost:8080/"
        },
        "id": "b-Qrt121tY-z",
        "outputId": "b09e4de9-d8ca-4ad9-a29b-26689ad07214"
      },
      "source": [
        "#ufo.Colors Reported\n",
        "##ufo.Colors_Reported\n",
        "ufo['Colors Reported']"
      ],
      "execution_count": 10,
      "outputs": [
        {
          "output_type": "execute_result",
          "data": {
            "text/plain": [
              "0        NaN\n",
              "1        NaN\n",
              "2        NaN\n",
              "3        NaN\n",
              "4        NaN\n",
              "        ... \n",
              "18236    NaN\n",
              "18237    NaN\n",
              "18238    NaN\n",
              "18239    RED\n",
              "18240    NaN\n",
              "Name: Colors Reported, Length: 18241, dtype: object"
            ]
          },
          "metadata": {},
          "execution_count": 10
        }
      ]
    },
    {
      "cell_type": "code",
      "metadata": {
        "colab": {
          "base_uri": "https://localhost:8080/",
          "height": 36
        },
        "id": "UKRwDSajtz2M",
        "outputId": "5445923d-64c3-4f45-9883-d3741c515517"
      },
      "source": [
        "'Re'+'za'"
      ],
      "execution_count": 13,
      "outputs": [
        {
          "output_type": "execute_result",
          "data": {
            "text/plain": [
              "'Reza'"
            ],
            "application/vnd.google.colaboratory.intrinsic+json": {
              "type": "string"
            }
          },
          "metadata": {},
          "execution_count": 13
        }
      ]
    },
    {
      "cell_type": "code",
      "metadata": {
        "colab": {
          "base_uri": "https://localhost:8080/"
        },
        "id": "lnj2-61HtlUz",
        "outputId": "726d256e-7e1a-40ad-be30-aa689c6e328a"
      },
      "source": [
        "ufo['City'] + ', ' +  ufo['State']"
      ],
      "execution_count": 14,
      "outputs": [
        {
          "output_type": "execute_result",
          "data": {
            "text/plain": [
              "0                      Ithaca, NY\n",
              "1                 Willingboro, NJ\n",
              "2                     Holyoke, CO\n",
              "3                     Abilene, KS\n",
              "4        New York Worlds Fair, NY\n",
              "                   ...           \n",
              "18236              Grant Park, IL\n",
              "18237             Spirit Lake, IA\n",
              "18238             Eagle River, WI\n",
              "18239             Eagle River, WI\n",
              "18240                    Ybor, FL\n",
              "Length: 18241, dtype: object"
            ]
          },
          "metadata": {},
          "execution_count": 14
        }
      ]
    },
    {
      "cell_type": "code",
      "metadata": {
        "id": "M3NnA-WztxUT"
      },
      "source": [
        "ufo['Location'] = ufo['City'] + ', ' +  ufo['State']"
      ],
      "execution_count": 15,
      "outputs": []
    },
    {
      "cell_type": "markdown",
      "metadata": {
        "id": "Rwx50Zx2vIQO"
      },
      "source": [
        "Ufo.'Location' Does Not Work!"
      ]
    },
    {
      "cell_type": "code",
      "metadata": {
        "id": "fNkT3zzxuahN"
      },
      "source": [
        "ufo.head()"
      ],
      "execution_count": null,
      "outputs": []
    },
    {
      "cell_type": "code",
      "metadata": {
        "id": "hg_zLuxzubsc"
      },
      "source": [
        "#04-pandas-Why do some pandas commands end with parentheses.pptx"
      ],
      "execution_count": null,
      "outputs": []
    },
    {
      "cell_type": "code",
      "metadata": {
        "id": "hqUfQNmavdCi"
      },
      "source": [
        "import pandas as pd"
      ],
      "execution_count": null,
      "outputs": []
    },
    {
      "cell_type": "code",
      "metadata": {
        "id": "EkIEeMcivpVa"
      },
      "source": [
        "movies = pd.read_csv('http://bit.ly/imdbratings')"
      ],
      "execution_count": null,
      "outputs": []
    },
    {
      "cell_type": "code",
      "metadata": {
        "id": "ta0iGQYIvteS"
      },
      "source": [
        "movies.head()"
      ],
      "execution_count": null,
      "outputs": []
    },
    {
      "cell_type": "code",
      "metadata": {
        "id": "_3m9WBeTvvNC"
      },
      "source": [
        "movies.describe()"
      ],
      "execution_count": null,
      "outputs": []
    },
    {
      "cell_type": "code",
      "metadata": {
        "id": "lCl14yX_vv9C"
      },
      "source": [
        "movies.shape"
      ],
      "execution_count": null,
      "outputs": []
    },
    {
      "cell_type": "code",
      "metadata": {
        "id": "u9Bps_0yxAwq"
      },
      "source": [
        "movies.dtypes"
      ],
      "execution_count": null,
      "outputs": []
    },
    {
      "cell_type": "code",
      "metadata": {
        "id": "Sudt91pexBKK"
      },
      "source": [
        "movies.describe(include=['object'])"
      ],
      "execution_count": null,
      "outputs": []
    },
    {
      "cell_type": "code",
      "metadata": {
        "id": "nmx35d8UxI0U"
      },
      "source": [
        "movies.describe(include=['object'])"
      ],
      "execution_count": null,
      "outputs": []
    },
    {
      "cell_type": "code",
      "metadata": {
        "id": "TctXcqndyiCZ"
      },
      "source": [
        "#05-pandas-How do I rename columns.pptx"
      ],
      "execution_count": null,
      "outputs": []
    },
    {
      "cell_type": "code",
      "metadata": {
        "id": "sKhUHR2E1TJS"
      },
      "source": [
        "import pandas as pd"
      ],
      "execution_count": null,
      "outputs": []
    },
    {
      "cell_type": "code",
      "metadata": {
        "id": "zlvn2kj41elw"
      },
      "source": [
        "ufo = pd.read_csv('http://bit.ly/uforeports')"
      ],
      "execution_count": null,
      "outputs": []
    },
    {
      "cell_type": "code",
      "metadata": {
        "id": "JUpeiYAr1gHg"
      },
      "source": [
        "ufo.head()"
      ],
      "execution_count": null,
      "outputs": []
    },
    {
      "cell_type": "code",
      "metadata": {
        "id": "icofV9cE1g2Y"
      },
      "source": [
        "ufo.columns"
      ],
      "execution_count": null,
      "outputs": []
    },
    {
      "cell_type": "code",
      "metadata": {
        "id": "6lXIfWep1k4B"
      },
      "source": [
        "ufo.rename(columns = {'Colors Reported':'Colors_Reported', 'Shape Reported':'Shape_Reported'}, inplace=True)"
      ],
      "execution_count": null,
      "outputs": []
    },
    {
      "cell_type": "code",
      "metadata": {
        "id": "EFxI0CPj1u9Y"
      },
      "source": [
        "ufo.columns"
      ],
      "execution_count": null,
      "outputs": []
    },
    {
      "cell_type": "code",
      "metadata": {
        "id": "Wm-V_fFI16rp"
      },
      "source": [
        "#Another way"
      ],
      "execution_count": null,
      "outputs": []
    },
    {
      "cell_type": "code",
      "metadata": {
        "id": "Jws_bIbn1xMI"
      },
      "source": [
        "ufo_cols = ['city', 'color reported', 'shape reported', 'state', 'time']"
      ],
      "execution_count": null,
      "outputs": []
    },
    {
      "cell_type": "code",
      "metadata": {
        "id": "KgRqFXha18P4"
      },
      "source": [
        "ufo.columns = ufo_cols"
      ],
      "execution_count": null,
      "outputs": []
    },
    {
      "cell_type": "code",
      "metadata": {
        "id": "lkhje0i41_SA"
      },
      "source": [
        "ufo.head()"
      ],
      "execution_count": null,
      "outputs": []
    },
    {
      "cell_type": "code",
      "metadata": {
        "id": "VnW4_qn61_0f"
      },
      "source": [
        "ufo = pd.read_csv('http://bit.ly/uforeports', names=ufo_cols, header=0)"
      ],
      "execution_count": null,
      "outputs": []
    },
    {
      "cell_type": "code",
      "metadata": {
        "id": "cgcfoUWo2Zh3"
      },
      "source": [
        "ufo.head()"
      ],
      "execution_count": null,
      "outputs": []
    },
    {
      "cell_type": "code",
      "metadata": {
        "id": "U0gIWoYD2aJ_"
      },
      "source": [
        "ufo.columns"
      ],
      "execution_count": null,
      "outputs": []
    },
    {
      "cell_type": "code",
      "metadata": {
        "id": "9uiqzeLo2h7H"
      },
      "source": [
        "ufo.columns = ufo.columns.str.replace(' ','_')"
      ],
      "execution_count": null,
      "outputs": []
    },
    {
      "cell_type": "code",
      "metadata": {
        "id": "_XHaaN5X2i9f"
      },
      "source": [
        "ufo.columns"
      ],
      "execution_count": null,
      "outputs": []
    },
    {
      "cell_type": "code",
      "metadata": {
        "id": "ob-YgeeO2jen"
      },
      "source": [
        "#06-pandas-How do I remove columns from a pandas DataFrame.pptx"
      ],
      "execution_count": null,
      "outputs": []
    },
    {
      "cell_type": "code",
      "metadata": {
        "id": "aelkB8C14l82"
      },
      "source": [
        "import pandas as pd"
      ],
      "execution_count": null,
      "outputs": []
    },
    {
      "cell_type": "code",
      "metadata": {
        "id": "mKBHLT5V4qy1"
      },
      "source": [
        "ufo = pd.read_csv('http://bit.ly/uforeports')"
      ],
      "execution_count": null,
      "outputs": []
    },
    {
      "cell_type": "code",
      "metadata": {
        "id": "siCh7Hm54rwm"
      },
      "source": [
        "ufo.head()"
      ],
      "execution_count": null,
      "outputs": []
    },
    {
      "cell_type": "code",
      "metadata": {
        "id": "38zlMSdF4tYu"
      },
      "source": [
        "ufo.shape"
      ],
      "execution_count": null,
      "outputs": []
    },
    {
      "cell_type": "code",
      "metadata": {
        "id": "i2X8lj594u8b"
      },
      "source": [
        "ufo.drop('Colors Reported', axis=1, inplace=True)"
      ],
      "execution_count": null,
      "outputs": []
    },
    {
      "cell_type": "code",
      "metadata": {
        "id": "evBvqecO40_I"
      },
      "source": [
        "ufo.head()"
      ],
      "execution_count": null,
      "outputs": []
    },
    {
      "cell_type": "code",
      "metadata": {
        "id": "jicnsRP_423j"
      },
      "source": [
        "ufo.drop(['City', 'State'], axis=1, inplace=True)"
      ],
      "execution_count": null,
      "outputs": []
    },
    {
      "cell_type": "code",
      "metadata": {
        "id": "IiZ1DzCp49dG"
      },
      "source": [
        "ufo.head()"
      ],
      "execution_count": null,
      "outputs": []
    },
    {
      "cell_type": "code",
      "metadata": {
        "id": "p5oPVFWu5BUI"
      },
      "source": [
        "#Let's bring back the dataset"
      ],
      "execution_count": null,
      "outputs": []
    },
    {
      "cell_type": "code",
      "metadata": {
        "id": "ZV6tTrc15QpW"
      },
      "source": [
        "#ufo = pd.read_csv('http://bit.ly/uforeports')\n",
        "#ufo.head()"
      ],
      "execution_count": null,
      "outputs": []
    },
    {
      "cell_type": "code",
      "metadata": {
        "id": "O7Y_e3N15TvG"
      },
      "source": [
        "ufo.shape"
      ],
      "execution_count": null,
      "outputs": []
    },
    {
      "cell_type": "code",
      "metadata": {
        "id": "cbreZGOt5xyL"
      },
      "source": [
        "ufo.drop([0, 1], axis=0, inplace=True)"
      ],
      "execution_count": null,
      "outputs": []
    },
    {
      "cell_type": "code",
      "metadata": {
        "id": "V42rmIAl5zOn"
      },
      "source": [
        "ufo.head()"
      ],
      "execution_count": null,
      "outputs": []
    },
    {
      "cell_type": "code",
      "metadata": {
        "id": "3qTks59Z50f-"
      },
      "source": [
        "ufo.shape"
      ],
      "execution_count": null,
      "outputs": []
    },
    {
      "cell_type": "code",
      "metadata": {
        "id": "a4hRnOhb5-Xm"
      },
      "source": [
        "#07-pandas-How do I sort a pandas DataFrame .pptx"
      ],
      "execution_count": null,
      "outputs": []
    },
    {
      "cell_type": "code",
      "metadata": {
        "id": "Wy5lU14ts6uL"
      },
      "source": [
        "import pandas as pd"
      ],
      "execution_count": null,
      "outputs": []
    },
    {
      "cell_type": "code",
      "metadata": {
        "id": "HfEBDryEtNj5"
      },
      "source": [
        "movies = pd.read_csv('http://bit.ly/imdbratings')"
      ],
      "execution_count": null,
      "outputs": []
    },
    {
      "cell_type": "code",
      "metadata": {
        "id": "TfGfpBLttRO-"
      },
      "source": [
        "movies.head()"
      ],
      "execution_count": null,
      "outputs": []
    },
    {
      "cell_type": "markdown",
      "metadata": {
        "id": "ocgScZIsxz8C"
      },
      "source": [
        "##pandas DataFrame is the primary unit of data storage in the pandas library that contains rows and columns. Series is a column that could be an independent column or a part of a DataFrame.\n"
      ]
    },
    {
      "cell_type": "code",
      "metadata": {
        "id": "-vzs6rALtsco"
      },
      "source": [
        "movies.title.sort_values()"
      ],
      "execution_count": null,
      "outputs": []
    },
    {
      "cell_type": "code",
      "metadata": {
        "id": "IQ_MF_PAyQgF"
      },
      "source": [
        "movies[\"title\"].sort_values()"
      ],
      "execution_count": null,
      "outputs": []
    },
    {
      "cell_type": "code",
      "metadata": {
        "id": "n4o9clHSykgh"
      },
      "source": [
        "type(movies[\"title\"].sort_values())"
      ],
      "execution_count": null,
      "outputs": []
    },
    {
      "cell_type": "code",
      "metadata": {
        "id": "BxmTWDviynYZ"
      },
      "source": [
        "movies[\"title\"].sort_values(ascending=False)"
      ],
      "execution_count": null,
      "outputs": []
    },
    {
      "cell_type": "markdown",
      "metadata": {
        "id": "JCSP-cnE1rah"
      },
      "source": [
        "Does this sort command change the original iteration? "
      ]
    },
    {
      "cell_type": "code",
      "metadata": {
        "id": "4X2Azowu1QJj"
      },
      "source": [
        "movies[\"title\"]"
      ],
      "execution_count": null,
      "outputs": []
    },
    {
      "cell_type": "code",
      "metadata": {
        "id": "jt-an_BR10PE"
      },
      "source": [
        "movies.sort_values('title')"
      ],
      "execution_count": null,
      "outputs": []
    },
    {
      "cell_type": "code",
      "metadata": {
        "id": "Dy8BU2Vc2CG7"
      },
      "source": [
        "movies.sort_values('duration')"
      ],
      "execution_count": null,
      "outputs": []
    },
    {
      "cell_type": "code",
      "metadata": {
        "id": "RcQhTC3x2iox"
      },
      "source": [
        "movies.sort_values('duration', ascending=False)\n"
      ],
      "execution_count": null,
      "outputs": []
    },
    {
      "cell_type": "code",
      "metadata": {
        "id": "EYmKfnSI21oJ"
      },
      "source": [
        "movies.head()"
      ],
      "execution_count": null,
      "outputs": []
    },
    {
      "cell_type": "code",
      "metadata": {
        "id": "5PO0tDdZ4Gx2"
      },
      "source": [
        "movies.sort_values('genre', ascending=False, inplace=True)"
      ],
      "execution_count": null,
      "outputs": []
    },
    {
      "cell_type": "code",
      "metadata": {
        "id": "P57zlKDU45K7"
      },
      "source": [
        "movies.head()"
      ],
      "execution_count": null,
      "outputs": []
    },
    {
      "cell_type": "code",
      "metadata": {
        "id": "NBtm7XM544hE"
      },
      "source": [
        "movies = pd.read_csv('http://bit.ly/imdbratings')"
      ],
      "execution_count": null,
      "outputs": []
    },
    {
      "cell_type": "code",
      "metadata": {
        "id": "SazM3qXn49Au"
      },
      "source": [
        "movies.head()"
      ],
      "execution_count": null,
      "outputs": []
    },
    {
      "cell_type": "code",
      "metadata": {
        "id": "iQcxirN24ukL"
      },
      "source": [
        "movies = movies.sort_values('genre')"
      ],
      "execution_count": null,
      "outputs": []
    },
    {
      "cell_type": "code",
      "metadata": {
        "id": "OJ878O4P4u_S"
      },
      "source": [
        "movies.head()"
      ],
      "execution_count": null,
      "outputs": []
    },
    {
      "cell_type": "code",
      "metadata": {
        "id": "_Eg3FXM15dw0"
      },
      "source": [
        "#Sorting multiple columns"
      ],
      "execution_count": null,
      "outputs": []
    },
    {
      "cell_type": "code",
      "metadata": {
        "id": "A6S4FaIW6Wy0"
      },
      "source": [
        "movies.sort_values(['content_rating', 'duration'])"
      ],
      "execution_count": null,
      "outputs": []
    },
    {
      "cell_type": "code",
      "metadata": {
        "id": "tNcjTbRP6Y1b"
      },
      "source": [
        "# This is how to sort columns one ascending and one descending:"
      ],
      "execution_count": null,
      "outputs": []
    },
    {
      "cell_type": "code",
      "metadata": {
        "id": "uWYmzobB6bx9"
      },
      "source": [
        "movies.sort_values(['content_rating', 'duration'],ascending=[True, False])"
      ],
      "execution_count": null,
      "outputs": []
    },
    {
      "cell_type": "code",
      "metadata": {
        "id": "cIcMgWUw6ciD"
      },
      "source": [
        "#08-pandas-How do I filter rows of a pandas DataFrame by column value.pptx"
      ],
      "execution_count": null,
      "outputs": []
    },
    {
      "cell_type": "code",
      "metadata": {
        "id": "cs9w4Lbw68uK"
      },
      "source": [
        "import pandas as pd"
      ],
      "execution_count": null,
      "outputs": []
    },
    {
      "cell_type": "code",
      "metadata": {
        "id": "05_L-VGfENpk"
      },
      "source": [
        "movies = pd.read_csv('http://bit.ly/imdbratings')"
      ],
      "execution_count": null,
      "outputs": []
    },
    {
      "cell_type": "code",
      "metadata": {
        "id": "OI_iyVfPENlV"
      },
      "source": [
        "movies.head()"
      ],
      "execution_count": null,
      "outputs": []
    },
    {
      "cell_type": "code",
      "metadata": {
        "id": "uMDcGAfxENgc"
      },
      "source": [
        "movies.shape"
      ],
      "execution_count": null,
      "outputs": []
    },
    {
      "cell_type": "code",
      "metadata": {
        "id": "FnZd5gqqENZs"
      },
      "source": [
        "# How could we filter the list of movies to show those which are at least 200 minutes long?"
      ],
      "execution_count": null,
      "outputs": []
    },
    {
      "cell_type": "markdown",
      "metadata": {
        "id": "s40NsprSFNma"
      },
      "source": [
        "![image.png](data:image/png;base64,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)"
      ]
    },
    {
      "cell_type": "markdown",
      "metadata": {
        "id": "2E0H1D53E0pp"
      },
      "source": [
        "![image.png](data:image/png;base64,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)"
      ]
    },
    {
      "cell_type": "code",
      "metadata": {
        "id": "0f636Z6xENVz"
      },
      "source": [
        "type(True)"
      ],
      "execution_count": null,
      "outputs": []
    },
    {
      "cell_type": "code",
      "metadata": {
        "id": "nxWwDgrXENSc"
      },
      "source": [
        "type(False)"
      ],
      "execution_count": null,
      "outputs": []
    },
    {
      "cell_type": "code",
      "metadata": {
        "id": "GZNazMoJFqS1"
      },
      "source": [
        "booleans =[]"
      ],
      "execution_count": null,
      "outputs": []
    },
    {
      "cell_type": "code",
      "metadata": {
        "id": "CwGHzUTxFqEm"
      },
      "source": [
        "for length in movies.duration:\n",
        "    if length >=200:\n",
        "        booleans.append(True)\n",
        "    else:\n",
        "        booleans.append(False)"
      ],
      "execution_count": null,
      "outputs": []
    },
    {
      "cell_type": "code",
      "metadata": {
        "id": "MM9o-NmaENMo"
      },
      "source": [
        "booleans[0:5]"
      ],
      "execution_count": null,
      "outputs": []
    },
    {
      "cell_type": "markdown",
      "metadata": {
        "id": "qjjUxouMHRCE"
      },
      "source": [
        "And if we check the length of Boolean it has the same length as the DataFrame."
      ]
    },
    {
      "cell_type": "code",
      "metadata": {
        "id": "YW2tKPv3F1AV"
      },
      "source": [
        "len(booleans)"
      ],
      "execution_count": null,
      "outputs": []
    },
    {
      "cell_type": "markdown",
      "metadata": {
        "id": "Kp0fF1FbHX4e"
      },
      "source": [
        "It effectively tells us which rows match the condition."
      ]
    },
    {
      "cell_type": "code",
      "metadata": {
        "id": "rL8gzPo8HCVu"
      },
      "source": [
        "is_long = pd.Series(booleans)"
      ],
      "execution_count": null,
      "outputs": []
    },
    {
      "cell_type": "code",
      "metadata": {
        "id": "dkvQpHmbKAmG"
      },
      "source": [
        "is_long.head()"
      ],
      "execution_count": null,
      "outputs": []
    },
    {
      "cell_type": "code",
      "metadata": {
        "id": "POq3-58KKBKd"
      },
      "source": [
        "movies[is_long]"
      ],
      "execution_count": null,
      "outputs": []
    },
    {
      "cell_type": "markdown",
      "metadata": {
        "id": "WDzHzb_sN5MF"
      },
      "source": [
        "#Python mindset"
      ]
    },
    {
      "cell_type": "code",
      "metadata": {
        "id": "34YMmkaXOcGn"
      },
      "source": [
        "movies.duration >= 200"
      ],
      "execution_count": null,
      "outputs": []
    },
    {
      "cell_type": "code",
      "metadata": {
        "id": "8emkJwweSOnU"
      },
      "source": [
        "is_long=movies.duration >= 200"
      ],
      "execution_count": null,
      "outputs": []
    },
    {
      "cell_type": "code",
      "metadata": {
        "id": "-a9b31YvOjm6"
      },
      "source": [
        "is_long.head()"
      ],
      "execution_count": null,
      "outputs": []
    },
    {
      "cell_type": "code",
      "metadata": {
        "id": "TGka2IV-KFgW"
      },
      "source": [
        "movies[is_long]"
      ],
      "execution_count": null,
      "outputs": []
    },
    {
      "cell_type": "markdown",
      "metadata": {
        "id": "sLERI8FpOsj3"
      },
      "source": [
        "##Even easier"
      ]
    },
    {
      "cell_type": "code",
      "metadata": {
        "id": "ijZyMA3eNzWB"
      },
      "source": [
        "movies[movies.duration >= 200]"
      ],
      "execution_count": null,
      "outputs": []
    },
    {
      "cell_type": "code",
      "metadata": {
        "id": "D28RKYqfScvW"
      },
      "source": [
        "#Bonus Tip"
      ],
      "execution_count": null,
      "outputs": []
    },
    {
      "cell_type": "code",
      "metadata": {
        "id": "vL8hNZozSl4s"
      },
      "source": [
        "type(movies[movies.duration >= 200])"
      ],
      "execution_count": null,
      "outputs": []
    },
    {
      "cell_type": "code",
      "metadata": {
        "id": "CCAIQ3OQN2rW"
      },
      "source": [
        "movies[movies.duration >= 200].genre"
      ],
      "execution_count": null,
      "outputs": []
    },
    {
      "cell_type": "code",
      "metadata": {
        "id": "YATAyR6jSm27"
      },
      "source": [
        "movies[movies.duration >= 200]['genre']"
      ],
      "execution_count": null,
      "outputs": []
    },
    {
      "cell_type": "code",
      "metadata": {
        "id": "QQJI--PLSohP"
      },
      "source": [
        "movies.loc[movies.duration >= 200, 'genre']"
      ],
      "execution_count": null,
      "outputs": []
    },
    {
      "cell_type": "code",
      "metadata": {
        "id": "ibMFNbYXTMpw"
      },
      "source": [
        "movies.loc[movies.duration >= 200, ['genre','title']]"
      ],
      "execution_count": null,
      "outputs": []
    },
    {
      "cell_type": "code",
      "metadata": {
        "id": "Ba_sr7XfTo1_"
      },
      "source": [
        "#09-pandas-How do I apply multiple filter criteria .pptx"
      ],
      "execution_count": null,
      "outputs": []
    },
    {
      "cell_type": "code",
      "metadata": {
        "id": "XGj01H2HT9gw"
      },
      "source": [
        "import pandas as pd"
      ],
      "execution_count": null,
      "outputs": []
    },
    {
      "cell_type": "code",
      "metadata": {
        "id": "32F8XTNWUpNA"
      },
      "source": [
        "movies = pd.read_csv('http://bit.ly/imdbratings')"
      ],
      "execution_count": null,
      "outputs": []
    },
    {
      "cell_type": "code",
      "metadata": {
        "id": "Dp8_B55WUqww"
      },
      "source": [
        "movies.head()"
      ],
      "execution_count": null,
      "outputs": []
    },
    {
      "cell_type": "code",
      "metadata": {
        "id": "ULhsx_jDUtg_"
      },
      "source": [
        "movies.shape"
      ],
      "execution_count": null,
      "outputs": []
    },
    {
      "cell_type": "code",
      "metadata": {
        "id": "81IFxaqIUuCY"
      },
      "source": [
        "movies[movies['duration']>=200]"
      ],
      "execution_count": null,
      "outputs": []
    },
    {
      "cell_type": "code",
      "metadata": {
        "id": "U4C_khTJWYeG"
      },
      "source": [
        "type(movies[movies['duration']>=200])"
      ],
      "execution_count": null,
      "outputs": []
    },
    {
      "cell_type": "code",
      "metadata": {
        "id": "nLQGdmYMWn5I"
      },
      "source": [
        "(movies['duration']>=200)"
      ],
      "execution_count": null,
      "outputs": []
    },
    {
      "cell_type": "code",
      "metadata": {
        "id": "EQb3Nr4MWsX0"
      },
      "source": [
        "(movies['genre']=='Drama')"
      ],
      "execution_count": null,
      "outputs": []
    },
    {
      "cell_type": "code",
      "metadata": {
        "id": "Xp_LetYYUzof"
      },
      "source": [
        "(movies['duration']>=200) & (movies['genre']=='Drama')"
      ],
      "execution_count": null,
      "outputs": []
    },
    {
      "cell_type": "code",
      "metadata": {
        "id": "HvMP3ZivU7AQ"
      },
      "source": [
        "movies[(movies['duration']>=200) & (movies['genre']=='Drama')]"
      ],
      "execution_count": null,
      "outputs": []
    },
    {
      "cell_type": "code",
      "metadata": {
        "id": "KeEfVw2gU7qI"
      },
      "source": [
        "movies[(movies['duration']>=200) | (movies['genre']=='Drama')]"
      ],
      "execution_count": null,
      "outputs": []
    },
    {
      "cell_type": "code",
      "metadata": {
        "id": "eSfchyoZb5_K"
      },
      "source": [
        "movies[(movies['duration']>=200) | (movies['genre']=='Drama')].shape"
      ],
      "execution_count": null,
      "outputs": []
    },
    {
      "cell_type": "code",
      "metadata": {
        "id": "d0NhJ21je3wz"
      },
      "source": [
        "#Bonus Tip"
      ],
      "execution_count": null,
      "outputs": []
    },
    {
      "cell_type": "code",
      "metadata": {
        "id": "0IW3hoBLb8bI"
      },
      "source": [
        "movies[(movies['genre']=='Crime') | (movies['genre']=='Drama') | (movies['genre']=='Action')]"
      ],
      "execution_count": null,
      "outputs": []
    },
    {
      "cell_type": "code",
      "metadata": {
        "id": "BLCpB0TSfLY8"
      },
      "source": [
        "#Shortcut"
      ],
      "execution_count": null,
      "outputs": []
    },
    {
      "cell_type": "code",
      "metadata": {
        "id": "xOIjy5Z5cCs4"
      },
      "source": [
        "movies['genre'].isin(['Crime','Drama','Action'])"
      ],
      "execution_count": null,
      "outputs": []
    },
    {
      "cell_type": "code",
      "metadata": {
        "id": "AtTOcvG2fBxa"
      },
      "source": [
        "movies[movies['genre'].isin(['Crime','Drama','Action'])]"
      ],
      "execution_count": null,
      "outputs": []
    },
    {
      "cell_type": "code",
      "metadata": {
        "id": "p3G-PvtsfKNK"
      },
      "source": [
        "#10-pandas-Q & A (01).pptx"
      ],
      "execution_count": null,
      "outputs": []
    },
    {
      "cell_type": "markdown",
      "metadata": {
        "id": "2yPaiipikb6k"
      },
      "source": [
        "Q: What if we want to read only two columns from the dataset to create our DataFrame?\n",
        "\n",
        "R: 1st, let’s pull out a sample dataset as follows and see its columns.\n"
      ]
    },
    {
      "cell_type": "code",
      "metadata": {
        "id": "6llrjD-ZfYEd"
      },
      "source": [
        "import pandas as pd"
      ],
      "execution_count": null,
      "outputs": []
    },
    {
      "cell_type": "code",
      "metadata": {
        "id": "6Il8g7Ucfe6h"
      },
      "source": [
        "ufo = pd.read_csv('http://bit.ly/uforeports')"
      ],
      "execution_count": null,
      "outputs": []
    },
    {
      "cell_type": "code",
      "metadata": {
        "id": "UYi7iSkOfhG5"
      },
      "source": [
        "ufo.columns"
      ],
      "execution_count": null,
      "outputs": []
    },
    {
      "cell_type": "code",
      "metadata": {
        "id": "k3HYCrIefiSo"
      },
      "source": [
        "#We want to keep two of them\n",
        "ufo = pd.read_csv('http://bit.ly/uforeports', usecols=['City', 'State'])"
      ],
      "execution_count": null,
      "outputs": []
    },
    {
      "cell_type": "code",
      "metadata": {
        "id": "BH-QoVqvf2Nr"
      },
      "source": [
        "ufo.columns"
      ],
      "execution_count": null,
      "outputs": []
    },
    {
      "cell_type": "code",
      "metadata": {
        "id": "7okjbCmIf5Ey"
      },
      "source": [
        "ufo = pd.read_csv('http://bit.ly/uforeports', usecols=[0, 3])"
      ],
      "execution_count": null,
      "outputs": []
    },
    {
      "cell_type": "code",
      "metadata": {
        "id": "yQRV7aP7gBdi"
      },
      "source": [
        "ufo.columns"
      ],
      "execution_count": null,
      "outputs": []
    },
    {
      "cell_type": "code",
      "metadata": {
        "id": "WmOlqR8igCrS"
      },
      "source": [
        "ufo = pd.read_csv('http://bit.ly/uforeports', nrows=3)"
      ],
      "execution_count": null,
      "outputs": []
    },
    {
      "cell_type": "code",
      "metadata": {
        "id": "57ZJ7WT0hscb"
      },
      "source": [
        "ufo"
      ],
      "execution_count": null,
      "outputs": []
    },
    {
      "cell_type": "markdown",
      "metadata": {
        "id": "Gc28PpM-j3E6"
      },
      "source": [
        "Q: How can we iterate through a DataFrame and Series?\n",
        "R: Simply, pandas series can be iterated like Python lists , so we can use for loop to iterate through a Series as follows:\n",
        "\n"
      ]
    },
    {
      "cell_type": "code",
      "metadata": {
        "id": "z8aYng0XhtoS"
      },
      "source": [
        "for c in ufo.City:\n",
        "    print(c)"
      ],
      "execution_count": null,
      "outputs": []
    },
    {
      "cell_type": "code",
      "metadata": {
        "id": "WjRv4vmvhx_q"
      },
      "source": [
        "for index, row in ufo.iterrows():\n",
        "    print(index, row.City, row.State)"
      ],
      "execution_count": null,
      "outputs": []
    },
    {
      "cell_type": "markdown",
      "metadata": {
        "id": "6In13qpQkL2p"
      },
      "source": [
        "Q: What is the best way to drop every non-numeric column from a DataFrame?\n",
        "\n",
        "R: First, let’s pull up a different dataset of alcohol consumption as follows:\n"
      ]
    },
    {
      "cell_type": "code",
      "metadata": {
        "id": "9w87mLEMh29S"
      },
      "source": [
        "drinks = pd.read_csv('http://bit.ly/drinksbycountry')"
      ],
      "execution_count": null,
      "outputs": []
    },
    {
      "cell_type": "code",
      "metadata": {
        "id": "15z_-ZTqkpHD"
      },
      "source": [
        "drinks.dtypes"
      ],
      "execution_count": null,
      "outputs": []
    },
    {
      "cell_type": "code",
      "metadata": {
        "id": "nAbUPzh0kqsC"
      },
      "source": [
        "import numpy as np"
      ],
      "execution_count": null,
      "outputs": []
    },
    {
      "cell_type": "code",
      "metadata": {
        "id": "d6HDVyhdlQxG"
      },
      "source": [
        "drinks.select_dtypes(include=[np.number])"
      ],
      "execution_count": null,
      "outputs": []
    },
    {
      "cell_type": "code",
      "metadata": {
        "id": "WvORPc4qeVBu"
      },
      "source": [
        "type(drinks.select_dtypes(include=[np.number]))"
      ],
      "execution_count": null,
      "outputs": []
    },
    {
      "cell_type": "code",
      "metadata": {
        "id": "WRFG7qULk3Mr"
      },
      "source": [
        "drinks.select_dtypes(include=[np.number]).dtypes"
      ],
      "execution_count": null,
      "outputs": []
    },
    {
      "cell_type": "markdown",
      "metadata": {
        "id": "E_IqdzwIltsl"
      },
      "source": [
        "Q: Where should we use [ ] and where shouldn’t we?\n",
        "e.g. Why  movies.describe(include = ['something'])\n",
        " and not  movies.describe(include = 'something')\n",
        " \n",
        "R: First, let’s use the current DF that we have and use the describe method.\n"
      ]
    },
    {
      "cell_type": "code",
      "metadata": {
        "id": "imID-_y8k36i"
      },
      "source": [
        "drinks.describe()"
      ],
      "execution_count": null,
      "outputs": []
    },
    {
      "cell_type": "code",
      "metadata": {
        "id": "PPQS_n0-lb3G"
      },
      "source": [
        "drinks.describe(include='all')"
      ],
      "execution_count": null,
      "outputs": []
    },
    {
      "cell_type": "code",
      "metadata": {
        "id": "iAORWzykmkxu"
      },
      "source": [
        "drinks.describe(include=['object','float64'])"
      ],
      "execution_count": null,
      "outputs": []
    },
    {
      "cell_type": "code",
      "metadata": {
        "id": "UMwjJ7gxmvg7"
      },
      "source": [
        "drinks.describe(include=['object'])"
      ],
      "execution_count": null,
      "outputs": []
    },
    {
      "cell_type": "code",
      "metadata": {
        "id": "kgV_ngbImypL"
      },
      "source": [
        "#11-pandas-How do I use the axis parameter.pptx"
      ],
      "execution_count": null,
      "outputs": []
    },
    {
      "cell_type": "code",
      "metadata": {
        "id": "FlKHaYT-oonL"
      },
      "source": [
        "import pandas as pd"
      ],
      "execution_count": null,
      "outputs": []
    },
    {
      "cell_type": "code",
      "metadata": {
        "id": "nsCZQqjso5q7"
      },
      "source": [
        "drinks = pd.read_csv('http://bit.ly/drinksbycountry')"
      ],
      "execution_count": null,
      "outputs": []
    },
    {
      "cell_type": "code",
      "metadata": {
        "id": "JSWvZ-FLo837"
      },
      "source": [
        "drinks.head()"
      ],
      "execution_count": null,
      "outputs": []
    },
    {
      "cell_type": "code",
      "metadata": {
        "id": "W0uMmjpIo9Z_"
      },
      "source": [
        "drinks.drop('continent', axis=1)"
      ],
      "execution_count": null,
      "outputs": []
    },
    {
      "cell_type": "code",
      "metadata": {
        "id": "YlgYyjcGpBc1"
      },
      "source": [
        "drinks.drop('continent', axis=1).head()"
      ],
      "execution_count": null,
      "outputs": []
    },
    {
      "cell_type": "code",
      "metadata": {
        "id": "UH0q0FPRpEdF"
      },
      "source": [
        "drinks.drop(2, axis=0).head"
      ],
      "execution_count": null,
      "outputs": []
    },
    {
      "cell_type": "code",
      "metadata": {
        "id": "jtaM1cmQpmjs"
      },
      "source": [
        "drinks.mean()"
      ],
      "execution_count": null,
      "outputs": []
    },
    {
      "cell_type": "code",
      "metadata": {
        "id": "CtOz1ef1weQO"
      },
      "source": [
        "drinks.mean(axis=0)"
      ],
      "execution_count": null,
      "outputs": []
    },
    {
      "cell_type": "code",
      "metadata": {
        "id": "EVXkgDmrwflP"
      },
      "source": [
        "drinks.mean(axis=0).shape"
      ],
      "execution_count": null,
      "outputs": []
    },
    {
      "cell_type": "code",
      "metadata": {
        "id": "ceAkIbpqwgNX"
      },
      "source": [
        "drinks.mean(axis=1)"
      ],
      "execution_count": null,
      "outputs": []
    },
    {
      "cell_type": "code",
      "metadata": {
        "id": "N8nPlpWqwxrw"
      },
      "source": [
        "drinks.mean(axis=1).shape"
      ],
      "execution_count": null,
      "outputs": []
    },
    {
      "cell_type": "code",
      "metadata": {
        "id": "cpP9PK2EwyJN"
      },
      "source": [
        "drinks.mean(axis='index')"
      ],
      "execution_count": null,
      "outputs": []
    },
    {
      "cell_type": "code",
      "metadata": {
        "id": "FO22aa8sw6st"
      },
      "source": [
        "drinks.mean(axis='columns')"
      ],
      "execution_count": null,
      "outputs": []
    },
    {
      "cell_type": "code",
      "metadata": {
        "id": "eL96JEbrw7JF"
      },
      "source": [
        "#12-pandas-How do I use string methods.pptx"
      ],
      "execution_count": null,
      "outputs": []
    },
    {
      "cell_type": "code",
      "metadata": {
        "id": "XovDqsw4y4d8"
      },
      "source": [
        "'hello'.upper()"
      ],
      "execution_count": null,
      "outputs": []
    },
    {
      "cell_type": "code",
      "metadata": {
        "id": "wAQ21ETRy8BD"
      },
      "source": [
        "import pandas as pd"
      ],
      "execution_count": null,
      "outputs": []
    },
    {
      "cell_type": "code",
      "metadata": {
        "id": "A1iTqa5Dy79A"
      },
      "source": [
        "orders = pd.read_table('http://bit.ly/chiporders')"
      ],
      "execution_count": null,
      "outputs": []
    },
    {
      "cell_type": "code",
      "metadata": {
        "id": "Wpd3MrM0y75J"
      },
      "source": [
        "orders.head()"
      ],
      "execution_count": null,
      "outputs": []
    },
    {
      "cell_type": "code",
      "metadata": {
        "id": "AZZTTj3vy71M"
      },
      "source": [
        "orders['item_name'].str.upper()"
      ],
      "execution_count": null,
      "outputs": []
    },
    {
      "cell_type": "code",
      "metadata": {
        "id": "mga-ZSAGqdbj"
      },
      "source": [
        "type(orders['item_name'].str.upper())"
      ],
      "execution_count": null,
      "outputs": []
    },
    {
      "cell_type": "code",
      "metadata": {
        "id": "Ecb19Ehty7w_"
      },
      "source": [
        "orders['item_name'].str.contains('Burrito')"
      ],
      "execution_count": null,
      "outputs": []
    },
    {
      "cell_type": "code",
      "metadata": {
        "id": "KjiKUvwhy7tL"
      },
      "source": [
        "orders[orders['item_name'].str.contains('Burrito')]"
      ],
      "execution_count": null,
      "outputs": []
    },
    {
      "cell_type": "code",
      "metadata": {
        "id": "qy8GGhjzy7oa"
      },
      "source": [
        "#https://pandas.pydata.org/pandas-docs/version/0.22/api.html"
      ],
      "execution_count": null,
      "outputs": []
    },
    {
      "cell_type": "code",
      "metadata": {
        "id": "qfeOXWLD0n8_"
      },
      "source": [
        "#Bonus tip"
      ],
      "execution_count": null,
      "outputs": []
    },
    {
      "cell_type": "code",
      "metadata": {
        "id": "ZIysC725rpyB"
      },
      "source": [
        "orders.head()"
      ],
      "execution_count": null,
      "outputs": []
    },
    {
      "cell_type": "code",
      "metadata": {
        "id": "Dg-WviZ8y7jJ"
      },
      "source": [
        "orders['choice_description'].str.replace('[', '').str.replace(']', '')  "
      ],
      "execution_count": null,
      "outputs": []
    },
    {
      "cell_type": "code",
      "metadata": {
        "id": "qEk_wL8t2u6v"
      },
      "source": [
        "#Regular expressions"
      ],
      "execution_count": null,
      "outputs": []
    },
    {
      "cell_type": "code",
      "metadata": {
        "id": "5FlfwI0Ay7fI"
      },
      "source": [
        "orders['choice_description'].str.replace('[\\[\\]]','')"
      ],
      "execution_count": null,
      "outputs": []
    },
    {
      "cell_type": "code",
      "metadata": {
        "id": "uCcZa0H-y7L6"
      },
      "source": [
        "#13-pandas-How do I change the data type.pptx"
      ],
      "execution_count": null,
      "outputs": []
    },
    {
      "cell_type": "code",
      "metadata": {
        "id": "MxJY_GHo5Sha"
      },
      "source": [
        "drinks = pd.read_csv('http://bit.ly/drinksbycountry')"
      ],
      "execution_count": null,
      "outputs": []
    },
    {
      "cell_type": "code",
      "metadata": {
        "id": "3YfC3zuo5qyN"
      },
      "source": [
        "drinks.head()"
      ],
      "execution_count": null,
      "outputs": []
    },
    {
      "cell_type": "code",
      "metadata": {
        "id": "jBqwltvg5SQp"
      },
      "source": [
        "drinks.dtypes"
      ],
      "execution_count": null,
      "outputs": []
    },
    {
      "cell_type": "code",
      "metadata": {
        "id": "oB0hv3BB56Y4"
      },
      "source": [
        "drinks['beer_servings'] = drinks['beer_servings'].astype(float)"
      ],
      "execution_count": null,
      "outputs": []
    },
    {
      "cell_type": "code",
      "metadata": {
        "id": "PeKO2cle58cJ"
      },
      "source": [
        "drinks.dtypes"
      ],
      "execution_count": null,
      "outputs": []
    },
    {
      "cell_type": "code",
      "metadata": {
        "id": "HxGjXTex3HSn"
      },
      "source": [
        "drinks = pd.read_csv('http://bit.ly/drinksbycountry', dtype={'beer_servings': float})"
      ],
      "execution_count": null,
      "outputs": []
    },
    {
      "cell_type": "code",
      "metadata": {
        "id": "AotkgUKo3t5f"
      },
      "source": [
        "drinks.dtypes"
      ],
      "execution_count": null,
      "outputs": []
    },
    {
      "cell_type": "code",
      "metadata": {
        "id": "fr-dZJXr3wcW"
      },
      "source": [
        "orders = pd.read_table('http://bit.ly/chiporders')"
      ],
      "execution_count": null,
      "outputs": []
    },
    {
      "cell_type": "code",
      "metadata": {
        "id": "j_NdR-Md31rB"
      },
      "source": [
        "orders.head()"
      ],
      "execution_count": null,
      "outputs": []
    },
    {
      "cell_type": "code",
      "metadata": {
        "id": "ECCbrHKe3264"
      },
      "source": [
        "orders.dtypes"
      ],
      "execution_count": null,
      "outputs": []
    },
    {
      "cell_type": "code",
      "metadata": {
        "id": "doRUJ2pj322Q"
      },
      "source": [
        "orders['item_price'].str.replace('$','')"
      ],
      "execution_count": null,
      "outputs": []
    },
    {
      "cell_type": "code",
      "metadata": {
        "id": "4BuKIIbc32ys"
      },
      "source": [
        "#orders['item_price'].str.replace('$','').mean()"
      ],
      "execution_count": null,
      "outputs": []
    },
    {
      "cell_type": "code",
      "metadata": {
        "id": "LhRCalgN32sj"
      },
      "source": [
        "orders['item_price'].str.replace('$','').astype(float).mean()"
      ],
      "execution_count": null,
      "outputs": []
    },
    {
      "cell_type": "code",
      "metadata": {
        "id": "VK52PWBb4K4Y"
      },
      "source": [
        "orders['item_name'].str.contains('Salsa')"
      ],
      "execution_count": null,
      "outputs": []
    },
    {
      "cell_type": "code",
      "metadata": {
        "id": "XjZJuDqx32ob"
      },
      "source": [
        " orders['item_name'].str.contains('Salsa').head()"
      ],
      "execution_count": null,
      "outputs": []
    },
    {
      "cell_type": "code",
      "metadata": {
        "id": "xGSyome732kQ"
      },
      "source": [
        "orders['item_name'].str.contains('Salsa').astype(int).head()"
      ],
      "execution_count": null,
      "outputs": []
    },
    {
      "cell_type": "markdown",
      "metadata": {
        "id": "pLYLczsq4lhi"
      },
      "source": [
        "In MATLAB it is a nice trick… Here, we should be careful using it."
      ]
    },
    {
      "cell_type": "code",
      "metadata": {
        "id": "G1qcDWfB32f1"
      },
      "source": [
        "orders['item_name'].str.contains('Salsa')*1 "
      ],
      "execution_count": null,
      "outputs": []
    },
    {
      "cell_type": "code",
      "metadata": {
        "id": "LVcN2cOG32Uz"
      },
      "source": [
        "(orders['item_name'].str.contains('Salsa')*1).head()"
      ],
      "execution_count": null,
      "outputs": []
    },
    {
      "cell_type": "code",
      "metadata": {
        "id": "G5XqDDc032RE"
      },
      "source": [
        "#14-pandas-When should I use a groupby.pptx"
      ],
      "execution_count": null,
      "outputs": []
    },
    {
      "cell_type": "code",
      "metadata": {
        "id": "VYGQAhIs_SRO"
      },
      "source": [
        "import pandas as pd"
      ],
      "execution_count": null,
      "outputs": []
    },
    {
      "cell_type": "code",
      "metadata": {
        "id": "zkx8tMFp_SNU"
      },
      "source": [
        "drinks = pd.read_csv('http://bit.ly/drinksbycountry')"
      ],
      "execution_count": null,
      "outputs": []
    },
    {
      "cell_type": "code",
      "metadata": {
        "id": "UTbpiI2e_SIV"
      },
      "source": [
        "drinks.head()"
      ],
      "execution_count": null,
      "outputs": []
    },
    {
      "cell_type": "code",
      "metadata": {
        "id": "iERKNzoG_SEG"
      },
      "source": [
        "drinks.beer_servings.mean()"
      ],
      "execution_count": null,
      "outputs": []
    },
    {
      "cell_type": "code",
      "metadata": {
        "id": "E9nPx_v3_R_1"
      },
      "source": [
        "drinks.groupby('continent').beer_servings.mean()"
      ],
      "execution_count": null,
      "outputs": []
    },
    {
      "cell_type": "code",
      "metadata": {
        "id": "FlRzmgRJ_R6i"
      },
      "source": [
        "type(drinks.groupby('continent'))"
      ],
      "execution_count": null,
      "outputs": []
    },
    {
      "cell_type": "code",
      "metadata": {
        "id": "EHVCyaDn-1Og"
      },
      "source": [
        "drinks[drinks.continent=='Africa']"
      ],
      "execution_count": null,
      "outputs": []
    },
    {
      "cell_type": "code",
      "metadata": {
        "id": "wUN13k7w_PK4"
      },
      "source": [
        "drinks[drinks.continent=='Africa'].beer_servings.mean()"
      ],
      "execution_count": null,
      "outputs": []
    },
    {
      "cell_type": "code",
      "metadata": {
        "id": "1BritozX_PFl"
      },
      "source": [
        "drinks.groupby('continent').beer_servings.max()"
      ],
      "execution_count": null,
      "outputs": []
    },
    {
      "cell_type": "code",
      "metadata": {
        "id": "hoa42RWV_O-_"
      },
      "source": [
        "drinks.groupby('continent').beer_servings.min()"
      ],
      "execution_count": null,
      "outputs": []
    },
    {
      "cell_type": "code",
      "metadata": {
        "id": "j5hEYQCD_O5Q"
      },
      "source": [
        "drinks.groupby('continent').beer_servings.std()"
      ],
      "execution_count": null,
      "outputs": []
    },
    {
      "cell_type": "code",
      "metadata": {
        "id": "pYoE5L7C_O0d"
      },
      "source": [
        "drinks.groupby('continent').beer_servings.agg(['count','min','max','mean'])"
      ],
      "execution_count": null,
      "outputs": []
    },
    {
      "cell_type": "code",
      "metadata": {
        "id": "UN5X_AAQ_OvC"
      },
      "source": [
        "#Bonus Tip"
      ],
      "execution_count": null,
      "outputs": []
    },
    {
      "cell_type": "code",
      "metadata": {
        "id": "Sq5UxmBm_Or9"
      },
      "source": [
        "drinks.groupby('continent').max()"
      ],
      "execution_count": null,
      "outputs": []
    },
    {
      "cell_type": "code",
      "metadata": {
        "id": "PrNhFFjJ_Onp"
      },
      "source": [
        "drinks.groupby('continent').mean()"
      ],
      "execution_count": null,
      "outputs": []
    },
    {
      "cell_type": "code",
      "metadata": {
        "id": "e5_jzbTu_OiT"
      },
      "source": [
        "%matplotlib inline"
      ],
      "execution_count": null,
      "outputs": []
    },
    {
      "cell_type": "code",
      "metadata": {
        "id": "KYd2k7GH_Ob2"
      },
      "source": [
        "drinks.groupby('continent').mean().plot(kind='bar')"
      ],
      "execution_count": null,
      "outputs": []
    },
    {
      "cell_type": "code",
      "metadata": {
        "id": "NisDwqSG_OUX"
      },
      "source": [
        "#15-pandas-How do I explore a pandas Series.pptx"
      ],
      "execution_count": null,
      "outputs": []
    },
    {
      "cell_type": "code",
      "metadata": {
        "id": "aJ2IxY9ar_bM"
      },
      "source": [
        "import pandas as pd"
      ],
      "execution_count": null,
      "outputs": []
    },
    {
      "cell_type": "code",
      "metadata": {
        "id": "QN_StZX8r_bT"
      },
      "source": [
        "movies = pd.read_csv('http://bit.ly/imdbratings')"
      ],
      "execution_count": null,
      "outputs": []
    },
    {
      "cell_type": "code",
      "metadata": {
        "id": "NGeVbhafr_bV"
      },
      "source": [
        "movies.head()"
      ],
      "execution_count": null,
      "outputs": []
    },
    {
      "cell_type": "code",
      "metadata": {
        "id": "qEU574SRr_bX"
      },
      "source": [
        "movies.genre.describe()"
      ],
      "execution_count": null,
      "outputs": []
    },
    {
      "cell_type": "code",
      "metadata": {
        "id": "PRNUO2hJr_bZ"
      },
      "source": [
        "movies.genre.value_counts()"
      ],
      "execution_count": null,
      "outputs": []
    },
    {
      "cell_type": "code",
      "metadata": {
        "id": "prGpFQeOr_ba"
      },
      "source": [
        "movies.genre.value_counts(normalize=True)"
      ],
      "execution_count": null,
      "outputs": []
    },
    {
      "cell_type": "code",
      "metadata": {
        "id": "7KKG4EIQr_bb"
      },
      "source": [
        "type(movies.genre.value_counts())"
      ],
      "execution_count": null,
      "outputs": []
    },
    {
      "cell_type": "code",
      "metadata": {
        "id": "47vArD6Br_bc"
      },
      "source": [
        "movies.genre.value_counts().head()"
      ],
      "execution_count": null,
      "outputs": []
    },
    {
      "cell_type": "code",
      "metadata": {
        "id": "yQMrRPXDr_be"
      },
      "source": [
        "movies.genre.unique()"
      ],
      "execution_count": null,
      "outputs": []
    },
    {
      "cell_type": "code",
      "metadata": {
        "id": "3wjFmdnzr_bf"
      },
      "source": [
        "movies.genre.nunique()"
      ],
      "execution_count": null,
      "outputs": []
    },
    {
      "cell_type": "code",
      "metadata": {
        "id": "N85Rxdh6r_bg"
      },
      "source": [
        "pd.crosstab(movies.genre, movies.content_rating)"
      ],
      "execution_count": null,
      "outputs": []
    },
    {
      "cell_type": "code",
      "metadata": {
        "id": "wwkRx7LWr_bh"
      },
      "source": [
        "movies.sort_values(['genre','content_rating' ])"
      ],
      "execution_count": null,
      "outputs": []
    },
    {
      "cell_type": "code",
      "metadata": {
        "id": "5SP5QaWCr_bi"
      },
      "source": [
        "movies.duration.describe()"
      ],
      "execution_count": null,
      "outputs": []
    },
    {
      "cell_type": "code",
      "metadata": {
        "id": "ZIeIO0eWr_bj"
      },
      "source": [
        "movies.duration.mean()"
      ],
      "execution_count": null,
      "outputs": []
    },
    {
      "cell_type": "code",
      "metadata": {
        "id": "a8b9NWl8r_bk"
      },
      "source": [
        "movies.duration.value_counts()"
      ],
      "execution_count": null,
      "outputs": []
    },
    {
      "cell_type": "code",
      "metadata": {
        "id": "BqFeckDBqOvP"
      },
      "source": [
        "#Bonus Tip"
      ],
      "execution_count": null,
      "outputs": []
    },
    {
      "cell_type": "code",
      "metadata": {
        "id": "l5PgaYE0r_bk"
      },
      "source": [
        "%matplotlib inline"
      ],
      "execution_count": null,
      "outputs": []
    },
    {
      "cell_type": "code",
      "metadata": {
        "id": "1A-qgz_Nr_bk"
      },
      "source": [
        "movies.duration.plot(kind='hist')"
      ],
      "execution_count": null,
      "outputs": []
    },
    {
      "cell_type": "code",
      "metadata": {
        "id": "VH6Q3AOFr_bl"
      },
      "source": [
        "movies.genre.value_counts()"
      ],
      "execution_count": null,
      "outputs": []
    },
    {
      "cell_type": "code",
      "metadata": {
        "id": "V0E_Qdslr_bm"
      },
      "source": [
        "movies.genre.value_counts().plot(kind='bar')"
      ],
      "execution_count": null,
      "outputs": []
    },
    {
      "cell_type": "code",
      "metadata": {
        "id": "G64iAhvo_OLC"
      },
      "source": [
        "#16-pandas-How do I handle missing values.pptx"
      ],
      "execution_count": null,
      "outputs": []
    },
    {
      "cell_type": "code",
      "metadata": {
        "id": "mWOCFjcsAVAw"
      },
      "source": [
        "import pandas as pd"
      ],
      "execution_count": null,
      "outputs": []
    },
    {
      "cell_type": "code",
      "metadata": {
        "id": "5mPLojXZAVA4"
      },
      "source": [
        "ufo = pd.read_csv('http://bit.ly/uforeports')"
      ],
      "execution_count": null,
      "outputs": []
    },
    {
      "cell_type": "code",
      "metadata": {
        "id": "t3G1ih67AVA5"
      },
      "source": [
        "ufo.tail()"
      ],
      "execution_count": null,
      "outputs": []
    },
    {
      "cell_type": "code",
      "metadata": {
        "id": "8QEUhy6WAVA6"
      },
      "source": [
        "ufo.isnull().tail()"
      ],
      "execution_count": null,
      "outputs": []
    },
    {
      "cell_type": "code",
      "metadata": {
        "id": "b8-17QCkAVA7"
      },
      "source": [
        "ufo.notnull().tail()"
      ],
      "execution_count": null,
      "outputs": []
    },
    {
      "cell_type": "code",
      "metadata": {
        "id": "LyCf3EY6AVA8"
      },
      "source": [
        "ufo.isnull().sum()"
      ],
      "execution_count": null,
      "outputs": []
    },
    {
      "cell_type": "code",
      "metadata": {
        "id": "463LW30CAVA8"
      },
      "source": [
        "pd.Series([True, False, True])"
      ],
      "execution_count": null,
      "outputs": []
    },
    {
      "cell_type": "code",
      "metadata": {
        "id": "z7YMhe99AVA-"
      },
      "source": [
        "pd.Series([True, False, True]).sum()"
      ],
      "execution_count": null,
      "outputs": []
    },
    {
      "cell_type": "code",
      "metadata": {
        "id": "qqZ6Z5_AAVA_"
      },
      "source": [
        "pd.Series([True, False, True]).sum"
      ],
      "execution_count": null,
      "outputs": []
    },
    {
      "cell_type": "code",
      "metadata": {
        "id": "LB-cGFBFAVBA"
      },
      "source": [
        "ufo.isnull().sum()"
      ],
      "execution_count": null,
      "outputs": []
    },
    {
      "cell_type": "code",
      "metadata": {
        "id": "YpGu__K4AVBB"
      },
      "source": [
        "ufo.isnull().sum(axis=0)"
      ],
      "execution_count": null,
      "outputs": []
    },
    {
      "cell_type": "code",
      "metadata": {
        "id": "sdAae7A6AVBC"
      },
      "source": [
        "ufo.City.isnull()"
      ],
      "execution_count": null,
      "outputs": []
    },
    {
      "cell_type": "code",
      "metadata": {
        "id": "gRmqA1MPAVBC"
      },
      "source": [
        "ufo[ufo.City.isnull()]"
      ],
      "execution_count": null,
      "outputs": []
    },
    {
      "cell_type": "code",
      "metadata": {
        "id": "tZ4httuIAVBD"
      },
      "source": [
        "ufo.shape"
      ],
      "execution_count": null,
      "outputs": []
    },
    {
      "cell_type": "code",
      "metadata": {
        "id": "ZHT5rbBdtgtt"
      },
      "source": [
        "ufo.dropna(how='any').shape"
      ],
      "execution_count": null,
      "outputs": []
    },
    {
      "cell_type": "code",
      "metadata": {
        "id": "DabCxKNbAVBE"
      },
      "source": [
        "ufo.dropna(how='all').shape"
      ],
      "execution_count": null,
      "outputs": []
    },
    {
      "cell_type": "code",
      "metadata": {
        "id": "z3zrQyINAVBF"
      },
      "source": [
        "ufo.shape"
      ],
      "execution_count": null,
      "outputs": []
    },
    {
      "cell_type": "code",
      "metadata": {
        "id": "CEU5-czKud9_"
      },
      "source": [
        "ufo.dropna(subset=['City','Shape Reported'], how='any').shape"
      ],
      "execution_count": null,
      "outputs": []
    },
    {
      "cell_type": "code",
      "metadata": {
        "id": "FUV0jgajAVBF"
      },
      "source": [
        "ufo.dropna(subset=['City','Shape Reported'], how='all').shape"
      ],
      "execution_count": null,
      "outputs": []
    },
    {
      "cell_type": "code",
      "metadata": {
        "id": "Ip8Y7j4tAVBH"
      },
      "source": [
        "ufo.shape"
      ],
      "execution_count": null,
      "outputs": []
    },
    {
      "cell_type": "code",
      "metadata": {
        "id": "4snqe1HGvPRe"
      },
      "source": [
        "#Bonus Tip"
      ],
      "execution_count": null,
      "outputs": []
    },
    {
      "cell_type": "code",
      "metadata": {
        "id": "aKbQc8wdvBvU"
      },
      "source": [
        "ufo['Shape Reported'].value_counts()"
      ],
      "execution_count": null,
      "outputs": []
    },
    {
      "cell_type": "code",
      "metadata": {
        "id": "Ts-70X3GvKG_"
      },
      "source": [
        "ufo['Shape Reported'].value_counts(dropna=False)"
      ],
      "execution_count": null,
      "outputs": []
    },
    {
      "cell_type": "code",
      "metadata": {
        "id": "gdEFKxnfAVBI"
      },
      "source": [
        "ufo['Shape Reported'].fillna(value='VARIOUS', inplace=True)"
      ],
      "execution_count": null,
      "outputs": []
    },
    {
      "cell_type": "code",
      "metadata": {
        "id": "Ol7VQlyNAVBJ"
      },
      "source": [
        "ufo['Shape Reported'].value_counts(dropna=False)"
      ],
      "execution_count": null,
      "outputs": []
    },
    {
      "cell_type": "code",
      "metadata": {
        "id": "EQSvFOJR_OCi"
      },
      "source": [
        "#17-pandas-What do I need to know about the pandas index (Part 01).pptx"
      ],
      "execution_count": null,
      "outputs": []
    },
    {
      "cell_type": "code",
      "metadata": {
        "id": "tzb2xBp5AltM"
      },
      "source": [
        "import pandas as pd"
      ],
      "execution_count": null,
      "outputs": []
    },
    {
      "cell_type": "code",
      "metadata": {
        "id": "xKgnuPE9AltU"
      },
      "source": [
        "drinks = pd.read_csv('http://bit.ly/drinksbycountry')"
      ],
      "execution_count": null,
      "outputs": []
    },
    {
      "cell_type": "code",
      "metadata": {
        "id": "OOBIG7htAltV"
      },
      "source": [
        "drinks.head()"
      ],
      "execution_count": null,
      "outputs": []
    },
    {
      "cell_type": "code",
      "metadata": {
        "id": "tI1NQUSsAltX"
      },
      "source": [
        "drinks.index"
      ],
      "execution_count": null,
      "outputs": []
    },
    {
      "cell_type": "code",
      "metadata": {
        "id": "nS0pGO2kAltY"
      },
      "source": [
        "drinks.columns"
      ],
      "execution_count": null,
      "outputs": []
    },
    {
      "cell_type": "code",
      "metadata": {
        "id": "w0ZfqWkZAltZ"
      },
      "source": [
        "drinks.shape"
      ],
      "execution_count": null,
      "outputs": []
    },
    {
      "cell_type": "code",
      "metadata": {
        "scrolled": true,
        "id": "Bq9hfVCOAltb"
      },
      "source": [
        "pd.read_table('http://bit.ly/movieusers', header=None, sep='|').head()"
      ],
      "execution_count": null,
      "outputs": []
    },
    {
      "cell_type": "code",
      "metadata": {
        "id": "rtlmTc2LYg5I"
      },
      "source": [
        "drinks.continent=='South America'"
      ],
      "execution_count": null,
      "outputs": []
    },
    {
      "cell_type": "code",
      "metadata": {
        "id": "Hy1Ai_scAltc"
      },
      "source": [
        "drinks[drinks.continent=='South America']"
      ],
      "execution_count": null,
      "outputs": []
    },
    {
      "cell_type": "code",
      "metadata": {
        "id": "93ngudPzAlte"
      },
      "source": [
        "drinks.loc[23, 'beer_servings']"
      ],
      "execution_count": null,
      "outputs": []
    },
    {
      "cell_type": "code",
      "metadata": {
        "id": "fkvk1hVgAltg"
      },
      "source": [
        "drinks.set_index('country', inplace=True)"
      ],
      "execution_count": null,
      "outputs": []
    },
    {
      "cell_type": "code",
      "metadata": {
        "id": "vURm5vFMAlth"
      },
      "source": [
        "drinks.head()"
      ],
      "execution_count": null,
      "outputs": []
    },
    {
      "cell_type": "code",
      "metadata": {
        "id": "rbvg23m-Alti"
      },
      "source": [
        "drinks.index"
      ],
      "execution_count": null,
      "outputs": []
    },
    {
      "cell_type": "code",
      "metadata": {
        "id": "2gL7_JyiAltk"
      },
      "source": [
        "drinks.columns"
      ],
      "execution_count": null,
      "outputs": []
    },
    {
      "cell_type": "code",
      "metadata": {
        "id": "2KIE9UZOAltl"
      },
      "source": [
        "drinks.shape"
      ],
      "execution_count": null,
      "outputs": []
    },
    {
      "cell_type": "code",
      "metadata": {
        "id": "2hf5M5ZsAltl"
      },
      "source": [
        "drinks.loc['Brazil','beer_servings']"
      ],
      "execution_count": null,
      "outputs": []
    },
    {
      "cell_type": "code",
      "metadata": {
        "id": "X6Mcxe6RAltm"
      },
      "source": [
        "drinks.index.name=None"
      ],
      "execution_count": null,
      "outputs": []
    },
    {
      "cell_type": "code",
      "metadata": {
        "id": "1y1MTQ5yAltn"
      },
      "source": [
        "drinks.head()"
      ],
      "execution_count": null,
      "outputs": []
    },
    {
      "cell_type": "code",
      "metadata": {
        "id": "UHpQF9nZAlto"
      },
      "source": [
        "drinks.index.name='country'"
      ],
      "execution_count": null,
      "outputs": []
    },
    {
      "cell_type": "code",
      "metadata": {
        "id": "Cks6chGQAltp"
      },
      "source": [
        "drinks.reset_index(inplace=True)"
      ],
      "execution_count": null,
      "outputs": []
    },
    {
      "cell_type": "code",
      "metadata": {
        "id": "mgknhCn9zBZt"
      },
      "source": [
        "drinks.head()"
      ],
      "execution_count": null,
      "outputs": []
    },
    {
      "cell_type": "code",
      "metadata": {
        "id": "ZgidZM0XzJt-"
      },
      "source": [
        "#Bonus Tip"
      ],
      "execution_count": null,
      "outputs": []
    },
    {
      "cell_type": "code",
      "metadata": {
        "id": "-RcE77ChAltp"
      },
      "source": [
        "drinks.describe()"
      ],
      "execution_count": null,
      "outputs": []
    },
    {
      "cell_type": "code",
      "metadata": {
        "id": "7rYjtt_kAltq"
      },
      "source": [
        "drinks.describe().index"
      ],
      "execution_count": null,
      "outputs": []
    },
    {
      "cell_type": "code",
      "metadata": {
        "id": "Wy9i6zsUAltr"
      },
      "source": [
        "drinks.describe().columns"
      ],
      "execution_count": null,
      "outputs": []
    },
    {
      "cell_type": "code",
      "metadata": {
        "id": "BMjsfeIHAltr"
      },
      "source": [
        "drinks.describe().loc['25%', 'beer_servings']"
      ],
      "execution_count": null,
      "outputs": []
    },
    {
      "cell_type": "code",
      "metadata": {
        "id": "nz39J2LhAlts"
      },
      "source": [
        "#18-pandas-What do I need to know about the pandas index (Part 02).pptx"
      ],
      "execution_count": null,
      "outputs": []
    },
    {
      "cell_type": "code",
      "metadata": {
        "id": "Vd5sMVvwBFyL"
      },
      "source": [
        "import pandas as pd"
      ],
      "execution_count": null,
      "outputs": []
    },
    {
      "cell_type": "code",
      "metadata": {
        "id": "QlaZEhI3BFyV"
      },
      "source": [
        "drinks = pd.read_csv('http://bit.ly/drinksbycountry')"
      ],
      "execution_count": null,
      "outputs": []
    },
    {
      "cell_type": "code",
      "metadata": {
        "id": "oGPDtWs2BFyX"
      },
      "source": [
        "drinks.head()"
      ],
      "execution_count": null,
      "outputs": []
    },
    {
      "cell_type": "code",
      "metadata": {
        "id": "TvWMHAHwBFyZ"
      },
      "source": [
        "drinks.continent.head()"
      ],
      "execution_count": null,
      "outputs": []
    },
    {
      "cell_type": "code",
      "metadata": {
        "id": "dGO9506BBFya"
      },
      "source": [
        "drinks.set_index('country', inplace=True)"
      ],
      "execution_count": null,
      "outputs": []
    },
    {
      "cell_type": "code",
      "metadata": {
        "id": "xrZokap7BFyb"
      },
      "source": [
        "drinks.head()"
      ],
      "execution_count": null,
      "outputs": []
    },
    {
      "cell_type": "code",
      "metadata": {
        "id": "0EN4SS5IBFyd"
      },
      "source": [
        "drinks.continent.head()"
      ],
      "execution_count": null,
      "outputs": []
    },
    {
      "cell_type": "code",
      "metadata": {
        "id": "mkjFHZJ6BFyg"
      },
      "source": [
        "drinks.continent.value_counts()"
      ],
      "execution_count": null,
      "outputs": []
    },
    {
      "cell_type": "code",
      "metadata": {
        "id": "4O1gAlKwBFyh"
      },
      "source": [
        "drinks.continent.value_counts().index"
      ],
      "execution_count": null,
      "outputs": []
    },
    {
      "cell_type": "code",
      "metadata": {
        "id": "xc0axQlBBFyk"
      },
      "source": [
        "drinks.continent.value_counts().values"
      ],
      "execution_count": null,
      "outputs": []
    },
    {
      "cell_type": "code",
      "metadata": {
        "id": "sayjVA_5BFym"
      },
      "source": [
        "drinks.continent.value_counts()['Africa']"
      ],
      "execution_count": null,
      "outputs": []
    },
    {
      "cell_type": "code",
      "metadata": {
        "id": "4hxZNPpdBFyn"
      },
      "source": [
        "drinks.continent.value_counts().sort_values()"
      ],
      "execution_count": null,
      "outputs": []
    },
    {
      "cell_type": "code",
      "metadata": {
        "id": "6qQwPWwXBFyo"
      },
      "source": [
        "drinks.continent.value_counts().sort_index()"
      ],
      "execution_count": null,
      "outputs": []
    },
    {
      "cell_type": "code",
      "metadata": {
        "id": "jFOburkZBFyp"
      },
      "source": [
        "drinks.continent.value_counts().sort_index(ascending=False)"
      ],
      "execution_count": null,
      "outputs": []
    },
    {
      "cell_type": "code",
      "metadata": {
        "id": "3PynnmcyBFyp"
      },
      "source": [
        "people = pd.Series([3000000, 85000], index=['Albania', 'Andorra'], name='population')"
      ],
      "execution_count": null,
      "outputs": []
    },
    {
      "cell_type": "code",
      "metadata": {
        "id": "j_EiBhyTBFyq"
      },
      "source": [
        "people"
      ],
      "execution_count": null,
      "outputs": []
    },
    {
      "cell_type": "code",
      "metadata": {
        "id": "P75SHGs5BFyq"
      },
      "source": [
        "drinks.beer_servings"
      ],
      "execution_count": null,
      "outputs": []
    },
    {
      "cell_type": "code",
      "metadata": {
        "id": "pjljZmkABFyr"
      },
      "source": [
        "drinks.beer_servings * people"
      ],
      "execution_count": null,
      "outputs": []
    },
    {
      "cell_type": "code",
      "metadata": {
        "id": "kFo_HYr5BFyr"
      },
      "source": [
        "MyDataFrame=drinks.beer_servings * people"
      ],
      "execution_count": null,
      "outputs": []
    },
    {
      "cell_type": "code",
      "metadata": {
        "id": "ui3C_WO6BFys"
      },
      "source": [
        "MyDataFrame.head()"
      ],
      "execution_count": null,
      "outputs": []
    },
    {
      "cell_type": "code",
      "metadata": {
        "id": "2l5mzHaGBFyt"
      },
      "source": [
        "MyDataFrame[MyDataFrame.notnull()]"
      ],
      "execution_count": null,
      "outputs": []
    },
    {
      "cell_type": "code",
      "metadata": {
        "id": "0BZfoUq_1J2U"
      },
      "source": [
        "#Bonus Tip"
      ],
      "execution_count": null,
      "outputs": []
    },
    {
      "cell_type": "code",
      "metadata": {
        "id": "rkhs0MXkBFyv"
      },
      "source": [
        "pd.concat([drinks, people], axis=1, sort=False).head()"
      ],
      "execution_count": null,
      "outputs": []
    },
    {
      "cell_type": "code",
      "metadata": {
        "id": "nR5gM3UNBFyw"
      },
      "source": [
        "#19-pandas-How do I select multiple rows and columns from a pandas DataFrame.pptx"
      ],
      "execution_count": null,
      "outputs": []
    },
    {
      "cell_type": "code",
      "metadata": {
        "id": "N57MMLh9BU4_"
      },
      "source": [
        "import pandas as pd"
      ],
      "execution_count": null,
      "outputs": []
    },
    {
      "cell_type": "code",
      "metadata": {
        "id": "23FQxnWYBU5G"
      },
      "source": [
        "ufo=pd.read_csv('http://bit.ly/uforeports')"
      ],
      "execution_count": null,
      "outputs": []
    },
    {
      "cell_type": "code",
      "metadata": {
        "id": "uyoxjWpwBU5I"
      },
      "source": [
        "ufo.head(3)"
      ],
      "execution_count": null,
      "outputs": []
    },
    {
      "cell_type": "code",
      "metadata": {
        "id": "6OU2j3HFBU5J"
      },
      "source": [
        "ufo.loc[0, :]"
      ],
      "execution_count": null,
      "outputs": []
    },
    {
      "cell_type": "code",
      "metadata": {
        "id": "oSoXgQA5BU5L"
      },
      "source": [
        "ufo.loc[[0, 1, 2], :]"
      ],
      "execution_count": null,
      "outputs": []
    },
    {
      "cell_type": "code",
      "metadata": {
        "id": "eMcTc1olBU5M"
      },
      "source": [
        "ufo.loc[0:2, :]"
      ],
      "execution_count": null,
      "outputs": []
    },
    {
      "cell_type": "code",
      "metadata": {
        "id": "xlsAErCCBU5N"
      },
      "source": [
        "ufo.loc[0:2]"
      ],
      "execution_count": null,
      "outputs": []
    },
    {
      "cell_type": "code",
      "metadata": {
        "id": "STsdQKAlBU5P"
      },
      "source": [
        "ufo.loc[:, 'City']"
      ],
      "execution_count": null,
      "outputs": []
    },
    {
      "cell_type": "code",
      "metadata": {
        "id": "1iEfqJbwBU5Q"
      },
      "source": [
        "ufo.loc[:, ['City', 'State']]"
      ],
      "execution_count": null,
      "outputs": []
    },
    {
      "cell_type": "code",
      "metadata": {
        "id": "rL-kE0CSBU5V"
      },
      "source": [
        "ufo.loc[0:2, 'City': 'State']"
      ],
      "execution_count": null,
      "outputs": []
    },
    {
      "cell_type": "code",
      "metadata": {
        "id": "t1MchLI7BU5W"
      },
      "source": [
        "ufo.head(3).drop('Time', axis=1)"
      ],
      "execution_count": null,
      "outputs": []
    },
    {
      "cell_type": "code",
      "metadata": {
        "id": "r0sy48Qgjtvu"
      },
      "source": [
        "ufo.City=='Oakland'"
      ],
      "execution_count": null,
      "outputs": []
    },
    {
      "cell_type": "code",
      "metadata": {
        "id": "RPz2xfpPBU5X"
      },
      "source": [
        "ufo[ufo.City=='Oakland']"
      ],
      "execution_count": null,
      "outputs": []
    },
    {
      "cell_type": "code",
      "metadata": {
        "id": "XZvB39aTBU5Y"
      },
      "source": [
        "ufo.loc[ufo.City=='Oakland', :]"
      ],
      "execution_count": null,
      "outputs": []
    },
    {
      "cell_type": "code",
      "metadata": {
        "id": "vOGiyvmNBU5Z"
      },
      "source": [
        "ufo.loc[ufo.City=='Oakland', 'State']"
      ],
      "execution_count": null,
      "outputs": []
    },
    {
      "cell_type": "code",
      "metadata": {
        "id": "S_Z-rY8MBU5a"
      },
      "source": [
        "ufo[ufo.City=='Oakland'].State"
      ],
      "execution_count": null,
      "outputs": []
    },
    {
      "cell_type": "code",
      "metadata": {
        "id": "J015CYPTBU5a"
      },
      "source": [
        "ufo.iloc[:, [0,3]]"
      ],
      "execution_count": null,
      "outputs": []
    },
    {
      "cell_type": "code",
      "metadata": {
        "id": "jxpTJ5GEBU5a"
      },
      "source": [
        "ufo.columns"
      ],
      "execution_count": null,
      "outputs": []
    },
    {
      "cell_type": "code",
      "metadata": {
        "id": "wSV8dCH5BU5b"
      },
      "source": [
        "ufo.iloc[:, 0:4]"
      ],
      "execution_count": null,
      "outputs": []
    },
    {
      "cell_type": "code",
      "metadata": {
        "id": "cuS5gehNBU5b"
      },
      "source": [
        "list(range(0,4))"
      ],
      "execution_count": null,
      "outputs": []
    },
    {
      "cell_type": "code",
      "metadata": {
        "id": "DU9FshCtBU5c"
      },
      "source": [
        "ufo.iloc[0:3, :]"
      ],
      "execution_count": null,
      "outputs": []
    },
    {
      "cell_type": "code",
      "metadata": {
        "id": "Edj8KhyBBU5c"
      },
      "source": [
        "ufo.loc[0:3, :]"
      ],
      "execution_count": null,
      "outputs": []
    },
    {
      "cell_type": "code",
      "metadata": {
        "id": "2O1VmcxoBU5c"
      },
      "source": [
        "ufo[['City','State']]"
      ],
      "execution_count": null,
      "outputs": []
    },
    {
      "cell_type": "code",
      "metadata": {
        "id": "TOSfmqd8BU5d"
      },
      "source": [
        "ufo.loc[:,['City','State']]"
      ],
      "execution_count": null,
      "outputs": []
    },
    {
      "cell_type": "code",
      "metadata": {
        "id": "zfg6jR3PBU5e"
      },
      "source": [
        "ufo[0:2]"
      ],
      "execution_count": null,
      "outputs": []
    },
    {
      "cell_type": "code",
      "metadata": {
        "id": "REvYrFGaBU5e"
      },
      "source": [
        "ufo.loc[0:1, :]"
      ],
      "execution_count": null,
      "outputs": []
    },
    {
      "cell_type": "code",
      "metadata": {
        "id": "pXxtAYJlBU5f"
      },
      "source": [
        "ufo.iloc[0:2, :]"
      ],
      "execution_count": null,
      "outputs": []
    },
    {
      "cell_type": "code",
      "metadata": {
        "id": "UBtfAWHrBU5f"
      },
      "source": [
        "drinks = pd.read_csv('http://bit.ly/drinksbycountry', index_col='country')"
      ],
      "execution_count": null,
      "outputs": []
    },
    {
      "cell_type": "code",
      "metadata": {
        "id": "0kQAd4CRBU5f"
      },
      "source": [
        "drinks.head()"
      ],
      "execution_count": null,
      "outputs": []
    },
    {
      "cell_type": "code",
      "metadata": {
        "id": "HvOKkmbgBU5f"
      },
      "source": [
        "drinks.ix['Albania', 0]"
      ],
      "execution_count": null,
      "outputs": []
    },
    {
      "cell_type": "code",
      "metadata": {
        "id": "Z3HBbXLKBU5f"
      },
      "source": [
        "drinks.ix[1, 'beer_servings']"
      ],
      "execution_count": null,
      "outputs": []
    },
    {
      "cell_type": "code",
      "metadata": {
        "id": "_RnVUv0JBU5g"
      },
      "source": [
        "drinks.ix['Albania':'Andorra', 0:2]"
      ],
      "execution_count": null,
      "outputs": []
    },
    {
      "cell_type": "code",
      "metadata": {
        "id": "SctcLePtBU5g"
      },
      "source": [
        "ufo.ix[0:2, 0:2]"
      ],
      "execution_count": null,
      "outputs": []
    },
    {
      "cell_type": "code",
      "metadata": {
        "id": "OHpLWI0oBU5g"
      },
      "source": [
        "#20-pandas-When should I use the inplace parameter in pandas.pptx"
      ],
      "execution_count": null,
      "outputs": []
    },
    {
      "cell_type": "code",
      "metadata": {
        "id": "Ko-far-HBojn"
      },
      "source": [
        "import pandas as pd"
      ],
      "execution_count": null,
      "outputs": []
    },
    {
      "cell_type": "code",
      "metadata": {
        "id": "gkPQYA3cBoju"
      },
      "source": [
        "ufo=pd.read_csv('http://bit.ly/uforeports')"
      ],
      "execution_count": null,
      "outputs": []
    },
    {
      "cell_type": "code",
      "metadata": {
        "id": "GAwTNJuwBojv"
      },
      "source": [
        "ufo.head()"
      ],
      "execution_count": null,
      "outputs": []
    },
    {
      "cell_type": "code",
      "metadata": {
        "id": "TDcbZMuaBojx"
      },
      "source": [
        "ufo.shape"
      ],
      "execution_count": null,
      "outputs": []
    },
    {
      "cell_type": "code",
      "metadata": {
        "id": "305nt2ziBojy"
      },
      "source": [
        "ufo.drop('City', axis=1)"
      ],
      "execution_count": null,
      "outputs": []
    },
    {
      "cell_type": "code",
      "metadata": {
        "id": "bey2Pb9NBojz"
      },
      "source": [
        "ufo.head()"
      ],
      "execution_count": null,
      "outputs": []
    },
    {
      "cell_type": "code",
      "metadata": {
        "id": "NypZfmnsAAPg"
      },
      "source": [
        "ufo.drop('City', axis=1)"
      ],
      "execution_count": null,
      "outputs": []
    },
    {
      "cell_type": "code",
      "metadata": {
        "id": "MvooGBCMADqB"
      },
      "source": [
        "ufo.head()"
      ],
      "execution_count": null,
      "outputs": []
    },
    {
      "cell_type": "code",
      "metadata": {
        "id": "cWaLdstGBojz"
      },
      "source": [
        "ufo.drop('City', axis=1, inplace=True)"
      ],
      "execution_count": null,
      "outputs": []
    },
    {
      "cell_type": "code",
      "metadata": {
        "id": "4N7mJP5QBoj0"
      },
      "source": [
        "ufo.head()"
      ],
      "execution_count": null,
      "outputs": []
    },
    {
      "cell_type": "code",
      "metadata": {
        "id": "1Fn-GX76Boj1"
      },
      "source": [
        "ufo.dropna(how='any')"
      ],
      "execution_count": null,
      "outputs": []
    },
    {
      "cell_type": "code",
      "metadata": {
        "id": "RjcVu2BOBoj2"
      },
      "source": [
        "ufo.dropna(how='any').shape"
      ],
      "execution_count": null,
      "outputs": []
    },
    {
      "cell_type": "code",
      "metadata": {
        "id": "8clqkJ4yBoj3"
      },
      "source": [
        "ufo.shape"
      ],
      "execution_count": null,
      "outputs": []
    },
    {
      "cell_type": "code",
      "metadata": {
        "id": "PwawvfSIBoj4"
      },
      "source": [
        "ufo.set_index('Time', inplace=True)"
      ],
      "execution_count": null,
      "outputs": []
    },
    {
      "cell_type": "code",
      "metadata": {
        "id": "RByOqEvKU9B8"
      },
      "source": [
        "ufo.head()"
      ],
      "execution_count": null,
      "outputs": []
    },
    {
      "cell_type": "code",
      "metadata": {
        "id": "PtYeE2Kdr2Eh"
      },
      "source": [
        "ufo=pd.read_csv('http://bit.ly/uforeports')"
      ],
      "execution_count": null,
      "outputs": []
    },
    {
      "cell_type": "code",
      "metadata": {
        "id": "VYFeSGNlBoj4"
      },
      "source": [
        "ufo = ufo.set_index('Time')"
      ],
      "execution_count": null,
      "outputs": []
    },
    {
      "cell_type": "code",
      "metadata": {
        "id": "k4bcrybxBoj5"
      },
      "source": [
        "ufo.tail()"
      ],
      "execution_count": null,
      "outputs": []
    },
    {
      "cell_type": "code",
      "metadata": {
        "id": "hgFVwLJxAuD5"
      },
      "source": [
        "#Bonus Tip"
      ],
      "execution_count": null,
      "outputs": []
    },
    {
      "cell_type": "code",
      "metadata": {
        "id": "rwv3QdKFBoj5"
      },
      "source": [
        "ufo.fillna(method='bfill').tail()"
      ],
      "execution_count": null,
      "outputs": []
    },
    {
      "cell_type": "code",
      "metadata": {
        "id": "6BDVv8GIBoj6"
      },
      "source": [
        "ufo.fillna(method='ffill').tail()"
      ],
      "execution_count": null,
      "outputs": []
    },
    {
      "cell_type": "code",
      "metadata": {
        "id": "170yrpCa_NiJ"
      },
      "source": [
        "#21-pandas-How do I make my pandas DataFrame smaller and faster.pptx"
      ],
      "execution_count": null,
      "outputs": []
    },
    {
      "cell_type": "code",
      "metadata": {
        "id": "8WvKuBCdJ2SM"
      },
      "source": [
        "import pandas as pd"
      ],
      "execution_count": null,
      "outputs": []
    },
    {
      "cell_type": "code",
      "metadata": {
        "id": "IVOHBvT0J2SP"
      },
      "source": [
        "drinks = pd.read_csv('http://bit.ly/drinksbycountry')"
      ],
      "execution_count": null,
      "outputs": []
    },
    {
      "cell_type": "code",
      "metadata": {
        "id": "_YjELXWXJ2SQ"
      },
      "source": [
        "drinks.head()"
      ],
      "execution_count": null,
      "outputs": []
    },
    {
      "cell_type": "code",
      "metadata": {
        "id": "L7QFXhnvJ2SR"
      },
      "source": [
        "drinks.info()"
      ],
      "execution_count": null,
      "outputs": []
    },
    {
      "cell_type": "code",
      "metadata": {
        "id": "JyxSntQ6J2SR"
      },
      "source": [
        "drinks.info(memory_usage='deep')"
      ],
      "execution_count": null,
      "outputs": []
    },
    {
      "cell_type": "code",
      "metadata": {
        "id": "-xBpVhxSUOth"
      },
      "source": [
        "#Each column"
      ],
      "execution_count": null,
      "outputs": []
    },
    {
      "cell_type": "code",
      "metadata": {
        "id": "1Ccr1ak4J2SR"
      },
      "source": [
        "drinks.memory_usage()"
      ],
      "execution_count": null,
      "outputs": []
    },
    {
      "cell_type": "code",
      "metadata": {
        "id": "4kssfKlTJ2SS"
      },
      "source": [
        "drinks.memory_usage(deep=True)"
      ],
      "execution_count": null,
      "outputs": []
    },
    {
      "cell_type": "code",
      "metadata": {
        "id": "8qGqfQyIJ2SS"
      },
      "source": [
        "drinks.memory_usage(deep=True).sum()"
      ],
      "execution_count": null,
      "outputs": []
    },
    {
      "cell_type": "code",
      "metadata": {
        "id": "_4zIKNgCJ2SS"
      },
      "source": [
        "sorted(drinks.continent.unique())"
      ],
      "execution_count": null,
      "outputs": []
    },
    {
      "cell_type": "code",
      "metadata": {
        "id": "hP32foG1J2ST"
      },
      "source": [
        "drinks.continent.head()"
      ],
      "execution_count": null,
      "outputs": []
    },
    {
      "cell_type": "code",
      "metadata": {
        "id": "8tLy7_nHJ2ST"
      },
      "source": [
        "drinks['continent'] = drinks.continent.astype('category')"
      ],
      "execution_count": null,
      "outputs": []
    },
    {
      "cell_type": "code",
      "metadata": {
        "id": "EH6bKCLTJ2SU"
      },
      "source": [
        "drinks.dtypes"
      ],
      "execution_count": null,
      "outputs": []
    },
    {
      "cell_type": "code",
      "metadata": {
        "id": "2tjfuCB1J2SV"
      },
      "source": [
        "drinks.continent.head()"
      ],
      "execution_count": null,
      "outputs": []
    },
    {
      "cell_type": "code",
      "metadata": {
        "id": "UYoYTEhVJ2SV"
      },
      "source": [
        "drinks.continent.cat.codes.head()"
      ],
      "execution_count": null,
      "outputs": []
    },
    {
      "cell_type": "code",
      "metadata": {
        "id": "9MblUDcwJ2SW"
      },
      "source": [
        "drinks.memory_usage(deep=True)"
      ],
      "execution_count": null,
      "outputs": []
    },
    {
      "cell_type": "code",
      "metadata": {
        "id": "5o4BGJLGJ2SW"
      },
      "source": [
        "drinks['country'] = drinks.country.astype('category')"
      ],
      "execution_count": null,
      "outputs": []
    },
    {
      "cell_type": "code",
      "metadata": {
        "id": "M3PafNsqJ2SW"
      },
      "source": [
        "drinks.memory_usage(deep=True)"
      ],
      "execution_count": null,
      "outputs": []
    },
    {
      "cell_type": "code",
      "metadata": {
        "id": "HFjIuFu1J2SX"
      },
      "source": [
        "drinks.country.cat.categories"
      ],
      "execution_count": null,
      "outputs": []
    },
    {
      "cell_type": "code",
      "metadata": {
        "id": "C_yzklw4J2SX"
      },
      "source": [
        "drinks.continent.cat.categories"
      ],
      "execution_count": null,
      "outputs": []
    },
    {
      "cell_type": "code",
      "metadata": {
        "id": "NkpGFTwFWzfl"
      },
      "source": [
        "#Bonus Tip"
      ],
      "execution_count": null,
      "outputs": []
    },
    {
      "cell_type": "code",
      "metadata": {
        "id": "PrVtAC0GJ2SX"
      },
      "source": [
        "df = pd.DataFrame({'ID':[100, 101, 102, 103], 'quality':['good', 'very good', 'good', 'excellent']})"
      ],
      "execution_count": null,
      "outputs": []
    },
    {
      "cell_type": "code",
      "metadata": {
        "id": "rpucFAFsJ2SY"
      },
      "source": [
        "df"
      ],
      "execution_count": null,
      "outputs": []
    },
    {
      "cell_type": "code",
      "metadata": {
        "id": "G1fZmWZmJ2SY"
      },
      "source": [
        "df.sort_values('quality')"
      ],
      "execution_count": null,
      "outputs": []
    },
    {
      "cell_type": "code",
      "metadata": {
        "id": "fM49z3D8J2SY"
      },
      "source": [
        "cat_type = pd.api.types.CategoricalDtype(categories=['good', 'very good', 'excellent'], ordered=True)"
      ],
      "execution_count": null,
      "outputs": []
    },
    {
      "cell_type": "code",
      "metadata": {
        "id": "GlIOR2tpJ2SZ"
      },
      "source": [
        "df['quality'] = df.quality.astype(cat_type)"
      ],
      "execution_count": null,
      "outputs": []
    },
    {
      "cell_type": "code",
      "metadata": {
        "id": "Ua0RVSyGJ2SZ"
      },
      "source": [
        "df.quality"
      ],
      "execution_count": null,
      "outputs": []
    },
    {
      "cell_type": "code",
      "metadata": {
        "id": "WeXnxgOqJ2SZ"
      },
      "source": [
        "df.sort_values('quality')\n"
      ],
      "execution_count": null,
      "outputs": []
    },
    {
      "cell_type": "code",
      "metadata": {
        "id": "uKnUVDAiJ2SZ"
      },
      "source": [
        "  df.loc[df.quality > 'good', :]"
      ],
      "execution_count": null,
      "outputs": []
    },
    {
      "cell_type": "code",
      "metadata": {
        "id": "slymK1-9J2Sa"
      },
      "source": [
        "#22-pandas-How do I use pandas with scikit-learn to create Kaggle submissions.pptx"
      ],
      "execution_count": null,
      "outputs": []
    },
    {
      "cell_type": "code",
      "metadata": {
        "id": "OWEWj48AKF9D"
      },
      "source": [
        "import pandas as pd"
      ],
      "execution_count": null,
      "outputs": []
    },
    {
      "cell_type": "code",
      "metadata": {
        "id": "-_HpreVYKF9G"
      },
      "source": [
        "train = pd.read_csv('http://bit.ly/kaggletrain')"
      ],
      "execution_count": null,
      "outputs": []
    },
    {
      "cell_type": "code",
      "metadata": {
        "id": "WFlTB2c2KF9I"
      },
      "source": [
        "train.head()"
      ],
      "execution_count": null,
      "outputs": []
    },
    {
      "cell_type": "code",
      "metadata": {
        "id": "JueyWQVlKF9J"
      },
      "source": [
        "train.shape"
      ],
      "execution_count": null,
      "outputs": []
    },
    {
      "cell_type": "code",
      "metadata": {
        "id": "F6t5yBmZKF9K"
      },
      "source": [
        "feature_cols = ['Pclass', 'Parch']"
      ],
      "execution_count": null,
      "outputs": []
    },
    {
      "cell_type": "code",
      "metadata": {
        "id": "0hXM7CRYKF9K"
      },
      "source": [
        "X = train.loc[:, feature_cols]"
      ],
      "execution_count": null,
      "outputs": []
    },
    {
      "cell_type": "code",
      "metadata": {
        "id": "QW_aTxd8KF9L"
      },
      "source": [
        "X.head()"
      ],
      "execution_count": null,
      "outputs": []
    },
    {
      "cell_type": "code",
      "metadata": {
        "id": "qSXitWh-KF9M"
      },
      "source": [
        "X.shape"
      ],
      "execution_count": null,
      "outputs": []
    },
    {
      "cell_type": "code",
      "metadata": {
        "id": "sQpjC-DGKF9N"
      },
      "source": [
        "Y = train.Survived"
      ],
      "execution_count": null,
      "outputs": []
    },
    {
      "cell_type": "code",
      "metadata": {
        "id": "bkd-VhRLKF9O"
      },
      "source": [
        "Y.shape"
      ],
      "execution_count": null,
      "outputs": []
    },
    {
      "cell_type": "code",
      "metadata": {
        "id": "iJ8e3JArKF9P"
      },
      "source": [
        "from sklearn.linear_model import LogisticRegression"
      ],
      "execution_count": null,
      "outputs": []
    },
    {
      "cell_type": "code",
      "metadata": {
        "id": "Ih5rCpA3KF9P"
      },
      "source": [
        "logreg = LogisticRegression()"
      ],
      "execution_count": null,
      "outputs": []
    },
    {
      "cell_type": "code",
      "metadata": {
        "id": "KZYzNgZOKF9Q"
      },
      "source": [
        "logreg.fit(X,Y)"
      ],
      "execution_count": null,
      "outputs": []
    },
    {
      "cell_type": "code",
      "metadata": {
        "id": "OLP8TIuFKF9Q"
      },
      "source": [
        "# This issue involves a change from the ‘solver‘ argument that used to default to ‘liblinear‘ \n",
        "# and will change to default to ‘lbfgs‘ in a future version. You must now specify the ‘solver‘ argument."
      ],
      "execution_count": null,
      "outputs": []
    },
    {
      "cell_type": "code",
      "metadata": {
        "id": "nNv2HmsXKF9R"
      },
      "source": [
        "# To maintain the old behavior, you can specify the argument as follows:"
      ],
      "execution_count": null,
      "outputs": []
    },
    {
      "cell_type": "code",
      "metadata": {
        "id": "uyb6TGgNKF9R"
      },
      "source": [
        "logreg = LogisticRegression(solver='liblinear')"
      ],
      "execution_count": null,
      "outputs": []
    },
    {
      "cell_type": "code",
      "metadata": {
        "id": "_ROA6-hzKF9S"
      },
      "source": [
        "logreg.fit(X,Y)"
      ],
      "execution_count": null,
      "outputs": []
    },
    {
      "cell_type": "code",
      "metadata": {
        "id": "pGqwALdnKF9S"
      },
      "source": [
        "# To support the new behavior (recommended), you can specify the argument as follows:"
      ],
      "execution_count": null,
      "outputs": []
    },
    {
      "cell_type": "code",
      "metadata": {
        "id": "FPeCcvJxKF9T"
      },
      "source": [
        "logreg = LogisticRegression(solver='lbfgs')"
      ],
      "execution_count": null,
      "outputs": []
    },
    {
      "cell_type": "code",
      "metadata": {
        "id": "RAqdsew2KF9T"
      },
      "source": [
        "logreg.fit(X,Y)"
      ],
      "execution_count": null,
      "outputs": []
    },
    {
      "cell_type": "code",
      "metadata": {
        "id": "qkQV0Y0OKF9T"
      },
      "source": [
        "test = pd.read_csv('http://bit.ly/kaggletest')"
      ],
      "execution_count": null,
      "outputs": []
    },
    {
      "cell_type": "code",
      "metadata": {
        "id": "xvF3zAEyKF9U"
      },
      "source": [
        "test.head()"
      ],
      "execution_count": null,
      "outputs": []
    },
    {
      "cell_type": "code",
      "metadata": {
        "id": "ILJhnLP0KF9U"
      },
      "source": [
        "X_new = test.loc[:, feature_cols]"
      ],
      "execution_count": null,
      "outputs": []
    },
    {
      "cell_type": "code",
      "metadata": {
        "id": "6QPTOXHDKF9U"
      },
      "source": [
        "X_new.shape"
      ],
      "execution_count": null,
      "outputs": []
    },
    {
      "cell_type": "code",
      "metadata": {
        "id": "ZzdJbsO_KF9V"
      },
      "source": [
        "new_pred_class = logreg.predict(X_new)"
      ],
      "execution_count": null,
      "outputs": []
    },
    {
      "cell_type": "code",
      "metadata": {
        "id": "Hzl9KXGEKF9V"
      },
      "source": [
        "test.PassengerId"
      ],
      "execution_count": null,
      "outputs": []
    },
    {
      "cell_type": "code",
      "metadata": {
        "id": "Nkrs9CuPKF9W"
      },
      "source": [
        "new_pred_class"
      ],
      "execution_count": null,
      "outputs": []
    },
    {
      "cell_type": "code",
      "metadata": {
        "id": "GJs9vIXpKF9W"
      },
      "source": [
        "pd.DataFrame({'PassengerId':test.PassengerId, 'Survived':new_pred_class})"
      ],
      "execution_count": null,
      "outputs": []
    },
    {
      "cell_type": "code",
      "metadata": {
        "id": "iLXKYMOVKF9X"
      },
      "source": [
        "pd.DataFrame({'PassengerId':test.PassengerId, 'Survived':new_pred_class}).set_index('PassengerId')"
      ],
      "execution_count": null,
      "outputs": []
    },
    {
      "cell_type": "code",
      "metadata": {
        "id": "I7vlyzyMKF9X"
      },
      "source": [
        "pd.DataFrame({'PassengerId':test.PassengerId, 'Survived':new_pred_class}).set_index('PassengerId').to_csv('sub.csv')"
      ],
      "execution_count": null,
      "outputs": []
    },
    {
      "cell_type": "code",
      "metadata": {
        "id": "opyS7cbWkU71"
      },
      "source": [
        "#Bonus Tip"
      ],
      "execution_count": null,
      "outputs": []
    },
    {
      "cell_type": "code",
      "metadata": {
        "id": "hbyc11VSKF9X"
      },
      "source": [
        "train.to_pickle('train.pkl')"
      ],
      "execution_count": null,
      "outputs": []
    },
    {
      "cell_type": "code",
      "metadata": {
        "id": "PcNc-HtKKF9X"
      },
      "source": [
        "myDF = pd.read_pickle('train.pkl')"
      ],
      "execution_count": null,
      "outputs": []
    },
    {
      "cell_type": "code",
      "metadata": {
        "id": "kmbSLqR-KF9X"
      },
      "source": [
        "myDF.head()"
      ],
      "execution_count": null,
      "outputs": []
    },
    {
      "cell_type": "code",
      "metadata": {
        "id": "ZJ3gXpPoKF9X"
      },
      "source": [
        "#23-pandas-Q & A (02).pptx"
      ],
      "execution_count": null,
      "outputs": []
    },
    {
      "cell_type": "code",
      "metadata": {
        "id": "AXwiuoBYKSjR"
      },
      "source": [
        "import pandas as pd"
      ],
      "execution_count": null,
      "outputs": []
    },
    {
      "cell_type": "code",
      "metadata": {
        "id": "FlVz1UwyKSjU"
      },
      "source": [
        "ufo = pd.read_csv('http://bit.ly/uforeports')"
      ],
      "execution_count": null,
      "outputs": []
    },
    {
      "cell_type": "code",
      "metadata": {
        "id": "vF5CnJA-KSjV"
      },
      "source": [
        "pd.isnull(ufo).head()"
      ],
      "execution_count": null,
      "outputs": []
    },
    {
      "cell_type": "code",
      "metadata": {
        "id": "GUkSvZNzKSjX"
      },
      "source": [
        "ufo.isnull().head()"
      ],
      "execution_count": null,
      "outputs": []
    },
    {
      "cell_type": "code",
      "metadata": {
        "id": "bOWJHN9fKSjZ"
      },
      "source": [
        "ufo.head()"
      ],
      "execution_count": null,
      "outputs": []
    },
    {
      "cell_type": "code",
      "metadata": {
        "id": "vmt9gx6wKSjb"
      },
      "source": [
        "ufo.loc[0:4, :]"
      ],
      "execution_count": null,
      "outputs": []
    },
    {
      "cell_type": "code",
      "metadata": {
        "id": "vUxpX7LKKSjd"
      },
      "source": [
        "ufo.iloc[0:4, :]"
      ],
      "execution_count": null,
      "outputs": []
    },
    {
      "cell_type": "code",
      "metadata": {
        "id": "5UtbXod5KSjf"
      },
      "source": [
        "ufo.values"
      ],
      "execution_count": null,
      "outputs": []
    },
    {
      "cell_type": "code",
      "metadata": {
        "id": "uh9fr6cXKSjg"
      },
      "source": [
        "ufo.values[0:4,:]"
      ],
      "execution_count": null,
      "outputs": []
    },
    {
      "cell_type": "code",
      "metadata": {
        "id": "YqUykL4tKSjh"
      },
      "source": [
        "list(range(0,4))"
      ],
      "execution_count": null,
      "outputs": []
    },
    {
      "cell_type": "code",
      "metadata": {
        "id": "F1XmynPoKSji"
      },
      "source": [
        "ufo.head()"
      ],
      "execution_count": null,
      "outputs": []
    },
    {
      "cell_type": "code",
      "metadata": {
        "id": "-8gvxKDBKSjj"
      },
      "source": [
        "ufo.loc[:, 'City':'State']"
      ],
      "execution_count": null,
      "outputs": []
    },
    {
      "cell_type": "code",
      "metadata": {
        "id": "Ip9s7tx3KSjk"
      },
      "source": [
        "ufo.sample(3)"
      ],
      "execution_count": null,
      "outputs": []
    },
    {
      "cell_type": "code",
      "metadata": {
        "id": "fR_psYmZKSjl"
      },
      "source": [
        "ufo.sample(3, random_state=42)"
      ],
      "execution_count": null,
      "outputs": []
    },
    {
      "cell_type": "code",
      "metadata": {
        "id": "unE6TZeCKSjl"
      },
      "source": [
        "ufo.sample(frac=0.75, random_state=99)"
      ],
      "execution_count": null,
      "outputs": []
    },
    {
      "cell_type": "code",
      "metadata": {
        "id": "TcjA7JOXv_Tj"
      },
      "source": [
        "#Bonus Tip"
      ],
      "execution_count": null,
      "outputs": []
    },
    {
      "cell_type": "code",
      "metadata": {
        "id": "josvLnwWKSjm"
      },
      "source": [
        "train = ufo.sample(frac=0.75, random_state=99)"
      ],
      "execution_count": null,
      "outputs": []
    },
    {
      "cell_type": "code",
      "metadata": {
        "id": "HdnfOaqAKSjm"
      },
      "source": [
        "test = ufo.loc[~ufo.index.isin(train.index), :]"
      ],
      "execution_count": null,
      "outputs": []
    },
    {
      "cell_type": "code",
      "metadata": {
        "id": "QW-UcqOTKSjn"
      },
      "source": [
        "#24-pandas-How do I create dummy variables.pptx"
      ],
      "execution_count": null,
      "outputs": []
    },
    {
      "cell_type": "code",
      "metadata": {
        "id": "yIvc1XrxKuYb"
      },
      "source": [
        "import pandas as pd"
      ],
      "execution_count": null,
      "outputs": []
    },
    {
      "cell_type": "code",
      "metadata": {
        "id": "rD6JvE5fKuYe"
      },
      "source": [
        "train = pd.read_csv('http://bit.ly/kaggletrain')"
      ],
      "execution_count": null,
      "outputs": []
    },
    {
      "cell_type": "code",
      "metadata": {
        "id": "H14ed7muKuYg"
      },
      "source": [
        "train.head()"
      ],
      "execution_count": null,
      "outputs": []
    },
    {
      "cell_type": "code",
      "metadata": {
        "id": "nKHaYvl9KuYh"
      },
      "source": [
        "train['Sex_male'] = train.Sex.map({'female':0,'male':1})"
      ],
      "execution_count": null,
      "outputs": []
    },
    {
      "cell_type": "code",
      "metadata": {
        "id": "YDTK880fKuYi"
      },
      "source": [
        "train.head()"
      ],
      "execution_count": null,
      "outputs": []
    },
    {
      "cell_type": "code",
      "metadata": {
        "id": "er4-UZ2rcfwU"
      },
      "source": [
        "#Another approach"
      ],
      "execution_count": null,
      "outputs": []
    },
    {
      "cell_type": "code",
      "metadata": {
        "id": "3OMKSMsAKuYi"
      },
      "source": [
        "pd.get_dummies(train.Sex)"
      ],
      "execution_count": null,
      "outputs": []
    },
    {
      "cell_type": "code",
      "metadata": {
        "id": "8nAEi5DsKuYj"
      },
      "source": [
        "train.Sex.head()"
      ],
      "execution_count": null,
      "outputs": []
    },
    {
      "cell_type": "code",
      "metadata": {
        "id": "U6_runP-KuYk"
      },
      "source": [
        "pd.get_dummies(train.Sex).iloc[:, 1:]"
      ],
      "execution_count": null,
      "outputs": []
    },
    {
      "cell_type": "code",
      "metadata": {
        "id": "-4BRzs9hKuYl"
      },
      "source": [
        "pd.get_dummies(train.Sex, prefix='Sex').iloc[:, 1:]"
      ],
      "execution_count": null,
      "outputs": []
    },
    {
      "cell_type": "code",
      "metadata": {
        "id": "43rE8_mjKuYm"
      },
      "source": [
        "train.Embarked.value_counts()"
      ],
      "execution_count": null,
      "outputs": []
    },
    {
      "cell_type": "code",
      "metadata": {
        "id": "GG5MNm4oKuYn"
      },
      "source": [
        "pd.get_dummies(train.Embarked, prefix='Embarked')"
      ],
      "execution_count": null,
      "outputs": []
    },
    {
      "cell_type": "code",
      "metadata": {
        "id": "POa9r-5oKuYn"
      },
      "source": [
        "pd.get_dummies(train.Embarked, prefix='Embarked').iloc[:,1:]"
      ],
      "execution_count": null,
      "outputs": []
    },
    {
      "cell_type": "code",
      "metadata": {
        "id": "ArVajBnUKuYo"
      },
      "source": [
        "embarked_dummies = pd.get_dummies(train.Embarked, prefix='Embarked').iloc[:,1:]"
      ],
      "execution_count": null,
      "outputs": []
    },
    {
      "cell_type": "code",
      "metadata": {
        "id": "BgnSu47zKuYp"
      },
      "source": [
        "train = pd.concat([train, embarked_dummies], axis=1)"
      ],
      "execution_count": null,
      "outputs": []
    },
    {
      "cell_type": "code",
      "metadata": {
        "id": "nN-MS74kKuYp"
      },
      "source": [
        "train.head()"
      ],
      "execution_count": null,
      "outputs": []
    },
    {
      "cell_type": "code",
      "metadata": {
        "id": "AwuIiglOefiO"
      },
      "source": [
        "#Bonus Tip"
      ],
      "execution_count": null,
      "outputs": []
    },
    {
      "cell_type": "code",
      "metadata": {
        "id": "oOnRKhb4KuYq"
      },
      "source": [
        "train = pd.read_csv('http://bit.ly/kaggletrain')"
      ],
      "execution_count": null,
      "outputs": []
    },
    {
      "cell_type": "code",
      "metadata": {
        "id": "23Uc5SKlKuYq"
      },
      "source": [
        "train.head()"
      ],
      "execution_count": null,
      "outputs": []
    },
    {
      "cell_type": "code",
      "metadata": {
        "id": "cZI2BUfuKuYx"
      },
      "source": [
        "pd.get_dummies(train, columns=['Sex', 'Embarked'])"
      ],
      "execution_count": null,
      "outputs": []
    },
    {
      "cell_type": "code",
      "metadata": {
        "id": "64hltPzxKuYy"
      },
      "source": [
        "pd.get_dummies(train, columns=['Sex', 'Embarked'], drop_first=True)"
      ],
      "execution_count": null,
      "outputs": []
    },
    {
      "cell_type": "code",
      "metadata": {
        "id": "QElzCj6zKuYz"
      },
      "source": [
        "#25-pandas-How do I work with date and time.pptx"
      ],
      "execution_count": 17,
      "outputs": []
    },
    {
      "cell_type": "code",
      "metadata": {
        "id": "iIlJ89p1LDjm"
      },
      "source": [
        "import pandas as pd"
      ],
      "execution_count": null,
      "outputs": []
    },
    {
      "cell_type": "code",
      "metadata": {
        "id": "VvY76iOGLDjp"
      },
      "source": [
        "ufo = pd.read_csv('http://bit.ly/uforeports')"
      ],
      "execution_count": 18,
      "outputs": []
    },
    {
      "cell_type": "code",
      "metadata": {
        "id": "7j8mtvZgLDjt",
        "colab": {
          "base_uri": "https://localhost:8080/",
          "height": 206
        },
        "outputId": "3046f8f2-7084-48ab-9b03-8aabbc560b3c"
      },
      "source": [
        "ufo.head()"
      ],
      "execution_count": 19,
      "outputs": [
        {
          "output_type": "execute_result",
          "data": {
            "text/plain": [
              "                   City Colors Reported Shape Reported State             Time\n",
              "0                Ithaca             NaN       TRIANGLE    NY   6/1/1930 22:00\n",
              "1           Willingboro             NaN          OTHER    NJ  6/30/1930 20:00\n",
              "2               Holyoke             NaN           OVAL    CO  2/15/1931 14:00\n",
              "3               Abilene             NaN           DISK    KS   6/1/1931 13:00\n",
              "4  New York Worlds Fair             NaN          LIGHT    NY  4/18/1933 19:00"
            ],
            "text/html": [
              "\n",
              "  <div id=\"df-2dd4da72-807e-4ac8-908c-8f0a026b9008\">\n",
              "    <div class=\"colab-df-container\">\n",
              "      <div>\n",
              "<style scoped>\n",
              "    .dataframe tbody tr th:only-of-type {\n",
              "        vertical-align: middle;\n",
              "    }\n",
              "\n",
              "    .dataframe tbody tr th {\n",
              "        vertical-align: top;\n",
              "    }\n",
              "\n",
              "    .dataframe thead th {\n",
              "        text-align: right;\n",
              "    }\n",
              "</style>\n",
              "<table border=\"1\" class=\"dataframe\">\n",
              "  <thead>\n",
              "    <tr style=\"text-align: right;\">\n",
              "      <th></th>\n",
              "      <th>City</th>\n",
              "      <th>Colors Reported</th>\n",
              "      <th>Shape Reported</th>\n",
              "      <th>State</th>\n",
              "      <th>Time</th>\n",
              "    </tr>\n",
              "  </thead>\n",
              "  <tbody>\n",
              "    <tr>\n",
              "      <th>0</th>\n",
              "      <td>Ithaca</td>\n",
              "      <td>NaN</td>\n",
              "      <td>TRIANGLE</td>\n",
              "      <td>NY</td>\n",
              "      <td>6/1/1930 22:00</td>\n",
              "    </tr>\n",
              "    <tr>\n",
              "      <th>1</th>\n",
              "      <td>Willingboro</td>\n",
              "      <td>NaN</td>\n",
              "      <td>OTHER</td>\n",
              "      <td>NJ</td>\n",
              "      <td>6/30/1930 20:00</td>\n",
              "    </tr>\n",
              "    <tr>\n",
              "      <th>2</th>\n",
              "      <td>Holyoke</td>\n",
              "      <td>NaN</td>\n",
              "      <td>OVAL</td>\n",
              "      <td>CO</td>\n",
              "      <td>2/15/1931 14:00</td>\n",
              "    </tr>\n",
              "    <tr>\n",
              "      <th>3</th>\n",
              "      <td>Abilene</td>\n",
              "      <td>NaN</td>\n",
              "      <td>DISK</td>\n",
              "      <td>KS</td>\n",
              "      <td>6/1/1931 13:00</td>\n",
              "    </tr>\n",
              "    <tr>\n",
              "      <th>4</th>\n",
              "      <td>New York Worlds Fair</td>\n",
              "      <td>NaN</td>\n",
              "      <td>LIGHT</td>\n",
              "      <td>NY</td>\n",
              "      <td>4/18/1933 19:00</td>\n",
              "    </tr>\n",
              "  </tbody>\n",
              "</table>\n",
              "</div>\n",
              "      <button class=\"colab-df-convert\" onclick=\"convertToInteractive('df-2dd4da72-807e-4ac8-908c-8f0a026b9008')\"\n",
              "              title=\"Convert this dataframe to an interactive table.\"\n",
              "              style=\"display:none;\">\n",
              "        \n",
              "  <svg xmlns=\"http://www.w3.org/2000/svg\" height=\"24px\"viewBox=\"0 0 24 24\"\n",
              "       width=\"24px\">\n",
              "    <path d=\"M0 0h24v24H0V0z\" fill=\"none\"/>\n",
              "    <path d=\"M18.56 5.44l.94 2.06.94-2.06 2.06-.94-2.06-.94-.94-2.06-.94 2.06-2.06.94zm-11 1L8.5 8.5l.94-2.06 2.06-.94-2.06-.94L8.5 2.5l-.94 2.06-2.06.94zm10 10l.94 2.06.94-2.06 2.06-.94-2.06-.94-.94-2.06-.94 2.06-2.06.94z\"/><path d=\"M17.41 7.96l-1.37-1.37c-.4-.4-.92-.59-1.43-.59-.52 0-1.04.2-1.43.59L10.3 9.45l-7.72 7.72c-.78.78-.78 2.05 0 2.83L4 21.41c.39.39.9.59 1.41.59.51 0 1.02-.2 1.41-.59l7.78-7.78 2.81-2.81c.8-.78.8-2.07 0-2.86zM5.41 20L4 18.59l7.72-7.72 1.47 1.35L5.41 20z\"/>\n",
              "  </svg>\n",
              "      </button>\n",
              "      \n",
              "  <style>\n",
              "    .colab-df-container {\n",
              "      display:flex;\n",
              "      flex-wrap:wrap;\n",
              "      gap: 12px;\n",
              "    }\n",
              "\n",
              "    .colab-df-convert {\n",
              "      background-color: #E8F0FE;\n",
              "      border: none;\n",
              "      border-radius: 50%;\n",
              "      cursor: pointer;\n",
              "      display: none;\n",
              "      fill: #1967D2;\n",
              "      height: 32px;\n",
              "      padding: 0 0 0 0;\n",
              "      width: 32px;\n",
              "    }\n",
              "\n",
              "    .colab-df-convert:hover {\n",
              "      background-color: #E2EBFA;\n",
              "      box-shadow: 0px 1px 2px rgba(60, 64, 67, 0.3), 0px 1px 3px 1px rgba(60, 64, 67, 0.15);\n",
              "      fill: #174EA6;\n",
              "    }\n",
              "\n",
              "    [theme=dark] .colab-df-convert {\n",
              "      background-color: #3B4455;\n",
              "      fill: #D2E3FC;\n",
              "    }\n",
              "\n",
              "    [theme=dark] .colab-df-convert:hover {\n",
              "      background-color: #434B5C;\n",
              "      box-shadow: 0px 1px 3px 1px rgba(0, 0, 0, 0.15);\n",
              "      filter: drop-shadow(0px 1px 2px rgba(0, 0, 0, 0.3));\n",
              "      fill: #FFFFFF;\n",
              "    }\n",
              "  </style>\n",
              "\n",
              "      <script>\n",
              "        const buttonEl =\n",
              "          document.querySelector('#df-2dd4da72-807e-4ac8-908c-8f0a026b9008 button.colab-df-convert');\n",
              "        buttonEl.style.display =\n",
              "          google.colab.kernel.accessAllowed ? 'block' : 'none';\n",
              "\n",
              "        async function convertToInteractive(key) {\n",
              "          const element = document.querySelector('#df-2dd4da72-807e-4ac8-908c-8f0a026b9008');\n",
              "          const dataTable =\n",
              "            await google.colab.kernel.invokeFunction('convertToInteractive',\n",
              "                                                     [key], {});\n",
              "          if (!dataTable) return;\n",
              "\n",
              "          const docLinkHtml = 'Like what you see? Visit the ' +\n",
              "            '<a target=\"_blank\" href=https://colab.research.google.com/notebooks/data_table.ipynb>data table notebook</a>'\n",
              "            + ' to learn more about interactive tables.';\n",
              "          element.innerHTML = '';\n",
              "          dataTable['output_type'] = 'display_data';\n",
              "          await google.colab.output.renderOutput(dataTable, element);\n",
              "          const docLink = document.createElement('div');\n",
              "          docLink.innerHTML = docLinkHtml;\n",
              "          element.appendChild(docLink);\n",
              "        }\n",
              "      </script>\n",
              "    </div>\n",
              "  </div>\n",
              "  "
            ]
          },
          "metadata": {},
          "execution_count": 19
        }
      ]
    },
    {
      "cell_type": "code",
      "metadata": {
        "id": "8METMp0aLDjv",
        "colab": {
          "base_uri": "https://localhost:8080/"
        },
        "outputId": "3a6f79ea-9f31-4e64-a575-4ec8c5a4deb9"
      },
      "source": [
        "ufo.dtypes"
      ],
      "execution_count": 20,
      "outputs": [
        {
          "output_type": "execute_result",
          "data": {
            "text/plain": [
              "City               object\n",
              "Colors Reported    object\n",
              "Shape Reported     object\n",
              "State              object\n",
              "Time               object\n",
              "dtype: object"
            ]
          },
          "metadata": {},
          "execution_count": 20
        }
      ]
    },
    {
      "cell_type": "code",
      "metadata": {
        "id": "YXEtIYveLDjy",
        "colab": {
          "base_uri": "https://localhost:8080/"
        },
        "outputId": "3be87230-e586-4836-dea1-ae94e5f53994"
      },
      "source": [
        "ufo.Time.str.slice(-5,-3)"
      ],
      "execution_count": 21,
      "outputs": [
        {
          "output_type": "execute_result",
          "data": {
            "text/plain": [
              "0        22\n",
              "1        20\n",
              "2        14\n",
              "3        13\n",
              "4        19\n",
              "         ..\n",
              "18236    23\n",
              "18237    23\n",
              "18238    23\n",
              "18239    23\n",
              "18240    23\n",
              "Name: Time, Length: 18241, dtype: object"
            ]
          },
          "metadata": {},
          "execution_count": 21
        }
      ]
    },
    {
      "cell_type": "code",
      "metadata": {
        "id": "Gy9VtvDoLDj1",
        "colab": {
          "base_uri": "https://localhost:8080/"
        },
        "outputId": "301ca3cb-035c-4b46-a192-ef85f3edcc9a"
      },
      "source": [
        "ufo.Time.str.slice(-5,-3).astype(int).head()"
      ],
      "execution_count": 22,
      "outputs": [
        {
          "output_type": "execute_result",
          "data": {
            "text/plain": [
              "0    22\n",
              "1    20\n",
              "2    14\n",
              "3    13\n",
              "4    19\n",
              "Name: Time, dtype: int64"
            ]
          },
          "metadata": {},
          "execution_count": 22
        }
      ]
    },
    {
      "cell_type": "code",
      "metadata": {
        "id": "N3gOlQI4LDj3"
      },
      "source": [
        "ufo['Time'] = pd.to_datetime(ufo.Time)"
      ],
      "execution_count": 23,
      "outputs": []
    },
    {
      "cell_type": "code",
      "metadata": {
        "id": "p648hdhfLDj-",
        "colab": {
          "base_uri": "https://localhost:8080/",
          "height": 206
        },
        "outputId": "05a2a8db-8003-48dd-bf59-9882f91c594d"
      },
      "source": [
        "ufo.head()"
      ],
      "execution_count": 24,
      "outputs": [
        {
          "output_type": "execute_result",
          "data": {
            "text/plain": [
              "                   City Colors Reported Shape Reported State  \\\n",
              "0                Ithaca             NaN       TRIANGLE    NY   \n",
              "1           Willingboro             NaN          OTHER    NJ   \n",
              "2               Holyoke             NaN           OVAL    CO   \n",
              "3               Abilene             NaN           DISK    KS   \n",
              "4  New York Worlds Fair             NaN          LIGHT    NY   \n",
              "\n",
              "                 Time  \n",
              "0 1930-06-01 22:00:00  \n",
              "1 1930-06-30 20:00:00  \n",
              "2 1931-02-15 14:00:00  \n",
              "3 1931-06-01 13:00:00  \n",
              "4 1933-04-18 19:00:00  "
            ],
            "text/html": [
              "\n",
              "  <div id=\"df-1d319b71-3b28-4fc3-8d47-e60cdc271cf3\">\n",
              "    <div class=\"colab-df-container\">\n",
              "      <div>\n",
              "<style scoped>\n",
              "    .dataframe tbody tr th:only-of-type {\n",
              "        vertical-align: middle;\n",
              "    }\n",
              "\n",
              "    .dataframe tbody tr th {\n",
              "        vertical-align: top;\n",
              "    }\n",
              "\n",
              "    .dataframe thead th {\n",
              "        text-align: right;\n",
              "    }\n",
              "</style>\n",
              "<table border=\"1\" class=\"dataframe\">\n",
              "  <thead>\n",
              "    <tr style=\"text-align: right;\">\n",
              "      <th></th>\n",
              "      <th>City</th>\n",
              "      <th>Colors Reported</th>\n",
              "      <th>Shape Reported</th>\n",
              "      <th>State</th>\n",
              "      <th>Time</th>\n",
              "    </tr>\n",
              "  </thead>\n",
              "  <tbody>\n",
              "    <tr>\n",
              "      <th>0</th>\n",
              "      <td>Ithaca</td>\n",
              "      <td>NaN</td>\n",
              "      <td>TRIANGLE</td>\n",
              "      <td>NY</td>\n",
              "      <td>1930-06-01 22:00:00</td>\n",
              "    </tr>\n",
              "    <tr>\n",
              "      <th>1</th>\n",
              "      <td>Willingboro</td>\n",
              "      <td>NaN</td>\n",
              "      <td>OTHER</td>\n",
              "      <td>NJ</td>\n",
              "      <td>1930-06-30 20:00:00</td>\n",
              "    </tr>\n",
              "    <tr>\n",
              "      <th>2</th>\n",
              "      <td>Holyoke</td>\n",
              "      <td>NaN</td>\n",
              "      <td>OVAL</td>\n",
              "      <td>CO</td>\n",
              "      <td>1931-02-15 14:00:00</td>\n",
              "    </tr>\n",
              "    <tr>\n",
              "      <th>3</th>\n",
              "      <td>Abilene</td>\n",
              "      <td>NaN</td>\n",
              "      <td>DISK</td>\n",
              "      <td>KS</td>\n",
              "      <td>1931-06-01 13:00:00</td>\n",
              "    </tr>\n",
              "    <tr>\n",
              "      <th>4</th>\n",
              "      <td>New York Worlds Fair</td>\n",
              "      <td>NaN</td>\n",
              "      <td>LIGHT</td>\n",
              "      <td>NY</td>\n",
              "      <td>1933-04-18 19:00:00</td>\n",
              "    </tr>\n",
              "  </tbody>\n",
              "</table>\n",
              "</div>\n",
              "      <button class=\"colab-df-convert\" onclick=\"convertToInteractive('df-1d319b71-3b28-4fc3-8d47-e60cdc271cf3')\"\n",
              "              title=\"Convert this dataframe to an interactive table.\"\n",
              "              style=\"display:none;\">\n",
              "        \n",
              "  <svg xmlns=\"http://www.w3.org/2000/svg\" height=\"24px\"viewBox=\"0 0 24 24\"\n",
              "       width=\"24px\">\n",
              "    <path d=\"M0 0h24v24H0V0z\" fill=\"none\"/>\n",
              "    <path d=\"M18.56 5.44l.94 2.06.94-2.06 2.06-.94-2.06-.94-.94-2.06-.94 2.06-2.06.94zm-11 1L8.5 8.5l.94-2.06 2.06-.94-2.06-.94L8.5 2.5l-.94 2.06-2.06.94zm10 10l.94 2.06.94-2.06 2.06-.94-2.06-.94-.94-2.06-.94 2.06-2.06.94z\"/><path d=\"M17.41 7.96l-1.37-1.37c-.4-.4-.92-.59-1.43-.59-.52 0-1.04.2-1.43.59L10.3 9.45l-7.72 7.72c-.78.78-.78 2.05 0 2.83L4 21.41c.39.39.9.59 1.41.59.51 0 1.02-.2 1.41-.59l7.78-7.78 2.81-2.81c.8-.78.8-2.07 0-2.86zM5.41 20L4 18.59l7.72-7.72 1.47 1.35L5.41 20z\"/>\n",
              "  </svg>\n",
              "      </button>\n",
              "      \n",
              "  <style>\n",
              "    .colab-df-container {\n",
              "      display:flex;\n",
              "      flex-wrap:wrap;\n",
              "      gap: 12px;\n",
              "    }\n",
              "\n",
              "    .colab-df-convert {\n",
              "      background-color: #E8F0FE;\n",
              "      border: none;\n",
              "      border-radius: 50%;\n",
              "      cursor: pointer;\n",
              "      display: none;\n",
              "      fill: #1967D2;\n",
              "      height: 32px;\n",
              "      padding: 0 0 0 0;\n",
              "      width: 32px;\n",
              "    }\n",
              "\n",
              "    .colab-df-convert:hover {\n",
              "      background-color: #E2EBFA;\n",
              "      box-shadow: 0px 1px 2px rgba(60, 64, 67, 0.3), 0px 1px 3px 1px rgba(60, 64, 67, 0.15);\n",
              "      fill: #174EA6;\n",
              "    }\n",
              "\n",
              "    [theme=dark] .colab-df-convert {\n",
              "      background-color: #3B4455;\n",
              "      fill: #D2E3FC;\n",
              "    }\n",
              "\n",
              "    [theme=dark] .colab-df-convert:hover {\n",
              "      background-color: #434B5C;\n",
              "      box-shadow: 0px 1px 3px 1px rgba(0, 0, 0, 0.15);\n",
              "      filter: drop-shadow(0px 1px 2px rgba(0, 0, 0, 0.3));\n",
              "      fill: #FFFFFF;\n",
              "    }\n",
              "  </style>\n",
              "\n",
              "      <script>\n",
              "        const buttonEl =\n",
              "          document.querySelector('#df-1d319b71-3b28-4fc3-8d47-e60cdc271cf3 button.colab-df-convert');\n",
              "        buttonEl.style.display =\n",
              "          google.colab.kernel.accessAllowed ? 'block' : 'none';\n",
              "\n",
              "        async function convertToInteractive(key) {\n",
              "          const element = document.querySelector('#df-1d319b71-3b28-4fc3-8d47-e60cdc271cf3');\n",
              "          const dataTable =\n",
              "            await google.colab.kernel.invokeFunction('convertToInteractive',\n",
              "                                                     [key], {});\n",
              "          if (!dataTable) return;\n",
              "\n",
              "          const docLinkHtml = 'Like what you see? Visit the ' +\n",
              "            '<a target=\"_blank\" href=https://colab.research.google.com/notebooks/data_table.ipynb>data table notebook</a>'\n",
              "            + ' to learn more about interactive tables.';\n",
              "          element.innerHTML = '';\n",
              "          dataTable['output_type'] = 'display_data';\n",
              "          await google.colab.output.renderOutput(dataTable, element);\n",
              "          const docLink = document.createElement('div');\n",
              "          docLink.innerHTML = docLinkHtml;\n",
              "          element.appendChild(docLink);\n",
              "        }\n",
              "      </script>\n",
              "    </div>\n",
              "  </div>\n",
              "  "
            ]
          },
          "metadata": {},
          "execution_count": 24
        }
      ]
    },
    {
      "cell_type": "code",
      "metadata": {
        "id": "joKZHUJILDkA",
        "colab": {
          "base_uri": "https://localhost:8080/"
        },
        "outputId": "153bde55-9c75-4ea3-b057-e9b4c8f3ad18"
      },
      "source": [
        "ufo.dtypes"
      ],
      "execution_count": 25,
      "outputs": [
        {
          "output_type": "execute_result",
          "data": {
            "text/plain": [
              "City                       object\n",
              "Colors Reported            object\n",
              "Shape Reported             object\n",
              "State                      object\n",
              "Time               datetime64[ns]\n",
              "dtype: object"
            ]
          },
          "metadata": {},
          "execution_count": 25
        }
      ]
    },
    {
      "cell_type": "code",
      "metadata": {
        "id": "sE5J07YaLDkC",
        "colab": {
          "base_uri": "https://localhost:8080/"
        },
        "outputId": "bf978b3a-7ecb-4c96-e86e-8af43e2faadb"
      },
      "source": [
        "ufo.Time.dt.hour.head()"
      ],
      "execution_count": 26,
      "outputs": [
        {
          "output_type": "execute_result",
          "data": {
            "text/plain": [
              "0    22\n",
              "1    20\n",
              "2    14\n",
              "3    13\n",
              "4    19\n",
              "Name: Time, dtype: int64"
            ]
          },
          "metadata": {},
          "execution_count": 26
        }
      ]
    },
    {
      "cell_type": "code",
      "metadata": {
        "colab": {
          "base_uri": "https://localhost:8080/"
        },
        "id": "d_lqCKTHivVq",
        "outputId": "5e4992d5-2dd9-4734-aa92-f90324a1f29a"
      },
      "source": [
        "ufo.Time.dt.weekday.head()"
      ],
      "execution_count": 27,
      "outputs": [
        {
          "output_type": "execute_result",
          "data": {
            "text/plain": [
              "0    6\n",
              "1    0\n",
              "2    6\n",
              "3    0\n",
              "4    1\n",
              "Name: Time, dtype: int64"
            ]
          },
          "metadata": {},
          "execution_count": 27
        }
      ]
    },
    {
      "cell_type": "code",
      "metadata": {
        "id": "RrbRiYNgLDkF",
        "colab": {
          "base_uri": "https://localhost:8080/"
        },
        "outputId": "38eb267e-916f-4971-8fb4-5c6a0fb4d7ad"
      },
      "source": [
        "ufo.Time.dt.dayofweek.head()"
      ],
      "execution_count": 36,
      "outputs": [
        {
          "output_type": "execute_result",
          "data": {
            "text/plain": [
              "0    6\n",
              "1    0\n",
              "2    6\n",
              "3    0\n",
              "4    1\n",
              "Name: Time, dtype: int64"
            ]
          },
          "metadata": {},
          "execution_count": 36
        }
      ]
    },
    {
      "cell_type": "code",
      "metadata": {
        "colab": {
          "base_uri": "https://localhost:8080/"
        },
        "id": "cRxBPYIZj1_d",
        "outputId": "f2a1ea7a-d8d8-4e16-ead4-3d52dc483d05"
      },
      "source": [
        "ufo.Time.dt.day_name().head()"
      ],
      "execution_count": 37,
      "outputs": [
        {
          "output_type": "execute_result",
          "data": {
            "text/plain": [
              "0     Sunday\n",
              "1     Monday\n",
              "2     Sunday\n",
              "3     Monday\n",
              "4    Tuesday\n",
              "Name: Time, dtype: object"
            ]
          },
          "metadata": {},
          "execution_count": 37
        }
      ]
    },
    {
      "cell_type": "code",
      "metadata": {
        "id": "qwtf_O4gLDkG",
        "colab": {
          "base_uri": "https://localhost:8080/"
        },
        "outputId": "aab40300-a64d-48cc-bb29-d042acd2d5ff"
      },
      "source": [
        "ufo.Time.dt.weekday.head()"
      ],
      "execution_count": 38,
      "outputs": [
        {
          "output_type": "execute_result",
          "data": {
            "text/plain": [
              "0    6\n",
              "1    0\n",
              "2    6\n",
              "3    0\n",
              "4    1\n",
              "Name: Time, dtype: int64"
            ]
          },
          "metadata": {},
          "execution_count": 38
        }
      ]
    },
    {
      "cell_type": "code",
      "metadata": {
        "id": "4qzaymUYLDkH",
        "colab": {
          "base_uri": "https://localhost:8080/"
        },
        "outputId": "352559e1-0567-4446-8a95-1db5eeb0b79e"
      },
      "source": [
        "ufo.Time.dt.dayofyear.head()"
      ],
      "execution_count": 35,
      "outputs": [
        {
          "output_type": "execute_result",
          "data": {
            "text/plain": [
              "0    152\n",
              "1    181\n",
              "2     46\n",
              "3    152\n",
              "4    108\n",
              "Name: Time, dtype: int64"
            ]
          },
          "metadata": {},
          "execution_count": 35
        }
      ]
    },
    {
      "cell_type": "code",
      "metadata": {
        "id": "rbi8jThMLDkJ",
        "colab": {
          "base_uri": "https://localhost:8080/"
        },
        "outputId": "471a96cd-8b5e-4c87-93e5-8d520d84461d"
      },
      "source": [
        "pd.to_datetime('1/1/1999')"
      ],
      "execution_count": 34,
      "outputs": [
        {
          "output_type": "execute_result",
          "data": {
            "text/plain": [
              "Timestamp('1999-01-01 00:00:00')"
            ]
          },
          "metadata": {},
          "execution_count": 34
        }
      ]
    },
    {
      "cell_type": "code",
      "metadata": {
        "id": "cg-IfvvKLDkK"
      },
      "source": [
        "ts = pd.to_datetime('1/1/1999')"
      ],
      "execution_count": 39,
      "outputs": []
    },
    {
      "cell_type": "code",
      "metadata": {
        "id": "G7yJsSfALDkK",
        "colab": {
          "base_uri": "https://localhost:8080/",
          "height": 206
        },
        "outputId": "33a7d968-e472-4325-8a69-73445d877b42"
      },
      "source": [
        "ufo.loc[ufo.Time >= ts, :].head()"
      ],
      "execution_count": 40,
      "outputs": [
        {
          "output_type": "execute_result",
          "data": {
            "text/plain": [
              "                    City Colors Reported Shape Reported State  \\\n",
              "12832          Loma Rica             NaN          LIGHT    CA   \n",
              "12833            Bauxite             NaN            NaN    AR   \n",
              "12834           Florence             NaN       CYLINDER    SC   \n",
              "12835       Lake Henshaw             NaN          CIGAR    CA   \n",
              "12836  Wilmington Island             NaN          LIGHT    GA   \n",
              "\n",
              "                     Time  \n",
              "12832 1999-01-01 02:30:00  \n",
              "12833 1999-01-01 03:00:00  \n",
              "12834 1999-01-01 14:00:00  \n",
              "12835 1999-01-01 15:00:00  \n",
              "12836 1999-01-01 17:15:00  "
            ],
            "text/html": [
              "\n",
              "  <div id=\"df-446fb9a7-8d90-4d50-9aef-c936a27b3d13\">\n",
              "    <div class=\"colab-df-container\">\n",
              "      <div>\n",
              "<style scoped>\n",
              "    .dataframe tbody tr th:only-of-type {\n",
              "        vertical-align: middle;\n",
              "    }\n",
              "\n",
              "    .dataframe tbody tr th {\n",
              "        vertical-align: top;\n",
              "    }\n",
              "\n",
              "    .dataframe thead th {\n",
              "        text-align: right;\n",
              "    }\n",
              "</style>\n",
              "<table border=\"1\" class=\"dataframe\">\n",
              "  <thead>\n",
              "    <tr style=\"text-align: right;\">\n",
              "      <th></th>\n",
              "      <th>City</th>\n",
              "      <th>Colors Reported</th>\n",
              "      <th>Shape Reported</th>\n",
              "      <th>State</th>\n",
              "      <th>Time</th>\n",
              "    </tr>\n",
              "  </thead>\n",
              "  <tbody>\n",
              "    <tr>\n",
              "      <th>12832</th>\n",
              "      <td>Loma Rica</td>\n",
              "      <td>NaN</td>\n",
              "      <td>LIGHT</td>\n",
              "      <td>CA</td>\n",
              "      <td>1999-01-01 02:30:00</td>\n",
              "    </tr>\n",
              "    <tr>\n",
              "      <th>12833</th>\n",
              "      <td>Bauxite</td>\n",
              "      <td>NaN</td>\n",
              "      <td>NaN</td>\n",
              "      <td>AR</td>\n",
              "      <td>1999-01-01 03:00:00</td>\n",
              "    </tr>\n",
              "    <tr>\n",
              "      <th>12834</th>\n",
              "      <td>Florence</td>\n",
              "      <td>NaN</td>\n",
              "      <td>CYLINDER</td>\n",
              "      <td>SC</td>\n",
              "      <td>1999-01-01 14:00:00</td>\n",
              "    </tr>\n",
              "    <tr>\n",
              "      <th>12835</th>\n",
              "      <td>Lake Henshaw</td>\n",
              "      <td>NaN</td>\n",
              "      <td>CIGAR</td>\n",
              "      <td>CA</td>\n",
              "      <td>1999-01-01 15:00:00</td>\n",
              "    </tr>\n",
              "    <tr>\n",
              "      <th>12836</th>\n",
              "      <td>Wilmington Island</td>\n",
              "      <td>NaN</td>\n",
              "      <td>LIGHT</td>\n",
              "      <td>GA</td>\n",
              "      <td>1999-01-01 17:15:00</td>\n",
              "    </tr>\n",
              "  </tbody>\n",
              "</table>\n",
              "</div>\n",
              "      <button class=\"colab-df-convert\" onclick=\"convertToInteractive('df-446fb9a7-8d90-4d50-9aef-c936a27b3d13')\"\n",
              "              title=\"Convert this dataframe to an interactive table.\"\n",
              "              style=\"display:none;\">\n",
              "        \n",
              "  <svg xmlns=\"http://www.w3.org/2000/svg\" height=\"24px\"viewBox=\"0 0 24 24\"\n",
              "       width=\"24px\">\n",
              "    <path d=\"M0 0h24v24H0V0z\" fill=\"none\"/>\n",
              "    <path d=\"M18.56 5.44l.94 2.06.94-2.06 2.06-.94-2.06-.94-.94-2.06-.94 2.06-2.06.94zm-11 1L8.5 8.5l.94-2.06 2.06-.94-2.06-.94L8.5 2.5l-.94 2.06-2.06.94zm10 10l.94 2.06.94-2.06 2.06-.94-2.06-.94-.94-2.06-.94 2.06-2.06.94z\"/><path d=\"M17.41 7.96l-1.37-1.37c-.4-.4-.92-.59-1.43-.59-.52 0-1.04.2-1.43.59L10.3 9.45l-7.72 7.72c-.78.78-.78 2.05 0 2.83L4 21.41c.39.39.9.59 1.41.59.51 0 1.02-.2 1.41-.59l7.78-7.78 2.81-2.81c.8-.78.8-2.07 0-2.86zM5.41 20L4 18.59l7.72-7.72 1.47 1.35L5.41 20z\"/>\n",
              "  </svg>\n",
              "      </button>\n",
              "      \n",
              "  <style>\n",
              "    .colab-df-container {\n",
              "      display:flex;\n",
              "      flex-wrap:wrap;\n",
              "      gap: 12px;\n",
              "    }\n",
              "\n",
              "    .colab-df-convert {\n",
              "      background-color: #E8F0FE;\n",
              "      border: none;\n",
              "      border-radius: 50%;\n",
              "      cursor: pointer;\n",
              "      display: none;\n",
              "      fill: #1967D2;\n",
              "      height: 32px;\n",
              "      padding: 0 0 0 0;\n",
              "      width: 32px;\n",
              "    }\n",
              "\n",
              "    .colab-df-convert:hover {\n",
              "      background-color: #E2EBFA;\n",
              "      box-shadow: 0px 1px 2px rgba(60, 64, 67, 0.3), 0px 1px 3px 1px rgba(60, 64, 67, 0.15);\n",
              "      fill: #174EA6;\n",
              "    }\n",
              "\n",
              "    [theme=dark] .colab-df-convert {\n",
              "      background-color: #3B4455;\n",
              "      fill: #D2E3FC;\n",
              "    }\n",
              "\n",
              "    [theme=dark] .colab-df-convert:hover {\n",
              "      background-color: #434B5C;\n",
              "      box-shadow: 0px 1px 3px 1px rgba(0, 0, 0, 0.15);\n",
              "      filter: drop-shadow(0px 1px 2px rgba(0, 0, 0, 0.3));\n",
              "      fill: #FFFFFF;\n",
              "    }\n",
              "  </style>\n",
              "\n",
              "      <script>\n",
              "        const buttonEl =\n",
              "          document.querySelector('#df-446fb9a7-8d90-4d50-9aef-c936a27b3d13 button.colab-df-convert');\n",
              "        buttonEl.style.display =\n",
              "          google.colab.kernel.accessAllowed ? 'block' : 'none';\n",
              "\n",
              "        async function convertToInteractive(key) {\n",
              "          const element = document.querySelector('#df-446fb9a7-8d90-4d50-9aef-c936a27b3d13');\n",
              "          const dataTable =\n",
              "            await google.colab.kernel.invokeFunction('convertToInteractive',\n",
              "                                                     [key], {});\n",
              "          if (!dataTable) return;\n",
              "\n",
              "          const docLinkHtml = 'Like what you see? Visit the ' +\n",
              "            '<a target=\"_blank\" href=https://colab.research.google.com/notebooks/data_table.ipynb>data table notebook</a>'\n",
              "            + ' to learn more about interactive tables.';\n",
              "          element.innerHTML = '';\n",
              "          dataTable['output_type'] = 'display_data';\n",
              "          await google.colab.output.renderOutput(dataTable, element);\n",
              "          const docLink = document.createElement('div');\n",
              "          docLink.innerHTML = docLinkHtml;\n",
              "          element.appendChild(docLink);\n",
              "        }\n",
              "      </script>\n",
              "    </div>\n",
              "  </div>\n",
              "  "
            ]
          },
          "metadata": {},
          "execution_count": 40
        }
      ]
    },
    {
      "cell_type": "code",
      "metadata": {
        "id": "MttqOFFtLDkL",
        "colab": {
          "base_uri": "https://localhost:8080/"
        },
        "outputId": "61564166-2382-43fd-fed4-cd02269a089c"
      },
      "source": [
        "ufo.Time.max()"
      ],
      "execution_count": 31,
      "outputs": [
        {
          "output_type": "execute_result",
          "data": {
            "text/plain": [
              "Timestamp('2000-12-31 23:59:00')"
            ]
          },
          "metadata": {},
          "execution_count": 31
        }
      ]
    },
    {
      "cell_type": "code",
      "metadata": {
        "id": "nPqFyn_6LDkM",
        "colab": {
          "base_uri": "https://localhost:8080/"
        },
        "outputId": "2a19c292-2bd5-45ce-d9cb-6212a54c90c6"
      },
      "source": [
        "ufo.Time.min()"
      ],
      "execution_count": 30,
      "outputs": [
        {
          "output_type": "execute_result",
          "data": {
            "text/plain": [
              "Timestamp('1930-06-01 22:00:00')"
            ]
          },
          "metadata": {},
          "execution_count": 30
        }
      ]
    },
    {
      "cell_type": "code",
      "metadata": {
        "id": "V1UIPc3ILDkM",
        "colab": {
          "base_uri": "https://localhost:8080/"
        },
        "outputId": "f372af0d-6540-4ad0-8e9a-0e430f50db0f"
      },
      "source": [
        "ufo.Time.max() - ufo.Time.min()"
      ],
      "execution_count": 29,
      "outputs": [
        {
          "output_type": "execute_result",
          "data": {
            "text/plain": [
              "Timedelta('25781 days 01:59:00')"
            ]
          },
          "metadata": {},
          "execution_count": 29
        }
      ]
    },
    {
      "cell_type": "code",
      "metadata": {
        "id": "mTMLZoDxLDkN",
        "colab": {
          "base_uri": "https://localhost:8080/"
        },
        "outputId": "468d2aad-59c3-41ec-807d-e139f9ae8460"
      },
      "source": [
        "(ufo.Time.max() - ufo.Time.min()).days"
      ],
      "execution_count": 28,
      "outputs": [
        {
          "output_type": "execute_result",
          "data": {
            "text/plain": [
              "25781"
            ]
          },
          "metadata": {},
          "execution_count": 28
        }
      ]
    },
    {
      "cell_type": "code",
      "metadata": {
        "id": "ZcCBg_oRng1P"
      },
      "source": [
        "#Bonus Tip"
      ],
      "execution_count": null,
      "outputs": []
    },
    {
      "cell_type": "code",
      "metadata": {
        "id": "XO8520fDLDkO"
      },
      "source": [
        "%matplotlib inline"
      ],
      "execution_count": 41,
      "outputs": []
    },
    {
      "cell_type": "code",
      "metadata": {
        "id": "nocZWupSLDkP"
      },
      "source": [
        "ufo['Year'] = ufo.Time.dt.year"
      ],
      "execution_count": 42,
      "outputs": []
    },
    {
      "cell_type": "code",
      "metadata": {
        "id": "3jWzrZjeLDkP",
        "colab": {
          "base_uri": "https://localhost:8080/",
          "height": 206
        },
        "outputId": "8e8ce223-7189-4842-a018-b23f5985c390"
      },
      "source": [
        "ufo.head()"
      ],
      "execution_count": 43,
      "outputs": [
        {
          "output_type": "execute_result",
          "data": {
            "text/plain": [
              "                   City Colors Reported Shape Reported State  \\\n",
              "0                Ithaca             NaN       TRIANGLE    NY   \n",
              "1           Willingboro             NaN          OTHER    NJ   \n",
              "2               Holyoke             NaN           OVAL    CO   \n",
              "3               Abilene             NaN           DISK    KS   \n",
              "4  New York Worlds Fair             NaN          LIGHT    NY   \n",
              "\n",
              "                 Time  Year  \n",
              "0 1930-06-01 22:00:00  1930  \n",
              "1 1930-06-30 20:00:00  1930  \n",
              "2 1931-02-15 14:00:00  1931  \n",
              "3 1931-06-01 13:00:00  1931  \n",
              "4 1933-04-18 19:00:00  1933  "
            ],
            "text/html": [
              "\n",
              "  <div id=\"df-0fd3f610-124f-40fe-a62a-3ef5cd5b803e\">\n",
              "    <div class=\"colab-df-container\">\n",
              "      <div>\n",
              "<style scoped>\n",
              "    .dataframe tbody tr th:only-of-type {\n",
              "        vertical-align: middle;\n",
              "    }\n",
              "\n",
              "    .dataframe tbody tr th {\n",
              "        vertical-align: top;\n",
              "    }\n",
              "\n",
              "    .dataframe thead th {\n",
              "        text-align: right;\n",
              "    }\n",
              "</style>\n",
              "<table border=\"1\" class=\"dataframe\">\n",
              "  <thead>\n",
              "    <tr style=\"text-align: right;\">\n",
              "      <th></th>\n",
              "      <th>City</th>\n",
              "      <th>Colors Reported</th>\n",
              "      <th>Shape Reported</th>\n",
              "      <th>State</th>\n",
              "      <th>Time</th>\n",
              "      <th>Year</th>\n",
              "    </tr>\n",
              "  </thead>\n",
              "  <tbody>\n",
              "    <tr>\n",
              "      <th>0</th>\n",
              "      <td>Ithaca</td>\n",
              "      <td>NaN</td>\n",
              "      <td>TRIANGLE</td>\n",
              "      <td>NY</td>\n",
              "      <td>1930-06-01 22:00:00</td>\n",
              "      <td>1930</td>\n",
              "    </tr>\n",
              "    <tr>\n",
              "      <th>1</th>\n",
              "      <td>Willingboro</td>\n",
              "      <td>NaN</td>\n",
              "      <td>OTHER</td>\n",
              "      <td>NJ</td>\n",
              "      <td>1930-06-30 20:00:00</td>\n",
              "      <td>1930</td>\n",
              "    </tr>\n",
              "    <tr>\n",
              "      <th>2</th>\n",
              "      <td>Holyoke</td>\n",
              "      <td>NaN</td>\n",
              "      <td>OVAL</td>\n",
              "      <td>CO</td>\n",
              "      <td>1931-02-15 14:00:00</td>\n",
              "      <td>1931</td>\n",
              "    </tr>\n",
              "    <tr>\n",
              "      <th>3</th>\n",
              "      <td>Abilene</td>\n",
              "      <td>NaN</td>\n",
              "      <td>DISK</td>\n",
              "      <td>KS</td>\n",
              "      <td>1931-06-01 13:00:00</td>\n",
              "      <td>1931</td>\n",
              "    </tr>\n",
              "    <tr>\n",
              "      <th>4</th>\n",
              "      <td>New York Worlds Fair</td>\n",
              "      <td>NaN</td>\n",
              "      <td>LIGHT</td>\n",
              "      <td>NY</td>\n",
              "      <td>1933-04-18 19:00:00</td>\n",
              "      <td>1933</td>\n",
              "    </tr>\n",
              "  </tbody>\n",
              "</table>\n",
              "</div>\n",
              "      <button class=\"colab-df-convert\" onclick=\"convertToInteractive('df-0fd3f610-124f-40fe-a62a-3ef5cd5b803e')\"\n",
              "              title=\"Convert this dataframe to an interactive table.\"\n",
              "              style=\"display:none;\">\n",
              "        \n",
              "  <svg xmlns=\"http://www.w3.org/2000/svg\" height=\"24px\"viewBox=\"0 0 24 24\"\n",
              "       width=\"24px\">\n",
              "    <path d=\"M0 0h24v24H0V0z\" fill=\"none\"/>\n",
              "    <path d=\"M18.56 5.44l.94 2.06.94-2.06 2.06-.94-2.06-.94-.94-2.06-.94 2.06-2.06.94zm-11 1L8.5 8.5l.94-2.06 2.06-.94-2.06-.94L8.5 2.5l-.94 2.06-2.06.94zm10 10l.94 2.06.94-2.06 2.06-.94-2.06-.94-.94-2.06-.94 2.06-2.06.94z\"/><path d=\"M17.41 7.96l-1.37-1.37c-.4-.4-.92-.59-1.43-.59-.52 0-1.04.2-1.43.59L10.3 9.45l-7.72 7.72c-.78.78-.78 2.05 0 2.83L4 21.41c.39.39.9.59 1.41.59.51 0 1.02-.2 1.41-.59l7.78-7.78 2.81-2.81c.8-.78.8-2.07 0-2.86zM5.41 20L4 18.59l7.72-7.72 1.47 1.35L5.41 20z\"/>\n",
              "  </svg>\n",
              "      </button>\n",
              "      \n",
              "  <style>\n",
              "    .colab-df-container {\n",
              "      display:flex;\n",
              "      flex-wrap:wrap;\n",
              "      gap: 12px;\n",
              "    }\n",
              "\n",
              "    .colab-df-convert {\n",
              "      background-color: #E8F0FE;\n",
              "      border: none;\n",
              "      border-radius: 50%;\n",
              "      cursor: pointer;\n",
              "      display: none;\n",
              "      fill: #1967D2;\n",
              "      height: 32px;\n",
              "      padding: 0 0 0 0;\n",
              "      width: 32px;\n",
              "    }\n",
              "\n",
              "    .colab-df-convert:hover {\n",
              "      background-color: #E2EBFA;\n",
              "      box-shadow: 0px 1px 2px rgba(60, 64, 67, 0.3), 0px 1px 3px 1px rgba(60, 64, 67, 0.15);\n",
              "      fill: #174EA6;\n",
              "    }\n",
              "\n",
              "    [theme=dark] .colab-df-convert {\n",
              "      background-color: #3B4455;\n",
              "      fill: #D2E3FC;\n",
              "    }\n",
              "\n",
              "    [theme=dark] .colab-df-convert:hover {\n",
              "      background-color: #434B5C;\n",
              "      box-shadow: 0px 1px 3px 1px rgba(0, 0, 0, 0.15);\n",
              "      filter: drop-shadow(0px 1px 2px rgba(0, 0, 0, 0.3));\n",
              "      fill: #FFFFFF;\n",
              "    }\n",
              "  </style>\n",
              "\n",
              "      <script>\n",
              "        const buttonEl =\n",
              "          document.querySelector('#df-0fd3f610-124f-40fe-a62a-3ef5cd5b803e button.colab-df-convert');\n",
              "        buttonEl.style.display =\n",
              "          google.colab.kernel.accessAllowed ? 'block' : 'none';\n",
              "\n",
              "        async function convertToInteractive(key) {\n",
              "          const element = document.querySelector('#df-0fd3f610-124f-40fe-a62a-3ef5cd5b803e');\n",
              "          const dataTable =\n",
              "            await google.colab.kernel.invokeFunction('convertToInteractive',\n",
              "                                                     [key], {});\n",
              "          if (!dataTable) return;\n",
              "\n",
              "          const docLinkHtml = 'Like what you see? Visit the ' +\n",
              "            '<a target=\"_blank\" href=https://colab.research.google.com/notebooks/data_table.ipynb>data table notebook</a>'\n",
              "            + ' to learn more about interactive tables.';\n",
              "          element.innerHTML = '';\n",
              "          dataTable['output_type'] = 'display_data';\n",
              "          await google.colab.output.renderOutput(dataTable, element);\n",
              "          const docLink = document.createElement('div');\n",
              "          docLink.innerHTML = docLinkHtml;\n",
              "          element.appendChild(docLink);\n",
              "        }\n",
              "      </script>\n",
              "    </div>\n",
              "  </div>\n",
              "  "
            ]
          },
          "metadata": {},
          "execution_count": 43
        }
      ]
    },
    {
      "cell_type": "code",
      "metadata": {
        "id": "5wiLu84zLDkQ",
        "colab": {
          "base_uri": "https://localhost:8080/"
        },
        "outputId": "bdde61e4-b275-4bf8-fe7a-807553f44aa8"
      },
      "source": [
        "ufo.Year.value_counts()"
      ],
      "execution_count": 45,
      "outputs": [
        {
          "output_type": "execute_result",
          "data": {
            "text/plain": [
              "1999    2774\n",
              "2000    2635\n",
              "1998    1743\n",
              "1995    1344\n",
              "1997    1237\n",
              "        ... \n",
              "1936       2\n",
              "1930       2\n",
              "1935       1\n",
              "1934       1\n",
              "1933       1\n",
              "Name: Year, Length: 68, dtype: int64"
            ]
          },
          "metadata": {},
          "execution_count": 45
        }
      ]
    },
    {
      "cell_type": "code",
      "metadata": {
        "id": "ZKm3IvSSLDkQ",
        "colab": {
          "base_uri": "https://localhost:8080/"
        },
        "outputId": "c8b09eda-ba86-4bbb-b85c-b3676f0feb65"
      },
      "source": [
        "ufo.Year.value_counts().sort_index()"
      ],
      "execution_count": 47,
      "outputs": [
        {
          "output_type": "execute_result",
          "data": {
            "text/plain": [
              "1930       2\n",
              "1931       2\n",
              "1933       1\n",
              "1934       1\n",
              "1935       1\n",
              "        ... \n",
              "1996     851\n",
              "1997    1237\n",
              "1998    1743\n",
              "1999    2774\n",
              "2000    2635\n",
              "Name: Year, Length: 68, dtype: int64"
            ]
          },
          "metadata": {},
          "execution_count": 47
        }
      ]
    },
    {
      "cell_type": "code",
      "metadata": {
        "id": "VC6QBXv8LDkR",
        "colab": {
          "base_uri": "https://localhost:8080/",
          "height": 283
        },
        "outputId": "765618eb-2366-4699-e15b-9899e235f362"
      },
      "source": [
        "ufo.Year.value_counts().sort_index().plot()"
      ],
      "execution_count": 46,
      "outputs": [
        {
          "output_type": "execute_result",
          "data": {
            "text/plain": [
              "<matplotlib.axes._subplots.AxesSubplot at 0x7fa82ed64150>"
            ]
          },
          "metadata": {},
          "execution_count": 46
        },
        {
          "output_type": "display_data",
          "data": {
            "text/plain": [
              "<Figure size 432x288 with 1 Axes>"
            ],
            "image/png": "[encoded data removed]"
          },
          "metadata": {
            "needs_background": "light"
          }
        }
      ]
    },
    {
      "cell_type": "code",
      "metadata": {
        "id": "XP9Ln6jKLDkR"
      },
      "source": [
        "#26-pandas-How do I find and remove duplicate rows in pandas.pptx"
      ],
      "execution_count": null,
      "outputs": []
    },
    {
      "cell_type": "code",
      "metadata": {
        "id": "3iiHb621LY1p"
      },
      "source": [
        "import pandas as pd"
      ],
      "execution_count": 48,
      "outputs": []
    },
    {
      "cell_type": "code",
      "metadata": {
        "id": "FhPMvpPrLY1s"
      },
      "source": [
        "user_cols = ['user_id', 'age', 'gender', 'occupation', 'zip_code']"
      ],
      "execution_count": 49,
      "outputs": []
    },
    {
      "cell_type": "code",
      "metadata": {
        "id": "TckTmMRaLY1t"
      },
      "source": [
        "users = pd.read_table('http://bit.ly/movieusers', sep = '|', header = None, names = user_cols, index_col='user_id')"
      ],
      "execution_count": 52,
      "outputs": []
    },
    {
      "cell_type": "code",
      "metadata": {
        "id": "eB-C4bFyLY1v"
      },
      "source": [
        "users.head()"
      ],
      "execution_count": null,
      "outputs": []
    },
    {
      "cell_type": "code",
      "metadata": {
        "id": "xDfFZqe1LY1y",
        "colab": {
          "base_uri": "https://localhost:8080/"
        },
        "outputId": "e69d9d07-d58f-45a3-c244-94d473032af8"
      },
      "source": [
        "users.shape"
      ],
      "execution_count": 51,
      "outputs": [
        {
          "output_type": "execute_result",
          "data": {
            "text/plain": [
              "(943, 4)"
            ]
          },
          "metadata": {},
          "execution_count": 51
        }
      ]
    },
    {
      "cell_type": "code",
      "metadata": {
        "id": "sZZZR0DELY10",
        "colab": {
          "base_uri": "https://localhost:8080/"
        },
        "outputId": "5feee07d-22ea-4937-c84c-06010fc0c3fd"
      },
      "source": [
        "users.zip_code.duplicated()"
      ],
      "execution_count": 53,
      "outputs": [
        {
          "output_type": "execute_result",
          "data": {
            "text/plain": [
              "user_id\n",
              "1      False\n",
              "2      False\n",
              "3      False\n",
              "4      False\n",
              "5      False\n",
              "       ...  \n",
              "939    False\n",
              "940     True\n",
              "941    False\n",
              "942    False\n",
              "943    False\n",
              "Name: zip_code, Length: 943, dtype: bool"
            ]
          },
          "metadata": {},
          "execution_count": 53
        }
      ]
    },
    {
      "cell_type": "code",
      "metadata": {
        "id": "MKzHN7CTLY11",
        "colab": {
          "base_uri": "https://localhost:8080/"
        },
        "outputId": "f837ab88-e03c-4515-d76e-d9fa4ca8c4af"
      },
      "source": [
        "users.zip_code.duplicated().sum()"
      ],
      "execution_count": 55,
      "outputs": [
        {
          "output_type": "execute_result",
          "data": {
            "text/plain": [
              "148"
            ]
          },
          "metadata": {},
          "execution_count": 55
        }
      ]
    },
    {
      "cell_type": "code",
      "metadata": {
        "id": "gloK3E0kLY13"
      },
      "source": [
        "users.duplicated()"
      ],
      "execution_count": null,
      "outputs": []
    },
    {
      "cell_type": "code",
      "metadata": {
        "id": "lC6sOKiDLY15",
        "colab": {
          "base_uri": "https://localhost:8080/"
        },
        "outputId": "a978dea3-2eeb-491f-849f-9741a561d87b"
      },
      "source": [
        "users.duplicated().sum()"
      ],
      "execution_count": 54,
      "outputs": [
        {
          "output_type": "execute_result",
          "data": {
            "text/plain": [
              "7"
            ]
          },
          "metadata": {},
          "execution_count": 54
        }
      ]
    },
    {
      "cell_type": "code",
      "metadata": {
        "id": "w7GWpoZSLY16"
      },
      "source": [
        "users.loc[users.duplicated(), :]"
      ],
      "execution_count": null,
      "outputs": []
    },
    {
      "cell_type": "code",
      "metadata": {
        "id": "TMopi2kMLY17"
      },
      "source": [
        "users.loc[users.duplicated(keep='first'), :]"
      ],
      "execution_count": null,
      "outputs": []
    },
    {
      "cell_type": "code",
      "metadata": {
        "id": "99NPu5jtLY18"
      },
      "source": [
        "#It marks the duplicate as True except the first occurrence."
      ],
      "execution_count": null,
      "outputs": []
    },
    {
      "cell_type": "code",
      "metadata": {
        "id": "9bJaJDDeLY19"
      },
      "source": [
        "users.loc[users.duplicated(keep='last'), :]"
      ],
      "execution_count": null,
      "outputs": []
    },
    {
      "cell_type": "code",
      "metadata": {
        "id": "adB-hq_IqD2l"
      },
      "source": [
        "#Mark all duplicates as True (the following command)"
      ],
      "execution_count": null,
      "outputs": []
    },
    {
      "cell_type": "code",
      "metadata": {
        "id": "jERN3E4ZLY1_",
        "colab": {
          "base_uri": "https://localhost:8080/",
          "height": 520
        },
        "outputId": "82b9dbe3-c327-4ccb-c35e-b316b025ed75"
      },
      "source": [
        "users.loc[users.duplicated(keep=False), :]\n",
        "#elimitae all docs"
      ],
      "execution_count": 56,
      "outputs": [
        {
          "output_type": "execute_result",
          "data": {
            "text/plain": [
              "         age gender occupation zip_code\n",
              "user_id                                \n",
              "67        17      M    student    60402\n",
              "85        51      M   educator    20003\n",
              "198       21      F    student    55414\n",
              "350       32      M    student    97301\n",
              "428       28      M    student    55414\n",
              "437       27      F      other    20009\n",
              "460       44      F      other    60630\n",
              "496       21      F    student    55414\n",
              "572       51      M   educator    20003\n",
              "621       17      M    student    60402\n",
              "684       28      M    student    55414\n",
              "733       44      F      other    60630\n",
              "805       27      F      other    20009\n",
              "890       32      M    student    97301"
            ],
            "text/html": [
              "\n",
              "  <div id=\"df-7064b552-d380-49cc-9ebc-b15d26c3136e\">\n",
              "    <div class=\"colab-df-container\">\n",
              "      <div>\n",
              "<style scoped>\n",
              "    .dataframe tbody tr th:only-of-type {\n",
              "        vertical-align: middle;\n",
              "    }\n",
              "\n",
              "    .dataframe tbody tr th {\n",
              "        vertical-align: top;\n",
              "    }\n",
              "\n",
              "    .dataframe thead th {\n",
              "        text-align: right;\n",
              "    }\n",
              "</style>\n",
              "<table border=\"1\" class=\"dataframe\">\n",
              "  <thead>\n",
              "    <tr style=\"text-align: right;\">\n",
              "      <th></th>\n",
              "      <th>age</th>\n",
              "      <th>gender</th>\n",
              "      <th>occupation</th>\n",
              "      <th>zip_code</th>\n",
              "    </tr>\n",
              "    <tr>\n",
              "      <th>user_id</th>\n",
              "      <th></th>\n",
              "      <th></th>\n",
              "      <th></th>\n",
              "      <th></th>\n",
              "    </tr>\n",
              "  </thead>\n",
              "  <tbody>\n",
              "    <tr>\n",
              "      <th>67</th>\n",
              "      <td>17</td>\n",
              "      <td>M</td>\n",
              "      <td>student</td>\n",
              "      <td>60402</td>\n",
              "    </tr>\n",
              "    <tr>\n",
              "      <th>85</th>\n",
              "      <td>51</td>\n",
              "      <td>M</td>\n",
              "      <td>educator</td>\n",
              "      <td>20003</td>\n",
              "    </tr>\n",
              "    <tr>\n",
              "      <th>198</th>\n",
              "      <td>21</td>\n",
              "      <td>F</td>\n",
              "      <td>student</td>\n",
              "      <td>55414</td>\n",
              "    </tr>\n",
              "    <tr>\n",
              "      <th>350</th>\n",
              "      <td>32</td>\n",
              "      <td>M</td>\n",
              "      <td>student</td>\n",
              "      <td>97301</td>\n",
              "    </tr>\n",
              "    <tr>\n",
              "      <th>428</th>\n",
              "      <td>28</td>\n",
              "      <td>M</td>\n",
              "      <td>student</td>\n",
              "      <td>55414</td>\n",
              "    </tr>\n",
              "    <tr>\n",
              "      <th>437</th>\n",
              "      <td>27</td>\n",
              "      <td>F</td>\n",
              "      <td>other</td>\n",
              "      <td>20009</td>\n",
              "    </tr>\n",
              "    <tr>\n",
              "      <th>460</th>\n",
              "      <td>44</td>\n",
              "      <td>F</td>\n",
              "      <td>other</td>\n",
              "      <td>60630</td>\n",
              "    </tr>\n",
              "    <tr>\n",
              "      <th>496</th>\n",
              "      <td>21</td>\n",
              "      <td>F</td>\n",
              "      <td>student</td>\n",
              "      <td>55414</td>\n",
              "    </tr>\n",
              "    <tr>\n",
              "      <th>572</th>\n",
              "      <td>51</td>\n",
              "      <td>M</td>\n",
              "      <td>educator</td>\n",
              "      <td>20003</td>\n",
              "    </tr>\n",
              "    <tr>\n",
              "      <th>621</th>\n",
              "      <td>17</td>\n",
              "      <td>M</td>\n",
              "      <td>student</td>\n",
              "      <td>60402</td>\n",
              "    </tr>\n",
              "    <tr>\n",
              "      <th>684</th>\n",
              "      <td>28</td>\n",
              "      <td>M</td>\n",
              "      <td>student</td>\n",
              "      <td>55414</td>\n",
              "    </tr>\n",
              "    <tr>\n",
              "      <th>733</th>\n",
              "      <td>44</td>\n",
              "      <td>F</td>\n",
              "      <td>other</td>\n",
              "      <td>60630</td>\n",
              "    </tr>\n",
              "    <tr>\n",
              "      <th>805</th>\n",
              "      <td>27</td>\n",
              "      <td>F</td>\n",
              "      <td>other</td>\n",
              "      <td>20009</td>\n",
              "    </tr>\n",
              "    <tr>\n",
              "      <th>890</th>\n",
              "      <td>32</td>\n",
              "      <td>M</td>\n",
              "      <td>student</td>\n",
              "      <td>97301</td>\n",
              "    </tr>\n",
              "  </tbody>\n",
              "</table>\n",
              "</div>\n",
              "      <button class=\"colab-df-convert\" onclick=\"convertToInteractive('df-7064b552-d380-49cc-9ebc-b15d26c3136e')\"\n",
              "              title=\"Convert this dataframe to an interactive table.\"\n",
              "              style=\"display:none;\">\n",
              "        \n",
              "  <svg xmlns=\"http://www.w3.org/2000/svg\" height=\"24px\"viewBox=\"0 0 24 24\"\n",
              "       width=\"24px\">\n",
              "    <path d=\"M0 0h24v24H0V0z\" fill=\"none\"/>\n",
              "    <path d=\"M18.56 5.44l.94 2.06.94-2.06 2.06-.94-2.06-.94-.94-2.06-.94 2.06-2.06.94zm-11 1L8.5 8.5l.94-2.06 2.06-.94-2.06-.94L8.5 2.5l-.94 2.06-2.06.94zm10 10l.94 2.06.94-2.06 2.06-.94-2.06-.94-.94-2.06-.94 2.06-2.06.94z\"/><path d=\"M17.41 7.96l-1.37-1.37c-.4-.4-.92-.59-1.43-.59-.52 0-1.04.2-1.43.59L10.3 9.45l-7.72 7.72c-.78.78-.78 2.05 0 2.83L4 21.41c.39.39.9.59 1.41.59.51 0 1.02-.2 1.41-.59l7.78-7.78 2.81-2.81c.8-.78.8-2.07 0-2.86zM5.41 20L4 18.59l7.72-7.72 1.47 1.35L5.41 20z\"/>\n",
              "  </svg>\n",
              "      </button>\n",
              "      \n",
              "  <style>\n",
              "    .colab-df-container {\n",
              "      display:flex;\n",
              "      flex-wrap:wrap;\n",
              "      gap: 12px;\n",
              "    }\n",
              "\n",
              "    .colab-df-convert {\n",
              "      background-color: #E8F0FE;\n",
              "      border: none;\n",
              "      border-radius: 50%;\n",
              "      cursor: pointer;\n",
              "      display: none;\n",
              "      fill: #1967D2;\n",
              "      height: 32px;\n",
              "      padding: 0 0 0 0;\n",
              "      width: 32px;\n",
              "    }\n",
              "\n",
              "    .colab-df-convert:hover {\n",
              "      background-color: #E2EBFA;\n",
              "      box-shadow: 0px 1px 2px rgba(60, 64, 67, 0.3), 0px 1px 3px 1px rgba(60, 64, 67, 0.15);\n",
              "      fill: #174EA6;\n",
              "    }\n",
              "\n",
              "    [theme=dark] .colab-df-convert {\n",
              "      background-color: #3B4455;\n",
              "      fill: #D2E3FC;\n",
              "    }\n",
              "\n",
              "    [theme=dark] .colab-df-convert:hover {\n",
              "      background-color: #434B5C;\n",
              "      box-shadow: 0px 1px 3px 1px rgba(0, 0, 0, 0.15);\n",
              "      filter: drop-shadow(0px 1px 2px rgba(0, 0, 0, 0.3));\n",
              "      fill: #FFFFFF;\n",
              "    }\n",
              "  </style>\n",
              "\n",
              "      <script>\n",
              "        const buttonEl =\n",
              "          document.querySelector('#df-7064b552-d380-49cc-9ebc-b15d26c3136e button.colab-df-convert');\n",
              "        buttonEl.style.display =\n",
              "          google.colab.kernel.accessAllowed ? 'block' : 'none';\n",
              "\n",
              "        async function convertToInteractive(key) {\n",
              "          const element = document.querySelector('#df-7064b552-d380-49cc-9ebc-b15d26c3136e');\n",
              "          const dataTable =\n",
              "            await google.colab.kernel.invokeFunction('convertToInteractive',\n",
              "                                                     [key], {});\n",
              "          if (!dataTable) return;\n",
              "\n",
              "          const docLinkHtml = 'Like what you see? Visit the ' +\n",
              "            '<a target=\"_blank\" href=https://colab.research.google.com/notebooks/data_table.ipynb>data table notebook</a>'\n",
              "            + ' to learn more about interactive tables.';\n",
              "          element.innerHTML = '';\n",
              "          dataTable['output_type'] = 'display_data';\n",
              "          await google.colab.output.renderOutput(dataTable, element);\n",
              "          const docLink = document.createElement('div');\n",
              "          docLink.innerHTML = docLinkHtml;\n",
              "          element.appendChild(docLink);\n",
              "        }\n",
              "      </script>\n",
              "    </div>\n",
              "  </div>\n",
              "  "
            ]
          },
          "metadata": {},
          "execution_count": 56
        }
      ]
    },
    {
      "cell_type": "code",
      "metadata": {
        "id": "SKi3FQYzLY2B",
        "colab": {
          "base_uri": "https://localhost:8080/"
        },
        "outputId": "dedc8e45-0951-4347-ceef-8a90160abd20"
      },
      "source": [
        "users.drop_duplicates(keep='first').shape\n",
        "#deletes the 1st value and the repeated value"
      ],
      "execution_count": 57,
      "outputs": [
        {
          "output_type": "execute_result",
          "data": {
            "text/plain": [
              "(936, 4)"
            ]
          },
          "metadata": {},
          "execution_count": 57
        }
      ]
    },
    {
      "cell_type": "code",
      "metadata": {
        "id": "VYkZ1GrQLY2C",
        "colab": {
          "base_uri": "https://localhost:8080/"
        },
        "outputId": "4160bd1c-3495-4746-d6fd-59251bda3f7f"
      },
      "source": [
        "users.drop_duplicates(keep='last').shape"
      ],
      "execution_count": 58,
      "outputs": [
        {
          "output_type": "execute_result",
          "data": {
            "text/plain": [
              "(936, 4)"
            ]
          },
          "metadata": {},
          "execution_count": 58
        }
      ]
    },
    {
      "cell_type": "code",
      "metadata": {
        "id": "LJz9vjUhLY2E",
        "colab": {
          "base_uri": "https://localhost:8080/"
        },
        "outputId": "5798b1c4-d291-4cf3-c244-0266ae41c2e0"
      },
      "source": [
        "users.drop_duplicates(keep=False).shape"
      ],
      "execution_count": 59,
      "outputs": [
        {
          "output_type": "execute_result",
          "data": {
            "text/plain": [
              "(929, 4)"
            ]
          },
          "metadata": {},
          "execution_count": 59
        }
      ]
    },
    {
      "cell_type": "code",
      "metadata": {
        "id": "Xiamv85tq4oQ"
      },
      "source": [
        "#Bonus Tip"
      ],
      "execution_count": null,
      "outputs": []
    },
    {
      "cell_type": "code",
      "metadata": {
        "colab": {
          "base_uri": "https://localhost:8080/"
        },
        "id": "jpG6HyWFrDtj",
        "outputId": "4634b4fa-92c6-4567-fba1-476698a1bd68"
      },
      "source": [
        "users.duplicated(subset=['age','zip_code'])"
      ],
      "execution_count": 60,
      "outputs": [
        {
          "output_type": "execute_result",
          "data": {
            "text/plain": [
              "user_id\n",
              "1      False\n",
              "2      False\n",
              "3      False\n",
              "4      False\n",
              "5      False\n",
              "       ...  \n",
              "939    False\n",
              "940    False\n",
              "941    False\n",
              "942    False\n",
              "943    False\n",
              "Length: 943, dtype: bool"
            ]
          },
          "metadata": {},
          "execution_count": 60
        }
      ]
    },
    {
      "cell_type": "code",
      "metadata": {
        "id": "NUje2huzLY2G",
        "colab": {
          "base_uri": "https://localhost:8080/"
        },
        "outputId": "135a3165-c9c3-41de-e332-e00f0bc0a4e7"
      },
      "source": [
        "users.duplicated(subset=['age','zip_code']).sum()"
      ],
      "execution_count": 61,
      "outputs": [
        {
          "output_type": "execute_result",
          "data": {
            "text/plain": [
              "16"
            ]
          },
          "metadata": {},
          "execution_count": 61
        }
      ]
    },
    {
      "cell_type": "code",
      "metadata": {
        "id": "jNIhMR-uLY2G",
        "colab": {
          "base_uri": "https://localhost:8080/"
        },
        "outputId": "d0409932-d490-49b9-ca1f-ec205b42659c"
      },
      "source": [
        "users.drop_duplicates(subset=['age','zip_code']).shape"
      ],
      "execution_count": 62,
      "outputs": [
        {
          "output_type": "execute_result",
          "data": {
            "text/plain": [
              "(927, 4)"
            ]
          },
          "metadata": {},
          "execution_count": 62
        }
      ]
    },
    {
      "cell_type": "code",
      "metadata": {
        "id": "V-botKtsLY2H"
      },
      "source": [
        "#27-pandas-How do I avoid a SettingWithCopyWarning in pandas.pptx"
      ],
      "execution_count": null,
      "outputs": []
    },
    {
      "cell_type": "code",
      "metadata": {
        "id": "L2-iht4YLm8Y"
      },
      "source": [
        "import pandas as pd"
      ],
      "execution_count": null,
      "outputs": []
    },
    {
      "cell_type": "code",
      "metadata": {
        "id": "OCBRKEXxLm8a"
      },
      "source": [
        " movies = pd.read_csv('http://bit.ly/imdbratings')"
      ],
      "execution_count": 64,
      "outputs": []
    },
    {
      "cell_type": "code",
      "metadata": {
        "id": "YNYK4z88Lm8c"
      },
      "source": [
        "movies.head()"
      ],
      "execution_count": null,
      "outputs": []
    },
    {
      "cell_type": "code",
      "metadata": {
        "id": "QCmQDQQ-Lm8e"
      },
      "source": [
        "movies.content_rating.isnull().sum()"
      ],
      "execution_count": null,
      "outputs": []
    },
    {
      "cell_type": "code",
      "metadata": {
        "id": "13tOeDQWLm8f"
      },
      "source": [
        "movies[movies.content_rating.isnull()]"
      ],
      "execution_count": null,
      "outputs": []
    },
    {
      "cell_type": "code",
      "metadata": {
        "id": "URFQAKQNLm8g"
      },
      "source": [
        "movies.content_rating.value_counts()"
      ],
      "execution_count": null,
      "outputs": []
    },
    {
      "cell_type": "code",
      "metadata": {
        "id": "uS6qBD01Lm8h",
        "colab": {
          "base_uri": "https://localhost:8080/",
          "height": 424
        },
        "outputId": "005bc15d-a2b7-46c2-ff47-6f497181402f"
      },
      "source": [
        "movies[movies.content_rating=='NOT RATED']"
      ],
      "execution_count": 65,
      "outputs": [
        {
          "output_type": "execute_result",
          "data": {
            "text/plain": [
              "     star_rating                            title content_rating      genre  \\\n",
              "5            8.9                     12 Angry Men      NOT RATED      Drama   \n",
              "6            8.9   The Good, the Bad and the Ugly      NOT RATED    Western   \n",
              "41           8.5                     Sunset Blvd.      NOT RATED      Drama   \n",
              "63           8.4                                M      NOT RATED      Crime   \n",
              "66           8.4              Munna Bhai M.B.B.S.      NOT RATED     Comedy   \n",
              "..           ...                              ...            ...        ...   \n",
              "665          7.7                           Lolita      NOT RATED      Drama   \n",
              "673          7.7                          Blow-Up      NOT RATED      Drama   \n",
              "763          7.6                           Hunger      NOT RATED  Biography   \n",
              "827          7.5  The Wind That Shakes the Barley      NOT RATED      Drama   \n",
              "899          7.5                      In the Loop      NOT RATED     Comedy   \n",
              "\n",
              "     duration                                        actors_list  \n",
              "5          96  [u'Henry Fonda', u'Lee J. Cobb', u'Martin Bals...  \n",
              "6         161  [u'Clint Eastwood', u'Eli Wallach', u'Lee Van ...  \n",
              "41        110  [u'William Holden', u'Gloria Swanson', u'Erich...  \n",
              "63         99  [u'Peter Lorre', u'Ellen Widmann', u'Inge Land...  \n",
              "66        156   [u'Sunil Dutt', u'Sanjay Dutt', u'Arshad Warsi']  \n",
              "..        ...                                                ...  \n",
              "665       152  [u'James Mason', u'Shelley Winters', u'Sue Lyon']  \n",
              "673       111  [u'David Hemmings', u'Vanessa Redgrave', u'Sar...  \n",
              "763        96  [u'Stuart Graham', u'Laine Megaw', u'Brian Mil...  \n",
              "827       127  [u'Cillian Murphy', u'Padraic Delaney', u'Liam...  \n",
              "899       106  [u'Tom Hollander', u'Peter Capaldi', u'James G...  \n",
              "\n",
              "[65 rows x 6 columns]"
            ],
            "text/html": [
              "\n",
              "  <div id=\"df-c6c557a0-08f6-4a9c-9a07-a88e6abab0bf\">\n",
              "    <div class=\"colab-df-container\">\n",
              "      <div>\n",
              "<style scoped>\n",
              "    .dataframe tbody tr th:only-of-type {\n",
              "        vertical-align: middle;\n",
              "    }\n",
              "\n",
              "    .dataframe tbody tr th {\n",
              "        vertical-align: top;\n",
              "    }\n",
              "\n",
              "    .dataframe thead th {\n",
              "        text-align: right;\n",
              "    }\n",
              "</style>\n",
              "<table border=\"1\" class=\"dataframe\">\n",
              "  <thead>\n",
              "    <tr style=\"text-align: right;\">\n",
              "      <th></th>\n",
              "      <th>star_rating</th>\n",
              "      <th>title</th>\n",
              "      <th>content_rating</th>\n",
              "      <th>genre</th>\n",
              "      <th>duration</th>\n",
              "      <th>actors_list</th>\n",
              "    </tr>\n",
              "  </thead>\n",
              "  <tbody>\n",
              "    <tr>\n",
              "      <th>5</th>\n",
              "      <td>8.9</td>\n",
              "      <td>12 Angry Men</td>\n",
              "      <td>NOT RATED</td>\n",
              "      <td>Drama</td>\n",
              "      <td>96</td>\n",
              "      <td>[u'Henry Fonda', u'Lee J. Cobb', u'Martin Bals...</td>\n",
              "    </tr>\n",
              "    <tr>\n",
              "      <th>6</th>\n",
              "      <td>8.9</td>\n",
              "      <td>The Good, the Bad and the Ugly</td>\n",
              "      <td>NOT RATED</td>\n",
              "      <td>Western</td>\n",
              "      <td>161</td>\n",
              "      <td>[u'Clint Eastwood', u'Eli Wallach', u'Lee Van ...</td>\n",
              "    </tr>\n",
              "    <tr>\n",
              "      <th>41</th>\n",
              "      <td>8.5</td>\n",
              "      <td>Sunset Blvd.</td>\n",
              "      <td>NOT RATED</td>\n",
              "      <td>Drama</td>\n",
              "      <td>110</td>\n",
              "      <td>[u'William Holden', u'Gloria Swanson', u'Erich...</td>\n",
              "    </tr>\n",
              "    <tr>\n",
              "      <th>63</th>\n",
              "      <td>8.4</td>\n",
              "      <td>M</td>\n",
              "      <td>NOT RATED</td>\n",
              "      <td>Crime</td>\n",
              "      <td>99</td>\n",
              "      <td>[u'Peter Lorre', u'Ellen Widmann', u'Inge Land...</td>\n",
              "    </tr>\n",
              "    <tr>\n",
              "      <th>66</th>\n",
              "      <td>8.4</td>\n",
              "      <td>Munna Bhai M.B.B.S.</td>\n",
              "      <td>NOT RATED</td>\n",
              "      <td>Comedy</td>\n",
              "      <td>156</td>\n",
              "      <td>[u'Sunil Dutt', u'Sanjay Dutt', u'Arshad Warsi']</td>\n",
              "    </tr>\n",
              "    <tr>\n",
              "      <th>...</th>\n",
              "      <td>...</td>\n",
              "      <td>...</td>\n",
              "      <td>...</td>\n",
              "      <td>...</td>\n",
              "      <td>...</td>\n",
              "      <td>...</td>\n",
              "    </tr>\n",
              "    <tr>\n",
              "      <th>665</th>\n",
              "      <td>7.7</td>\n",
              "      <td>Lolita</td>\n",
              "      <td>NOT RATED</td>\n",
              "      <td>Drama</td>\n",
              "      <td>152</td>\n",
              "      <td>[u'James Mason', u'Shelley Winters', u'Sue Lyon']</td>\n",
              "    </tr>\n",
              "    <tr>\n",
              "      <th>673</th>\n",
              "      <td>7.7</td>\n",
              "      <td>Blow-Up</td>\n",
              "      <td>NOT RATED</td>\n",
              "      <td>Drama</td>\n",
              "      <td>111</td>\n",
              "      <td>[u'David Hemmings', u'Vanessa Redgrave', u'Sar...</td>\n",
              "    </tr>\n",
              "    <tr>\n",
              "      <th>763</th>\n",
              "      <td>7.6</td>\n",
              "      <td>Hunger</td>\n",
              "      <td>NOT RATED</td>\n",
              "      <td>Biography</td>\n",
              "      <td>96</td>\n",
              "      <td>[u'Stuart Graham', u'Laine Megaw', u'Brian Mil...</td>\n",
              "    </tr>\n",
              "    <tr>\n",
              "      <th>827</th>\n",
              "      <td>7.5</td>\n",
              "      <td>The Wind That Shakes the Barley</td>\n",
              "      <td>NOT RATED</td>\n",
              "      <td>Drama</td>\n",
              "      <td>127</td>\n",
              "      <td>[u'Cillian Murphy', u'Padraic Delaney', u'Liam...</td>\n",
              "    </tr>\n",
              "    <tr>\n",
              "      <th>899</th>\n",
              "      <td>7.5</td>\n",
              "      <td>In the Loop</td>\n",
              "      <td>NOT RATED</td>\n",
              "      <td>Comedy</td>\n",
              "      <td>106</td>\n",
              "      <td>[u'Tom Hollander', u'Peter Capaldi', u'James G...</td>\n",
              "    </tr>\n",
              "  </tbody>\n",
              "</table>\n",
              "<p>65 rows × 6 columns</p>\n",
              "</div>\n",
              "      <button class=\"colab-df-convert\" onclick=\"convertToInteractive('df-c6c557a0-08f6-4a9c-9a07-a88e6abab0bf')\"\n",
              "              title=\"Convert this dataframe to an interactive table.\"\n",
              "              style=\"display:none;\">\n",
              "        \n",
              "  <svg xmlns=\"http://www.w3.org/2000/svg\" height=\"24px\"viewBox=\"0 0 24 24\"\n",
              "       width=\"24px\">\n",
              "    <path d=\"M0 0h24v24H0V0z\" fill=\"none\"/>\n",
              "    <path d=\"M18.56 5.44l.94 2.06.94-2.06 2.06-.94-2.06-.94-.94-2.06-.94 2.06-2.06.94zm-11 1L8.5 8.5l.94-2.06 2.06-.94-2.06-.94L8.5 2.5l-.94 2.06-2.06.94zm10 10l.94 2.06.94-2.06 2.06-.94-2.06-.94-.94-2.06-.94 2.06-2.06.94z\"/><path d=\"M17.41 7.96l-1.37-1.37c-.4-.4-.92-.59-1.43-.59-.52 0-1.04.2-1.43.59L10.3 9.45l-7.72 7.72c-.78.78-.78 2.05 0 2.83L4 21.41c.39.39.9.59 1.41.59.51 0 1.02-.2 1.41-.59l7.78-7.78 2.81-2.81c.8-.78.8-2.07 0-2.86zM5.41 20L4 18.59l7.72-7.72 1.47 1.35L5.41 20z\"/>\n",
              "  </svg>\n",
              "      </button>\n",
              "      \n",
              "  <style>\n",
              "    .colab-df-container {\n",
              "      display:flex;\n",
              "      flex-wrap:wrap;\n",
              "      gap: 12px;\n",
              "    }\n",
              "\n",
              "    .colab-df-convert {\n",
              "      background-color: #E8F0FE;\n",
              "      border: none;\n",
              "      border-radius: 50%;\n",
              "      cursor: pointer;\n",
              "      display: none;\n",
              "      fill: #1967D2;\n",
              "      height: 32px;\n",
              "      padding: 0 0 0 0;\n",
              "      width: 32px;\n",
              "    }\n",
              "\n",
              "    .colab-df-convert:hover {\n",
              "      background-color: #E2EBFA;\n",
              "      box-shadow: 0px 1px 2px rgba(60, 64, 67, 0.3), 0px 1px 3px 1px rgba(60, 64, 67, 0.15);\n",
              "      fill: #174EA6;\n",
              "    }\n",
              "\n",
              "    [theme=dark] .colab-df-convert {\n",
              "      background-color: #3B4455;\n",
              "      fill: #D2E3FC;\n",
              "    }\n",
              "\n",
              "    [theme=dark] .colab-df-convert:hover {\n",
              "      background-color: #434B5C;\n",
              "      box-shadow: 0px 1px 3px 1px rgba(0, 0, 0, 0.15);\n",
              "      filter: drop-shadow(0px 1px 2px rgba(0, 0, 0, 0.3));\n",
              "      fill: #FFFFFF;\n",
              "    }\n",
              "  </style>\n",
              "\n",
              "      <script>\n",
              "        const buttonEl =\n",
              "          document.querySelector('#df-c6c557a0-08f6-4a9c-9a07-a88e6abab0bf button.colab-df-convert');\n",
              "        buttonEl.style.display =\n",
              "          google.colab.kernel.accessAllowed ? 'block' : 'none';\n",
              "\n",
              "        async function convertToInteractive(key) {\n",
              "          const element = document.querySelector('#df-c6c557a0-08f6-4a9c-9a07-a88e6abab0bf');\n",
              "          const dataTable =\n",
              "            await google.colab.kernel.invokeFunction('convertToInteractive',\n",
              "                                                     [key], {});\n",
              "          if (!dataTable) return;\n",
              "\n",
              "          const docLinkHtml = 'Like what you see? Visit the ' +\n",
              "            '<a target=\"_blank\" href=https://colab.research.google.com/notebooks/data_table.ipynb>data table notebook</a>'\n",
              "            + ' to learn more about interactive tables.';\n",
              "          element.innerHTML = '';\n",
              "          dataTable['output_type'] = 'display_data';\n",
              "          await google.colab.output.renderOutput(dataTable, element);\n",
              "          const docLink = document.createElement('div');\n",
              "          docLink.innerHTML = docLinkHtml;\n",
              "          element.appendChild(docLink);\n",
              "        }\n",
              "      </script>\n",
              "    </div>\n",
              "  </div>\n",
              "  "
            ]
          },
          "metadata": {},
          "execution_count": 65
        }
      ]
    },
    {
      "cell_type": "code",
      "metadata": {
        "id": "dhPh7jelLm8k",
        "colab": {
          "base_uri": "https://localhost:8080/"
        },
        "outputId": "fe5d9aaa-9d7f-4d16-b29e-1efba31a46e7"
      },
      "source": [
        "movies[movies.content_rating=='NOT RATED'].content_rating"
      ],
      "execution_count": 66,
      "outputs": [
        {
          "output_type": "execute_result",
          "data": {
            "text/plain": [
              "5      NOT RATED\n",
              "6      NOT RATED\n",
              "41     NOT RATED\n",
              "63     NOT RATED\n",
              "66     NOT RATED\n",
              "         ...    \n",
              "665    NOT RATED\n",
              "673    NOT RATED\n",
              "763    NOT RATED\n",
              "827    NOT RATED\n",
              "899    NOT RATED\n",
              "Name: content_rating, Length: 65, dtype: object"
            ]
          },
          "metadata": {},
          "execution_count": 66
        }
      ]
    },
    {
      "cell_type": "code",
      "metadata": {
        "id": "HezwiLVzLm8l"
      },
      "source": [
        "import numpy as np"
      ],
      "execution_count": 67,
      "outputs": []
    },
    {
      "cell_type": "code",
      "metadata": {
        "id": "-Z_QPG2BLm8m",
        "colab": {
          "base_uri": "https://localhost:8080/"
        },
        "outputId": "b1325baa-11c9-4b69-ea43-632e89ba4ee6"
      },
      "source": [
        "movies[movies.content_rating=='NOT RATED'].content_rating = np.nan"
      ],
      "execution_count": 68,
      "outputs": [
        {
          "output_type": "stream",
          "name": "stderr",
          "text": [
            "/usr/local/lib/python3.7/dist-packages/pandas/core/generic.py:5516: SettingWithCopyWarning: \n",
            "A value is trying to be set on a copy of a slice from a DataFrame.\n",
            "Try using .loc[row_indexer,col_indexer] = value instead\n",
            "\n",
            "See the caveats in the documentation: https://pandas.pydata.org/pandas-docs/stable/user_guide/indexing.html#returning-a-view-versus-a-copy\n",
            "  self[name] = value\n"
          ]
        }
      ]
    },
    {
      "cell_type": "code",
      "metadata": {
        "id": "Q9phmyYKLm8n",
        "colab": {
          "base_uri": "https://localhost:8080/"
        },
        "outputId": "ab6a43fd-b683-4aaf-d1db-4c5ffeff98c8"
      },
      "source": [
        "movies.content_rating.isnull().sum()"
      ],
      "execution_count": 69,
      "outputs": [
        {
          "output_type": "execute_result",
          "data": {
            "text/plain": [
              "3"
            ]
          },
          "metadata": {},
          "execution_count": 69
        }
      ]
    },
    {
      "cell_type": "code",
      "metadata": {
        "id": "88qKvBPlLm8o"
      },
      "source": [
        "movies.loc[movies.content_rating=='NOT RATED', 'content_rating'] = np.nan"
      ],
      "execution_count": 80,
      "outputs": []
    },
    {
      "cell_type": "code",
      "metadata": {
        "id": "qfRSmBi5Lm8p",
        "colab": {
          "base_uri": "https://localhost:8080/"
        },
        "outputId": "b9913e7b-159d-4137-e271-3f458cd27fd4"
      },
      "source": [
        "movies.content_rating.isnull().sum()"
      ],
      "execution_count": 71,
      "outputs": [
        {
          "output_type": "execute_result",
          "data": {
            "text/plain": [
              "68"
            ]
          },
          "metadata": {},
          "execution_count": 71
        }
      ]
    },
    {
      "cell_type": "code",
      "metadata": {
        "id": "w54f8t62Lm8q"
      },
      "source": [
        "top_movies = movies.loc[movies.star_rating >= 9, :]"
      ],
      "execution_count": 72,
      "outputs": []
    },
    {
      "cell_type": "code",
      "metadata": {
        "id": "exoeXwfHLm8q",
        "colab": {
          "base_uri": "https://localhost:8080/",
          "height": 175
        },
        "outputId": "da8b6d30-af5d-4ad1-ad42-a3fcbdf85832"
      },
      "source": [
        "top_movies\n",
        "#subsidary of movie data set "
      ],
      "execution_count": 73,
      "outputs": [
        {
          "output_type": "execute_result",
          "data": {
            "text/plain": [
              "   star_rating                     title content_rating   genre  duration  \\\n",
              "0          9.3  The Shawshank Redemption              R   Crime       142   \n",
              "1          9.2             The Godfather              R   Crime       175   \n",
              "2          9.1    The Godfather: Part II              R   Crime       200   \n",
              "3          9.0           The Dark Knight          PG-13  Action       152   \n",
              "\n",
              "                                         actors_list  \n",
              "0  [u'Tim Robbins', u'Morgan Freeman', u'Bob Gunt...  \n",
              "1    [u'Marlon Brando', u'Al Pacino', u'James Caan']  \n",
              "2  [u'Al Pacino', u'Robert De Niro', u'Robert Duv...  \n",
              "3  [u'Christian Bale', u'Heath Ledger', u'Aaron E...  "
            ],
            "text/html": [
              "\n",
              "  <div id=\"df-b1054d15-e230-4482-b196-f49e27f47f09\">\n",
              "    <div class=\"colab-df-container\">\n",
              "      <div>\n",
              "<style scoped>\n",
              "    .dataframe tbody tr th:only-of-type {\n",
              "        vertical-align: middle;\n",
              "    }\n",
              "\n",
              "    .dataframe tbody tr th {\n",
              "        vertical-align: top;\n",
              "    }\n",
              "\n",
              "    .dataframe thead th {\n",
              "        text-align: right;\n",
              "    }\n",
              "</style>\n",
              "<table border=\"1\" class=\"dataframe\">\n",
              "  <thead>\n",
              "    <tr style=\"text-align: right;\">\n",
              "      <th></th>\n",
              "      <th>star_rating</th>\n",
              "      <th>title</th>\n",
              "      <th>content_rating</th>\n",
              "      <th>genre</th>\n",
              "      <th>duration</th>\n",
              "      <th>actors_list</th>\n",
              "    </tr>\n",
              "  </thead>\n",
              "  <tbody>\n",
              "    <tr>\n",
              "      <th>0</th>\n",
              "      <td>9.3</td>\n",
              "      <td>The Shawshank Redemption</td>\n",
              "      <td>R</td>\n",
              "      <td>Crime</td>\n",
              "      <td>142</td>\n",
              "      <td>[u'Tim Robbins', u'Morgan Freeman', u'Bob Gunt...</td>\n",
              "    </tr>\n",
              "    <tr>\n",
              "      <th>1</th>\n",
              "      <td>9.2</td>\n",
              "      <td>The Godfather</td>\n",
              "      <td>R</td>\n",
              "      <td>Crime</td>\n",
              "      <td>175</td>\n",
              "      <td>[u'Marlon Brando', u'Al Pacino', u'James Caan']</td>\n",
              "    </tr>\n",
              "    <tr>\n",
              "      <th>2</th>\n",
              "      <td>9.1</td>\n",
              "      <td>The Godfather: Part II</td>\n",
              "      <td>R</td>\n",
              "      <td>Crime</td>\n",
              "      <td>200</td>\n",
              "      <td>[u'Al Pacino', u'Robert De Niro', u'Robert Duv...</td>\n",
              "    </tr>\n",
              "    <tr>\n",
              "      <th>3</th>\n",
              "      <td>9.0</td>\n",
              "      <td>The Dark Knight</td>\n",
              "      <td>PG-13</td>\n",
              "      <td>Action</td>\n",
              "      <td>152</td>\n",
              "      <td>[u'Christian Bale', u'Heath Ledger', u'Aaron E...</td>\n",
              "    </tr>\n",
              "  </tbody>\n",
              "</table>\n",
              "</div>\n",
              "      <button class=\"colab-df-convert\" onclick=\"convertToInteractive('df-b1054d15-e230-4482-b196-f49e27f47f09')\"\n",
              "              title=\"Convert this dataframe to an interactive table.\"\n",
              "              style=\"display:none;\">\n",
              "        \n",
              "  <svg xmlns=\"http://www.w3.org/2000/svg\" height=\"24px\"viewBox=\"0 0 24 24\"\n",
              "       width=\"24px\">\n",
              "    <path d=\"M0 0h24v24H0V0z\" fill=\"none\"/>\n",
              "    <path d=\"M18.56 5.44l.94 2.06.94-2.06 2.06-.94-2.06-.94-.94-2.06-.94 2.06-2.06.94zm-11 1L8.5 8.5l.94-2.06 2.06-.94-2.06-.94L8.5 2.5l-.94 2.06-2.06.94zm10 10l.94 2.06.94-2.06 2.06-.94-2.06-.94-.94-2.06-.94 2.06-2.06.94z\"/><path d=\"M17.41 7.96l-1.37-1.37c-.4-.4-.92-.59-1.43-.59-.52 0-1.04.2-1.43.59L10.3 9.45l-7.72 7.72c-.78.78-.78 2.05 0 2.83L4 21.41c.39.39.9.59 1.41.59.51 0 1.02-.2 1.41-.59l7.78-7.78 2.81-2.81c.8-.78.8-2.07 0-2.86zM5.41 20L4 18.59l7.72-7.72 1.47 1.35L5.41 20z\"/>\n",
              "  </svg>\n",
              "      </button>\n",
              "      \n",
              "  <style>\n",
              "    .colab-df-container {\n",
              "      display:flex;\n",
              "      flex-wrap:wrap;\n",
              "      gap: 12px;\n",
              "    }\n",
              "\n",
              "    .colab-df-convert {\n",
              "      background-color: #E8F0FE;\n",
              "      border: none;\n",
              "      border-radius: 50%;\n",
              "      cursor: pointer;\n",
              "      display: none;\n",
              "      fill: #1967D2;\n",
              "      height: 32px;\n",
              "      padding: 0 0 0 0;\n",
              "      width: 32px;\n",
              "    }\n",
              "\n",
              "    .colab-df-convert:hover {\n",
              "      background-color: #E2EBFA;\n",
              "      box-shadow: 0px 1px 2px rgba(60, 64, 67, 0.3), 0px 1px 3px 1px rgba(60, 64, 67, 0.15);\n",
              "      fill: #174EA6;\n",
              "    }\n",
              "\n",
              "    [theme=dark] .colab-df-convert {\n",
              "      background-color: #3B4455;\n",
              "      fill: #D2E3FC;\n",
              "    }\n",
              "\n",
              "    [theme=dark] .colab-df-convert:hover {\n",
              "      background-color: #434B5C;\n",
              "      box-shadow: 0px 1px 3px 1px rgba(0, 0, 0, 0.15);\n",
              "      filter: drop-shadow(0px 1px 2px rgba(0, 0, 0, 0.3));\n",
              "      fill: #FFFFFF;\n",
              "    }\n",
              "  </style>\n",
              "\n",
              "      <script>\n",
              "        const buttonEl =\n",
              "          document.querySelector('#df-b1054d15-e230-4482-b196-f49e27f47f09 button.colab-df-convert');\n",
              "        buttonEl.style.display =\n",
              "          google.colab.kernel.accessAllowed ? 'block' : 'none';\n",
              "\n",
              "        async function convertToInteractive(key) {\n",
              "          const element = document.querySelector('#df-b1054d15-e230-4482-b196-f49e27f47f09');\n",
              "          const dataTable =\n",
              "            await google.colab.kernel.invokeFunction('convertToInteractive',\n",
              "                                                     [key], {});\n",
              "          if (!dataTable) return;\n",
              "\n",
              "          const docLinkHtml = 'Like what you see? Visit the ' +\n",
              "            '<a target=\"_blank\" href=https://colab.research.google.com/notebooks/data_table.ipynb>data table notebook</a>'\n",
              "            + ' to learn more about interactive tables.';\n",
              "          element.innerHTML = '';\n",
              "          dataTable['output_type'] = 'display_data';\n",
              "          await google.colab.output.renderOutput(dataTable, element);\n",
              "          const docLink = document.createElement('div');\n",
              "          docLink.innerHTML = docLinkHtml;\n",
              "          element.appendChild(docLink);\n",
              "        }\n",
              "      </script>\n",
              "    </div>\n",
              "  </div>\n",
              "  "
            ]
          },
          "metadata": {},
          "execution_count": 73
        }
      ]
    },
    {
      "cell_type": "code",
      "metadata": {
        "id": "W4LBiHvpLm8r",
        "colab": {
          "base_uri": "https://localhost:8080/"
        },
        "outputId": "b6295055-87fa-4acb-a5de-63eb54ef1029"
      },
      "source": [
        "top_movies.loc[0,'duration'] = 150"
      ],
      "execution_count": 74,
      "outputs": [
        {
          "output_type": "stream",
          "name": "stderr",
          "text": [
            "/usr/local/lib/python3.7/dist-packages/pandas/core/indexing.py:1817: SettingWithCopyWarning: \n",
            "A value is trying to be set on a copy of a slice from a DataFrame.\n",
            "Try using .loc[row_indexer,col_indexer] = value instead\n",
            "\n",
            "See the caveats in the documentation: https://pandas.pydata.org/pandas-docs/stable/user_guide/indexing.html#returning-a-view-versus-a-copy\n",
            "  self._setitem_single_column(loc, value, pi)\n"
          ]
        }
      ]
    },
    {
      "cell_type": "code",
      "metadata": {
        "id": "Ed2b7B7tLm8r",
        "colab": {
          "base_uri": "https://localhost:8080/",
          "height": 175
        },
        "outputId": "21e6c7da-4e45-4814-fd23-6e2a7fddd669"
      },
      "source": [
        "top_movies"
      ],
      "execution_count": 76,
      "outputs": [
        {
          "output_type": "execute_result",
          "data": {
            "text/plain": [
              "   star_rating                     title content_rating   genre  duration  \\\n",
              "0          9.3  The Shawshank Redemption              R   Crime       142   \n",
              "1          9.2             The Godfather              R   Crime       175   \n",
              "2          9.1    The Godfather: Part II              R   Crime       200   \n",
              "3          9.0           The Dark Knight          PG-13  Action       152   \n",
              "\n",
              "                                         actors_list  \n",
              "0  [u'Tim Robbins', u'Morgan Freeman', u'Bob Gunt...  \n",
              "1    [u'Marlon Brando', u'Al Pacino', u'James Caan']  \n",
              "2  [u'Al Pacino', u'Robert De Niro', u'Robert Duv...  \n",
              "3  [u'Christian Bale', u'Heath Ledger', u'Aaron E...  "
            ],
            "text/html": [
              "\n",
              "  <div id=\"df-a1931b6e-7140-4304-9b7e-e159f60489bf\">\n",
              "    <div class=\"colab-df-container\">\n",
              "      <div>\n",
              "<style scoped>\n",
              "    .dataframe tbody tr th:only-of-type {\n",
              "        vertical-align: middle;\n",
              "    }\n",
              "\n",
              "    .dataframe tbody tr th {\n",
              "        vertical-align: top;\n",
              "    }\n",
              "\n",
              "    .dataframe thead th {\n",
              "        text-align: right;\n",
              "    }\n",
              "</style>\n",
              "<table border=\"1\" class=\"dataframe\">\n",
              "  <thead>\n",
              "    <tr style=\"text-align: right;\">\n",
              "      <th></th>\n",
              "      <th>star_rating</th>\n",
              "      <th>title</th>\n",
              "      <th>content_rating</th>\n",
              "      <th>genre</th>\n",
              "      <th>duration</th>\n",
              "      <th>actors_list</th>\n",
              "    </tr>\n",
              "  </thead>\n",
              "  <tbody>\n",
              "    <tr>\n",
              "      <th>0</th>\n",
              "      <td>9.3</td>\n",
              "      <td>The Shawshank Redemption</td>\n",
              "      <td>R</td>\n",
              "      <td>Crime</td>\n",
              "      <td>142</td>\n",
              "      <td>[u'Tim Robbins', u'Morgan Freeman', u'Bob Gunt...</td>\n",
              "    </tr>\n",
              "    <tr>\n",
              "      <th>1</th>\n",
              "      <td>9.2</td>\n",
              "      <td>The Godfather</td>\n",
              "      <td>R</td>\n",
              "      <td>Crime</td>\n",
              "      <td>175</td>\n",
              "      <td>[u'Marlon Brando', u'Al Pacino', u'James Caan']</td>\n",
              "    </tr>\n",
              "    <tr>\n",
              "      <th>2</th>\n",
              "      <td>9.1</td>\n",
              "      <td>The Godfather: Part II</td>\n",
              "      <td>R</td>\n",
              "      <td>Crime</td>\n",
              "      <td>200</td>\n",
              "      <td>[u'Al Pacino', u'Robert De Niro', u'Robert Duv...</td>\n",
              "    </tr>\n",
              "    <tr>\n",
              "      <th>3</th>\n",
              "      <td>9.0</td>\n",
              "      <td>The Dark Knight</td>\n",
              "      <td>PG-13</td>\n",
              "      <td>Action</td>\n",
              "      <td>152</td>\n",
              "      <td>[u'Christian Bale', u'Heath Ledger', u'Aaron E...</td>\n",
              "    </tr>\n",
              "  </tbody>\n",
              "</table>\n",
              "</div>\n",
              "      <button class=\"colab-df-convert\" onclick=\"convertToInteractive('df-a1931b6e-7140-4304-9b7e-e159f60489bf')\"\n",
              "              title=\"Convert this dataframe to an interactive table.\"\n",
              "              style=\"display:none;\">\n",
              "        \n",
              "  <svg xmlns=\"http://www.w3.org/2000/svg\" height=\"24px\"viewBox=\"0 0 24 24\"\n",
              "       width=\"24px\">\n",
              "    <path d=\"M0 0h24v24H0V0z\" fill=\"none\"/>\n",
              "    <path d=\"M18.56 5.44l.94 2.06.94-2.06 2.06-.94-2.06-.94-.94-2.06-.94 2.06-2.06.94zm-11 1L8.5 8.5l.94-2.06 2.06-.94-2.06-.94L8.5 2.5l-.94 2.06-2.06.94zm10 10l.94 2.06.94-2.06 2.06-.94-2.06-.94-.94-2.06-.94 2.06-2.06.94z\"/><path d=\"M17.41 7.96l-1.37-1.37c-.4-.4-.92-.59-1.43-.59-.52 0-1.04.2-1.43.59L10.3 9.45l-7.72 7.72c-.78.78-.78 2.05 0 2.83L4 21.41c.39.39.9.59 1.41.59.51 0 1.02-.2 1.41-.59l7.78-7.78 2.81-2.81c.8-.78.8-2.07 0-2.86zM5.41 20L4 18.59l7.72-7.72 1.47 1.35L5.41 20z\"/>\n",
              "  </svg>\n",
              "      </button>\n",
              "      \n",
              "  <style>\n",
              "    .colab-df-container {\n",
              "      display:flex;\n",
              "      flex-wrap:wrap;\n",
              "      gap: 12px;\n",
              "    }\n",
              "\n",
              "    .colab-df-convert {\n",
              "      background-color: #E8F0FE;\n",
              "      border: none;\n",
              "      border-radius: 50%;\n",
              "      cursor: pointer;\n",
              "      display: none;\n",
              "      fill: #1967D2;\n",
              "      height: 32px;\n",
              "      padding: 0 0 0 0;\n",
              "      width: 32px;\n",
              "    }\n",
              "\n",
              "    .colab-df-convert:hover {\n",
              "      background-color: #E2EBFA;\n",
              "      box-shadow: 0px 1px 2px rgba(60, 64, 67, 0.3), 0px 1px 3px 1px rgba(60, 64, 67, 0.15);\n",
              "      fill: #174EA6;\n",
              "    }\n",
              "\n",
              "    [theme=dark] .colab-df-convert {\n",
              "      background-color: #3B4455;\n",
              "      fill: #D2E3FC;\n",
              "    }\n",
              "\n",
              "    [theme=dark] .colab-df-convert:hover {\n",
              "      background-color: #434B5C;\n",
              "      box-shadow: 0px 1px 3px 1px rgba(0, 0, 0, 0.15);\n",
              "      filter: drop-shadow(0px 1px 2px rgba(0, 0, 0, 0.3));\n",
              "      fill: #FFFFFF;\n",
              "    }\n",
              "  </style>\n",
              "\n",
              "      <script>\n",
              "        const buttonEl =\n",
              "          document.querySelector('#df-a1931b6e-7140-4304-9b7e-e159f60489bf button.colab-df-convert');\n",
              "        buttonEl.style.display =\n",
              "          google.colab.kernel.accessAllowed ? 'block' : 'none';\n",
              "\n",
              "        async function convertToInteractive(key) {\n",
              "          const element = document.querySelector('#df-a1931b6e-7140-4304-9b7e-e159f60489bf');\n",
              "          const dataTable =\n",
              "            await google.colab.kernel.invokeFunction('convertToInteractive',\n",
              "                                                     [key], {});\n",
              "          if (!dataTable) return;\n",
              "\n",
              "          const docLinkHtml = 'Like what you see? Visit the ' +\n",
              "            '<a target=\"_blank\" href=https://colab.research.google.com/notebooks/data_table.ipynb>data table notebook</a>'\n",
              "            + ' to learn more about interactive tables.';\n",
              "          element.innerHTML = '';\n",
              "          dataTable['output_type'] = 'display_data';\n",
              "          await google.colab.output.renderOutput(dataTable, element);\n",
              "          const docLink = document.createElement('div');\n",
              "          docLink.innerHTML = docLinkHtml;\n",
              "          element.appendChild(docLink);\n",
              "        }\n",
              "      </script>\n",
              "    </div>\n",
              "  </div>\n",
              "  "
            ]
          },
          "metadata": {},
          "execution_count": 76
        }
      ]
    },
    {
      "cell_type": "code",
      "metadata": {
        "id": "9hqE7BrTLm8s"
      },
      "source": [
        "top_movies = movies.loc[movies.star_rating >= 9, :].copy()"
      ],
      "execution_count": 77,
      "outputs": []
    },
    {
      "cell_type": "code",
      "metadata": {
        "id": "I5xdF4NJLm8t"
      },
      "source": [
        "top_movies.loc[0,'duration'] = 150"
      ],
      "execution_count": 78,
      "outputs": []
    },
    {
      "cell_type": "code",
      "metadata": {
        "id": "uzwOdHCoLm8v",
        "colab": {
          "base_uri": "https://localhost:8080/",
          "height": 175
        },
        "outputId": "651350c3-b928-43b5-a76b-760d869b06b6"
      },
      "source": [
        "top_movies"
      ],
      "execution_count": 79,
      "outputs": [
        {
          "output_type": "execute_result",
          "data": {
            "text/plain": [
              "   star_rating                     title content_rating   genre  duration  \\\n",
              "0          9.3  The Shawshank Redemption              R   Crime       150   \n",
              "1          9.2             The Godfather              R   Crime       175   \n",
              "2          9.1    The Godfather: Part II              R   Crime       200   \n",
              "3          9.0           The Dark Knight          PG-13  Action       152   \n",
              "\n",
              "                                         actors_list  \n",
              "0  [u'Tim Robbins', u'Morgan Freeman', u'Bob Gunt...  \n",
              "1    [u'Marlon Brando', u'Al Pacino', u'James Caan']  \n",
              "2  [u'Al Pacino', u'Robert De Niro', u'Robert Duv...  \n",
              "3  [u'Christian Bale', u'Heath Ledger', u'Aaron E...  "
            ],
            "text/html": [
              "\n",
              "  <div id=\"df-73aa8440-067f-4134-b017-40a6c6f5816a\">\n",
              "    <div class=\"colab-df-container\">\n",
              "      <div>\n",
              "<style scoped>\n",
              "    .dataframe tbody tr th:only-of-type {\n",
              "        vertical-align: middle;\n",
              "    }\n",
              "\n",
              "    .dataframe tbody tr th {\n",
              "        vertical-align: top;\n",
              "    }\n",
              "\n",
              "    .dataframe thead th {\n",
              "        text-align: right;\n",
              "    }\n",
              "</style>\n",
              "<table border=\"1\" class=\"dataframe\">\n",
              "  <thead>\n",
              "    <tr style=\"text-align: right;\">\n",
              "      <th></th>\n",
              "      <th>star_rating</th>\n",
              "      <th>title</th>\n",
              "      <th>content_rating</th>\n",
              "      <th>genre</th>\n",
              "      <th>duration</th>\n",
              "      <th>actors_list</th>\n",
              "    </tr>\n",
              "  </thead>\n",
              "  <tbody>\n",
              "    <tr>\n",
              "      <th>0</th>\n",
              "      <td>9.3</td>\n",
              "      <td>The Shawshank Redemption</td>\n",
              "      <td>R</td>\n",
              "      <td>Crime</td>\n",
              "      <td>150</td>\n",
              "      <td>[u'Tim Robbins', u'Morgan Freeman', u'Bob Gunt...</td>\n",
              "    </tr>\n",
              "    <tr>\n",
              "      <th>1</th>\n",
              "      <td>9.2</td>\n",
              "      <td>The Godfather</td>\n",
              "      <td>R</td>\n",
              "      <td>Crime</td>\n",
              "      <td>175</td>\n",
              "      <td>[u'Marlon Brando', u'Al Pacino', u'James Caan']</td>\n",
              "    </tr>\n",
              "    <tr>\n",
              "      <th>2</th>\n",
              "      <td>9.1</td>\n",
              "      <td>The Godfather: Part II</td>\n",
              "      <td>R</td>\n",
              "      <td>Crime</td>\n",
              "      <td>200</td>\n",
              "      <td>[u'Al Pacino', u'Robert De Niro', u'Robert Duv...</td>\n",
              "    </tr>\n",
              "    <tr>\n",
              "      <th>3</th>\n",
              "      <td>9.0</td>\n",
              "      <td>The Dark Knight</td>\n",
              "      <td>PG-13</td>\n",
              "      <td>Action</td>\n",
              "      <td>152</td>\n",
              "      <td>[u'Christian Bale', u'Heath Ledger', u'Aaron E...</td>\n",
              "    </tr>\n",
              "  </tbody>\n",
              "</table>\n",
              "</div>\n",
              "      <button class=\"colab-df-convert\" onclick=\"convertToInteractive('df-73aa8440-067f-4134-b017-40a6c6f5816a')\"\n",
              "              title=\"Convert this dataframe to an interactive table.\"\n",
              "              style=\"display:none;\">\n",
              "        \n",
              "  <svg xmlns=\"http://www.w3.org/2000/svg\" height=\"24px\"viewBox=\"0 0 24 24\"\n",
              "       width=\"24px\">\n",
              "    <path d=\"M0 0h24v24H0V0z\" fill=\"none\"/>\n",
              "    <path d=\"M18.56 5.44l.94 2.06.94-2.06 2.06-.94-2.06-.94-.94-2.06-.94 2.06-2.06.94zm-11 1L8.5 8.5l.94-2.06 2.06-.94-2.06-.94L8.5 2.5l-.94 2.06-2.06.94zm10 10l.94 2.06.94-2.06 2.06-.94-2.06-.94-.94-2.06-.94 2.06-2.06.94z\"/><path d=\"M17.41 7.96l-1.37-1.37c-.4-.4-.92-.59-1.43-.59-.52 0-1.04.2-1.43.59L10.3 9.45l-7.72 7.72c-.78.78-.78 2.05 0 2.83L4 21.41c.39.39.9.59 1.41.59.51 0 1.02-.2 1.41-.59l7.78-7.78 2.81-2.81c.8-.78.8-2.07 0-2.86zM5.41 20L4 18.59l7.72-7.72 1.47 1.35L5.41 20z\"/>\n",
              "  </svg>\n",
              "      </button>\n",
              "      \n",
              "  <style>\n",
              "    .colab-df-container {\n",
              "      display:flex;\n",
              "      flex-wrap:wrap;\n",
              "      gap: 12px;\n",
              "    }\n",
              "\n",
              "    .colab-df-convert {\n",
              "      background-color: #E8F0FE;\n",
              "      border: none;\n",
              "      border-radius: 50%;\n",
              "      cursor: pointer;\n",
              "      display: none;\n",
              "      fill: #1967D2;\n",
              "      height: 32px;\n",
              "      padding: 0 0 0 0;\n",
              "      width: 32px;\n",
              "    }\n",
              "\n",
              "    .colab-df-convert:hover {\n",
              "      background-color: #E2EBFA;\n",
              "      box-shadow: 0px 1px 2px rgba(60, 64, 67, 0.3), 0px 1px 3px 1px rgba(60, 64, 67, 0.15);\n",
              "      fill: #174EA6;\n",
              "    }\n",
              "\n",
              "    [theme=dark] .colab-df-convert {\n",
              "      background-color: #3B4455;\n",
              "      fill: #D2E3FC;\n",
              "    }\n",
              "\n",
              "    [theme=dark] .colab-df-convert:hover {\n",
              "      background-color: #434B5C;\n",
              "      box-shadow: 0px 1px 3px 1px rgba(0, 0, 0, 0.15);\n",
              "      filter: drop-shadow(0px 1px 2px rgba(0, 0, 0, 0.3));\n",
              "      fill: #FFFFFF;\n",
              "    }\n",
              "  </style>\n",
              "\n",
              "      <script>\n",
              "        const buttonEl =\n",
              "          document.querySelector('#df-73aa8440-067f-4134-b017-40a6c6f5816a button.colab-df-convert');\n",
              "        buttonEl.style.display =\n",
              "          google.colab.kernel.accessAllowed ? 'block' : 'none';\n",
              "\n",
              "        async function convertToInteractive(key) {\n",
              "          const element = document.querySelector('#df-73aa8440-067f-4134-b017-40a6c6f5816a');\n",
              "          const dataTable =\n",
              "            await google.colab.kernel.invokeFunction('convertToInteractive',\n",
              "                                                     [key], {});\n",
              "          if (!dataTable) return;\n",
              "\n",
              "          const docLinkHtml = 'Like what you see? Visit the ' +\n",
              "            '<a target=\"_blank\" href=https://colab.research.google.com/notebooks/data_table.ipynb>data table notebook</a>'\n",
              "            + ' to learn more about interactive tables.';\n",
              "          element.innerHTML = '';\n",
              "          dataTable['output_type'] = 'display_data';\n",
              "          await google.colab.output.renderOutput(dataTable, element);\n",
              "          const docLink = document.createElement('div');\n",
              "          docLink.innerHTML = docLinkHtml;\n",
              "          element.appendChild(docLink);\n",
              "        }\n",
              "      </script>\n",
              "    </div>\n",
              "  </div>\n",
              "  "
            ]
          },
          "metadata": {},
          "execution_count": 79
        }
      ]
    },
    {
      "cell_type": "code",
      "metadata": {
        "id": "0Ix1WvpLLm8w"
      },
      "source": [
        "movies.head()"
      ],
      "execution_count": null,
      "outputs": []
    },
    {
      "cell_type": "code",
      "metadata": {
        "id": "hIxiV9zALm8w"
      },
      "source": [
        "#28-pandas-How do I change display options in pandas.pptx"
      ],
      "execution_count": null,
      "outputs": []
    },
    {
      "cell_type": "code",
      "metadata": {
        "id": "vVTJ2bDUL4cv"
      },
      "source": [
        "import pandas as pd"
      ],
      "execution_count": null,
      "outputs": []
    },
    {
      "cell_type": "code",
      "metadata": {
        "id": "gDUqiCsxL4c1"
      },
      "source": [
        "drinks = pd.read_csv('http://bit.ly/drinksbycountry')"
      ],
      "execution_count": 81,
      "outputs": []
    },
    {
      "cell_type": "code",
      "metadata": {
        "id": "WZ_IZjvuL4c3",
        "colab": {
          "base_uri": "https://localhost:8080/",
          "height": 424
        },
        "outputId": "15df9060-ad53-439a-f9b3-0e69e76facd4"
      },
      "source": [
        "drinks"
      ],
      "execution_count": 82,
      "outputs": [
        {
          "output_type": "execute_result",
          "data": {
            "text/plain": [
              "         country  beer_servings  spirit_servings  wine_servings  \\\n",
              "0    Afghanistan              0                0              0   \n",
              "1        Albania             89              132             54   \n",
              "2        Algeria             25                0             14   \n",
              "3        Andorra            245              138            312   \n",
              "4         Angola            217               57             45   \n",
              "..           ...            ...              ...            ...   \n",
              "188    Venezuela            333              100              3   \n",
              "189      Vietnam            111                2              1   \n",
              "190        Yemen              6                0              0   \n",
              "191       Zambia             32               19              4   \n",
              "192     Zimbabwe             64               18              4   \n",
              "\n",
              "     total_litres_of_pure_alcohol      continent  \n",
              "0                             0.0           Asia  \n",
              "1                             4.9         Europe  \n",
              "2                             0.7         Africa  \n",
              "3                            12.4         Europe  \n",
              "4                             5.9         Africa  \n",
              "..                            ...            ...  \n",
              "188                           7.7  South America  \n",
              "189                           2.0           Asia  \n",
              "190                           0.1           Asia  \n",
              "191                           2.5         Africa  \n",
              "192                           4.7         Africa  \n",
              "\n",
              "[193 rows x 6 columns]"
            ],
            "text/html": [
              "\n",
              "  <div id=\"df-82d39959-8231-4ed4-b290-f7d54f336e72\">\n",
              "    <div class=\"colab-df-container\">\n",
              "      <div>\n",
              "<style scoped>\n",
              "    .dataframe tbody tr th:only-of-type {\n",
              "        vertical-align: middle;\n",
              "    }\n",
              "\n",
              "    .dataframe tbody tr th {\n",
              "        vertical-align: top;\n",
              "    }\n",
              "\n",
              "    .dataframe thead th {\n",
              "        text-align: right;\n",
              "    }\n",
              "</style>\n",
              "<table border=\"1\" class=\"dataframe\">\n",
              "  <thead>\n",
              "    <tr style=\"text-align: right;\">\n",
              "      <th></th>\n",
              "      <th>country</th>\n",
              "      <th>beer_servings</th>\n",
              "      <th>spirit_servings</th>\n",
              "      <th>wine_servings</th>\n",
              "      <th>total_litres_of_pure_alcohol</th>\n",
              "      <th>continent</th>\n",
              "    </tr>\n",
              "  </thead>\n",
              "  <tbody>\n",
              "    <tr>\n",
              "      <th>0</th>\n",
              "      <td>Afghanistan</td>\n",
              "      <td>0</td>\n",
              "      <td>0</td>\n",
              "      <td>0</td>\n",
              "      <td>0.0</td>\n",
              "      <td>Asia</td>\n",
              "    </tr>\n",
              "    <tr>\n",
              "      <th>1</th>\n",
              "      <td>Albania</td>\n",
              "      <td>89</td>\n",
              "      <td>132</td>\n",
              "      <td>54</td>\n",
              "      <td>4.9</td>\n",
              "      <td>Europe</td>\n",
              "    </tr>\n",
              "    <tr>\n",
              "      <th>2</th>\n",
              "      <td>Algeria</td>\n",
              "      <td>25</td>\n",
              "      <td>0</td>\n",
              "      <td>14</td>\n",
              "      <td>0.7</td>\n",
              "      <td>Africa</td>\n",
              "    </tr>\n",
              "    <tr>\n",
              "      <th>3</th>\n",
              "      <td>Andorra</td>\n",
              "      <td>245</td>\n",
              "      <td>138</td>\n",
              "      <td>312</td>\n",
              "      <td>12.4</td>\n",
              "      <td>Europe</td>\n",
              "    </tr>\n",
              "    <tr>\n",
              "      <th>4</th>\n",
              "      <td>Angola</td>\n",
              "      <td>217</td>\n",
              "      <td>57</td>\n",
              "      <td>45</td>\n",
              "      <td>5.9</td>\n",
              "      <td>Africa</td>\n",
              "    </tr>\n",
              "    <tr>\n",
              "      <th>...</th>\n",
              "      <td>...</td>\n",
              "      <td>...</td>\n",
              "      <td>...</td>\n",
              "      <td>...</td>\n",
              "      <td>...</td>\n",
              "      <td>...</td>\n",
              "    </tr>\n",
              "    <tr>\n",
              "      <th>188</th>\n",
              "      <td>Venezuela</td>\n",
              "      <td>333</td>\n",
              "      <td>100</td>\n",
              "      <td>3</td>\n",
              "      <td>7.7</td>\n",
              "      <td>South America</td>\n",
              "    </tr>\n",
              "    <tr>\n",
              "      <th>189</th>\n",
              "      <td>Vietnam</td>\n",
              "      <td>111</td>\n",
              "      <td>2</td>\n",
              "      <td>1</td>\n",
              "      <td>2.0</td>\n",
              "      <td>Asia</td>\n",
              "    </tr>\n",
              "    <tr>\n",
              "      <th>190</th>\n",
              "      <td>Yemen</td>\n",
              "      <td>6</td>\n",
              "      <td>0</td>\n",
              "      <td>0</td>\n",
              "      <td>0.1</td>\n",
              "      <td>Asia</td>\n",
              "    </tr>\n",
              "    <tr>\n",
              "      <th>191</th>\n",
              "      <td>Zambia</td>\n",
              "      <td>32</td>\n",
              "      <td>19</td>\n",
              "      <td>4</td>\n",
              "      <td>2.5</td>\n",
              "      <td>Africa</td>\n",
              "    </tr>\n",
              "    <tr>\n",
              "      <th>192</th>\n",
              "      <td>Zimbabwe</td>\n",
              "      <td>64</td>\n",
              "      <td>18</td>\n",
              "      <td>4</td>\n",
              "      <td>4.7</td>\n",
              "      <td>Africa</td>\n",
              "    </tr>\n",
              "  </tbody>\n",
              "</table>\n",
              "<p>193 rows × 6 columns</p>\n",
              "</div>\n",
              "      <button class=\"colab-df-convert\" onclick=\"convertToInteractive('df-82d39959-8231-4ed4-b290-f7d54f336e72')\"\n",
              "              title=\"Convert this dataframe to an interactive table.\"\n",
              "              style=\"display:none;\">\n",
              "        \n",
              "  <svg xmlns=\"http://www.w3.org/2000/svg\" height=\"24px\"viewBox=\"0 0 24 24\"\n",
              "       width=\"24px\">\n",
              "    <path d=\"M0 0h24v24H0V0z\" fill=\"none\"/>\n",
              "    <path d=\"M18.56 5.44l.94 2.06.94-2.06 2.06-.94-2.06-.94-.94-2.06-.94 2.06-2.06.94zm-11 1L8.5 8.5l.94-2.06 2.06-.94-2.06-.94L8.5 2.5l-.94 2.06-2.06.94zm10 10l.94 2.06.94-2.06 2.06-.94-2.06-.94-.94-2.06-.94 2.06-2.06.94z\"/><path d=\"M17.41 7.96l-1.37-1.37c-.4-.4-.92-.59-1.43-.59-.52 0-1.04.2-1.43.59L10.3 9.45l-7.72 7.72c-.78.78-.78 2.05 0 2.83L4 21.41c.39.39.9.59 1.41.59.51 0 1.02-.2 1.41-.59l7.78-7.78 2.81-2.81c.8-.78.8-2.07 0-2.86zM5.41 20L4 18.59l7.72-7.72 1.47 1.35L5.41 20z\"/>\n",
              "  </svg>\n",
              "      </button>\n",
              "      \n",
              "  <style>\n",
              "    .colab-df-container {\n",
              "      display:flex;\n",
              "      flex-wrap:wrap;\n",
              "      gap: 12px;\n",
              "    }\n",
              "\n",
              "    .colab-df-convert {\n",
              "      background-color: #E8F0FE;\n",
              "      border: none;\n",
              "      border-radius: 50%;\n",
              "      cursor: pointer;\n",
              "      display: none;\n",
              "      fill: #1967D2;\n",
              "      height: 32px;\n",
              "      padding: 0 0 0 0;\n",
              "      width: 32px;\n",
              "    }\n",
              "\n",
              "    .colab-df-convert:hover {\n",
              "      background-color: #E2EBFA;\n",
              "      box-shadow: 0px 1px 2px rgba(60, 64, 67, 0.3), 0px 1px 3px 1px rgba(60, 64, 67, 0.15);\n",
              "      fill: #174EA6;\n",
              "    }\n",
              "\n",
              "    [theme=dark] .colab-df-convert {\n",
              "      background-color: #3B4455;\n",
              "      fill: #D2E3FC;\n",
              "    }\n",
              "\n",
              "    [theme=dark] .colab-df-convert:hover {\n",
              "      background-color: #434B5C;\n",
              "      box-shadow: 0px 1px 3px 1px rgba(0, 0, 0, 0.15);\n",
              "      filter: drop-shadow(0px 1px 2px rgba(0, 0, 0, 0.3));\n",
              "      fill: #FFFFFF;\n",
              "    }\n",
              "  </style>\n",
              "\n",
              "      <script>\n",
              "        const buttonEl =\n",
              "          document.querySelector('#df-82d39959-8231-4ed4-b290-f7d54f336e72 button.colab-df-convert');\n",
              "        buttonEl.style.display =\n",
              "          google.colab.kernel.accessAllowed ? 'block' : 'none';\n",
              "\n",
              "        async function convertToInteractive(key) {\n",
              "          const element = document.querySelector('#df-82d39959-8231-4ed4-b290-f7d54f336e72');\n",
              "          const dataTable =\n",
              "            await google.colab.kernel.invokeFunction('convertToInteractive',\n",
              "                                                     [key], {});\n",
              "          if (!dataTable) return;\n",
              "\n",
              "          const docLinkHtml = 'Like what you see? Visit the ' +\n",
              "            '<a target=\"_blank\" href=https://colab.research.google.com/notebooks/data_table.ipynb>data table notebook</a>'\n",
              "            + ' to learn more about interactive tables.';\n",
              "          element.innerHTML = '';\n",
              "          dataTable['output_type'] = 'display_data';\n",
              "          await google.colab.output.renderOutput(dataTable, element);\n",
              "          const docLink = document.createElement('div');\n",
              "          docLink.innerHTML = docLinkHtml;\n",
              "          element.appendChild(docLink);\n",
              "        }\n",
              "      </script>\n",
              "    </div>\n",
              "  </div>\n",
              "  "
            ]
          },
          "metadata": {},
          "execution_count": 82
        }
      ]
    },
    {
      "cell_type": "code",
      "metadata": {
        "id": "DoPybRo0L4c5",
        "colab": {
          "base_uri": "https://localhost:8080/"
        },
        "outputId": "109fab0d-0616-43e3-f253-39388ddaa65e"
      },
      "source": [
        " pd.get_option('display.max_rows')"
      ],
      "execution_count": 83,
      "outputs": [
        {
          "output_type": "execute_result",
          "data": {
            "text/plain": [
              "60"
            ]
          },
          "metadata": {},
          "execution_count": 83
        }
      ]
    },
    {
      "cell_type": "code",
      "metadata": {
        "id": "yU7XifsfL4c6"
      },
      "source": [
        "pd.set_option('display.max_rows', None)"
      ],
      "execution_count": 84,
      "outputs": []
    },
    {
      "cell_type": "code",
      "metadata": {
        "id": "QKg--dzCL4c7"
      },
      "source": [
        "drinks"
      ],
      "execution_count": null,
      "outputs": []
    },
    {
      "cell_type": "code",
      "metadata": {
        "id": "uylXqlEIL4c8"
      },
      "source": [
        "pd.reset_option('display.max_rows')"
      ],
      "execution_count": 85,
      "outputs": []
    },
    {
      "cell_type": "code",
      "metadata": {
        "id": "riq2FxIPL4dA",
        "colab": {
          "base_uri": "https://localhost:8080/",
          "height": 424
        },
        "outputId": "a9eec8b5-f610-413e-c7ef-f324befd551a"
      },
      "source": [
        "drinks"
      ],
      "execution_count": 86,
      "outputs": [
        {
          "output_type": "execute_result",
          "data": {
            "text/plain": [
              "         country  beer_servings  spirit_servings  wine_servings  \\\n",
              "0    Afghanistan              0                0              0   \n",
              "1        Albania             89              132             54   \n",
              "2        Algeria             25                0             14   \n",
              "3        Andorra            245              138            312   \n",
              "4         Angola            217               57             45   \n",
              "..           ...            ...              ...            ...   \n",
              "188    Venezuela            333              100              3   \n",
              "189      Vietnam            111                2              1   \n",
              "190        Yemen              6                0              0   \n",
              "191       Zambia             32               19              4   \n",
              "192     Zimbabwe             64               18              4   \n",
              "\n",
              "     total_litres_of_pure_alcohol      continent  \n",
              "0                             0.0           Asia  \n",
              "1                             4.9         Europe  \n",
              "2                             0.7         Africa  \n",
              "3                            12.4         Europe  \n",
              "4                             5.9         Africa  \n",
              "..                            ...            ...  \n",
              "188                           7.7  South America  \n",
              "189                           2.0           Asia  \n",
              "190                           0.1           Asia  \n",
              "191                           2.5         Africa  \n",
              "192                           4.7         Africa  \n",
              "\n",
              "[193 rows x 6 columns]"
            ],
            "text/html": [
              "\n",
              "  <div id=\"df-0d95df88-9ae8-441e-aaa5-e9b33b95cf3f\">\n",
              "    <div class=\"colab-df-container\">\n",
              "      <div>\n",
              "<style scoped>\n",
              "    .dataframe tbody tr th:only-of-type {\n",
              "        vertical-align: middle;\n",
              "    }\n",
              "\n",
              "    .dataframe tbody tr th {\n",
              "        vertical-align: top;\n",
              "    }\n",
              "\n",
              "    .dataframe thead th {\n",
              "        text-align: right;\n",
              "    }\n",
              "</style>\n",
              "<table border=\"1\" class=\"dataframe\">\n",
              "  <thead>\n",
              "    <tr style=\"text-align: right;\">\n",
              "      <th></th>\n",
              "      <th>country</th>\n",
              "      <th>beer_servings</th>\n",
              "      <th>spirit_servings</th>\n",
              "      <th>wine_servings</th>\n",
              "      <th>total_litres_of_pure_alcohol</th>\n",
              "      <th>continent</th>\n",
              "    </tr>\n",
              "  </thead>\n",
              "  <tbody>\n",
              "    <tr>\n",
              "      <th>0</th>\n",
              "      <td>Afghanistan</td>\n",
              "      <td>0</td>\n",
              "      <td>0</td>\n",
              "      <td>0</td>\n",
              "      <td>0.0</td>\n",
              "      <td>Asia</td>\n",
              "    </tr>\n",
              "    <tr>\n",
              "      <th>1</th>\n",
              "      <td>Albania</td>\n",
              "      <td>89</td>\n",
              "      <td>132</td>\n",
              "      <td>54</td>\n",
              "      <td>4.9</td>\n",
              "      <td>Europe</td>\n",
              "    </tr>\n",
              "    <tr>\n",
              "      <th>2</th>\n",
              "      <td>Algeria</td>\n",
              "      <td>25</td>\n",
              "      <td>0</td>\n",
              "      <td>14</td>\n",
              "      <td>0.7</td>\n",
              "      <td>Africa</td>\n",
              "    </tr>\n",
              "    <tr>\n",
              "      <th>3</th>\n",
              "      <td>Andorra</td>\n",
              "      <td>245</td>\n",
              "      <td>138</td>\n",
              "      <td>312</td>\n",
              "      <td>12.4</td>\n",
              "      <td>Europe</td>\n",
              "    </tr>\n",
              "    <tr>\n",
              "      <th>4</th>\n",
              "      <td>Angola</td>\n",
              "      <td>217</td>\n",
              "      <td>57</td>\n",
              "      <td>45</td>\n",
              "      <td>5.9</td>\n",
              "      <td>Africa</td>\n",
              "    </tr>\n",
              "    <tr>\n",
              "      <th>...</th>\n",
              "      <td>...</td>\n",
              "      <td>...</td>\n",
              "      <td>...</td>\n",
              "      <td>...</td>\n",
              "      <td>...</td>\n",
              "      <td>...</td>\n",
              "    </tr>\n",
              "    <tr>\n",
              "      <th>188</th>\n",
              "      <td>Venezuela</td>\n",
              "      <td>333</td>\n",
              "      <td>100</td>\n",
              "      <td>3</td>\n",
              "      <td>7.7</td>\n",
              "      <td>South America</td>\n",
              "    </tr>\n",
              "    <tr>\n",
              "      <th>189</th>\n",
              "      <td>Vietnam</td>\n",
              "      <td>111</td>\n",
              "      <td>2</td>\n",
              "      <td>1</td>\n",
              "      <td>2.0</td>\n",
              "      <td>Asia</td>\n",
              "    </tr>\n",
              "    <tr>\n",
              "      <th>190</th>\n",
              "      <td>Yemen</td>\n",
              "      <td>6</td>\n",
              "      <td>0</td>\n",
              "      <td>0</td>\n",
              "      <td>0.1</td>\n",
              "      <td>Asia</td>\n",
              "    </tr>\n",
              "    <tr>\n",
              "      <th>191</th>\n",
              "      <td>Zambia</td>\n",
              "      <td>32</td>\n",
              "      <td>19</td>\n",
              "      <td>4</td>\n",
              "      <td>2.5</td>\n",
              "      <td>Africa</td>\n",
              "    </tr>\n",
              "    <tr>\n",
              "      <th>192</th>\n",
              "      <td>Zimbabwe</td>\n",
              "      <td>64</td>\n",
              "      <td>18</td>\n",
              "      <td>4</td>\n",
              "      <td>4.7</td>\n",
              "      <td>Africa</td>\n",
              "    </tr>\n",
              "  </tbody>\n",
              "</table>\n",
              "<p>193 rows × 6 columns</p>\n",
              "</div>\n",
              "      <button class=\"colab-df-convert\" onclick=\"convertToInteractive('df-0d95df88-9ae8-441e-aaa5-e9b33b95cf3f')\"\n",
              "              title=\"Convert this dataframe to an interactive table.\"\n",
              "              style=\"display:none;\">\n",
              "        \n",
              "  <svg xmlns=\"http://www.w3.org/2000/svg\" height=\"24px\"viewBox=\"0 0 24 24\"\n",
              "       width=\"24px\">\n",
              "    <path d=\"M0 0h24v24H0V0z\" fill=\"none\"/>\n",
              "    <path d=\"M18.56 5.44l.94 2.06.94-2.06 2.06-.94-2.06-.94-.94-2.06-.94 2.06-2.06.94zm-11 1L8.5 8.5l.94-2.06 2.06-.94-2.06-.94L8.5 2.5l-.94 2.06-2.06.94zm10 10l.94 2.06.94-2.06 2.06-.94-2.06-.94-.94-2.06-.94 2.06-2.06.94z\"/><path d=\"M17.41 7.96l-1.37-1.37c-.4-.4-.92-.59-1.43-.59-.52 0-1.04.2-1.43.59L10.3 9.45l-7.72 7.72c-.78.78-.78 2.05 0 2.83L4 21.41c.39.39.9.59 1.41.59.51 0 1.02-.2 1.41-.59l7.78-7.78 2.81-2.81c.8-.78.8-2.07 0-2.86zM5.41 20L4 18.59l7.72-7.72 1.47 1.35L5.41 20z\"/>\n",
              "  </svg>\n",
              "      </button>\n",
              "      \n",
              "  <style>\n",
              "    .colab-df-container {\n",
              "      display:flex;\n",
              "      flex-wrap:wrap;\n",
              "      gap: 12px;\n",
              "    }\n",
              "\n",
              "    .colab-df-convert {\n",
              "      background-color: #E8F0FE;\n",
              "      border: none;\n",
              "      border-radius: 50%;\n",
              "      cursor: pointer;\n",
              "      display: none;\n",
              "      fill: #1967D2;\n",
              "      height: 32px;\n",
              "      padding: 0 0 0 0;\n",
              "      width: 32px;\n",
              "    }\n",
              "\n",
              "    .colab-df-convert:hover {\n",
              "      background-color: #E2EBFA;\n",
              "      box-shadow: 0px 1px 2px rgba(60, 64, 67, 0.3), 0px 1px 3px 1px rgba(60, 64, 67, 0.15);\n",
              "      fill: #174EA6;\n",
              "    }\n",
              "\n",
              "    [theme=dark] .colab-df-convert {\n",
              "      background-color: #3B4455;\n",
              "      fill: #D2E3FC;\n",
              "    }\n",
              "\n",
              "    [theme=dark] .colab-df-convert:hover {\n",
              "      background-color: #434B5C;\n",
              "      box-shadow: 0px 1px 3px 1px rgba(0, 0, 0, 0.15);\n",
              "      filter: drop-shadow(0px 1px 2px rgba(0, 0, 0, 0.3));\n",
              "      fill: #FFFFFF;\n",
              "    }\n",
              "  </style>\n",
              "\n",
              "      <script>\n",
              "        const buttonEl =\n",
              "          document.querySelector('#df-0d95df88-9ae8-441e-aaa5-e9b33b95cf3f button.colab-df-convert');\n",
              "        buttonEl.style.display =\n",
              "          google.colab.kernel.accessAllowed ? 'block' : 'none';\n",
              "\n",
              "        async function convertToInteractive(key) {\n",
              "          const element = document.querySelector('#df-0d95df88-9ae8-441e-aaa5-e9b33b95cf3f');\n",
              "          const dataTable =\n",
              "            await google.colab.kernel.invokeFunction('convertToInteractive',\n",
              "                                                     [key], {});\n",
              "          if (!dataTable) return;\n",
              "\n",
              "          const docLinkHtml = 'Like what you see? Visit the ' +\n",
              "            '<a target=\"_blank\" href=https://colab.research.google.com/notebooks/data_table.ipynb>data table notebook</a>'\n",
              "            + ' to learn more about interactive tables.';\n",
              "          element.innerHTML = '';\n",
              "          dataTable['output_type'] = 'display_data';\n",
              "          await google.colab.output.renderOutput(dataTable, element);\n",
              "          const docLink = document.createElement('div');\n",
              "          docLink.innerHTML = docLinkHtml;\n",
              "          element.appendChild(docLink);\n",
              "        }\n",
              "      </script>\n",
              "    </div>\n",
              "  </div>\n",
              "  "
            ]
          },
          "metadata": {},
          "execution_count": 86
        }
      ]
    },
    {
      "cell_type": "code",
      "metadata": {
        "id": "eDRKnfW_L4dC"
      },
      "source": [
        "pd.get_option('display.max_columns')"
      ],
      "execution_count": null,
      "outputs": []
    },
    {
      "cell_type": "code",
      "metadata": {
        "id": "UsNoVJ0DL4dE"
      },
      "source": [
        "pd.set_option('display.max_columns', None)"
      ],
      "execution_count": null,
      "outputs": []
    },
    {
      "cell_type": "code",
      "metadata": {
        "id": "22PhND4DL4dF"
      },
      "source": [
        "drinks"
      ],
      "execution_count": null,
      "outputs": []
    },
    {
      "cell_type": "code",
      "metadata": {
        "id": "A19XUf4UL4dF"
      },
      "source": [
        "pd.reset_option('display.max_columns')"
      ],
      "execution_count": null,
      "outputs": []
    },
    {
      "cell_type": "code",
      "metadata": {
        "id": "HvY3benFL4dG"
      },
      "source": [
        "train = pd.read_csv('http://bit.ly/kaggletrain')"
      ],
      "execution_count": 90,
      "outputs": []
    },
    {
      "cell_type": "code",
      "metadata": {
        "id": "2zOHgjqkL4dH",
        "colab": {
          "base_uri": "https://localhost:8080/",
          "height": 206
        },
        "outputId": "8c369395-3c58-4ada-9ef7-9ac31fcbd402"
      },
      "source": [
        "train.head()"
      ],
      "execution_count": 91,
      "outputs": [
        {
          "output_type": "execute_result",
          "data": {
            "text/plain": [
              "   PassengerId  Survived  Pclass  \\\n",
              "0            1         0       3   \n",
              "1            2         1       1   \n",
              "2            3         1       3   \n",
              "3            4         1       1   \n",
              "4            5         0       3   \n",
              "\n",
              "                                                  Name     Sex   Age  SibSp  \\\n",
              "0                              Braund, Mr. Owen Harris    male  22.0      1   \n",
              "1  Cumings, Mrs. John Bradley (Florence Briggs Thayer)  female  38.0      1   \n",
              "2                               Heikkinen, Miss. Laina  female  26.0      0   \n",
              "3         Futrelle, Mrs. Jacques Heath (Lily May Peel)  female  35.0      1   \n",
              "4                             Allen, Mr. William Henry    male  35.0      0   \n",
              "\n",
              "   Parch            Ticket     Fare Cabin Embarked  \n",
              "0      0         A/5 21171   7.2500   NaN        S  \n",
              "1      0          PC 17599  71.2833   C85        C  \n",
              "2      0  STON/O2. 3101282   7.9250   NaN        S  \n",
              "3      0            113803  53.1000  C123        S  \n",
              "4      0            373450   8.0500   NaN        S  "
            ],
            "text/html": [
              "\n",
              "  <div id=\"df-4deb5b55-a377-4cd8-a61a-fb6be80e9327\">\n",
              "    <div class=\"colab-df-container\">\n",
              "      <div>\n",
              "<style scoped>\n",
              "    .dataframe tbody tr th:only-of-type {\n",
              "        vertical-align: middle;\n",
              "    }\n",
              "\n",
              "    .dataframe tbody tr th {\n",
              "        vertical-align: top;\n",
              "    }\n",
              "\n",
              "    .dataframe thead th {\n",
              "        text-align: right;\n",
              "    }\n",
              "</style>\n",
              "<table border=\"1\" class=\"dataframe\">\n",
              "  <thead>\n",
              "    <tr style=\"text-align: right;\">\n",
              "      <th></th>\n",
              "      <th>PassengerId</th>\n",
              "      <th>Survived</th>\n",
              "      <th>Pclass</th>\n",
              "      <th>Name</th>\n",
              "      <th>Sex</th>\n",
              "      <th>Age</th>\n",
              "      <th>SibSp</th>\n",
              "      <th>Parch</th>\n",
              "      <th>Ticket</th>\n",
              "      <th>Fare</th>\n",
              "      <th>Cabin</th>\n",
              "      <th>Embarked</th>\n",
              "    </tr>\n",
              "  </thead>\n",
              "  <tbody>\n",
              "    <tr>\n",
              "      <th>0</th>\n",
              "      <td>1</td>\n",
              "      <td>0</td>\n",
              "      <td>3</td>\n",
              "      <td>Braund, Mr. Owen Harris</td>\n",
              "      <td>male</td>\n",
              "      <td>22.0</td>\n",
              "      <td>1</td>\n",
              "      <td>0</td>\n",
              "      <td>A/5 21171</td>\n",
              "      <td>7.2500</td>\n",
              "      <td>NaN</td>\n",
              "      <td>S</td>\n",
              "    </tr>\n",
              "    <tr>\n",
              "      <th>1</th>\n",
              "      <td>2</td>\n",
              "      <td>1</td>\n",
              "      <td>1</td>\n",
              "      <td>Cumings, Mrs. John Bradley (Florence Briggs Thayer)</td>\n",
              "      <td>female</td>\n",
              "      <td>38.0</td>\n",
              "      <td>1</td>\n",
              "      <td>0</td>\n",
              "      <td>PC 17599</td>\n",
              "      <td>71.2833</td>\n",
              "      <td>C85</td>\n",
              "      <td>C</td>\n",
              "    </tr>\n",
              "    <tr>\n",
              "      <th>2</th>\n",
              "      <td>3</td>\n",
              "      <td>1</td>\n",
              "      <td>3</td>\n",
              "      <td>Heikkinen, Miss. Laina</td>\n",
              "      <td>female</td>\n",
              "      <td>26.0</td>\n",
              "      <td>0</td>\n",
              "      <td>0</td>\n",
              "      <td>STON/O2. 3101282</td>\n",
              "      <td>7.9250</td>\n",
              "      <td>NaN</td>\n",
              "      <td>S</td>\n",
              "    </tr>\n",
              "    <tr>\n",
              "      <th>3</th>\n",
              "      <td>4</td>\n",
              "      <td>1</td>\n",
              "      <td>1</td>\n",
              "      <td>Futrelle, Mrs. Jacques Heath (Lily May Peel)</td>\n",
              "      <td>female</td>\n",
              "      <td>35.0</td>\n",
              "      <td>1</td>\n",
              "      <td>0</td>\n",
              "      <td>113803</td>\n",
              "      <td>53.1000</td>\n",
              "      <td>C123</td>\n",
              "      <td>S</td>\n",
              "    </tr>\n",
              "    <tr>\n",
              "      <th>4</th>\n",
              "      <td>5</td>\n",
              "      <td>0</td>\n",
              "      <td>3</td>\n",
              "      <td>Allen, Mr. William Henry</td>\n",
              "      <td>male</td>\n",
              "      <td>35.0</td>\n",
              "      <td>0</td>\n",
              "      <td>0</td>\n",
              "      <td>373450</td>\n",
              "      <td>8.0500</td>\n",
              "      <td>NaN</td>\n",
              "      <td>S</td>\n",
              "    </tr>\n",
              "  </tbody>\n",
              "</table>\n",
              "</div>\n",
              "      <button class=\"colab-df-convert\" onclick=\"convertToInteractive('df-4deb5b55-a377-4cd8-a61a-fb6be80e9327')\"\n",
              "              title=\"Convert this dataframe to an interactive table.\"\n",
              "              style=\"display:none;\">\n",
              "        \n",
              "  <svg xmlns=\"http://www.w3.org/2000/svg\" height=\"24px\"viewBox=\"0 0 24 24\"\n",
              "       width=\"24px\">\n",
              "    <path d=\"M0 0h24v24H0V0z\" fill=\"none\"/>\n",
              "    <path d=\"M18.56 5.44l.94 2.06.94-2.06 2.06-.94-2.06-.94-.94-2.06-.94 2.06-2.06.94zm-11 1L8.5 8.5l.94-2.06 2.06-.94-2.06-.94L8.5 2.5l-.94 2.06-2.06.94zm10 10l.94 2.06.94-2.06 2.06-.94-2.06-.94-.94-2.06-.94 2.06-2.06.94z\"/><path d=\"M17.41 7.96l-1.37-1.37c-.4-.4-.92-.59-1.43-.59-.52 0-1.04.2-1.43.59L10.3 9.45l-7.72 7.72c-.78.78-.78 2.05 0 2.83L4 21.41c.39.39.9.59 1.41.59.51 0 1.02-.2 1.41-.59l7.78-7.78 2.81-2.81c.8-.78.8-2.07 0-2.86zM5.41 20L4 18.59l7.72-7.72 1.47 1.35L5.41 20z\"/>\n",
              "  </svg>\n",
              "      </button>\n",
              "      \n",
              "  <style>\n",
              "    .colab-df-container {\n",
              "      display:flex;\n",
              "      flex-wrap:wrap;\n",
              "      gap: 12px;\n",
              "    }\n",
              "\n",
              "    .colab-df-convert {\n",
              "      background-color: #E8F0FE;\n",
              "      border: none;\n",
              "      border-radius: 50%;\n",
              "      cursor: pointer;\n",
              "      display: none;\n",
              "      fill: #1967D2;\n",
              "      height: 32px;\n",
              "      padding: 0 0 0 0;\n",
              "      width: 32px;\n",
              "    }\n",
              "\n",
              "    .colab-df-convert:hover {\n",
              "      background-color: #E2EBFA;\n",
              "      box-shadow: 0px 1px 2px rgba(60, 64, 67, 0.3), 0px 1px 3px 1px rgba(60, 64, 67, 0.15);\n",
              "      fill: #174EA6;\n",
              "    }\n",
              "\n",
              "    [theme=dark] .colab-df-convert {\n",
              "      background-color: #3B4455;\n",
              "      fill: #D2E3FC;\n",
              "    }\n",
              "\n",
              "    [theme=dark] .colab-df-convert:hover {\n",
              "      background-color: #434B5C;\n",
              "      box-shadow: 0px 1px 3px 1px rgba(0, 0, 0, 0.15);\n",
              "      filter: drop-shadow(0px 1px 2px rgba(0, 0, 0, 0.3));\n",
              "      fill: #FFFFFF;\n",
              "    }\n",
              "  </style>\n",
              "\n",
              "      <script>\n",
              "        const buttonEl =\n",
              "          document.querySelector('#df-4deb5b55-a377-4cd8-a61a-fb6be80e9327 button.colab-df-convert');\n",
              "        buttonEl.style.display =\n",
              "          google.colab.kernel.accessAllowed ? 'block' : 'none';\n",
              "\n",
              "        async function convertToInteractive(key) {\n",
              "          const element = document.querySelector('#df-4deb5b55-a377-4cd8-a61a-fb6be80e9327');\n",
              "          const dataTable =\n",
              "            await google.colab.kernel.invokeFunction('convertToInteractive',\n",
              "                                                     [key], {});\n",
              "          if (!dataTable) return;\n",
              "\n",
              "          const docLinkHtml = 'Like what you see? Visit the ' +\n",
              "            '<a target=\"_blank\" href=https://colab.research.google.com/notebooks/data_table.ipynb>data table notebook</a>'\n",
              "            + ' to learn more about interactive tables.';\n",
              "          element.innerHTML = '';\n",
              "          dataTable['output_type'] = 'display_data';\n",
              "          await google.colab.output.renderOutput(dataTable, element);\n",
              "          const docLink = document.createElement('div');\n",
              "          docLink.innerHTML = docLinkHtml;\n",
              "          element.appendChild(docLink);\n",
              "        }\n",
              "      </script>\n",
              "    </div>\n",
              "  </div>\n",
              "  "
            ]
          },
          "metadata": {},
          "execution_count": 91
        }
      ]
    },
    {
      "cell_type": "code",
      "metadata": {
        "id": "-B3xw7xHL4dH",
        "colab": {
          "base_uri": "https://localhost:8080/"
        },
        "outputId": "82dccd37-e760-4461-8a1a-19538bd30c62"
      },
      "source": [
        "pd.get_option('display.max_colwidth')"
      ],
      "execution_count": 94,
      "outputs": [
        {
          "output_type": "execute_result",
          "data": {
            "text/plain": [
              "1000"
            ]
          },
          "metadata": {},
          "execution_count": 94
        }
      ]
    },
    {
      "cell_type": "code",
      "metadata": {
        "id": "hGE_xPMlL4dI"
      },
      "source": [
        "pd.set_option('display.max_colwidth', 1000)"
      ],
      "execution_count": 87,
      "outputs": []
    },
    {
      "cell_type": "code",
      "metadata": {
        "id": "vN9svs9pL4dI",
        "colab": {
          "base_uri": "https://localhost:8080/",
          "height": 206
        },
        "outputId": "7b95054a-69db-4e18-f57d-15997471b64a"
      },
      "source": [
        "train.head()"
      ],
      "execution_count": 93,
      "outputs": [
        {
          "output_type": "execute_result",
          "data": {
            "text/plain": [
              "   PassengerId  Survived  Pclass  \\\n",
              "0            1         0       3   \n",
              "1            2         1       1   \n",
              "2            3         1       3   \n",
              "3            4         1       1   \n",
              "4            5         0       3   \n",
              "\n",
              "                                                  Name     Sex   Age  SibSp  \\\n",
              "0                              Braund, Mr. Owen Harris    male  22.0      1   \n",
              "1  Cumings, Mrs. John Bradley (Florence Briggs Thayer)  female  38.0      1   \n",
              "2                               Heikkinen, Miss. Laina  female  26.0      0   \n",
              "3         Futrelle, Mrs. Jacques Heath (Lily May Peel)  female  35.0      1   \n",
              "4                             Allen, Mr. William Henry    male  35.0      0   \n",
              "\n",
              "   Parch            Ticket     Fare Cabin Embarked  \n",
              "0      0         A/5 21171   7.2500   NaN        S  \n",
              "1      0          PC 17599  71.2833   C85        C  \n",
              "2      0  STON/O2. 3101282   7.9250   NaN        S  \n",
              "3      0            113803  53.1000  C123        S  \n",
              "4      0            373450   8.0500   NaN        S  "
            ],
            "text/html": [
              "\n",
              "  <div id=\"df-93dbc539-5421-4eae-b35a-95367c6b4047\">\n",
              "    <div class=\"colab-df-container\">\n",
              "      <div>\n",
              "<style scoped>\n",
              "    .dataframe tbody tr th:only-of-type {\n",
              "        vertical-align: middle;\n",
              "    }\n",
              "\n",
              "    .dataframe tbody tr th {\n",
              "        vertical-align: top;\n",
              "    }\n",
              "\n",
              "    .dataframe thead th {\n",
              "        text-align: right;\n",
              "    }\n",
              "</style>\n",
              "<table border=\"1\" class=\"dataframe\">\n",
              "  <thead>\n",
              "    <tr style=\"text-align: right;\">\n",
              "      <th></th>\n",
              "      <th>PassengerId</th>\n",
              "      <th>Survived</th>\n",
              "      <th>Pclass</th>\n",
              "      <th>Name</th>\n",
              "      <th>Sex</th>\n",
              "      <th>Age</th>\n",
              "      <th>SibSp</th>\n",
              "      <th>Parch</th>\n",
              "      <th>Ticket</th>\n",
              "      <th>Fare</th>\n",
              "      <th>Cabin</th>\n",
              "      <th>Embarked</th>\n",
              "    </tr>\n",
              "  </thead>\n",
              "  <tbody>\n",
              "    <tr>\n",
              "      <th>0</th>\n",
              "      <td>1</td>\n",
              "      <td>0</td>\n",
              "      <td>3</td>\n",
              "      <td>Braund, Mr. Owen Harris</td>\n",
              "      <td>male</td>\n",
              "      <td>22.0</td>\n",
              "      <td>1</td>\n",
              "      <td>0</td>\n",
              "      <td>A/5 21171</td>\n",
              "      <td>7.2500</td>\n",
              "      <td>NaN</td>\n",
              "      <td>S</td>\n",
              "    </tr>\n",
              "    <tr>\n",
              "      <th>1</th>\n",
              "      <td>2</td>\n",
              "      <td>1</td>\n",
              "      <td>1</td>\n",
              "      <td>Cumings, Mrs. John Bradley (Florence Briggs Thayer)</td>\n",
              "      <td>female</td>\n",
              "      <td>38.0</td>\n",
              "      <td>1</td>\n",
              "      <td>0</td>\n",
              "      <td>PC 17599</td>\n",
              "      <td>71.2833</td>\n",
              "      <td>C85</td>\n",
              "      <td>C</td>\n",
              "    </tr>\n",
              "    <tr>\n",
              "      <th>2</th>\n",
              "      <td>3</td>\n",
              "      <td>1</td>\n",
              "      <td>3</td>\n",
              "      <td>Heikkinen, Miss. Laina</td>\n",
              "      <td>female</td>\n",
              "      <td>26.0</td>\n",
              "      <td>0</td>\n",
              "      <td>0</td>\n",
              "      <td>STON/O2. 3101282</td>\n",
              "      <td>7.9250</td>\n",
              "      <td>NaN</td>\n",
              "      <td>S</td>\n",
              "    </tr>\n",
              "    <tr>\n",
              "      <th>3</th>\n",
              "      <td>4</td>\n",
              "      <td>1</td>\n",
              "      <td>1</td>\n",
              "      <td>Futrelle, Mrs. Jacques Heath (Lily May Peel)</td>\n",
              "      <td>female</td>\n",
              "      <td>35.0</td>\n",
              "      <td>1</td>\n",
              "      <td>0</td>\n",
              "      <td>113803</td>\n",
              "      <td>53.1000</td>\n",
              "      <td>C123</td>\n",
              "      <td>S</td>\n",
              "    </tr>\n",
              "    <tr>\n",
              "      <th>4</th>\n",
              "      <td>5</td>\n",
              "      <td>0</td>\n",
              "      <td>3</td>\n",
              "      <td>Allen, Mr. William Henry</td>\n",
              "      <td>male</td>\n",
              "      <td>35.0</td>\n",
              "      <td>0</td>\n",
              "      <td>0</td>\n",
              "      <td>373450</td>\n",
              "      <td>8.0500</td>\n",
              "      <td>NaN</td>\n",
              "      <td>S</td>\n",
              "    </tr>\n",
              "  </tbody>\n",
              "</table>\n",
              "</div>\n",
              "      <button class=\"colab-df-convert\" onclick=\"convertToInteractive('df-93dbc539-5421-4eae-b35a-95367c6b4047')\"\n",
              "              title=\"Convert this dataframe to an interactive table.\"\n",
              "              style=\"display:none;\">\n",
              "        \n",
              "  <svg xmlns=\"http://www.w3.org/2000/svg\" height=\"24px\"viewBox=\"0 0 24 24\"\n",
              "       width=\"24px\">\n",
              "    <path d=\"M0 0h24v24H0V0z\" fill=\"none\"/>\n",
              "    <path d=\"M18.56 5.44l.94 2.06.94-2.06 2.06-.94-2.06-.94-.94-2.06-.94 2.06-2.06.94zm-11 1L8.5 8.5l.94-2.06 2.06-.94-2.06-.94L8.5 2.5l-.94 2.06-2.06.94zm10 10l.94 2.06.94-2.06 2.06-.94-2.06-.94-.94-2.06-.94 2.06-2.06.94z\"/><path d=\"M17.41 7.96l-1.37-1.37c-.4-.4-.92-.59-1.43-.59-.52 0-1.04.2-1.43.59L10.3 9.45l-7.72 7.72c-.78.78-.78 2.05 0 2.83L4 21.41c.39.39.9.59 1.41.59.51 0 1.02-.2 1.41-.59l7.78-7.78 2.81-2.81c.8-.78.8-2.07 0-2.86zM5.41 20L4 18.59l7.72-7.72 1.47 1.35L5.41 20z\"/>\n",
              "  </svg>\n",
              "      </button>\n",
              "      \n",
              "  <style>\n",
              "    .colab-df-container {\n",
              "      display:flex;\n",
              "      flex-wrap:wrap;\n",
              "      gap: 12px;\n",
              "    }\n",
              "\n",
              "    .colab-df-convert {\n",
              "      background-color: #E8F0FE;\n",
              "      border: none;\n",
              "      border-radius: 50%;\n",
              "      cursor: pointer;\n",
              "      display: none;\n",
              "      fill: #1967D2;\n",
              "      height: 32px;\n",
              "      padding: 0 0 0 0;\n",
              "      width: 32px;\n",
              "    }\n",
              "\n",
              "    .colab-df-convert:hover {\n",
              "      background-color: #E2EBFA;\n",
              "      box-shadow: 0px 1px 2px rgba(60, 64, 67, 0.3), 0px 1px 3px 1px rgba(60, 64, 67, 0.15);\n",
              "      fill: #174EA6;\n",
              "    }\n",
              "\n",
              "    [theme=dark] .colab-df-convert {\n",
              "      background-color: #3B4455;\n",
              "      fill: #D2E3FC;\n",
              "    }\n",
              "\n",
              "    [theme=dark] .colab-df-convert:hover {\n",
              "      background-color: #434B5C;\n",
              "      box-shadow: 0px 1px 3px 1px rgba(0, 0, 0, 0.15);\n",
              "      filter: drop-shadow(0px 1px 2px rgba(0, 0, 0, 0.3));\n",
              "      fill: #FFFFFF;\n",
              "    }\n",
              "  </style>\n",
              "\n",
              "      <script>\n",
              "        const buttonEl =\n",
              "          document.querySelector('#df-93dbc539-5421-4eae-b35a-95367c6b4047 button.colab-df-convert');\n",
              "        buttonEl.style.display =\n",
              "          google.colab.kernel.accessAllowed ? 'block' : 'none';\n",
              "\n",
              "        async function convertToInteractive(key) {\n",
              "          const element = document.querySelector('#df-93dbc539-5421-4eae-b35a-95367c6b4047');\n",
              "          const dataTable =\n",
              "            await google.colab.kernel.invokeFunction('convertToInteractive',\n",
              "                                                     [key], {});\n",
              "          if (!dataTable) return;\n",
              "\n",
              "          const docLinkHtml = 'Like what you see? Visit the ' +\n",
              "            '<a target=\"_blank\" href=https://colab.research.google.com/notebooks/data_table.ipynb>data table notebook</a>'\n",
              "            + ' to learn more about interactive tables.';\n",
              "          element.innerHTML = '';\n",
              "          dataTable['output_type'] = 'display_data';\n",
              "          await google.colab.output.renderOutput(dataTable, element);\n",
              "          const docLink = document.createElement('div');\n",
              "          docLink.innerHTML = docLinkHtml;\n",
              "          element.appendChild(docLink);\n",
              "        }\n",
              "      </script>\n",
              "    </div>\n",
              "  </div>\n",
              "  "
            ]
          },
          "metadata": {},
          "execution_count": 93
        }
      ]
    },
    {
      "cell_type": "code",
      "metadata": {
        "id": "lAHPiH9EL4dJ"
      },
      "source": [
        "pd.get_option('display.precision')"
      ],
      "execution_count": null,
      "outputs": []
    },
    {
      "cell_type": "code",
      "metadata": {
        "id": "Dteeq2HoL4dJ"
      },
      "source": [
        "pd.set_option('display.precision', 2)"
      ],
      "execution_count": null,
      "outputs": []
    },
    {
      "cell_type": "code",
      "metadata": {
        "id": "qf4WHP_1L4dK"
      },
      "source": [
        "train.head()"
      ],
      "execution_count": null,
      "outputs": []
    },
    {
      "cell_type": "code",
      "metadata": {
        "id": "XVpiyNZiL4dL"
      },
      "source": [
        "drinks.head()"
      ],
      "execution_count": null,
      "outputs": []
    },
    {
      "cell_type": "code",
      "metadata": {
        "id": "TV5ZA8ylL4dL"
      },
      "source": [
        "drinks['X'] = drinks.wine_servings * 1000"
      ],
      "execution_count": null,
      "outputs": []
    },
    {
      "cell_type": "code",
      "metadata": {
        "id": "Nrtj5QCUL4dM"
      },
      "source": [
        "drinks['Y'] = drinks.total_litres_of_pure_alcohol * 1000"
      ],
      "execution_count": null,
      "outputs": []
    },
    {
      "cell_type": "code",
      "metadata": {
        "id": "VZjWvY7GL4dM"
      },
      "source": [
        "drinks.head()"
      ],
      "execution_count": null,
      "outputs": []
    },
    {
      "cell_type": "code",
      "metadata": {
        "id": "Q2p2jR0JL4dN"
      },
      "source": [
        "pd.set_option('display.float_format', '{:,}'.format)"
      ],
      "execution_count": 95,
      "outputs": []
    },
    {
      "cell_type": "code",
      "metadata": {
        "id": "yuCjydQyL4dN",
        "colab": {
          "base_uri": "https://localhost:8080/",
          "height": 206
        },
        "outputId": "bca473e1-9634-4325-c942-74322df84fc8"
      },
      "source": [
        "drinks.head()"
      ],
      "execution_count": 96,
      "outputs": [
        {
          "output_type": "execute_result",
          "data": {
            "text/plain": [
              "       country  beer_servings  spirit_servings  wine_servings  \\\n",
              "0  Afghanistan              0                0              0   \n",
              "1      Albania             89              132             54   \n",
              "2      Algeria             25                0             14   \n",
              "3      Andorra            245              138            312   \n",
              "4       Angola            217               57             45   \n",
              "\n",
              "   total_litres_of_pure_alcohol continent  \n",
              "0                           0.0      Asia  \n",
              "1                           4.9    Europe  \n",
              "2                           0.7    Africa  \n",
              "3                          12.4    Europe  \n",
              "4                           5.9    Africa  "
            ],
            "text/html": [
              "\n",
              "  <div id=\"df-9aec3c3e-b23c-4f85-92ac-652f14aee784\">\n",
              "    <div class=\"colab-df-container\">\n",
              "      <div>\n",
              "<style scoped>\n",
              "    .dataframe tbody tr th:only-of-type {\n",
              "        vertical-align: middle;\n",
              "    }\n",
              "\n",
              "    .dataframe tbody tr th {\n",
              "        vertical-align: top;\n",
              "    }\n",
              "\n",
              "    .dataframe thead th {\n",
              "        text-align: right;\n",
              "    }\n",
              "</style>\n",
              "<table border=\"1\" class=\"dataframe\">\n",
              "  <thead>\n",
              "    <tr style=\"text-align: right;\">\n",
              "      <th></th>\n",
              "      <th>country</th>\n",
              "      <th>beer_servings</th>\n",
              "      <th>spirit_servings</th>\n",
              "      <th>wine_servings</th>\n",
              "      <th>total_litres_of_pure_alcohol</th>\n",
              "      <th>continent</th>\n",
              "    </tr>\n",
              "  </thead>\n",
              "  <tbody>\n",
              "    <tr>\n",
              "      <th>0</th>\n",
              "      <td>Afghanistan</td>\n",
              "      <td>0</td>\n",
              "      <td>0</td>\n",
              "      <td>0</td>\n",
              "      <td>0.0</td>\n",
              "      <td>Asia</td>\n",
              "    </tr>\n",
              "    <tr>\n",
              "      <th>1</th>\n",
              "      <td>Albania</td>\n",
              "      <td>89</td>\n",
              "      <td>132</td>\n",
              "      <td>54</td>\n",
              "      <td>4.9</td>\n",
              "      <td>Europe</td>\n",
              "    </tr>\n",
              "    <tr>\n",
              "      <th>2</th>\n",
              "      <td>Algeria</td>\n",
              "      <td>25</td>\n",
              "      <td>0</td>\n",
              "      <td>14</td>\n",
              "      <td>0.7</td>\n",
              "      <td>Africa</td>\n",
              "    </tr>\n",
              "    <tr>\n",
              "      <th>3</th>\n",
              "      <td>Andorra</td>\n",
              "      <td>245</td>\n",
              "      <td>138</td>\n",
              "      <td>312</td>\n",
              "      <td>12.4</td>\n",
              "      <td>Europe</td>\n",
              "    </tr>\n",
              "    <tr>\n",
              "      <th>4</th>\n",
              "      <td>Angola</td>\n",
              "      <td>217</td>\n",
              "      <td>57</td>\n",
              "      <td>45</td>\n",
              "      <td>5.9</td>\n",
              "      <td>Africa</td>\n",
              "    </tr>\n",
              "  </tbody>\n",
              "</table>\n",
              "</div>\n",
              "      <button class=\"colab-df-convert\" onclick=\"convertToInteractive('df-9aec3c3e-b23c-4f85-92ac-652f14aee784')\"\n",
              "              title=\"Convert this dataframe to an interactive table.\"\n",
              "              style=\"display:none;\">\n",
              "        \n",
              "  <svg xmlns=\"http://www.w3.org/2000/svg\" height=\"24px\"viewBox=\"0 0 24 24\"\n",
              "       width=\"24px\">\n",
              "    <path d=\"M0 0h24v24H0V0z\" fill=\"none\"/>\n",
              "    <path d=\"M18.56 5.44l.94 2.06.94-2.06 2.06-.94-2.06-.94-.94-2.06-.94 2.06-2.06.94zm-11 1L8.5 8.5l.94-2.06 2.06-.94-2.06-.94L8.5 2.5l-.94 2.06-2.06.94zm10 10l.94 2.06.94-2.06 2.06-.94-2.06-.94-.94-2.06-.94 2.06-2.06.94z\"/><path d=\"M17.41 7.96l-1.37-1.37c-.4-.4-.92-.59-1.43-.59-.52 0-1.04.2-1.43.59L10.3 9.45l-7.72 7.72c-.78.78-.78 2.05 0 2.83L4 21.41c.39.39.9.59 1.41.59.51 0 1.02-.2 1.41-.59l7.78-7.78 2.81-2.81c.8-.78.8-2.07 0-2.86zM5.41 20L4 18.59l7.72-7.72 1.47 1.35L5.41 20z\"/>\n",
              "  </svg>\n",
              "      </button>\n",
              "      \n",
              "  <style>\n",
              "    .colab-df-container {\n",
              "      display:flex;\n",
              "      flex-wrap:wrap;\n",
              "      gap: 12px;\n",
              "    }\n",
              "\n",
              "    .colab-df-convert {\n",
              "      background-color: #E8F0FE;\n",
              "      border: none;\n",
              "      border-radius: 50%;\n",
              "      cursor: pointer;\n",
              "      display: none;\n",
              "      fill: #1967D2;\n",
              "      height: 32px;\n",
              "      padding: 0 0 0 0;\n",
              "      width: 32px;\n",
              "    }\n",
              "\n",
              "    .colab-df-convert:hover {\n",
              "      background-color: #E2EBFA;\n",
              "      box-shadow: 0px 1px 2px rgba(60, 64, 67, 0.3), 0px 1px 3px 1px rgba(60, 64, 67, 0.15);\n",
              "      fill: #174EA6;\n",
              "    }\n",
              "\n",
              "    [theme=dark] .colab-df-convert {\n",
              "      background-color: #3B4455;\n",
              "      fill: #D2E3FC;\n",
              "    }\n",
              "\n",
              "    [theme=dark] .colab-df-convert:hover {\n",
              "      background-color: #434B5C;\n",
              "      box-shadow: 0px 1px 3px 1px rgba(0, 0, 0, 0.15);\n",
              "      filter: drop-shadow(0px 1px 2px rgba(0, 0, 0, 0.3));\n",
              "      fill: #FFFFFF;\n",
              "    }\n",
              "  </style>\n",
              "\n",
              "      <script>\n",
              "        const buttonEl =\n",
              "          document.querySelector('#df-9aec3c3e-b23c-4f85-92ac-652f14aee784 button.colab-df-convert');\n",
              "        buttonEl.style.display =\n",
              "          google.colab.kernel.accessAllowed ? 'block' : 'none';\n",
              "\n",
              "        async function convertToInteractive(key) {\n",
              "          const element = document.querySelector('#df-9aec3c3e-b23c-4f85-92ac-652f14aee784');\n",
              "          const dataTable =\n",
              "            await google.colab.kernel.invokeFunction('convertToInteractive',\n",
              "                                                     [key], {});\n",
              "          if (!dataTable) return;\n",
              "\n",
              "          const docLinkHtml = 'Like what you see? Visit the ' +\n",
              "            '<a target=\"_blank\" href=https://colab.research.google.com/notebooks/data_table.ipynb>data table notebook</a>'\n",
              "            + ' to learn more about interactive tables.';\n",
              "          element.innerHTML = '';\n",
              "          dataTable['output_type'] = 'display_data';\n",
              "          await google.colab.output.renderOutput(dataTable, element);\n",
              "          const docLink = document.createElement('div');\n",
              "          docLink.innerHTML = docLinkHtml;\n",
              "          element.appendChild(docLink);\n",
              "        }\n",
              "      </script>\n",
              "    </div>\n",
              "  </div>\n",
              "  "
            ]
          },
          "metadata": {},
          "execution_count": 96
        }
      ]
    },
    {
      "cell_type": "code",
      "metadata": {
        "id": "pABuUxVwL4dO",
        "colab": {
          "base_uri": "https://localhost:8080/"
        },
        "outputId": "dfcc8ca0-a855-41d2-d48f-d50af4f5b6b5"
      },
      "source": [
        "drinks.dtypes"
      ],
      "execution_count": 97,
      "outputs": [
        {
          "output_type": "execute_result",
          "data": {
            "text/plain": [
              "country                          object\n",
              "beer_servings                     int64\n",
              "spirit_servings                   int64\n",
              "wine_servings                     int64\n",
              "total_litres_of_pure_alcohol    float64\n",
              "continent                        object\n",
              "dtype: object"
            ]
          },
          "metadata": {},
          "execution_count": 97
        }
      ]
    },
    {
      "cell_type": "code",
      "metadata": {
        "id": "6uieOeVC4Tjc"
      },
      "source": [
        "#Bonus Tip"
      ],
      "execution_count": null,
      "outputs": []
    },
    {
      "cell_type": "code",
      "metadata": {
        "id": "WaWTqbjBL4dO",
        "colab": {
          "base_uri": "https://localhost:8080/"
        },
        "outputId": "a90dd898-f215-4bfb-e217-3bf7a21790d7"
      },
      "source": [
        "pd.describe_option()"
      ],
      "execution_count": 98,
      "outputs": [
        {
          "output_type": "stream",
          "name": "stdout",
          "text": [
            "compute.use_bottleneck : bool\n",
            "    Use the bottleneck library to accelerate if it is installed,\n",
            "    the default is True\n",
            "    Valid values: False,True\n",
            "    [default: True] [currently: True]\n",
            "compute.use_numba : bool\n",
            "    Use the numba engine option for select operations if it is installed,\n",
            "    the default is False\n",
            "    Valid values: False,True\n",
            "    [default: False] [currently: False]\n",
            "compute.use_numexpr : bool\n",
            "    Use the numexpr library to accelerate computation if it is installed,\n",
            "    the default is True\n",
            "    Valid values: False,True\n",
            "    [default: True] [currently: True]\n",
            "display.chop_threshold : float or None\n",
            "    if set to a float value, all float values smaller then the given threshold\n",
            "    will be displayed as exactly 0 by repr and friends.\n",
            "    [default: None] [currently: None]\n",
            "display.colheader_justify : 'left'/'right'\n",
            "    Controls the justification of column headers. used by DataFrameFormatter.\n",
            "    [default: right] [currently: right]\n",
            "display.column_space No description available.\n",
            "    [default: 12] [currently: 12]\n",
            "display.date_dayfirst : boolean\n",
            "    When True, prints and parses dates with the day first, eg 20/01/2005\n",
            "    [default: False] [currently: False]\n",
            "display.date_yearfirst : boolean\n",
            "    When True, prints and parses dates with the year first, eg 2005/01/20\n",
            "    [default: False] [currently: False]\n",
            "display.encoding : str/unicode\n",
            "    Defaults to the detected encoding of the console.\n",
            "    Specifies the encoding to be used for strings returned by to_string,\n",
            "    these are generally strings meant to be displayed on the console.\n",
            "    [default: UTF-8] [currently: UTF-8]\n",
            "display.expand_frame_repr : boolean\n",
            "    Whether to print out the full DataFrame repr for wide DataFrames across\n",
            "    multiple lines, `max_columns` is still respected, but the output will\n",
            "    wrap-around across multiple \"pages\" if its width exceeds `display.width`.\n",
            "    [default: True] [currently: True]\n",
            "display.float_format : callable\n",
            "    The callable should accept a floating point number and return\n",
            "    a string with the desired format of the number. This is used\n",
            "    in some places like SeriesFormatter.\n",
            "    See formats.format.EngFormatter for an example.\n",
            "    [default: None] [currently: <built-in method format of str object at 0x7fa82e74e5f0>]\n",
            "display.html.border : int\n",
            "    A ``border=value`` attribute is inserted in the ``<table>`` tag\n",
            "    for the DataFrame HTML repr.\n",
            "    [default: 1] [currently: 1]\n",
            "display.html.table_schema : boolean\n",
            "    Whether to publish a Table Schema representation for frontends\n",
            "    that support it.\n",
            "    (default: False)\n",
            "    [default: False] [currently: False]\n",
            "display.html.use_mathjax : boolean\n",
            "    When True, Jupyter notebook will process table contents using MathJax,\n",
            "    rendering mathematical expressions enclosed by the dollar symbol.\n",
            "    (default: True)\n",
            "    [default: True] [currently: True]\n",
            "display.large_repr : 'truncate'/'info'\n",
            "    For DataFrames exceeding max_rows/max_cols, the repr (and HTML repr) can\n",
            "    show a truncated table (the default from 0.13), or switch to the view from\n",
            "    df.info() (the behaviour in earlier versions of pandas).\n",
            "    [default: truncate] [currently: truncate]\n",
            "display.latex.escape : bool\n",
            "    This specifies if the to_latex method of a Dataframe uses escapes special\n",
            "    characters.\n",
            "    Valid values: False,True\n",
            "    [default: True] [currently: True]\n",
            "display.latex.longtable :bool\n",
            "    This specifies if the to_latex method of a Dataframe uses the longtable\n",
            "    format.\n",
            "    Valid values: False,True\n",
            "    [default: False] [currently: False]\n",
            "display.latex.multicolumn : bool\n",
            "    This specifies if the to_latex method of a Dataframe uses multicolumns\n",
            "    to pretty-print MultiIndex columns.\n",
            "    Valid values: False,True\n",
            "    [default: True] [currently: True]\n",
            "display.latex.multicolumn_format : bool\n",
            "    This specifies if the to_latex method of a Dataframe uses multicolumns\n",
            "    to pretty-print MultiIndex columns.\n",
            "    Valid values: False,True\n",
            "    [default: l] [currently: l]\n",
            "display.latex.multirow : bool\n",
            "    This specifies if the to_latex method of a Dataframe uses multirows\n",
            "    to pretty-print MultiIndex rows.\n",
            "    Valid values: False,True\n",
            "    [default: False] [currently: False]\n",
            "display.latex.repr : boolean\n",
            "    Whether to produce a latex DataFrame representation for jupyter\n",
            "    environments that support it.\n",
            "    (default: False)\n",
            "    [default: False] [currently: False]\n",
            "display.max_categories : int\n",
            "    This sets the maximum number of categories pandas should output when\n",
            "    printing out a `Categorical` or a Series of dtype \"category\".\n",
            "    [default: 8] [currently: 8]\n",
            "display.max_columns : int\n",
            "    If max_cols is exceeded, switch to truncate view. Depending on\n",
            "    `large_repr`, objects are either centrally truncated or printed as\n",
            "    a summary view. 'None' value means unlimited.\n",
            "\n",
            "    In case python/IPython is running in a terminal and `large_repr`\n",
            "    equals 'truncate' this can be set to 0 and pandas will auto-detect\n",
            "    the width of the terminal and print a truncated object which fits\n",
            "    the screen width. The IPython notebook, IPython qtconsole, or IDLE\n",
            "    do not run in a terminal and hence it is not possible to do\n",
            "    correct auto-detection.\n",
            "    [default: 20] [currently: 20]\n",
            "display.max_colwidth : int or None\n",
            "    The maximum width in characters of a column in the repr of\n",
            "    a pandas data structure. When the column overflows, a \"...\"\n",
            "    placeholder is embedded in the output. A 'None' value means unlimited.\n",
            "    [default: 50] [currently: 1000]\n",
            "display.max_info_columns : int\n",
            "    max_info_columns is used in DataFrame.info method to decide if\n",
            "    per column information will be printed.\n",
            "    [default: 100] [currently: 100]\n",
            "display.max_info_rows : int or None\n",
            "    df.info() will usually show null-counts for each column.\n",
            "    For large frames this can be quite slow. max_info_rows and max_info_cols\n",
            "    limit this null check only to frames with smaller dimensions than\n",
            "    specified.\n",
            "    [default: 1690785] [currently: 1690785]\n",
            "display.max_rows : int\n",
            "    If max_rows is exceeded, switch to truncate view. Depending on\n",
            "    `large_repr`, objects are either centrally truncated or printed as\n",
            "    a summary view. 'None' value means unlimited.\n",
            "\n",
            "    In case python/IPython is running in a terminal and `large_repr`\n",
            "    equals 'truncate' this can be set to 0 and pandas will auto-detect\n",
            "    the height of the terminal and print a truncated object which fits\n",
            "    the screen height. The IPython notebook, IPython qtconsole, or\n",
            "    IDLE do not run in a terminal and hence it is not possible to do\n",
            "    correct auto-detection.\n",
            "    [default: 60] [currently: 60]\n",
            "display.max_seq_items : int or None\n",
            "    When pretty-printing a long sequence, no more then `max_seq_items`\n",
            "    will be printed. If items are omitted, they will be denoted by the\n",
            "    addition of \"...\" to the resulting string.\n",
            "\n",
            "    If set to None, the number of items to be printed is unlimited.\n",
            "    [default: 100] [currently: 100]\n",
            "display.memory_usage : bool, string or None\n",
            "    This specifies if the memory usage of a DataFrame should be displayed when\n",
            "    df.info() is called. Valid values True,False,'deep'\n",
            "    [default: True] [currently: True]\n",
            "display.min_rows : int\n",
            "    The numbers of rows to show in a truncated view (when `max_rows` is\n",
            "    exceeded). Ignored when `max_rows` is set to None or 0. When set to\n",
            "    None, follows the value of `max_rows`.\n",
            "    [default: 10] [currently: 10]\n",
            "display.multi_sparse : boolean\n",
            "    \"sparsify\" MultiIndex display (don't display repeated\n",
            "    elements in outer levels within groups)\n",
            "    [default: True] [currently: True]\n",
            "display.notebook_repr_html : boolean\n",
            "    When True, IPython notebook will use html representation for\n",
            "    pandas objects (if it is available).\n",
            "    [default: True] [currently: True]\n",
            "display.pprint_nest_depth : int\n",
            "    Controls the number of nested levels to process when pretty-printing\n",
            "    [default: 3] [currently: 3]\n",
            "display.precision : int\n",
            "    Floating point output precision in terms of number of places after the\n",
            "    decimal, for regular formatting as well as scientific notation. Similar\n",
            "    to ``precision`` in :meth:`numpy.set_printoptions`.\n",
            "    [default: 6] [currently: 6]\n",
            "display.show_dimensions : boolean or 'truncate'\n",
            "    Whether to print out dimensions at the end of DataFrame repr.\n",
            "    If 'truncate' is specified, only print out the dimensions if the\n",
            "    frame is truncated (e.g. not display all rows and/or columns)\n",
            "    [default: truncate] [currently: truncate]\n",
            "display.unicode.ambiguous_as_wide : boolean\n",
            "    Whether to use the Unicode East Asian Width to calculate the display text\n",
            "    width.\n",
            "    Enabling this may affect to the performance (default: False)\n",
            "    [default: False] [currently: False]\n",
            "display.unicode.east_asian_width : boolean\n",
            "    Whether to use the Unicode East Asian Width to calculate the display text\n",
            "    width.\n",
            "    Enabling this may affect to the performance (default: False)\n",
            "    [default: False] [currently: False]\n",
            "display.width : int\n",
            "    Width of the display in characters. In case python/IPython is running in\n",
            "    a terminal this can be set to None and pandas will correctly auto-detect\n",
            "    the width.\n",
            "    Note that the IPython notebook, IPython qtconsole, or IDLE do not run in a\n",
            "    terminal and hence it is not possible to correctly detect the width.\n",
            "    [default: 80] [currently: 80]\n",
            "io.excel.ods.reader : string\n",
            "    The default Excel reader engine for 'ods' files. Available options:\n",
            "    auto, odf.\n",
            "    [default: auto] [currently: auto]\n",
            "io.excel.ods.writer : string\n",
            "    The default Excel writer engine for 'ods' files. Available options:\n",
            "    auto, odf.\n",
            "    [default: auto] [currently: auto]\n",
            "io.excel.xls.reader : string\n",
            "    The default Excel reader engine for 'xls' files. Available options:\n",
            "    auto, xlrd.\n",
            "    [default: auto] [currently: auto]\n",
            "io.excel.xls.writer : string\n",
            "    The default Excel writer engine for 'xls' files. Available options:\n",
            "    auto, xlwt.\n",
            "    [default: auto] [currently: auto]\n",
            "    (Deprecated, use `` instead.)\n",
            "io.excel.xlsb.reader : string\n",
            "    The default Excel reader engine for 'xlsb' files. Available options:\n",
            "    auto, pyxlsb.\n",
            "    [default: auto] [currently: auto]\n",
            "io.excel.xlsm.reader : string\n",
            "    The default Excel reader engine for 'xlsm' files. Available options:\n",
            "    auto, xlrd, openpyxl.\n",
            "    [default: auto] [currently: auto]\n",
            "io.excel.xlsm.writer : string\n",
            "    The default Excel writer engine for 'xlsm' files. Available options:\n",
            "    auto, openpyxl.\n",
            "    [default: auto] [currently: auto]\n",
            "io.excel.xlsx.reader : string\n",
            "    The default Excel reader engine for 'xlsx' files. Available options:\n",
            "    auto, xlrd, openpyxl.\n",
            "    [default: auto] [currently: auto]\n",
            "io.excel.xlsx.writer : string\n",
            "    The default Excel writer engine for 'xlsx' files. Available options:\n",
            "    auto, openpyxl, xlsxwriter.\n",
            "    [default: auto] [currently: auto]\n",
            "io.hdf.default_format : format\n",
            "    default format writing format, if None, then\n",
            "    put will default to 'fixed' and append will default to 'table'\n",
            "    [default: None] [currently: None]\n",
            "io.hdf.dropna_table : boolean\n",
            "    drop ALL nan rows when appending to a table\n",
            "    [default: False] [currently: False]\n",
            "io.parquet.engine : string\n",
            "    The default parquet reader/writer engine. Available options:\n",
            "    'auto', 'pyarrow', 'fastparquet', the default is 'auto'\n",
            "    [default: auto] [currently: auto]\n",
            "io.sql.engine : string\n",
            "    The default sql reader/writer engine. Available options:\n",
            "    'auto', 'sqlalchemy', the default is 'auto'\n",
            "    [default: auto] [currently: auto]\n",
            "mode.chained_assignment : string\n",
            "    Raise an exception, warn, or no action if trying to use chained assignment,\n",
            "    The default is warn\n",
            "    [default: warn] [currently: warn]\n",
            "mode.data_manager : string\n",
            "    Internal data manager type; can be \"block\" or \"array\". Defaults to \"block\",\n",
            "    unless overridden by the 'PANDAS_DATA_MANAGER' environment variable (needs\n",
            "    to be set before pandas is imported).\n",
            "    [default: block] [currently: block]\n",
            "mode.sim_interactive : boolean\n",
            "    Whether to simulate interactive mode for purposes of testing\n",
            "    [default: False] [currently: False]\n",
            "mode.string_storage : string\n",
            "    The default storage for StringDtype.\n",
            "    [default: python] [currently: python]\n",
            "mode.use_inf_as_na : boolean\n",
            "    True means treat None, NaN, INF, -INF as NA (old way),\n",
            "    False means None and NaN are null, but INF, -INF are not NA\n",
            "    (new way).\n",
            "    [default: False] [currently: False]\n",
            "mode.use_inf_as_null : boolean\n",
            "    use_inf_as_null had been deprecated and will be removed in a future\n",
            "    version. Use `use_inf_as_na` instead.\n",
            "    [default: False] [currently: False]\n",
            "    (Deprecated, use `mode.use_inf_as_na` instead.)\n",
            "plotting.backend : str\n",
            "    The plotting backend to use. The default value is \"matplotlib\", the\n",
            "    backend provided with pandas. Other backends can be specified by\n",
            "    providing the name of the module that implements the backend.\n",
            "    [default: matplotlib] [currently: matplotlib]\n",
            "plotting.matplotlib.register_converters : bool or 'auto'.\n",
            "    Whether to register converters with matplotlib's units registry for\n",
            "    dates, times, datetimes, and Periods. Toggling to False will remove\n",
            "    the converters, restoring any converters that pandas overwrote.\n",
            "    [default: auto] [currently: auto]\n",
            "styler.render.max_elements : int\n",
            "    The maximum number of data-cell (<td>) elements that will be rendered before\n",
            "    trimming will occur over columns, rows or both if needed.\n",
            "    [default: 262144] [currently: 262144]\n",
            "styler.sparse.columns : bool\n",
            "    Whether to sparsify the display of hierarchical columns. Setting to False will\n",
            "    display each explicit level element in a hierarchical key for each column.\n",
            "    [default: True] [currently: True]\n",
            "styler.sparse.index : bool\n",
            "    Whether to sparsify the display of a hierarchical index. Setting to False will\n",
            "    display each explicit level element in a hierarchical key for each row.\n",
            "    [default: True] [currently: True]\n"
          ]
        }
      ]
    },
    {
      "cell_type": "code",
      "metadata": {
        "id": "SKuWxmVAL4dO",
        "colab": {
          "base_uri": "https://localhost:8080/"
        },
        "outputId": "c83c36ff-16db-428b-baa4-d097ad5ac3c3"
      },
      "source": [
        "pd.describe_option('row')"
      ],
      "execution_count": 101,
      "outputs": [
        {
          "output_type": "stream",
          "name": "stdout",
          "text": [
            "display.latex.multirow : bool\n",
            "    This specifies if the to_latex method of a Dataframe uses multirows\n",
            "    to pretty-print MultiIndex rows.\n",
            "    Valid values: False,True\n",
            "    [default: False] [currently: False]\n",
            "display.max_info_rows : int or None\n",
            "    df.info() will usually show null-counts for each column.\n",
            "    For large frames this can be quite slow. max_info_rows and max_info_cols\n",
            "    limit this null check only to frames with smaller dimensions than\n",
            "    specified.\n",
            "    [default: 1690785] [currently: 1690785]\n",
            "display.max_rows : int\n",
            "    If max_rows is exceeded, switch to truncate view. Depending on\n",
            "    `large_repr`, objects are either centrally truncated or printed as\n",
            "    a summary view. 'None' value means unlimited.\n",
            "\n",
            "    In case python/IPython is running in a terminal and `large_repr`\n",
            "    equals 'truncate' this can be set to 0 and pandas will auto-detect\n",
            "    the height of the terminal and print a truncated object which fits\n",
            "    the screen height. The IPython notebook, IPython qtconsole, or\n",
            "    IDLE do not run in a terminal and hence it is not possible to do\n",
            "    correct auto-detection.\n",
            "    [default: 60] [currently: 60]\n",
            "display.min_rows : int\n",
            "    The numbers of rows to show in a truncated view (when `max_rows` is\n",
            "    exceeded). Ignored when `max_rows` is set to None or 0. When set to\n",
            "    None, follows the value of `max_rows`.\n",
            "    [default: 10] [currently: 10]\n"
          ]
        }
      ]
    },
    {
      "cell_type": "code",
      "metadata": {
        "id": "tvx0Rg8GL4dP",
        "colab": {
          "base_uri": "https://localhost:8080/"
        },
        "outputId": "79a825bb-5bff-4608-e323-998b4961455d"
      },
      "source": [
        "pd.reset_option('all')"
      ],
      "execution_count": 100,
      "outputs": [
        {
          "output_type": "stream",
          "name": "stdout",
          "text": [
            "As the xlwt package is no longer maintained, the xlwt engine will be removed in a future version of pandas. This is the only engine in pandas that supports writing in the xls format. Install openpyxl and write to an xlsx file instead.\n",
            "\n",
            ": boolean\n",
            "    use_inf_as_null had been deprecated and will be removed in a future\n",
            "    version. Use `use_inf_as_na` instead.\n",
            "\n"
          ]
        },
        {
          "output_type": "stream",
          "name": "stderr",
          "text": [
            "/usr/local/lib/python3.7/dist-packages/pandas/_config/config.py:630: FutureWarning: As the xlwt package is no longer maintained, the xlwt engine will be removed in a future version of pandas. This is the only engine in pandas that supports writing in the xls format. Install openpyxl and write to an xlsx file instead.\n",
            "  warnings.warn(d.msg, FutureWarning)\n",
            "/usr/local/lib/python3.7/dist-packages/pandas/_config/config.py:630: FutureWarning: \n",
            ": boolean\n",
            "    use_inf_as_null had been deprecated and will be removed in a future\n",
            "    version. Use `use_inf_as_na` instead.\n",
            "\n",
            "  warnings.warn(d.msg, FutureWarning)\n"
          ]
        }
      ]
    },
    {
      "cell_type": "code",
      "metadata": {
        "id": "3B4GBHGKL4dP"
      },
      "source": [
        "#29-pandas-How do I create a pandas DataFrame from another object.pptx"
      ],
      "execution_count": null,
      "outputs": []
    },
    {
      "cell_type": "code",
      "metadata": {
        "id": "bhEpFcDVMDSB"
      },
      "source": [
        "import pandas as pd"
      ],
      "execution_count": null,
      "outputs": []
    },
    {
      "cell_type": "code",
      "metadata": {
        "id": "umH4FYchMDSD",
        "colab": {
          "base_uri": "https://localhost:8080/",
          "height": 143
        },
        "outputId": "9137841c-7530-4224-d10e-9bf3e538d038"
      },
      "source": [
        "pd.DataFrame({'id':[100, 101, 102], 'colour':['red', 'blue', 'red']})"
      ],
      "execution_count": 102,
      "outputs": [
        {
          "output_type": "execute_result",
          "data": {
            "text/plain": [
              "    id colour\n",
              "0  100    red\n",
              "1  101   blue\n",
              "2  102    red"
            ],
            "text/html": [
              "\n",
              "  <div id=\"df-28aa0f80-4855-47f7-8a57-18c30da056f5\">\n",
              "    <div class=\"colab-df-container\">\n",
              "      <div>\n",
              "<style scoped>\n",
              "    .dataframe tbody tr th:only-of-type {\n",
              "        vertical-align: middle;\n",
              "    }\n",
              "\n",
              "    .dataframe tbody tr th {\n",
              "        vertical-align: top;\n",
              "    }\n",
              "\n",
              "    .dataframe thead th {\n",
              "        text-align: right;\n",
              "    }\n",
              "</style>\n",
              "<table border=\"1\" class=\"dataframe\">\n",
              "  <thead>\n",
              "    <tr style=\"text-align: right;\">\n",
              "      <th></th>\n",
              "      <th>id</th>\n",
              "      <th>colour</th>\n",
              "    </tr>\n",
              "  </thead>\n",
              "  <tbody>\n",
              "    <tr>\n",
              "      <th>0</th>\n",
              "      <td>100</td>\n",
              "      <td>red</td>\n",
              "    </tr>\n",
              "    <tr>\n",
              "      <th>1</th>\n",
              "      <td>101</td>\n",
              "      <td>blue</td>\n",
              "    </tr>\n",
              "    <tr>\n",
              "      <th>2</th>\n",
              "      <td>102</td>\n",
              "      <td>red</td>\n",
              "    </tr>\n",
              "  </tbody>\n",
              "</table>\n",
              "</div>\n",
              "      <button class=\"colab-df-convert\" onclick=\"convertToInteractive('df-28aa0f80-4855-47f7-8a57-18c30da056f5')\"\n",
              "              title=\"Convert this dataframe to an interactive table.\"\n",
              "              style=\"display:none;\">\n",
              "        \n",
              "  <svg xmlns=\"http://www.w3.org/2000/svg\" height=\"24px\"viewBox=\"0 0 24 24\"\n",
              "       width=\"24px\">\n",
              "    <path d=\"M0 0h24v24H0V0z\" fill=\"none\"/>\n",
              "    <path d=\"M18.56 5.44l.94 2.06.94-2.06 2.06-.94-2.06-.94-.94-2.06-.94 2.06-2.06.94zm-11 1L8.5 8.5l.94-2.06 2.06-.94-2.06-.94L8.5 2.5l-.94 2.06-2.06.94zm10 10l.94 2.06.94-2.06 2.06-.94-2.06-.94-.94-2.06-.94 2.06-2.06.94z\"/><path d=\"M17.41 7.96l-1.37-1.37c-.4-.4-.92-.59-1.43-.59-.52 0-1.04.2-1.43.59L10.3 9.45l-7.72 7.72c-.78.78-.78 2.05 0 2.83L4 21.41c.39.39.9.59 1.41.59.51 0 1.02-.2 1.41-.59l7.78-7.78 2.81-2.81c.8-.78.8-2.07 0-2.86zM5.41 20L4 18.59l7.72-7.72 1.47 1.35L5.41 20z\"/>\n",
              "  </svg>\n",
              "      </button>\n",
              "      \n",
              "  <style>\n",
              "    .colab-df-container {\n",
              "      display:flex;\n",
              "      flex-wrap:wrap;\n",
              "      gap: 12px;\n",
              "    }\n",
              "\n",
              "    .colab-df-convert {\n",
              "      background-color: #E8F0FE;\n",
              "      border: none;\n",
              "      border-radius: 50%;\n",
              "      cursor: pointer;\n",
              "      display: none;\n",
              "      fill: #1967D2;\n",
              "      height: 32px;\n",
              "      padding: 0 0 0 0;\n",
              "      width: 32px;\n",
              "    }\n",
              "\n",
              "    .colab-df-convert:hover {\n",
              "      background-color: #E2EBFA;\n",
              "      box-shadow: 0px 1px 2px rgba(60, 64, 67, 0.3), 0px 1px 3px 1px rgba(60, 64, 67, 0.15);\n",
              "      fill: #174EA6;\n",
              "    }\n",
              "\n",
              "    [theme=dark] .colab-df-convert {\n",
              "      background-color: #3B4455;\n",
              "      fill: #D2E3FC;\n",
              "    }\n",
              "\n",
              "    [theme=dark] .colab-df-convert:hover {\n",
              "      background-color: #434B5C;\n",
              "      box-shadow: 0px 1px 3px 1px rgba(0, 0, 0, 0.15);\n",
              "      filter: drop-shadow(0px 1px 2px rgba(0, 0, 0, 0.3));\n",
              "      fill: #FFFFFF;\n",
              "    }\n",
              "  </style>\n",
              "\n",
              "      <script>\n",
              "        const buttonEl =\n",
              "          document.querySelector('#df-28aa0f80-4855-47f7-8a57-18c30da056f5 button.colab-df-convert');\n",
              "        buttonEl.style.display =\n",
              "          google.colab.kernel.accessAllowed ? 'block' : 'none';\n",
              "\n",
              "        async function convertToInteractive(key) {\n",
              "          const element = document.querySelector('#df-28aa0f80-4855-47f7-8a57-18c30da056f5');\n",
              "          const dataTable =\n",
              "            await google.colab.kernel.invokeFunction('convertToInteractive',\n",
              "                                                     [key], {});\n",
              "          if (!dataTable) return;\n",
              "\n",
              "          const docLinkHtml = 'Like what you see? Visit the ' +\n",
              "            '<a target=\"_blank\" href=https://colab.research.google.com/notebooks/data_table.ipynb>data table notebook</a>'\n",
              "            + ' to learn more about interactive tables.';\n",
              "          element.innerHTML = '';\n",
              "          dataTable['output_type'] = 'display_data';\n",
              "          await google.colab.output.renderOutput(dataTable, element);\n",
              "          const docLink = document.createElement('div');\n",
              "          docLink.innerHTML = docLinkHtml;\n",
              "          element.appendChild(docLink);\n",
              "        }\n",
              "      </script>\n",
              "    </div>\n",
              "  </div>\n",
              "  "
            ]
          },
          "metadata": {},
          "execution_count": 102
        }
      ]
    },
    {
      "cell_type": "code",
      "metadata": {
        "id": "WIvMW4ZEMDSG",
        "colab": {
          "base_uri": "https://localhost:8080/",
          "height": 143
        },
        "outputId": "40ad8e33-43c0-458d-ccef-02302d50e7ec"
      },
      "source": [
        "pd.DataFrame({'id':[100, 101, 102], 'colour':['red', 'blue', 'red']}, columns = ['id', 'colour'])"
      ],
      "execution_count": 103,
      "outputs": [
        {
          "output_type": "execute_result",
          "data": {
            "text/plain": [
              "    id colour\n",
              "0  100    red\n",
              "1  101   blue\n",
              "2  102    red"
            ],
            "text/html": [
              "\n",
              "  <div id=\"df-2b85d475-687f-4794-9ade-ee775585e9b0\">\n",
              "    <div class=\"colab-df-container\">\n",
              "      <div>\n",
              "<style scoped>\n",
              "    .dataframe tbody tr th:only-of-type {\n",
              "        vertical-align: middle;\n",
              "    }\n",
              "\n",
              "    .dataframe tbody tr th {\n",
              "        vertical-align: top;\n",
              "    }\n",
              "\n",
              "    .dataframe thead th {\n",
              "        text-align: right;\n",
              "    }\n",
              "</style>\n",
              "<table border=\"1\" class=\"dataframe\">\n",
              "  <thead>\n",
              "    <tr style=\"text-align: right;\">\n",
              "      <th></th>\n",
              "      <th>id</th>\n",
              "      <th>colour</th>\n",
              "    </tr>\n",
              "  </thead>\n",
              "  <tbody>\n",
              "    <tr>\n",
              "      <th>0</th>\n",
              "      <td>100</td>\n",
              "      <td>red</td>\n",
              "    </tr>\n",
              "    <tr>\n",
              "      <th>1</th>\n",
              "      <td>101</td>\n",
              "      <td>blue</td>\n",
              "    </tr>\n",
              "    <tr>\n",
              "      <th>2</th>\n",
              "      <td>102</td>\n",
              "      <td>red</td>\n",
              "    </tr>\n",
              "  </tbody>\n",
              "</table>\n",
              "</div>\n",
              "      <button class=\"colab-df-convert\" onclick=\"convertToInteractive('df-2b85d475-687f-4794-9ade-ee775585e9b0')\"\n",
              "              title=\"Convert this dataframe to an interactive table.\"\n",
              "              style=\"display:none;\">\n",
              "        \n",
              "  <svg xmlns=\"http://www.w3.org/2000/svg\" height=\"24px\"viewBox=\"0 0 24 24\"\n",
              "       width=\"24px\">\n",
              "    <path d=\"M0 0h24v24H0V0z\" fill=\"none\"/>\n",
              "    <path d=\"M18.56 5.44l.94 2.06.94-2.06 2.06-.94-2.06-.94-.94-2.06-.94 2.06-2.06.94zm-11 1L8.5 8.5l.94-2.06 2.06-.94-2.06-.94L8.5 2.5l-.94 2.06-2.06.94zm10 10l.94 2.06.94-2.06 2.06-.94-2.06-.94-.94-2.06-.94 2.06-2.06.94z\"/><path d=\"M17.41 7.96l-1.37-1.37c-.4-.4-.92-.59-1.43-.59-.52 0-1.04.2-1.43.59L10.3 9.45l-7.72 7.72c-.78.78-.78 2.05 0 2.83L4 21.41c.39.39.9.59 1.41.59.51 0 1.02-.2 1.41-.59l7.78-7.78 2.81-2.81c.8-.78.8-2.07 0-2.86zM5.41 20L4 18.59l7.72-7.72 1.47 1.35L5.41 20z\"/>\n",
              "  </svg>\n",
              "      </button>\n",
              "      \n",
              "  <style>\n",
              "    .colab-df-container {\n",
              "      display:flex;\n",
              "      flex-wrap:wrap;\n",
              "      gap: 12px;\n",
              "    }\n",
              "\n",
              "    .colab-df-convert {\n",
              "      background-color: #E8F0FE;\n",
              "      border: none;\n",
              "      border-radius: 50%;\n",
              "      cursor: pointer;\n",
              "      display: none;\n",
              "      fill: #1967D2;\n",
              "      height: 32px;\n",
              "      padding: 0 0 0 0;\n",
              "      width: 32px;\n",
              "    }\n",
              "\n",
              "    .colab-df-convert:hover {\n",
              "      background-color: #E2EBFA;\n",
              "      box-shadow: 0px 1px 2px rgba(60, 64, 67, 0.3), 0px 1px 3px 1px rgba(60, 64, 67, 0.15);\n",
              "      fill: #174EA6;\n",
              "    }\n",
              "\n",
              "    [theme=dark] .colab-df-convert {\n",
              "      background-color: #3B4455;\n",
              "      fill: #D2E3FC;\n",
              "    }\n",
              "\n",
              "    [theme=dark] .colab-df-convert:hover {\n",
              "      background-color: #434B5C;\n",
              "      box-shadow: 0px 1px 3px 1px rgba(0, 0, 0, 0.15);\n",
              "      filter: drop-shadow(0px 1px 2px rgba(0, 0, 0, 0.3));\n",
              "      fill: #FFFFFF;\n",
              "    }\n",
              "  </style>\n",
              "\n",
              "      <script>\n",
              "        const buttonEl =\n",
              "          document.querySelector('#df-2b85d475-687f-4794-9ade-ee775585e9b0 button.colab-df-convert');\n",
              "        buttonEl.style.display =\n",
              "          google.colab.kernel.accessAllowed ? 'block' : 'none';\n",
              "\n",
              "        async function convertToInteractive(key) {\n",
              "          const element = document.querySelector('#df-2b85d475-687f-4794-9ade-ee775585e9b0');\n",
              "          const dataTable =\n",
              "            await google.colab.kernel.invokeFunction('convertToInteractive',\n",
              "                                                     [key], {});\n",
              "          if (!dataTable) return;\n",
              "\n",
              "          const docLinkHtml = 'Like what you see? Visit the ' +\n",
              "            '<a target=\"_blank\" href=https://colab.research.google.com/notebooks/data_table.ipynb>data table notebook</a>'\n",
              "            + ' to learn more about interactive tables.';\n",
              "          element.innerHTML = '';\n",
              "          dataTable['output_type'] = 'display_data';\n",
              "          await google.colab.output.renderOutput(dataTable, element);\n",
              "          const docLink = document.createElement('div');\n",
              "          docLink.innerHTML = docLinkHtml;\n",
              "          element.appendChild(docLink);\n",
              "        }\n",
              "      </script>\n",
              "    </div>\n",
              "  </div>\n",
              "  "
            ]
          },
          "metadata": {},
          "execution_count": 103
        }
      ]
    },
    {
      "cell_type": "code",
      "metadata": {
        "id": "vbSOAlTCMDSI",
        "colab": {
          "base_uri": "https://localhost:8080/",
          "height": 143
        },
        "outputId": "eb4b3070-6509-4372-e0a2-6969a8f5d764"
      },
      "source": [
        "pd.DataFrame({'id':[100, 101, 102], 'colour':['red', 'blue', 'red']}, columns = ['colour', 'id'])"
      ],
      "execution_count": 104,
      "outputs": [
        {
          "output_type": "execute_result",
          "data": {
            "text/plain": [
              "  colour   id\n",
              "0    red  100\n",
              "1   blue  101\n",
              "2    red  102"
            ],
            "text/html": [
              "\n",
              "  <div id=\"df-d1d4eaa5-a49e-4bd4-86a1-32f7b554e4b6\">\n",
              "    <div class=\"colab-df-container\">\n",
              "      <div>\n",
              "<style scoped>\n",
              "    .dataframe tbody tr th:only-of-type {\n",
              "        vertical-align: middle;\n",
              "    }\n",
              "\n",
              "    .dataframe tbody tr th {\n",
              "        vertical-align: top;\n",
              "    }\n",
              "\n",
              "    .dataframe thead th {\n",
              "        text-align: right;\n",
              "    }\n",
              "</style>\n",
              "<table border=\"1\" class=\"dataframe\">\n",
              "  <thead>\n",
              "    <tr style=\"text-align: right;\">\n",
              "      <th></th>\n",
              "      <th>colour</th>\n",
              "      <th>id</th>\n",
              "    </tr>\n",
              "  </thead>\n",
              "  <tbody>\n",
              "    <tr>\n",
              "      <th>0</th>\n",
              "      <td>red</td>\n",
              "      <td>100</td>\n",
              "    </tr>\n",
              "    <tr>\n",
              "      <th>1</th>\n",
              "      <td>blue</td>\n",
              "      <td>101</td>\n",
              "    </tr>\n",
              "    <tr>\n",
              "      <th>2</th>\n",
              "      <td>red</td>\n",
              "      <td>102</td>\n",
              "    </tr>\n",
              "  </tbody>\n",
              "</table>\n",
              "</div>\n",
              "      <button class=\"colab-df-convert\" onclick=\"convertToInteractive('df-d1d4eaa5-a49e-4bd4-86a1-32f7b554e4b6')\"\n",
              "              title=\"Convert this dataframe to an interactive table.\"\n",
              "              style=\"display:none;\">\n",
              "        \n",
              "  <svg xmlns=\"http://www.w3.org/2000/svg\" height=\"24px\"viewBox=\"0 0 24 24\"\n",
              "       width=\"24px\">\n",
              "    <path d=\"M0 0h24v24H0V0z\" fill=\"none\"/>\n",
              "    <path d=\"M18.56 5.44l.94 2.06.94-2.06 2.06-.94-2.06-.94-.94-2.06-.94 2.06-2.06.94zm-11 1L8.5 8.5l.94-2.06 2.06-.94-2.06-.94L8.5 2.5l-.94 2.06-2.06.94zm10 10l.94 2.06.94-2.06 2.06-.94-2.06-.94-.94-2.06-.94 2.06-2.06.94z\"/><path d=\"M17.41 7.96l-1.37-1.37c-.4-.4-.92-.59-1.43-.59-.52 0-1.04.2-1.43.59L10.3 9.45l-7.72 7.72c-.78.78-.78 2.05 0 2.83L4 21.41c.39.39.9.59 1.41.59.51 0 1.02-.2 1.41-.59l7.78-7.78 2.81-2.81c.8-.78.8-2.07 0-2.86zM5.41 20L4 18.59l7.72-7.72 1.47 1.35L5.41 20z\"/>\n",
              "  </svg>\n",
              "      </button>\n",
              "      \n",
              "  <style>\n",
              "    .colab-df-container {\n",
              "      display:flex;\n",
              "      flex-wrap:wrap;\n",
              "      gap: 12px;\n",
              "    }\n",
              "\n",
              "    .colab-df-convert {\n",
              "      background-color: #E8F0FE;\n",
              "      border: none;\n",
              "      border-radius: 50%;\n",
              "      cursor: pointer;\n",
              "      display: none;\n",
              "      fill: #1967D2;\n",
              "      height: 32px;\n",
              "      padding: 0 0 0 0;\n",
              "      width: 32px;\n",
              "    }\n",
              "\n",
              "    .colab-df-convert:hover {\n",
              "      background-color: #E2EBFA;\n",
              "      box-shadow: 0px 1px 2px rgba(60, 64, 67, 0.3), 0px 1px 3px 1px rgba(60, 64, 67, 0.15);\n",
              "      fill: #174EA6;\n",
              "    }\n",
              "\n",
              "    [theme=dark] .colab-df-convert {\n",
              "      background-color: #3B4455;\n",
              "      fill: #D2E3FC;\n",
              "    }\n",
              "\n",
              "    [theme=dark] .colab-df-convert:hover {\n",
              "      background-color: #434B5C;\n",
              "      box-shadow: 0px 1px 3px 1px rgba(0, 0, 0, 0.15);\n",
              "      filter: drop-shadow(0px 1px 2px rgba(0, 0, 0, 0.3));\n",
              "      fill: #FFFFFF;\n",
              "    }\n",
              "  </style>\n",
              "\n",
              "      <script>\n",
              "        const buttonEl =\n",
              "          document.querySelector('#df-d1d4eaa5-a49e-4bd4-86a1-32f7b554e4b6 button.colab-df-convert');\n",
              "        buttonEl.style.display =\n",
              "          google.colab.kernel.accessAllowed ? 'block' : 'none';\n",
              "\n",
              "        async function convertToInteractive(key) {\n",
              "          const element = document.querySelector('#df-d1d4eaa5-a49e-4bd4-86a1-32f7b554e4b6');\n",
              "          const dataTable =\n",
              "            await google.colab.kernel.invokeFunction('convertToInteractive',\n",
              "                                                     [key], {});\n",
              "          if (!dataTable) return;\n",
              "\n",
              "          const docLinkHtml = 'Like what you see? Visit the ' +\n",
              "            '<a target=\"_blank\" href=https://colab.research.google.com/notebooks/data_table.ipynb>data table notebook</a>'\n",
              "            + ' to learn more about interactive tables.';\n",
              "          element.innerHTML = '';\n",
              "          dataTable['output_type'] = 'display_data';\n",
              "          await google.colab.output.renderOutput(dataTable, element);\n",
              "          const docLink = document.createElement('div');\n",
              "          docLink.innerHTML = docLinkHtml;\n",
              "          element.appendChild(docLink);\n",
              "        }\n",
              "      </script>\n",
              "    </div>\n",
              "  </div>\n",
              "  "
            ]
          },
          "metadata": {},
          "execution_count": 104
        }
      ]
    },
    {
      "cell_type": "code",
      "metadata": {
        "id": "lhfcg_4YMDSJ",
        "colab": {
          "base_uri": "https://localhost:8080/",
          "height": 143
        },
        "outputId": "9a724704-d33b-45f7-b607-d3c317549623"
      },
      "source": [
        "pd.DataFrame({'id':[100, 101, 102], 'colour':['red', 'blue', 'red']}, columns = ['id', 'colour'], index=['a', 'b', 'c'])"
      ],
      "execution_count": 105,
      "outputs": [
        {
          "output_type": "execute_result",
          "data": {
            "text/plain": [
              "    id colour\n",
              "a  100    red\n",
              "b  101   blue\n",
              "c  102    red"
            ],
            "text/html": [
              "\n",
              "  <div id=\"df-40f361d8-6f93-41dd-a96d-b06ed158fed7\">\n",
              "    <div class=\"colab-df-container\">\n",
              "      <div>\n",
              "<style scoped>\n",
              "    .dataframe tbody tr th:only-of-type {\n",
              "        vertical-align: middle;\n",
              "    }\n",
              "\n",
              "    .dataframe tbody tr th {\n",
              "        vertical-align: top;\n",
              "    }\n",
              "\n",
              "    .dataframe thead th {\n",
              "        text-align: right;\n",
              "    }\n",
              "</style>\n",
              "<table border=\"1\" class=\"dataframe\">\n",
              "  <thead>\n",
              "    <tr style=\"text-align: right;\">\n",
              "      <th></th>\n",
              "      <th>id</th>\n",
              "      <th>colour</th>\n",
              "    </tr>\n",
              "  </thead>\n",
              "  <tbody>\n",
              "    <tr>\n",
              "      <th>a</th>\n",
              "      <td>100</td>\n",
              "      <td>red</td>\n",
              "    </tr>\n",
              "    <tr>\n",
              "      <th>b</th>\n",
              "      <td>101</td>\n",
              "      <td>blue</td>\n",
              "    </tr>\n",
              "    <tr>\n",
              "      <th>c</th>\n",
              "      <td>102</td>\n",
              "      <td>red</td>\n",
              "    </tr>\n",
              "  </tbody>\n",
              "</table>\n",
              "</div>\n",
              "      <button class=\"colab-df-convert\" onclick=\"convertToInteractive('df-40f361d8-6f93-41dd-a96d-b06ed158fed7')\"\n",
              "              title=\"Convert this dataframe to an interactive table.\"\n",
              "              style=\"display:none;\">\n",
              "        \n",
              "  <svg xmlns=\"http://www.w3.org/2000/svg\" height=\"24px\"viewBox=\"0 0 24 24\"\n",
              "       width=\"24px\">\n",
              "    <path d=\"M0 0h24v24H0V0z\" fill=\"none\"/>\n",
              "    <path d=\"M18.56 5.44l.94 2.06.94-2.06 2.06-.94-2.06-.94-.94-2.06-.94 2.06-2.06.94zm-11 1L8.5 8.5l.94-2.06 2.06-.94-2.06-.94L8.5 2.5l-.94 2.06-2.06.94zm10 10l.94 2.06.94-2.06 2.06-.94-2.06-.94-.94-2.06-.94 2.06-2.06.94z\"/><path d=\"M17.41 7.96l-1.37-1.37c-.4-.4-.92-.59-1.43-.59-.52 0-1.04.2-1.43.59L10.3 9.45l-7.72 7.72c-.78.78-.78 2.05 0 2.83L4 21.41c.39.39.9.59 1.41.59.51 0 1.02-.2 1.41-.59l7.78-7.78 2.81-2.81c.8-.78.8-2.07 0-2.86zM5.41 20L4 18.59l7.72-7.72 1.47 1.35L5.41 20z\"/>\n",
              "  </svg>\n",
              "      </button>\n",
              "      \n",
              "  <style>\n",
              "    .colab-df-container {\n",
              "      display:flex;\n",
              "      flex-wrap:wrap;\n",
              "      gap: 12px;\n",
              "    }\n",
              "\n",
              "    .colab-df-convert {\n",
              "      background-color: #E8F0FE;\n",
              "      border: none;\n",
              "      border-radius: 50%;\n",
              "      cursor: pointer;\n",
              "      display: none;\n",
              "      fill: #1967D2;\n",
              "      height: 32px;\n",
              "      padding: 0 0 0 0;\n",
              "      width: 32px;\n",
              "    }\n",
              "\n",
              "    .colab-df-convert:hover {\n",
              "      background-color: #E2EBFA;\n",
              "      box-shadow: 0px 1px 2px rgba(60, 64, 67, 0.3), 0px 1px 3px 1px rgba(60, 64, 67, 0.15);\n",
              "      fill: #174EA6;\n",
              "    }\n",
              "\n",
              "    [theme=dark] .colab-df-convert {\n",
              "      background-color: #3B4455;\n",
              "      fill: #D2E3FC;\n",
              "    }\n",
              "\n",
              "    [theme=dark] .colab-df-convert:hover {\n",
              "      background-color: #434B5C;\n",
              "      box-shadow: 0px 1px 3px 1px rgba(0, 0, 0, 0.15);\n",
              "      filter: drop-shadow(0px 1px 2px rgba(0, 0, 0, 0.3));\n",
              "      fill: #FFFFFF;\n",
              "    }\n",
              "  </style>\n",
              "\n",
              "      <script>\n",
              "        const buttonEl =\n",
              "          document.querySelector('#df-40f361d8-6f93-41dd-a96d-b06ed158fed7 button.colab-df-convert');\n",
              "        buttonEl.style.display =\n",
              "          google.colab.kernel.accessAllowed ? 'block' : 'none';\n",
              "\n",
              "        async function convertToInteractive(key) {\n",
              "          const element = document.querySelector('#df-40f361d8-6f93-41dd-a96d-b06ed158fed7');\n",
              "          const dataTable =\n",
              "            await google.colab.kernel.invokeFunction('convertToInteractive',\n",
              "                                                     [key], {});\n",
              "          if (!dataTable) return;\n",
              "\n",
              "          const docLinkHtml = 'Like what you see? Visit the ' +\n",
              "            '<a target=\"_blank\" href=https://colab.research.google.com/notebooks/data_table.ipynb>data table notebook</a>'\n",
              "            + ' to learn more about interactive tables.';\n",
              "          element.innerHTML = '';\n",
              "          dataTable['output_type'] = 'display_data';\n",
              "          await google.colab.output.renderOutput(dataTable, element);\n",
              "          const docLink = document.createElement('div');\n",
              "          docLink.innerHTML = docLinkHtml;\n",
              "          element.appendChild(docLink);\n",
              "        }\n",
              "      </script>\n",
              "    </div>\n",
              "  </div>\n",
              "  "
            ]
          },
          "metadata": {},
          "execution_count": 105
        }
      ]
    },
    {
      "cell_type": "code",
      "metadata": {
        "id": "9eaT8we3MDSK"
      },
      "source": [
        "df = pd.DataFrame({'id':[100, 101, 102], 'colour':['red', 'blue', 'red']}, columns = ['id', 'colour'], index=['a', 'b', 'c'])"
      ],
      "execution_count": 106,
      "outputs": []
    },
    {
      "cell_type": "code",
      "metadata": {
        "id": "VWogaNwlMDSL",
        "colab": {
          "base_uri": "https://localhost:8080/",
          "height": 143
        },
        "outputId": "2788c090-74b0-4a47-fede-5bb9d56a182b"
      },
      "source": [
        "df"
      ],
      "execution_count": 107,
      "outputs": [
        {
          "output_type": "execute_result",
          "data": {
            "text/plain": [
              "    id colour\n",
              "a  100    red\n",
              "b  101   blue\n",
              "c  102    red"
            ],
            "text/html": [
              "\n",
              "  <div id=\"df-9a4455d1-dfc1-43ee-8384-3ccdf5fab2d7\">\n",
              "    <div class=\"colab-df-container\">\n",
              "      <div>\n",
              "<style scoped>\n",
              "    .dataframe tbody tr th:only-of-type {\n",
              "        vertical-align: middle;\n",
              "    }\n",
              "\n",
              "    .dataframe tbody tr th {\n",
              "        vertical-align: top;\n",
              "    }\n",
              "\n",
              "    .dataframe thead th {\n",
              "        text-align: right;\n",
              "    }\n",
              "</style>\n",
              "<table border=\"1\" class=\"dataframe\">\n",
              "  <thead>\n",
              "    <tr style=\"text-align: right;\">\n",
              "      <th></th>\n",
              "      <th>id</th>\n",
              "      <th>colour</th>\n",
              "    </tr>\n",
              "  </thead>\n",
              "  <tbody>\n",
              "    <tr>\n",
              "      <th>a</th>\n",
              "      <td>100</td>\n",
              "      <td>red</td>\n",
              "    </tr>\n",
              "    <tr>\n",
              "      <th>b</th>\n",
              "      <td>101</td>\n",
              "      <td>blue</td>\n",
              "    </tr>\n",
              "    <tr>\n",
              "      <th>c</th>\n",
              "      <td>102</td>\n",
              "      <td>red</td>\n",
              "    </tr>\n",
              "  </tbody>\n",
              "</table>\n",
              "</div>\n",
              "      <button class=\"colab-df-convert\" onclick=\"convertToInteractive('df-9a4455d1-dfc1-43ee-8384-3ccdf5fab2d7')\"\n",
              "              title=\"Convert this dataframe to an interactive table.\"\n",
              "              style=\"display:none;\">\n",
              "        \n",
              "  <svg xmlns=\"http://www.w3.org/2000/svg\" height=\"24px\"viewBox=\"0 0 24 24\"\n",
              "       width=\"24px\">\n",
              "    <path d=\"M0 0h24v24H0V0z\" fill=\"none\"/>\n",
              "    <path d=\"M18.56 5.44l.94 2.06.94-2.06 2.06-.94-2.06-.94-.94-2.06-.94 2.06-2.06.94zm-11 1L8.5 8.5l.94-2.06 2.06-.94-2.06-.94L8.5 2.5l-.94 2.06-2.06.94zm10 10l.94 2.06.94-2.06 2.06-.94-2.06-.94-.94-2.06-.94 2.06-2.06.94z\"/><path d=\"M17.41 7.96l-1.37-1.37c-.4-.4-.92-.59-1.43-.59-.52 0-1.04.2-1.43.59L10.3 9.45l-7.72 7.72c-.78.78-.78 2.05 0 2.83L4 21.41c.39.39.9.59 1.41.59.51 0 1.02-.2 1.41-.59l7.78-7.78 2.81-2.81c.8-.78.8-2.07 0-2.86zM5.41 20L4 18.59l7.72-7.72 1.47 1.35L5.41 20z\"/>\n",
              "  </svg>\n",
              "      </button>\n",
              "      \n",
              "  <style>\n",
              "    .colab-df-container {\n",
              "      display:flex;\n",
              "      flex-wrap:wrap;\n",
              "      gap: 12px;\n",
              "    }\n",
              "\n",
              "    .colab-df-convert {\n",
              "      background-color: #E8F0FE;\n",
              "      border: none;\n",
              "      border-radius: 50%;\n",
              "      cursor: pointer;\n",
              "      display: none;\n",
              "      fill: #1967D2;\n",
              "      height: 32px;\n",
              "      padding: 0 0 0 0;\n",
              "      width: 32px;\n",
              "    }\n",
              "\n",
              "    .colab-df-convert:hover {\n",
              "      background-color: #E2EBFA;\n",
              "      box-shadow: 0px 1px 2px rgba(60, 64, 67, 0.3), 0px 1px 3px 1px rgba(60, 64, 67, 0.15);\n",
              "      fill: #174EA6;\n",
              "    }\n",
              "\n",
              "    [theme=dark] .colab-df-convert {\n",
              "      background-color: #3B4455;\n",
              "      fill: #D2E3FC;\n",
              "    }\n",
              "\n",
              "    [theme=dark] .colab-df-convert:hover {\n",
              "      background-color: #434B5C;\n",
              "      box-shadow: 0px 1px 3px 1px rgba(0, 0, 0, 0.15);\n",
              "      filter: drop-shadow(0px 1px 2px rgba(0, 0, 0, 0.3));\n",
              "      fill: #FFFFFF;\n",
              "    }\n",
              "  </style>\n",
              "\n",
              "      <script>\n",
              "        const buttonEl =\n",
              "          document.querySelector('#df-9a4455d1-dfc1-43ee-8384-3ccdf5fab2d7 button.colab-df-convert');\n",
              "        buttonEl.style.display =\n",
              "          google.colab.kernel.accessAllowed ? 'block' : 'none';\n",
              "\n",
              "        async function convertToInteractive(key) {\n",
              "          const element = document.querySelector('#df-9a4455d1-dfc1-43ee-8384-3ccdf5fab2d7');\n",
              "          const dataTable =\n",
              "            await google.colab.kernel.invokeFunction('convertToInteractive',\n",
              "                                                     [key], {});\n",
              "          if (!dataTable) return;\n",
              "\n",
              "          const docLinkHtml = 'Like what you see? Visit the ' +\n",
              "            '<a target=\"_blank\" href=https://colab.research.google.com/notebooks/data_table.ipynb>data table notebook</a>'\n",
              "            + ' to learn more about interactive tables.';\n",
              "          element.innerHTML = '';\n",
              "          dataTable['output_type'] = 'display_data';\n",
              "          await google.colab.output.renderOutput(dataTable, element);\n",
              "          const docLink = document.createElement('div');\n",
              "          docLink.innerHTML = docLinkHtml;\n",
              "          element.appendChild(docLink);\n",
              "        }\n",
              "      </script>\n",
              "    </div>\n",
              "  </div>\n",
              "  "
            ]
          },
          "metadata": {},
          "execution_count": 107
        }
      ]
    },
    {
      "cell_type": "code",
      "metadata": {
        "colab": {
          "base_uri": "https://localhost:8080/",
          "height": 143
        },
        "id": "ggPvcGBv1wVG",
        "outputId": "754e1e0b-65b5-4c20-8085-6edff7d0c773"
      },
      "source": [
        "pd.DataFrame([[100, 'red'], [101, 'blue'], [102, 'red']])"
      ],
      "execution_count": 108,
      "outputs": [
        {
          "output_type": "execute_result",
          "data": {
            "text/plain": [
              "     0     1\n",
              "0  100   red\n",
              "1  101  blue\n",
              "2  102   red"
            ],
            "text/html": [
              "\n",
              "  <div id=\"df-67169984-4672-4451-a831-eeb76b439697\">\n",
              "    <div class=\"colab-df-container\">\n",
              "      <div>\n",
              "<style scoped>\n",
              "    .dataframe tbody tr th:only-of-type {\n",
              "        vertical-align: middle;\n",
              "    }\n",
              "\n",
              "    .dataframe tbody tr th {\n",
              "        vertical-align: top;\n",
              "    }\n",
              "\n",
              "    .dataframe thead th {\n",
              "        text-align: right;\n",
              "    }\n",
              "</style>\n",
              "<table border=\"1\" class=\"dataframe\">\n",
              "  <thead>\n",
              "    <tr style=\"text-align: right;\">\n",
              "      <th></th>\n",
              "      <th>0</th>\n",
              "      <th>1</th>\n",
              "    </tr>\n",
              "  </thead>\n",
              "  <tbody>\n",
              "    <tr>\n",
              "      <th>0</th>\n",
              "      <td>100</td>\n",
              "      <td>red</td>\n",
              "    </tr>\n",
              "    <tr>\n",
              "      <th>1</th>\n",
              "      <td>101</td>\n",
              "      <td>blue</td>\n",
              "    </tr>\n",
              "    <tr>\n",
              "      <th>2</th>\n",
              "      <td>102</td>\n",
              "      <td>red</td>\n",
              "    </tr>\n",
              "  </tbody>\n",
              "</table>\n",
              "</div>\n",
              "      <button class=\"colab-df-convert\" onclick=\"convertToInteractive('df-67169984-4672-4451-a831-eeb76b439697')\"\n",
              "              title=\"Convert this dataframe to an interactive table.\"\n",
              "              style=\"display:none;\">\n",
              "        \n",
              "  <svg xmlns=\"http://www.w3.org/2000/svg\" height=\"24px\"viewBox=\"0 0 24 24\"\n",
              "       width=\"24px\">\n",
              "    <path d=\"M0 0h24v24H0V0z\" fill=\"none\"/>\n",
              "    <path d=\"M18.56 5.44l.94 2.06.94-2.06 2.06-.94-2.06-.94-.94-2.06-.94 2.06-2.06.94zm-11 1L8.5 8.5l.94-2.06 2.06-.94-2.06-.94L8.5 2.5l-.94 2.06-2.06.94zm10 10l.94 2.06.94-2.06 2.06-.94-2.06-.94-.94-2.06-.94 2.06-2.06.94z\"/><path d=\"M17.41 7.96l-1.37-1.37c-.4-.4-.92-.59-1.43-.59-.52 0-1.04.2-1.43.59L10.3 9.45l-7.72 7.72c-.78.78-.78 2.05 0 2.83L4 21.41c.39.39.9.59 1.41.59.51 0 1.02-.2 1.41-.59l7.78-7.78 2.81-2.81c.8-.78.8-2.07 0-2.86zM5.41 20L4 18.59l7.72-7.72 1.47 1.35L5.41 20z\"/>\n",
              "  </svg>\n",
              "      </button>\n",
              "      \n",
              "  <style>\n",
              "    .colab-df-container {\n",
              "      display:flex;\n",
              "      flex-wrap:wrap;\n",
              "      gap: 12px;\n",
              "    }\n",
              "\n",
              "    .colab-df-convert {\n",
              "      background-color: #E8F0FE;\n",
              "      border: none;\n",
              "      border-radius: 50%;\n",
              "      cursor: pointer;\n",
              "      display: none;\n",
              "      fill: #1967D2;\n",
              "      height: 32px;\n",
              "      padding: 0 0 0 0;\n",
              "      width: 32px;\n",
              "    }\n",
              "\n",
              "    .colab-df-convert:hover {\n",
              "      background-color: #E2EBFA;\n",
              "      box-shadow: 0px 1px 2px rgba(60, 64, 67, 0.3), 0px 1px 3px 1px rgba(60, 64, 67, 0.15);\n",
              "      fill: #174EA6;\n",
              "    }\n",
              "\n",
              "    [theme=dark] .colab-df-convert {\n",
              "      background-color: #3B4455;\n",
              "      fill: #D2E3FC;\n",
              "    }\n",
              "\n",
              "    [theme=dark] .colab-df-convert:hover {\n",
              "      background-color: #434B5C;\n",
              "      box-shadow: 0px 1px 3px 1px rgba(0, 0, 0, 0.15);\n",
              "      filter: drop-shadow(0px 1px 2px rgba(0, 0, 0, 0.3));\n",
              "      fill: #FFFFFF;\n",
              "    }\n",
              "  </style>\n",
              "\n",
              "      <script>\n",
              "        const buttonEl =\n",
              "          document.querySelector('#df-67169984-4672-4451-a831-eeb76b439697 button.colab-df-convert');\n",
              "        buttonEl.style.display =\n",
              "          google.colab.kernel.accessAllowed ? 'block' : 'none';\n",
              "\n",
              "        async function convertToInteractive(key) {\n",
              "          const element = document.querySelector('#df-67169984-4672-4451-a831-eeb76b439697');\n",
              "          const dataTable =\n",
              "            await google.colab.kernel.invokeFunction('convertToInteractive',\n",
              "                                                     [key], {});\n",
              "          if (!dataTable) return;\n",
              "\n",
              "          const docLinkHtml = 'Like what you see? Visit the ' +\n",
              "            '<a target=\"_blank\" href=https://colab.research.google.com/notebooks/data_table.ipynb>data table notebook</a>'\n",
              "            + ' to learn more about interactive tables.';\n",
              "          element.innerHTML = '';\n",
              "          dataTable['output_type'] = 'display_data';\n",
              "          await google.colab.output.renderOutput(dataTable, element);\n",
              "          const docLink = document.createElement('div');\n",
              "          docLink.innerHTML = docLinkHtml;\n",
              "          element.appendChild(docLink);\n",
              "        }\n",
              "      </script>\n",
              "    </div>\n",
              "  </div>\n",
              "  "
            ]
          },
          "metadata": {},
          "execution_count": 108
        }
      ]
    },
    {
      "cell_type": "code",
      "metadata": {
        "id": "aCiayIiwMDSM",
        "colab": {
          "base_uri": "https://localhost:8080/",
          "height": 143
        },
        "outputId": "ab6cd693-ed60-4ce1-9feb-34cf7a8c0ffb"
      },
      "source": [
        "\n",
        "pd.DataFrame([[100, 'red'], [101, 'blue'], [102, 'red']], columns = ['id', 'colour'])"
      ],
      "execution_count": 109,
      "outputs": [
        {
          "output_type": "execute_result",
          "data": {
            "text/plain": [
              "    id colour\n",
              "0  100    red\n",
              "1  101   blue\n",
              "2  102    red"
            ],
            "text/html": [
              "\n",
              "  <div id=\"df-df08ae7f-af43-4428-af4c-0e3c6f8b5f84\">\n",
              "    <div class=\"colab-df-container\">\n",
              "      <div>\n",
              "<style scoped>\n",
              "    .dataframe tbody tr th:only-of-type {\n",
              "        vertical-align: middle;\n",
              "    }\n",
              "\n",
              "    .dataframe tbody tr th {\n",
              "        vertical-align: top;\n",
              "    }\n",
              "\n",
              "    .dataframe thead th {\n",
              "        text-align: right;\n",
              "    }\n",
              "</style>\n",
              "<table border=\"1\" class=\"dataframe\">\n",
              "  <thead>\n",
              "    <tr style=\"text-align: right;\">\n",
              "      <th></th>\n",
              "      <th>id</th>\n",
              "      <th>colour</th>\n",
              "    </tr>\n",
              "  </thead>\n",
              "  <tbody>\n",
              "    <tr>\n",
              "      <th>0</th>\n",
              "      <td>100</td>\n",
              "      <td>red</td>\n",
              "    </tr>\n",
              "    <tr>\n",
              "      <th>1</th>\n",
              "      <td>101</td>\n",
              "      <td>blue</td>\n",
              "    </tr>\n",
              "    <tr>\n",
              "      <th>2</th>\n",
              "      <td>102</td>\n",
              "      <td>red</td>\n",
              "    </tr>\n",
              "  </tbody>\n",
              "</table>\n",
              "</div>\n",
              "      <button class=\"colab-df-convert\" onclick=\"convertToInteractive('df-df08ae7f-af43-4428-af4c-0e3c6f8b5f84')\"\n",
              "              title=\"Convert this dataframe to an interactive table.\"\n",
              "              style=\"display:none;\">\n",
              "        \n",
              "  <svg xmlns=\"http://www.w3.org/2000/svg\" height=\"24px\"viewBox=\"0 0 24 24\"\n",
              "       width=\"24px\">\n",
              "    <path d=\"M0 0h24v24H0V0z\" fill=\"none\"/>\n",
              "    <path d=\"M18.56 5.44l.94 2.06.94-2.06 2.06-.94-2.06-.94-.94-2.06-.94 2.06-2.06.94zm-11 1L8.5 8.5l.94-2.06 2.06-.94-2.06-.94L8.5 2.5l-.94 2.06-2.06.94zm10 10l.94 2.06.94-2.06 2.06-.94-2.06-.94-.94-2.06-.94 2.06-2.06.94z\"/><path d=\"M17.41 7.96l-1.37-1.37c-.4-.4-.92-.59-1.43-.59-.52 0-1.04.2-1.43.59L10.3 9.45l-7.72 7.72c-.78.78-.78 2.05 0 2.83L4 21.41c.39.39.9.59 1.41.59.51 0 1.02-.2 1.41-.59l7.78-7.78 2.81-2.81c.8-.78.8-2.07 0-2.86zM5.41 20L4 18.59l7.72-7.72 1.47 1.35L5.41 20z\"/>\n",
              "  </svg>\n",
              "      </button>\n",
              "      \n",
              "  <style>\n",
              "    .colab-df-container {\n",
              "      display:flex;\n",
              "      flex-wrap:wrap;\n",
              "      gap: 12px;\n",
              "    }\n",
              "\n",
              "    .colab-df-convert {\n",
              "      background-color: #E8F0FE;\n",
              "      border: none;\n",
              "      border-radius: 50%;\n",
              "      cursor: pointer;\n",
              "      display: none;\n",
              "      fill: #1967D2;\n",
              "      height: 32px;\n",
              "      padding: 0 0 0 0;\n",
              "      width: 32px;\n",
              "    }\n",
              "\n",
              "    .colab-df-convert:hover {\n",
              "      background-color: #E2EBFA;\n",
              "      box-shadow: 0px 1px 2px rgba(60, 64, 67, 0.3), 0px 1px 3px 1px rgba(60, 64, 67, 0.15);\n",
              "      fill: #174EA6;\n",
              "    }\n",
              "\n",
              "    [theme=dark] .colab-df-convert {\n",
              "      background-color: #3B4455;\n",
              "      fill: #D2E3FC;\n",
              "    }\n",
              "\n",
              "    [theme=dark] .colab-df-convert:hover {\n",
              "      background-color: #434B5C;\n",
              "      box-shadow: 0px 1px 3px 1px rgba(0, 0, 0, 0.15);\n",
              "      filter: drop-shadow(0px 1px 2px rgba(0, 0, 0, 0.3));\n",
              "      fill: #FFFFFF;\n",
              "    }\n",
              "  </style>\n",
              "\n",
              "      <script>\n",
              "        const buttonEl =\n",
              "          document.querySelector('#df-df08ae7f-af43-4428-af4c-0e3c6f8b5f84 button.colab-df-convert');\n",
              "        buttonEl.style.display =\n",
              "          google.colab.kernel.accessAllowed ? 'block' : 'none';\n",
              "\n",
              "        async function convertToInteractive(key) {\n",
              "          const element = document.querySelector('#df-df08ae7f-af43-4428-af4c-0e3c6f8b5f84');\n",
              "          const dataTable =\n",
              "            await google.colab.kernel.invokeFunction('convertToInteractive',\n",
              "                                                     [key], {});\n",
              "          if (!dataTable) return;\n",
              "\n",
              "          const docLinkHtml = 'Like what you see? Visit the ' +\n",
              "            '<a target=\"_blank\" href=https://colab.research.google.com/notebooks/data_table.ipynb>data table notebook</a>'\n",
              "            + ' to learn more about interactive tables.';\n",
              "          element.innerHTML = '';\n",
              "          dataTable['output_type'] = 'display_data';\n",
              "          await google.colab.output.renderOutput(dataTable, element);\n",
              "          const docLink = document.createElement('div');\n",
              "          docLink.innerHTML = docLinkHtml;\n",
              "          element.appendChild(docLink);\n",
              "        }\n",
              "      </script>\n",
              "    </div>\n",
              "  </div>\n",
              "  "
            ]
          },
          "metadata": {},
          "execution_count": 109
        }
      ]
    },
    {
      "cell_type": "code",
      "metadata": {
        "id": "KwwmKVB5MDSN"
      },
      "source": [
        "import numpy as np"
      ],
      "execution_count": null,
      "outputs": []
    },
    {
      "cell_type": "code",
      "metadata": {
        "id": "XN2WS2E8MDSO"
      },
      "source": [
        "arr = np.random.rand(4, 2)"
      ],
      "execution_count": null,
      "outputs": []
    },
    {
      "cell_type": "code",
      "metadata": {
        "id": "apYyhGCmMDSP"
      },
      "source": [
        "arr"
      ],
      "execution_count": null,
      "outputs": []
    },
    {
      "cell_type": "code",
      "metadata": {
        "id": "AQQhb8wvMDSQ"
      },
      "source": [
        "pd.DataFrame(arr)"
      ],
      "execution_count": null,
      "outputs": []
    },
    {
      "cell_type": "code",
      "metadata": {
        "id": "b0i5APQpMDSR"
      },
      "source": [
        "pd.DataFrame(arr, columns = ['one','two'])"
      ],
      "execution_count": null,
      "outputs": []
    },
    {
      "cell_type": "code",
      "metadata": {
        "id": "zjxHR66YMDSS"
      },
      "source": [
        "pd.DataFrame({'student':np.arange(100, 110, 1), 'test':np.random.randint(60, 101, 10)})"
      ],
      "execution_count": null,
      "outputs": []
    },
    {
      "cell_type": "code",
      "metadata": {
        "id": "M4CGN7qTMDST"
      },
      "source": [
        "pd.DataFrame({'student':np.arange(100, 110, 1), 'test':np.random.randint(60, 101, 10)}).set_index('student')"
      ],
      "execution_count": null,
      "outputs": []
    },
    {
      "cell_type": "code",
      "metadata": {
        "id": "r3yY3EaB3vMG"
      },
      "source": [
        "#Bonus Tip"
      ],
      "execution_count": null,
      "outputs": []
    },
    {
      "cell_type": "code",
      "metadata": {
        "id": "pv4abCDlMDSU"
      },
      "source": [
        "pd.Series(['round','square'], index=['c', 'b'], name='shape')"
      ],
      "execution_count": null,
      "outputs": []
    },
    {
      "cell_type": "code",
      "metadata": {
        "id": "JAaJzGl-MDSU"
      },
      "source": [
        "s = pd.Series(['round','square'], index=['c', 'b'], name='shape')"
      ],
      "execution_count": null,
      "outputs": []
    },
    {
      "cell_type": "code",
      "metadata": {
        "id": "I67ziYXQMDSV"
      },
      "source": [
        "s"
      ],
      "execution_count": null,
      "outputs": []
    },
    {
      "cell_type": "code",
      "metadata": {
        "id": "kXeuAsSxMDSW"
      },
      "source": [
        "df"
      ],
      "execution_count": null,
      "outputs": []
    },
    {
      "cell_type": "code",
      "metadata": {
        "id": "jQkQsGmRMDSW"
      },
      "source": [
        "pd.concat([df])"
      ],
      "execution_count": null,
      "outputs": []
    },
    {
      "cell_type": "code",
      "metadata": {
        "id": "vzSX-gd8MDSX"
      },
      "source": [
        "pd.concat([df, s], axis=1)"
      ],
      "execution_count": null,
      "outputs": []
    },
    {
      "cell_type": "code",
      "metadata": {
        "id": "QhUT7J5zMDSX"
      },
      "source": [
        "#Current behaviour\n",
        "pd.concat([df, s], axis=1, sort=True)"
      ],
      "execution_count": null,
      "outputs": []
    },
    {
      "cell_type": "code",
      "metadata": {
        "id": "umk8ZkDdMDSZ"
      },
      "source": [
        "#Future behavior\n",
        "pd.concat([df, s], axis=1, sort=False)"
      ],
      "execution_count": null,
      "outputs": []
    },
    {
      "cell_type": "code",
      "metadata": {
        "id": "Th8irYsMMI3s"
      },
      "source": [
        "#30-pandas-How do I apply a function to a pandas Series or DataFrame"
      ],
      "execution_count": null,
      "outputs": []
    },
    {
      "cell_type": "code",
      "metadata": {
        "id": "RjZFZM2GMPyh"
      },
      "source": [
        "import pandas as pd"
      ],
      "execution_count": null,
      "outputs": []
    },
    {
      "cell_type": "code",
      "metadata": {
        "id": "O8tIyA42MPyl"
      },
      "source": [
        "train = pd.read_csv('http://bit.ly/kaggletrain')"
      ],
      "execution_count": null,
      "outputs": []
    },
    {
      "cell_type": "code",
      "metadata": {
        "id": "W_2Vw5seMPym"
      },
      "source": [
        "train.head()"
      ],
      "execution_count": null,
      "outputs": []
    },
    {
      "cell_type": "code",
      "metadata": {
        "id": "N3bOk-8LMPyo"
      },
      "source": [
        "train['Sex_num'] = train.Sex.map({'female':0, 'male':1})"
      ],
      "execution_count": null,
      "outputs": []
    },
    {
      "cell_type": "code",
      "metadata": {
        "id": "wn8zerY2MPyp"
      },
      "source": [
        "train.loc[0:4, ['Sex','Sex_num']]"
      ],
      "execution_count": null,
      "outputs": []
    },
    {
      "cell_type": "code",
      "metadata": {
        "id": "LZJd8v7JMPyq"
      },
      "source": [
        "train['Name_length'] = train.Name.apply(len)"
      ],
      "execution_count": null,
      "outputs": []
    },
    {
      "cell_type": "code",
      "metadata": {
        "id": "do0OT_02MPyr"
      },
      "source": [
        "train.loc[0:4, ['Name','Name_length']]"
      ],
      "execution_count": null,
      "outputs": []
    },
    {
      "cell_type": "code",
      "metadata": {
        "id": "2fUM2qQlMPys"
      },
      "source": [
        "import numpy as np"
      ],
      "execution_count": null,
      "outputs": []
    },
    {
      "cell_type": "code",
      "metadata": {
        "id": "WDys-Ul1MPyu"
      },
      "source": [
        "train['Fare_ceil'] = train.Fare.apply(np.ceil)"
      ],
      "execution_count": null,
      "outputs": []
    },
    {
      "cell_type": "code",
      "metadata": {
        "id": "ZZyc4jeuMPyw"
      },
      "source": [
        "train.loc[0:4,['Fare','Fare_ceil']]"
      ],
      "execution_count": null,
      "outputs": []
    },
    {
      "cell_type": "code",
      "metadata": {
        "id": "f_8D_TsiMPyy"
      },
      "source": [
        "train.Name.str.split(',').head()"
      ],
      "execution_count": null,
      "outputs": []
    },
    {
      "cell_type": "code",
      "metadata": {
        "id": "TyG8oLe2MPyz"
      },
      "source": [
        "def get_element(my_list, position):\n",
        "    return my_list[position]"
      ],
      "execution_count": null,
      "outputs": []
    },
    {
      "cell_type": "code",
      "metadata": {
        "id": "z66jvVPOMPy0"
      },
      "source": [
        "train.Name.str.split(',').apply(get_element, position = 0).head()"
      ],
      "execution_count": null,
      "outputs": []
    },
    {
      "cell_type": "code",
      "metadata": {
        "id": "5OAXaT2UMPy1"
      },
      "source": [
        "train.Name.str.split(',').apply(lambda x: x[0]).head()"
      ],
      "execution_count": null,
      "outputs": []
    },
    {
      "cell_type": "code",
      "metadata": {
        "id": "s1vUGTxTMPy2"
      },
      "source": [
        "drinks = pd.read_csv('http://bit.ly/drinksbycountry')"
      ],
      "execution_count": null,
      "outputs": []
    },
    {
      "cell_type": "code",
      "metadata": {
        "id": "Uq685FYAMPy2"
      },
      "source": [
        "drinks.head()"
      ],
      "execution_count": null,
      "outputs": []
    },
    {
      "cell_type": "code",
      "metadata": {
        "id": "eeCyw7_WMPy3"
      },
      "source": [
        "drinks.loc[:, 'beer_servings':'wine_servings']"
      ],
      "execution_count": null,
      "outputs": []
    },
    {
      "cell_type": "code",
      "metadata": {
        "id": "_KZY7qGQMPy4"
      },
      "source": [
        "drinks.loc[:, 'beer_servings':'wine_servings'].apply(max, axis=0)"
      ],
      "execution_count": null,
      "outputs": []
    },
    {
      "cell_type": "code",
      "metadata": {
        "id": "bx-l5wRPMPy4"
      },
      "source": [
        "drinks.loc[:, 'beer_servings':'wine_servings'].apply(max, axis=1)"
      ],
      "execution_count": null,
      "outputs": []
    },
    {
      "cell_type": "code",
      "metadata": {
        "id": "z2-osEapMPy5"
      },
      "source": [
        "drinks.loc[:, 'beer_servings':'wine_servings'].apply(np.argmax, axis=1)"
      ],
      "execution_count": null,
      "outputs": []
    },
    {
      "cell_type": "code",
      "metadata": {
        "id": "eiiQHKsgMPy5"
      },
      "source": [
        "drinks.loc[:, 'beer_servings':'wine_servings'].applymap(float)"
      ],
      "execution_count": null,
      "outputs": []
    },
    {
      "cell_type": "code",
      "metadata": {
        "id": "aA3VyasmMPy7"
      },
      "source": [
        "drinks.loc[:, 'beer_servings':'wine_servings'] = drinks.loc[:, 'beer_servings':'wine_servings'].applymap(float)"
      ],
      "execution_count": null,
      "outputs": []
    },
    {
      "cell_type": "code",
      "metadata": {
        "id": "qvo16Aa_MPy7"
      },
      "source": [
        "drinks.head()"
      ],
      "execution_count": null,
      "outputs": []
    }
  ]
}