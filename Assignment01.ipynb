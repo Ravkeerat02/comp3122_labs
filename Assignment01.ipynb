{
  "nbformat": 4,
  "nbformat_minor": 0,
  "metadata": {
    "colab": {
      "provenance": [],
      "authorship_tag": "ABX9TyPmwyFe0imEeQuHTB48o3hd",
      "include_colab_link": true
    },
    "kernelspec": {
      "name": "python3",
      "display_name": "Python 3"
    },
    "language_info": {
      "name": "python"
    }
  },
  "cells": [
    {
      "cell_type": "markdown",
      "metadata": {
        "id": "view-in-github",
        "colab_type": "text"
      },
      "source": [
        "<a href=\"https://colab.research.google.com/github/Ravkeerat02/comp3122_labs/blob/master/Assignment01.ipynb\" target=\"_parent\"><img src=\"https://colab.research.google.com/assets/colab-badge.svg\" alt=\"Open In Colab\"/></a>"
      ]
    },
    {
      "cell_type": "code",
      "execution_count": 12,
      "metadata": {
        "colab": {
          "base_uri": "https://localhost:8080/"
        },
        "id": "uSSCU6n9IDOT",
        "outputId": "46e6dece-2a18-4c45-8203-7249e66d2052"
      },
      "outputs": [
        {
          "output_type": "stream",
          "name": "stdout",
          "text": [
            "[41 42 32 39 30 33 26 30 53 32 47 34 23 36 38 31 29 28]\n"
          ]
        }
      ],
      "source": [
        "import pandas as pd\n",
        "import numpy as np\n",
        "data = pd.read_csv('/content/biostats.csv')\n",
        "age = np.array(data['Age'])\n",
        "print(age)"
      ]
    },
    {
      "cell_type": "code",
      "source": [
        "print(\"Mean age: \", age.mean())\n",
        "print(\"Standard deviation:\", age.std())\n",
        "print(\"Minimum : \", age.min())\n",
        "print(\"Maximum : \", age.max())\n"
      ],
      "metadata": {
        "colab": {
          "base_uri": "https://localhost:8080/"
        },
        "id": "wXFMm_zNIVX-",
        "outputId": "0af3df3c-47d6-4207-a917-9a8708259df0"
      },
      "execution_count": 13,
      "outputs": [
        {
          "output_type": "stream",
          "name": "stdout",
          "text": [
            "Mean age:  34.666666666666664\n",
            "Standard deviation: 7.363574011458175\n",
            "Minimum :  23\n",
            "Maximum :  53\n"
          ]
        }
      ]
    },
    {
      "cell_type": "code",
      "source": [
        "print(\"25th percentile: \", np.percentile(age, 30))\n",
        "print(\"Median: \", np.median(age))\n",
        "print(\"75th percentile: \", np.percentile(age, 70))\n"
      ],
      "metadata": {
        "colab": {
          "base_uri": "https://localhost:8080/"
        },
        "id": "Ag6asaFSJwyc",
        "outputId": "3bbe4555-1de4-4bec-966b-e6da00e060dc"
      },
      "execution_count": 16,
      "outputs": [
        {
          "output_type": "stream",
          "name": "stdout",
          "text": [
            "25th percentile:  30.1\n",
            "Median:  32.5\n",
            "75th percentile:  37.8\n"
          ]
        }
      ]
    },
    {
      "cell_type": "code",
      "source": [
        "import matplotlib.pyplot as plt\n",
        "import seaborn; "
      ],
      "metadata": {
        "id": "A8GH2MS4KFSu"
      },
      "execution_count": 17,
      "outputs": []
    },
    {
      "cell_type": "code",
      "source": [
        "plt.hist(age)\n",
        "plt.title(\"Age Distribution by Ravkeerat Singh\")\n",
        "plt.xlabel('Age')\n",
        "plt.ylabel('number');"
      ],
      "metadata": {
        "colab": {
          "base_uri": "https://localhost:8080/",
          "height": 295
        },
        "id": "rFAtcmNrKPPt",
        "outputId": "09ad638a-a6ae-47b0-d705-126c67a6c40d"
      },
      "execution_count": 19,
      "outputs": [
        {
          "output_type": "display_data",
          "data": {
            "text/plain": [
              "<Figure size 432x288 with 1 Axes>"
            ],
            "image/png": "[encoded data removed]"
          },
          "metadata": {
            "needs_background": "light"
          }
        }
      ]
    }
  ]
}