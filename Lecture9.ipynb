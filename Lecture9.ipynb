{
  "nbformat": 4,
  "nbformat_minor": 0,
  "metadata": {
    "colab": {
      "provenance": [],
      "authorship_tag": "ABX9TyNRAOWIT/Ttgkl8QldG96wV",
      "include_colab_link": true
    },
    "kernelspec": {
      "name": "python3",
      "display_name": "Python 3"
    },
    "language_info": {
      "name": "python"
    }
  },
  "cells": [
    {
      "cell_type": "markdown",
      "metadata": {
        "id": "view-in-github",
        "colab_type": "text"
      },
      "source": [
        "<a href=\"https://colab.research.google.com/github/Ravkeerat02/comp3122_labs/blob/master/Lecture9.ipynb\" target=\"_parent\"><img src=\"https://colab.research.google.com/assets/colab-badge.svg\" alt=\"Open In Colab\"/></a>"
      ]
    },
    {
      "cell_type": "code",
      "source": [],
      "metadata": {
        "id": "WS7oMs4--Jg7"
      },
      "execution_count": null,
      "outputs": []
    },
    {
      "cell_type": "code",
      "source": [],
      "metadata": {
        "id": "g_R2sEJS-Kay"
      },
      "execution_count": null,
      "outputs": []
    },
    {
      "cell_type": "code",
      "source": [
        "from sklearn import datasets\n",
        "iris = datasets.load_iris()\n",
        "\n",
        "X = iris.data\n",
        "Y = iris.target\n",
        "\n",
        "from sklearn.model_selection import train_test_split\n",
        "X_train, X_test, Y_train, Y_test = train_test_split(X, Y, test_size=0.5)\n",
        "\n",
        "from sklearn import tree\n",
        "my_classifier = tree.DecisionTreeClassifier()\n",
        "\n",
        "my_classifier.fit(X_train, Y_train)\n",
        "\n",
        "predictions = my_classifier.predict(X_test)\n",
        "\n"
      ],
      "metadata": {
        "id": "8V3WurZP-dLz"
      },
      "execution_count": 17,
      "outputs": []
    },
    {
      "cell_type": "code",
      "source": [
        "predictions = my_classifier.predict(X_test)\n",
        "print(predictions)\n",
        "#"
      ],
      "metadata": {
        "colab": {
          "base_uri": "https://localhost:8080/"
        },
        "id": "ieRjxaeF-31I",
        "outputId": "116d133c-e517-4e5f-99ca-53f80f8df210"
      },
      "execution_count": 18,
      "outputs": [
        {
          "output_type": "stream",
          "name": "stdout",
          "text": [
            "[0 1 2 0 1 2 1 0 2 2 2 2 0 2 2 2 0 2 1 2 2 2 1 1 2 0 0 1 0 0 0 1 0 1 0 0 0\n",
            " 2 1 0 1 2 0 2 0 2 2 2 1 1 2 0 0 2 1 2 0 1 1 0 1 1 0 2 0 2 0 1 1 0 2 0 2 2\n",
            " 2]\n"
          ]
        }
      ]
    },
    {
      "cell_type": "code",
      "source": [
        "from sklearn.metrics import accuracy_score\n",
        "print(accuracy_score(Y_test, predictions))"
      ],
      "metadata": {
        "colab": {
          "base_uri": "https://localhost:8080/"
        },
        "id": "iH9DtXo8-8eZ",
        "outputId": "f85ace94-5a4b-470b-9a55-8527eaf3916f"
      },
      "execution_count": 19,
      "outputs": [
        {
          "output_type": "stream",
          "name": "stdout",
          "text": [
            "0.9866666666666667\n"
          ]
        }
      ]
    },
    {
      "cell_type": "code",
      "source": [],
      "metadata": {
        "id": "jLcMaJ5H_Te-"
      },
      "execution_count": null,
      "outputs": []
    }
  ]
}